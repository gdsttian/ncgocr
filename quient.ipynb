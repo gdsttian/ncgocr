{
 "cells": [
  {
   "cell_type": "code",
   "execution_count": 2,
   "metadata": {
    "collapsed": false,
    "deletable": true,
    "editable": true,
    "scrolled": true
   },
   "outputs": [],
   "source": [
    "from grepc.models import *"
   ]
  },
  {
   "cell_type": "code",
   "execution_count": 3,
   "metadata": {
    "collapsed": false,
    "deletable": true,
    "editable": true
   },
   "outputs": [],
   "source": [
    "definition_fp = 'data/pattern_definition.txt'\n",
    "pm = gopattern.PatternManager.from_definition(definition_fp)\n",
    "\n",
    "out = pm.regex_out()"
   ]
  },
  {
   "cell_type": "code",
   "execution_count": 4,
   "metadata": {
    "collapsed": true,
    "deletable": true,
    "editable": true
   },
   "outputs": [],
   "source": [
    "with open('data/clusterbook_lib.pickle', 'rb') as f:\n",
    "    clusterbook_lib = pickle.load(f)\n",
    "with open('data/goid2statement_lib.pickle', 'rb') as f:\n",
    "    goid2statement_lib = pickle.load(f)\n",
    "with open('data/ref2statements.pickle', 'rb') as f:\n",
    "    ref2statements = pickle.load(f)"
   ]
  },
  {
   "cell_type": "code",
   "execution_count": 5,
   "metadata": {
    "collapsed": false,
    "deletable": true,
    "editable": true
   },
   "outputs": [
    {
     "data": {
      "text/plain": [
       "47678"
      ]
     },
     "execution_count": 5,
     "metadata": {},
     "output_type": "execute_result"
    }
   ],
   "source": [
    "cb = clusterbook_lib[1]\n",
    "term_index = TermIndex(set)\n",
    "for c in cb.clusters:\n",
    "    for term in c.terms:\n",
    "        term_index[term.lemma].add(c.primary_term)\n",
    "len(term_index)"
   ]
  },
  {
   "cell_type": "code",
   "execution_count": 6,
   "metadata": {
    "collapsed": true,
    "deletable": true,
    "editable": true
   },
   "outputs": [],
   "source": [
    "pattern2statements = defaultdict(set)\n",
    "entity2statements = defaultdict(set)\n",
    "\n",
    "for statements in ref2statements.values():\n",
    "    for statement in statements:\n",
    "        if all([isinstance(term, Pattern) for term in statement.terms()]):\n",
    "            for term in statement.terms():\n",
    "                pattern2statements[term].add(statement)\n",
    "        else:\n",
    "            for term in statement.terms():\n",
    "                if isinstance(term, Entity):\n",
    "                    entity2statements[term].add(statement)\n",
    "\n",
    "pattern2statements = dict(pattern2statements)\n",
    "entity2statements = dict(entity2statements)\n",
    "\n",
    "\n",
    "term2statements = ChainMap(entity2statements, pattern2statements)"
   ]
  },
  {
   "cell_type": "code",
   "execution_count": 7,
   "metadata": {
    "collapsed": false,
    "deletable": true,
    "editable": true
   },
   "outputs": [
    {
     "data": {
      "text/plain": [
       "21646"
      ]
     },
     "execution_count": 7,
     "metadata": {},
     "output_type": "execute_result"
    }
   ],
   "source": [
    "from txttk.nlptools import sent_tokenize, count_start\n",
    "import os\n",
    "txtdir = 'data/craft-1.0/articles/txt/'\n",
    "sent_tokenize = count_start(sent_tokenize)\n",
    "\n",
    "sentences = []\n",
    "\n",
    "for fn in filter(lambda name:name.endswith('.txt'), os.listdir(txtdir)):\n",
    "    pmid = fn.partition('.')[0]\n",
    "    with open(os.path.join(txtdir, fn)) as f:\n",
    "        context = f.read()\n",
    "    sentence_list = list(sent_tokenize(context, 0))\n",
    "    \n",
    "    for text, offset in sentence_list:\n",
    "        sentences.append(Sentence(text, offset, pmid))\n",
    "        \n",
    "len(sentences)"
   ]
  },
  {
   "cell_type": "code",
   "execution_count": 8,
   "metadata": {
    "collapsed": true,
    "deletable": true,
    "editable": true
   },
   "outputs": [],
   "source": [
    "solid_extractor = SolidExtractor(term_index)\n",
    "soft_extractor = SoftExtractor(out)"
   ]
  },
  {
   "cell_type": "code",
   "execution_count": 9,
   "metadata": {
    "collapsed": false,
    "deletable": true,
    "editable": true
   },
   "outputs": [
    {
     "name": "stdout",
     "output_type": "stream",
     "text": [
      "Answers: 24062\n",
      "CPU times: user 9.87 s, sys: 156 ms, total: 10 s\n",
      "Wall time: 10.3 s\n"
     ]
    }
   ],
   "source": [
    "%%time\n",
    "xmldir = 'data/craft-1.0/knowtator-xml/go_bpmf/'\n",
    "gold_bpmf = []\n",
    "for fn in os.listdir(xmldir):\n",
    "    fpath = os.path.join(xmldir, fn)\n",
    "    goldstandards = goldstandard_from_xml(fpath)\n",
    "    gold_bpmf.extend(goldstandards)\n",
    "\n",
    "print('Answers:', len(gold_bpmf))"
   ]
  },
  {
   "cell_type": "code",
   "execution_count": 10,
   "metadata": {
    "collapsed": false,
    "deletable": true,
    "editable": true
   },
   "outputs": [
    {
     "name": "stdout",
     "output_type": "stream",
     "text": [
      "Answers: 8354\n",
      "CPU times: user 3.49 s, sys: 49.1 ms, total: 3.54 s\n",
      "Wall time: 3.66 s\n"
     ]
    }
   ],
   "source": [
    "%%time\n",
    "xmldir = 'data/craft-1.0/knowtator-xml/go_cc/'\n",
    "gold_cc = []\n",
    "for fn in os.listdir(xmldir):\n",
    "    fpath = os.path.join(xmldir, fn)\n",
    "    goldstandards = goldstandard_from_xml(fpath)\n",
    "    gold_cc.extend(goldstandards)\n",
    "\n",
    "print('Answers:', len(gold_cc))"
   ]
  },
  {
   "cell_type": "code",
   "execution_count": 11,
   "metadata": {
    "collapsed": true,
    "deletable": true,
    "editable": true
   },
   "outputs": [],
   "source": [
    "gold_union = gold_bpmf + gold_cc"
   ]
  },
  {
   "cell_type": "code",
   "execution_count": 12,
   "metadata": {
    "collapsed": false,
    "deletable": true,
    "editable": true
   },
   "outputs": [],
   "source": [
    "forest_cc = make_forest(gold_cc)\n",
    "forest_bpmf = make_forest(gold_bpmf)\n"
   ]
  },
  {
   "cell_type": "code",
   "execution_count": 13,
   "metadata": {
    "collapsed": true,
    "deletable": true,
    "editable": true
   },
   "outputs": [],
   "source": [
    "def experiment(title, training, testing, gold, extractor, term2statements, seed):\n",
    "\n",
    "    h = FeatureHasher(n_features=1024)\n",
    "    hclf = svm.LinearSVC(max_iter=1000, random_state=seed) \n",
    "    \n",
    "    forest = make_forest(gold)\n",
    "    training_baskets, testing_baskets = (join_baskets(training, extractor, term2statements), \n",
    "                                        join_baskets(testing, extractor, term2statements))\n",
    "    training_X, testing_X = baskets2X(training_baskets), baskets2X(testing_baskets)\n",
    "    training_y, testing_y = baskets2y(training_baskets, forest), baskets2y(testing_baskets, forest)\n",
    "\n",
    "    training_X, training_y = flaten(training_X, training_y)\n",
    "    \n",
    "    training_array = h.fit_transform(training_X).toarray()\n",
    "\n",
    "    #training\n",
    "\n",
    "    hclf.fit(training_array, training_y)\n",
    "\n",
    "    #testing\n",
    "    system = []\n",
    "    for basket, features_list, labels_list in zip(testing_baskets, testing_X, testing_y):\n",
    "        baskets, X, y = [basket], [features_list], [labels_list]\n",
    "        chunk_X, chunk_y = flaten(X, y)\n",
    "        if len(chunk_X) == 0:\n",
    "            continue\n",
    "        chunk_array = h.fit_transform(chunk_X).toarray()\n",
    "        #chunk_array = scaler.transform(chunk_array)\n",
    "        pred_y = hclf.predict(chunk_array)\n",
    "        system.extend(recover(baskets, [pred_y]))\n",
    "    gold = recover(testing_baskets, testing_y)\n",
    "    report = evaluate(system, gold, title)\n",
    "    print(report)\n",
    "    return(report)"
   ]
  },
  {
   "cell_type": "code",
   "execution_count": 14,
   "metadata": {
    "collapsed": true,
    "deletable": true,
    "editable": true
   },
   "outputs": [],
   "source": [
    "from mcgocr import Craft, GoData, CandidateFinder, SolidExtractor, CandidateFinder, Index, LabelMarker"
   ]
  },
  {
   "cell_type": "code",
   "execution_count": 15,
   "metadata": {
    "collapsed": false,
    "deletable": true,
    "editable": true
   },
   "outputs": [
    {
     "name": "stdout",
     "output_type": "stream",
     "text": [
      "Reading the corpus...\n",
      "Reading the goldstandard of GO...\n"
     ]
    }
   ],
   "source": [
    "craft = Craft('data')\n",
    "corpus = craft.get_corpus()\n",
    "goldstandard = craft.get_goldstandard()"
   ]
  },
  {
   "cell_type": "code",
   "execution_count": 16,
   "metadata": {
    "collapsed": false,
    "deletable": true,
    "editable": true
   },
   "outputs": [],
   "source": [
    "auxillary_term_index = term_index_from(goldstandard, goid2statement_lib)\n",
    "auxillary_extractor = SolidExtractor(auxillary_term_index)"
   ]
  },
  {
   "cell_type": "code",
   "execution_count": null,
   "metadata": {
    "collapsed": false,
    "deletable": true,
    "editable": true,
    "scrolled": true
   },
   "outputs": [],
   "source": []
  },
  {
   "cell_type": "code",
   "execution_count": 17,
   "metadata": {
    "collapsed": true,
    "deletable": true,
    "editable": true
   },
   "outputs": [],
   "source": [
    "extractor = JoinExtractor([solid_extractor, soft_extractor, auxillary_extractor])"
   ]
  },
  {
   "cell_type": "code",
   "execution_count": 18,
   "metadata": {
    "collapsed": true,
    "deletable": true,
    "editable": true
   },
   "outputs": [],
   "source": [
    "import time"
   ]
  },
  {
   "cell_type": "code",
   "execution_count": 19,
   "metadata": {
    "collapsed": true,
    "deletable": true,
    "editable": true
   },
   "outputs": [],
   "source": [
    "from sklearn.feature_extraction import FeatureHasher\n",
    "from sklearn import svm"
   ]
  },
  {
   "cell_type": "code",
   "execution_count": 24,
   "metadata": {
    "collapsed": false,
    "deletable": true,
    "editable": true,
    "scrolled": false
   },
   "outputs": [
    {
     "name": "stdout",
     "output_type": "stream",
     "text": [
      "Report<R72.32% P82.49% F77.07% 'quient'>\n"
     ]
    },
    {
     "data": {
      "text/plain": [
       "Report<R72.32% P82.49% F77.07% 'quient'>"
      ]
     },
     "execution_count": 24,
     "metadata": {},
     "output_type": "execute_result"
    }
   ],
   "source": [
    "#experiment('quient', corpus, corpus, goldstandard, extractor, term2statements, 1)"
   ]
  },
  {
   "cell_type": "code",
   "execution_count": 20,
   "metadata": {
    "collapsed": false,
    "deletable": true,
    "editable": true
   },
   "outputs": [
    {
     "name": "stdout",
     "output_type": "stream",
     "text": [
      "Report<R80.91% P82.51% F81.71% 'quient'>\n"
     ]
    }
   ],
   "source": [
    "title, training, testing, gold, extractor, term2statements, seed = ('quient', corpus, corpus, goldstandard, extractor, term2statements, 1)\n",
    "\n",
    "h = FeatureHasher(n_features=1024)\n",
    "hclf = svm.LinearSVC(max_iter=1000, random_state=seed) \n",
    "\n",
    "forest = make_forest(gold)\n",
    "training_baskets, testing_baskets = (join_baskets(training, extractor, term2statements), \n",
    "                                    join_baskets(testing, extractor, term2statements))\n",
    "training_X, testing_X = baskets2X(training_baskets), baskets2X(testing_baskets)\n",
    "training_y, testing_y = baskets2y(training_baskets, forest), baskets2y(testing_baskets, forest)\n",
    "\n",
    "training_X, training_y = flaten(training_X, training_y)\n",
    "\n",
    "training_array = h.fit_transform(training_X).toarray()\n",
    "\n",
    "#training\n",
    "\n",
    "hclf.fit(training_array, training_y)\n",
    "\n",
    "#testing\n",
    "system = []\n",
    "for basket, features_list, labels_list in zip(testing_baskets, testing_X, testing_y):\n",
    "    baskets, X, y = [basket], [features_list], [labels_list]\n",
    "    chunk_X, chunk_y = flaten(X, y)\n",
    "    if len(chunk_X) == 0:\n",
    "        continue\n",
    "    chunk_array = h.fit_transform(chunk_X).toarray()\n",
    "    #chunk_array = scaler.transform(chunk_array)\n",
    "    pred_y = hclf.predict(chunk_array)\n",
    "    system.extend(recover(baskets, [pred_y]))\n",
    "gold = recover(testing_baskets, testing_y)\n",
    "report = evaluate(system, gold, title)\n",
    "print(report)"
   ]
  },
  {
   "cell_type": "code",
   "execution_count": 49,
   "metadata": {
    "collapsed": false,
    "deletable": true,
    "editable": true
   },
   "outputs": [
    {
     "data": {
      "text/plain": [
       "[]"
      ]
     },
     "execution_count": 49,
     "metadata": {},
     "output_type": "execute_result"
    }
   ],
   "source": [
    "join_baskets(training, extractor, term2statements)"
   ]
  },
  {
   "cell_type": "code",
   "execution_count": 52,
   "metadata": {
    "collapsed": false,
    "deletable": true,
    "editable": true
   },
   "outputs": [
    {
     "data": {
      "text/plain": [
       "[Sentence(text='Intraocular pressure in genetically distinct mice: an update and strain survey\\n', offset=0, docid='11532192'),\n",
       " Sentence(text='\\nAbstract\\n', offset=79, docid='11532192'),\n",
       " Sentence(text='\\nBackground\\n', offset=89, docid='11532192'),\n",
       " Sentence(text='\\nLittle is known about genetic factors affecting intraocular pressure (IOP) in mice and other mammals. ', offset=101, docid='11532192'),\n",
       " Sentence(text='The purpose of this study was to determine the IOPs of genetically distinct mouse strains, assess the effects of factors such as age, sex and time of day on IOP in specific strain backgrounds, and to assess the effects of specific candidate gene mutations on IOP.\\n', offset=204, docid='11532192'),\n",
       " Sentence(text='\\nResults\\n', offset=468, docid='11532192'),\n",
       " Sentence(text='\\nBased on over 30 studied mouse strains, average IOP ranges from approximately 10 to 20 mmHg. ', offset=477, docid='11532192'),\n",
       " Sentence(text='Gender does not typically affect IOP and aging results in an IOP decrease in some strains. ', offset=571, docid='11532192'),\n",
       " Sentence(text='Most tested strains exhibit a diurnal rhythm with IOP being the highest during the dark period of the day. ', offset=662, docid='11532192'),\n",
       " Sentence(text='Homozygosity for a null allele of the carbonic anhydrase II gene (Car2n) does not alter IOP while homozygosity for a mutation in the leptin receptor gene (Leprdb) that causes obesity and diabetes results in increased IOP. ', offset=769, docid='11532192')]"
      ]
     },
     "execution_count": 52,
     "metadata": {},
     "output_type": "execute_result"
    }
   ],
   "source": [
    "training[:10]"
   ]
  },
  {
   "cell_type": "code",
   "execution_count": 55,
   "metadata": {
    "collapsed": false,
    "deletable": true,
    "editable": true,
    "scrolled": false
   },
   "outputs": [
    {
     "name": "stdout",
     "output_type": "stream",
     "text": [
      "[Evidence(term=Entity(lemma='aging', ref='GO:0007568'), text='age', start=333, end=336), Evidence(term=Entity(lemma='sex', ref='GO:0007548'), text='sex', start=338, end=341)]\n"
     ]
    }
   ],
   "source": [
    "for sentence in training[4:5]:\n",
    "    print(extractor.findall(sentence))\n"
   ]
  },
  {
   "cell_type": "code",
   "execution_count": 57,
   "metadata": {
    "collapsed": false,
    "deletable": true,
    "editable": true
   },
   "outputs": [],
   "source": [
    "grounds = Grounds(extractor.findall(training[4]), sentence)"
   ]
  },
  {
   "cell_type": "code",
   "execution_count": 62,
   "metadata": {
    "collapsed": false,
    "deletable": true,
    "editable": true
   },
   "outputs": [
    {
     "data": {
      "text/plain": [
       "Grounds(evidences=[Evidence(term=Entity(lemma='aging', ref='GO:0007568'), text='age', start=333, end=336), Evidence(term=Entity(lemma='sex', ref='GO:0007548'), text='sex', start=338, end=341)], sentence=Sentence(text='The purpose of this study was to determine the IOPs of genetically distinct mouse strains, assess the effects of factors such as age, sex and time of day on IOP in specific strain backgrounds, and to assess the effects of specific candidate gene mutations on IOP.\\n', offset=204, docid='11532192'))"
      ]
     },
     "execution_count": 62,
     "metadata": {},
     "output_type": "execute_result"
    }
   ],
   "source": [
    "grounds"
   ]
  },
  {
   "cell_type": "code",
   "execution_count": 60,
   "metadata": {
    "collapsed": false,
    "deletable": true,
    "editable": true
   },
   "outputs": [
    {
     "data": {
      "text/plain": [
       "{Statement(statid='GO:0007568%000', evidences=[Evidence(term=Entity(lemma='aging', ref='GO:0007568'), text='aging', start=0, end=5)])}"
      ]
     },
     "execution_count": 60,
     "metadata": {},
     "output_type": "execute_result"
    }
   ],
   "source": [
    "term2statements[Entity(lemma='aging', ref='GO:0007568')]"
   ]
  },
  {
   "cell_type": "code",
   "execution_count": 59,
   "metadata": {
    "collapsed": false,
    "deletable": true,
    "editable": true
   },
   "outputs": [
    {
     "data": {
      "text/plain": [
       "[]"
      ]
     },
     "execution_count": 59,
     "metadata": {},
     "output_type": "execute_result"
    }
   ],
   "source": [
    "gather_baskets(grounds, {}, term2statements)"
   ]
  },
  {
   "cell_type": "code",
   "execution_count": 69,
   "metadata": {
    "collapsed": false,
    "deletable": true,
    "editable": true
   },
   "outputs": [
    {
     "data": {
      "text/plain": [
       "[]"
      ]
     },
     "execution_count": 69,
     "metadata": {},
     "output_type": "execute_result"
    }
   ],
   "source": [
    "grounds, more_info, term2statements = grounds, {}, term2statements\n",
    "baskets = []\n",
    "term2index_evidence = defaultdict(list)\n",
    "queue = []\n",
    "evidences = grounds.evidences\n",
    "for i, evidence in enumerate(evidences):\n",
    "    term = evidence.term\n",
    "    term2index_evidence[term].append((i, evidence))\n",
    "    if isinstance(term, Entity) or isinstance(term, Pattern):\n",
    "        queue.append((i, term))\n",
    "        print(term)\n",
    "term2index_evidence = dict(term2index_evidence)\n",
    "for i, ep in queue:\n",
    "    candidates = []\n",
    "    statements = term2statements.get(ep, set())\n",
    "\n",
    "    for statement in statements:\n",
    "        statid = statement.statid\n",
    "        goid = statid.partition('%')[0]\n",
    "        density = gd.goid2density[goid]\n",
    "        evidences = gather_evidences(statement, i, term2index_evidence)\n",
    "        candidate = Candidate(statement, \n",
    "                              density, \n",
    "                              gather_evidences(statement, i, term2index_evidence),\n",
    "                              grounds)\n",
    "        candidates.append(candidate)\n",
    "    candidates.sort(key=lambda c: c.density, reverse=True)\n",
    "    baskets.append(Basket(candidates, more_info))\n",
    "\n",
    "baskets"
   ]
  },
  {
   "cell_type": "code",
   "execution_count": 72,
   "metadata": {
    "collapsed": false,
    "deletable": true,
    "editable": true
   },
   "outputs": [
    {
     "data": {
      "text/plain": [
       "grepc.models.Entity"
      ]
     },
     "execution_count": 72,
     "metadata": {},
     "output_type": "execute_result"
    }
   ],
   "source": [
    "term.__class__"
   ]
  },
  {
   "cell_type": "code",
   "execution_count": 73,
   "metadata": {
    "collapsed": false,
    "deletable": true,
    "editable": true
   },
   "outputs": [
    {
     "data": {
      "text/plain": [
       "__main__.Entity"
      ]
     },
     "execution_count": 73,
     "metadata": {},
     "output_type": "execute_result"
    }
   ],
   "source": [
    "Entity"
   ]
  },
  {
   "cell_type": "code",
   "execution_count": 37,
   "metadata": {
    "collapsed": false,
    "deletable": true,
    "editable": true
   },
   "outputs": [
    {
     "data": {
      "text/plain": [
       "20549"
      ]
     },
     "execution_count": 37,
     "metadata": {},
     "output_type": "execute_result"
    }
   ],
   "source": [
    "len(term2statements)"
   ]
  },
  {
   "cell_type": "code",
   "execution_count": null,
   "metadata": {
    "collapsed": true,
    "deletable": true,
    "editable": true
   },
   "outputs": [],
   "source": [
    "corpus"
   ]
  },
  {
   "cell_type": "code",
   "execution_count": 48,
   "metadata": {
    "collapsed": false,
    "deletable": true,
    "editable": true
   },
   "outputs": [
    {
     "name": "stdout",
     "output_type": "stream",
     "text": [
      "Sentence(text='\\nTo determine if albinism alters IOP, we analyzed B6 mice that were either pigmented or albino. ', offset=20320, docid='11532192')\n",
      "[Evidence(term=Entity(lemma='pigment', ref='GO:0050931'), text='pigmented', start=20395, end=20404)]\n"
     ]
    }
   ],
   "source": [
    "i = 182\n",
    "print(corpus[i])\n",
    "print(extractor.findall(corpus[i]))"
   ]
  },
  {
   "cell_type": "code",
   "execution_count": 21,
   "metadata": {
    "collapsed": false,
    "deletable": true,
    "editable": true
   },
   "outputs": [
    {
     "data": {
      "text/plain": [
       "False"
      ]
     },
     "execution_count": 21,
     "metadata": {},
     "output_type": "execute_result"
    }
   ],
   "source": [
    "a = ('a', 1, object)\n",
    "b = ('a', 1, object)\n",
    "a is b"
   ]
  },
  {
   "cell_type": "code",
   "execution_count": 22,
   "metadata": {
    "collapsed": false,
    "deletable": true,
    "editable": true
   },
   "outputs": [
    {
     "data": {
      "text/plain": [
       "False"
      ]
     },
     "execution_count": 22,
     "metadata": {},
     "output_type": "execute_result"
    }
   ],
   "source": [
    "a = 102002\n",
    "b = 102002\n",
    "a is b"
   ]
  },
  {
   "cell_type": "code",
   "execution_count": 23,
   "metadata": {
    "collapsed": false,
    "deletable": true,
    "editable": true
   },
   "outputs": [
    {
     "data": {
      "text/plain": [
       "True"
      ]
     },
     "execution_count": 23,
     "metadata": {},
     "output_type": "execute_result"
    }
   ],
   "source": [
    "a = 1\n",
    "b = 1\n",
    "a is b"
   ]
  },
  {
   "cell_type": "code",
   "execution_count": null,
   "metadata": {
    "collapsed": true,
    "deletable": true,
    "editable": true
   },
   "outputs": [],
   "source": []
  }
 ],
 "metadata": {
  "kernelspec": {
   "display_name": "Python 3",
   "language": "python",
   "name": "python3"
  },
  "language_info": {
   "codemirror_mode": {
    "name": "ipython",
    "version": 3
   },
   "file_extension": ".py",
   "mimetype": "text/x-python",
   "name": "python",
   "nbconvert_exporter": "python",
   "pygments_lexer": "ipython3",
   "version": "3.5.0"
  }
 },
 "nbformat": 4,
 "nbformat_minor": 2
}
