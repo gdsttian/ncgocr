{
 "cells": [
  {
   "cell_type": "code",
   "execution_count": 1,
   "metadata": {
    "collapsed": false,
    "deletable": true,
    "editable": true,
    "scrolled": true
   },
   "outputs": [],
   "source": [
    "from grepc.models import *\n",
    "from mcgocr import pattern_regex"
   ]
  },
  {
   "cell_type": "code",
   "execution_count": 2,
   "metadata": {
    "collapsed": false,
    "deletable": true,
    "editable": true
   },
   "outputs": [],
   "source": [
    "definition_fp = 'data/pattern_definition.txt'\n",
    "pm = gopattern.PatternManager.from_definition(definition_fp)\n",
    "\n",
    "out = pm.regex_out()"
   ]
  },
  {
   "cell_type": "code",
   "execution_count": 3,
   "metadata": {
    "collapsed": false,
    "deletable": true,
    "editable": true
   },
   "outputs": [],
   "source": [
    "with open('data/clusterbook_lib.pickle', 'rb') as f:\n",
    "    clusterbook_lib = pickle.load(f)\n",
    "with open('data/goid2statement_lib.pickle', 'rb') as f:\n",
    "    goid2statement_lib = pickle.load(f)\n",
    "with open('data/ref2statements.pickle', 'rb') as f:\n",
    "    ref2statements = pickle.load(f)"
   ]
  },
  {
   "cell_type": "code",
   "execution_count": 4,
   "metadata": {
    "collapsed": false,
    "deletable": true,
    "editable": true
   },
   "outputs": [
    {
     "data": {
      "text/plain": [
       "47678"
      ]
     },
     "execution_count": 4,
     "metadata": {},
     "output_type": "execute_result"
    }
   ],
   "source": [
    "cb = clusterbook_lib[1]\n",
    "term_index = TermIndex(set)\n",
    "for c in cb.clusters:\n",
    "    for term in c.terms:\n",
    "        term_index[term.lemma].add(c.primary_term)\n",
    "len(term_index)"
   ]
  },
  {
   "cell_type": "code",
   "execution_count": 5,
   "metadata": {
    "collapsed": true,
    "deletable": true,
    "editable": true
   },
   "outputs": [],
   "source": [
    "with open('data/default/index_Ie.pickle', 'wb') as f:\n",
    "    pickle.dump(term_index, f)"
   ]
  },
  {
   "cell_type": "code",
   "execution_count": 5,
   "metadata": {
    "collapsed": true,
    "deletable": true,
    "editable": true
   },
   "outputs": [],
   "source": [
    "pattern2statements = defaultdict(set)\n",
    "entity2statements = defaultdict(set)\n",
    "\n",
    "for statements in ref2statements.values():\n",
    "    for statement in statements:\n",
    "        if all([isinstance(term, Pattern) for term in statement.terms()]):\n",
    "            for term in statement.terms():\n",
    "                pattern2statements[term].add(statement)\n",
    "        else:\n",
    "            for term in statement.terms():\n",
    "                if isinstance(term, Entity):\n",
    "                    entity2statements[term].add(statement)\n",
    "\n",
    "pattern2statements = dict(pattern2statements)\n",
    "entity2statements = dict(entity2statements)\n",
    "\n",
    "\n",
    "term2statements = ChainMap(entity2statements, pattern2statements)"
   ]
  },
  {
   "cell_type": "code",
   "execution_count": 6,
   "metadata": {
    "collapsed": false,
    "deletable": true,
    "editable": true
   },
   "outputs": [],
   "source": [
    "index_Im = dict(term2statements)"
   ]
  },
  {
   "cell_type": "code",
   "execution_count": 8,
   "metadata": {
    "collapsed": false,
    "deletable": true,
    "editable": true
   },
   "outputs": [
    {
     "data": {
      "text/plain": [
       "20549"
      ]
     },
     "execution_count": 8,
     "metadata": {},
     "output_type": "execute_result"
    }
   ],
   "source": [
    "len(index_Im)"
   ]
  },
  {
   "cell_type": "code",
   "execution_count": 7,
   "metadata": {
    "collapsed": true,
    "deletable": true,
    "editable": true
   },
   "outputs": [],
   "source": [
    "with open('data/default/index_Im.pickle', 'wb') as f:\n",
    "    pickle.dump(index_Im, f)"
   ]
  },
  {
   "cell_type": "code",
   "execution_count": 8,
   "metadata": {
    "collapsed": false,
    "deletable": true,
    "editable": true
   },
   "outputs": [
    {
     "data": {
      "text/plain": [
       "21646"
      ]
     },
     "execution_count": 8,
     "metadata": {},
     "output_type": "execute_result"
    }
   ],
   "source": [
    "from txttk.nlptools import sent_tokenize, count_start\n",
    "import os\n",
    "txtdir = 'data/craft-1.0/articles/txt/'\n",
    "sent_tokenize = count_start(sent_tokenize)\n",
    "\n",
    "sentences = []\n",
    "\n",
    "for fn in filter(lambda name:name.endswith('.txt'), os.listdir(txtdir)):\n",
    "    pmid = fn.partition('.')[0]\n",
    "    with open(os.path.join(txtdir, fn)) as f:\n",
    "        context = f.read()\n",
    "    sentence_list = list(sent_tokenize(context, 0))\n",
    "    \n",
    "    for text, offset in sentence_list:\n",
    "        sentences.append(Sentence(text, offset, pmid))\n",
    "        \n",
    "len(sentences)"
   ]
  },
  {
   "cell_type": "code",
   "execution_count": 9,
   "metadata": {
    "collapsed": true,
    "deletable": true,
    "editable": true
   },
   "outputs": [],
   "source": [
    "solid_extractor = SolidExtractor(term_index)\n",
    "soft_extractor = SoftExtractor(out)"
   ]
  },
  {
   "cell_type": "code",
   "execution_count": 10,
   "metadata": {
    "collapsed": false,
    "deletable": true,
    "editable": true,
    "scrolled": true
   },
   "outputs": [
    {
     "name": "stdout",
     "output_type": "stream",
     "text": [
      "Answers: 24062\n",
      "CPU times: user 9.5 s, sys: 133 ms, total: 9.63 s\n",
      "Wall time: 10.7 s\n"
     ]
    }
   ],
   "source": [
    "%%time\n",
    "xmldir = 'data/craft-1.0/knowtator-xml/go_bpmf/'\n",
    "gold_bpmf = []\n",
    "for fn in os.listdir(xmldir):\n",
    "    fpath = os.path.join(xmldir, fn)\n",
    "    goldstandards = goldstandard_from_xml(fpath)\n",
    "    gold_bpmf.extend(goldstandards)\n",
    "\n",
    "print('Answers:', len(gold_bpmf))"
   ]
  },
  {
   "cell_type": "code",
   "execution_count": 11,
   "metadata": {
    "collapsed": false,
    "deletable": true,
    "editable": true
   },
   "outputs": [
    {
     "name": "stdout",
     "output_type": "stream",
     "text": [
      "Answers: 8354\n",
      "CPU times: user 3.47 s, sys: 51.2 ms, total: 3.53 s\n",
      "Wall time: 3.74 s\n"
     ]
    }
   ],
   "source": [
    "%%time\n",
    "xmldir = 'data/craft-1.0/knowtator-xml/go_cc/'\n",
    "gold_cc = []\n",
    "for fn in os.listdir(xmldir):\n",
    "    fpath = os.path.join(xmldir, fn)\n",
    "    goldstandards = goldstandard_from_xml(fpath)\n",
    "    gold_cc.extend(goldstandards)\n",
    "\n",
    "print('Answers:', len(gold_cc))"
   ]
  },
  {
   "cell_type": "code",
   "execution_count": 12,
   "metadata": {
    "collapsed": true,
    "deletable": true,
    "editable": true
   },
   "outputs": [],
   "source": [
    "gold_union = gold_bpmf + gold_cc"
   ]
  },
  {
   "cell_type": "code",
   "execution_count": 13,
   "metadata": {
    "collapsed": false,
    "deletable": true,
    "editable": true
   },
   "outputs": [],
   "source": [
    "forest_cc = make_forest(gold_cc)\n",
    "forest_bpmf = make_forest(gold_bpmf)\n"
   ]
  },
  {
   "cell_type": "code",
   "execution_count": 14,
   "metadata": {
    "collapsed": true,
    "deletable": true,
    "editable": true
   },
   "outputs": [],
   "source": [
    "from sklearn.feature_extraction import FeatureHasher\n",
    "from sklearn import svm"
   ]
  },
  {
   "cell_type": "code",
   "execution_count": 17,
   "metadata": {
    "collapsed": true,
    "deletable": true,
    "editable": true
   },
   "outputs": [],
   "source": [
    "def experiment(title, training, testing, gold, extractor, term2statements, seed):\n",
    "\n",
    "    h = FeatureHasher(n_features=1024)\n",
    "    hclf = svm.LinearSVC(max_iter=1000, random_state=seed) \n",
    "    \n",
    "    forest = make_forest(gold)\n",
    "    training_baskets, testing_baskets = (join_baskets(training, extractor, term2statements), \n",
    "                                        join_baskets(testing, extractor, term2statements))\n",
    "    training_X, testing_X = baskets2X(training_baskets), baskets2X(testing_baskets)\n",
    "    training_y, testing_y = baskets2y(training_baskets, forest), baskets2y(testing_baskets, forest)\n",
    "\n",
    "    training_X, training_y = flaten(training_X, training_y)\n",
    "    \n",
    "    training_array = h.fit_transform(training_X).toarray()\n",
    "\n",
    "    #training\n",
    "\n",
    "    hclf.fit(training_array, training_y)\n",
    "\n",
    "    #testing\n",
    "    system = []\n",
    "    for basket, features_list, labels_list in zip(testing_baskets, testing_X, testing_y):\n",
    "        baskets, X, y = [basket], [features_list], [labels_list]\n",
    "        chunk_X, chunk_y = flaten(X, y)\n",
    "        if len(chunk_X) == 0:\n",
    "            continue\n",
    "        chunk_array = h.fit_transform(chunk_X).toarray()\n",
    "        #chunk_array = scaler.transform(chunk_array)\n",
    "        pred_y = hclf.predict(chunk_array)\n",
    "        system.extend(recover(baskets, [pred_y]))\n",
    "    gold = recover(testing_baskets, testing_y)\n",
    "    report = evaluate(system, gold, title)\n",
    "    print(report)\n",
    "    return(report)"
   ]
  },
  {
   "cell_type": "code",
   "execution_count": 15,
   "metadata": {
    "collapsed": true,
    "deletable": true,
    "editable": true
   },
   "outputs": [],
   "source": [
    "from mcgocr import Craft, GoData, CandidateFinder, SolidExtractor, CandidateFinder, Index, LabelMarker"
   ]
  },
  {
   "cell_type": "code",
   "execution_count": 16,
   "metadata": {
    "collapsed": false,
    "deletable": true,
    "editable": true
   },
   "outputs": [
    {
     "name": "stdout",
     "output_type": "stream",
     "text": [
      "Reading the corpus...\n",
      "Reading the goldstandard of GO...\n"
     ]
    }
   ],
   "source": [
    "craft = Craft('data')\n",
    "corpus = craft.get_corpus()\n",
    "goldstandard = craft.get_goldstandard()"
   ]
  },
  {
   "cell_type": "code",
   "execution_count": 17,
   "metadata": {
    "collapsed": false,
    "deletable": true,
    "editable": true
   },
   "outputs": [],
   "source": [
    "auxillary_term_index = term_index_from(goldstandard, goid2statement_lib)\n",
    "auxillary_extractor = SolidExtractor(auxillary_term_index)"
   ]
  },
  {
   "cell_type": "code",
   "execution_count": 18,
   "metadata": {
    "collapsed": false,
    "deletable": true,
    "editable": true,
    "scrolled": true
   },
   "outputs": [],
   "source": [
    "with open('data/default/index_Ie_boost.pickle', 'wb') as f:\n",
    "    pickle.dump(auxillary_term_index, f)"
   ]
  },
  {
   "cell_type": "code",
   "execution_count": 19,
   "metadata": {
    "collapsed": false,
    "deletable": true,
    "editable": true
   },
   "outputs": [
    {
     "data": {
      "text/plain": [
       "2497"
      ]
     },
     "execution_count": 19,
     "metadata": {},
     "output_type": "execute_result"
    }
   ],
   "source": [
    "len(auxillary_term_index)"
   ]
  },
  {
   "cell_type": "code",
   "execution_count": 20,
   "metadata": {
    "collapsed": false,
    "deletable": true,
    "editable": true
   },
   "outputs": [],
   "source": [
    "extractor = JoinExtractor([solid_extractor, soft_extractor, auxillary_extractor])"
   ]
  },
  {
   "cell_type": "code",
   "execution_count": 21,
   "metadata": {
    "collapsed": true,
    "deletable": true,
    "editable": true
   },
   "outputs": [],
   "source": [
    "import time"
   ]
  },
  {
   "cell_type": "code",
   "execution_count": 22,
   "metadata": {
    "collapsed": true,
    "deletable": true,
    "editable": true
   },
   "outputs": [],
   "source": [
    "from sklearn.feature_extraction import FeatureHasher\n",
    "from sklearn import svm"
   ]
  },
  {
   "cell_type": "code",
   "execution_count": 23,
   "metadata": {
    "collapsed": false,
    "deletable": true,
    "editable": true
   },
   "outputs": [
    {
     "name": "stdout",
     "output_type": "stream",
     "text": [
      "Report<R80.94% P84.98% F82.91% 'quient'>\n"
     ]
    }
   ],
   "source": [
    "(title, training, testing, gold, extractor, term2statements, seed) = ('quient', corpus, corpus, goldstandard, extractor, term2statements, 1)\n",
    "\n",
    "h = FeatureHasher(n_features=1024)\n",
    "hclf = svm.LinearSVC(max_iter=1000, random_state=seed) \n",
    "\n",
    "forest = make_forest(gold)\n",
    "training_baskets, testing_baskets = (join_baskets(training, extractor, term2statements), \n",
    "                                    join_baskets(testing, extractor, term2statements))\n",
    "training_X, testing_X = baskets2X(training_baskets), baskets2X(testing_baskets)\n",
    "training_y, testing_y = baskets2y(training_baskets, forest), baskets2y(testing_baskets, forest)\n",
    "\n",
    "training_X, training_y = flaten(training_X, training_y)\n",
    "\n",
    "training_array = h.fit_transform(training_X).toarray()\n",
    "\n",
    "#training\n",
    "\n",
    "hclf.fit(training_array, training_y)\n",
    "\n",
    "#testing\n",
    "system = []\n",
    "for basket, features_list, labels_list in zip(testing_baskets, testing_X, testing_y):\n",
    "    baskets, X, y = [basket], [features_list], [labels_list]\n",
    "    chunk_X, chunk_y = flaten(X, y)\n",
    "    if len(chunk_X) == 0:\n",
    "        continue\n",
    "    chunk_array = h.fit_transform(chunk_X).toarray()\n",
    "    #chunk_array = scaler.transform(chunk_array)\n",
    "    pred_y = hclf.predict(chunk_array)\n",
    "    system.extend(recover(baskets, [pred_y]))\n",
    "gold = recover(testing_baskets, testing_y)\n",
    "report = evaluate(system, gold, title)\n",
    "print(report)"
   ]
  },
  {
   "cell_type": "code",
   "execution_count": 24,
   "metadata": {
    "collapsed": false,
    "scrolled": false
   },
   "outputs": [
    {
     "data": {
      "text/plain": [
       "Report<R65.30% P78.81% F71.42% 'Jesus, help me!'>"
      ]
     },
     "execution_count": 24,
     "metadata": {},
     "output_type": "execute_result"
    }
   ],
   "source": [
    "new_gold = [u for u in gold_union if u[1].startswith('GO:')]\n",
    "evaluate(system, new_gold, 'Jesus, help me!')"
   ]
  },
  {
   "cell_type": "code",
   "execution_count": 25,
   "metadata": {
    "collapsed": false
   },
   "outputs": [
    {
     "data": {
      "text/plain": [
       "Report<R65.30% P78.81% F71.42% 'Jesus, help me!'>"
      ]
     },
     "execution_count": 25,
     "metadata": {},
     "output_type": "execute_result"
    }
   ],
   "source": [
    "new_gold = [u for u in gold_union if u[1].startswith('GO:')]\n",
    "evaluate(system, new_gold, 'Jesus, help me!')"
   ]
  },
  {
   "cell_type": "code",
   "execution_count": 30,
   "metadata": {
    "collapsed": false,
    "scrolled": true
   },
   "outputs": [],
   "source": [
    "diff = evaluate(gold, new_gold, 'lets go')"
   ]
  },
  {
   "cell_type": "code",
   "execution_count": 31,
   "metadata": {
    "collapsed": false,
    "scrolled": false
   },
   "outputs": [
    {
     "data": {
      "text/plain": [
       "[('15550985', 'GO:0007600', 1724, 1731, 'sensory'),\n",
       " ('16110338', 'GO:0033592', 41501, 41514, 'hybridization'),\n",
       " ('15005800', 'GO:0047598', 24176, 24181, 'Dhcr7'),\n",
       " ('15588329', 'GO:0005739', 19303, 19316, 'mitochondrial'),\n",
       " ('17194222', 'GO:0001944', 30731, 30746, 'vascularization'),\n",
       " ('16103912', 'GO:0003700', 22740, 22761, 'transcription factors'),\n",
       " ('16110338', 'GO:0000739', 53888, 53901, 'Hybridization'),\n",
       " ('15588329', 'GO:0010008', 2230322323, 2231222331, 'endosomal ... membrane'),\n",
       " ('11897010', 'GO:0005216', 1128, 1136, 'ion pore'),\n",
       " ('16109169', 'GO:0009880', 96120, 109126, 'patterning of ... embryo')]"
      ]
     },
     "execution_count": 31,
     "metadata": {},
     "output_type": "execute_result"
    }
   ],
   "source": [
    "random.sample(diff.fn, 10)"
   ]
  },
  {
   "cell_type": "code",
   "execution_count": 33,
   "metadata": {
    "collapsed": false
   },
   "outputs": [],
   "source": [
    "examples = []\n",
    "for unit in diff.fn:\n",
    "    examples.append([u for u in gold if u[:3] == unit[:3]])"
   ]
  },
  {
   "cell_type": "code",
   "execution_count": 36,
   "metadata": {
    "collapsed": false
   },
   "outputs": [
    {
     "data": {
      "text/plain": [
       "2172"
      ]
     },
     "execution_count": 36,
     "metadata": {},
     "output_type": "execute_result"
    }
   ],
   "source": [
    "len(diff.fp)"
   ]
  },
  {
   "cell_type": "code",
   "execution_count": 37,
   "metadata": {
    "collapsed": false,
    "scrolled": true
   },
   "outputs": [
    {
     "data": {
      "text/plain": [
       "[[],\n",
       " [],\n",
       " [],\n",
       " [],\n",
       " [],\n",
       " [],\n",
       " [],\n",
       " [],\n",
       " [],\n",
       " [],\n",
       " [],\n",
       " [('15345036',\n",
       "   'GO:0001775',\n",
       "   45408,\n",
       "   45448,\n",
       "   'stimulation with LPS and apoptotic cells')],\n",
       " [],\n",
       " [],\n",
       " [],\n",
       " [],\n",
       " [],\n",
       " [],\n",
       " [],\n",
       " [('16098226',\n",
       "   'GO:0004872',\n",
       "   20467,\n",
       "   20584,\n",
       "   'receptor activation causes dissociation of HOMER proteins [35], PAX6 may be released as a result of synaptic activity')],\n",
       " [],\n",
       " [],\n",
       " [],\n",
       " [],\n",
       " [],\n",
       " [],\n",
       " [],\n",
       " [],\n",
       " [],\n",
       " [],\n",
       " [],\n",
       " [],\n",
       " [],\n",
       " [('15005800',\n",
       "   'GO:0021700',\n",
       "   39426,\n",
       "   39513,\n",
       "   'maturation of the gas-exchange region of the lung in the saccular period of development')],\n",
       " [],\n",
       " [],\n",
       " [],\n",
       " [],\n",
       " [],\n",
       " [],\n",
       " [],\n",
       " [],\n",
       " [],\n",
       " [],\n",
       " [],\n",
       " [],\n",
       " [],\n",
       " [],\n",
       " [],\n",
       " [],\n",
       " [],\n",
       " [('15588329', 'GO:0004192', 37213, 37233, 'cathepsin D activity')],\n",
       " [],\n",
       " [],\n",
       " [],\n",
       " [],\n",
       " [],\n",
       " [],\n",
       " [('15938754', 'GO:0001775', 4472, 4502, 'stimulate taste receptor cells')],\n",
       " [],\n",
       " [],\n",
       " [],\n",
       " [],\n",
       " [],\n",
       " [],\n",
       " [],\n",
       " [],\n",
       " [],\n",
       " [],\n",
       " [],\n",
       " [],\n",
       " [],\n",
       " [],\n",
       " [],\n",
       " [],\n",
       " [],\n",
       " [],\n",
       " [],\n",
       " [],\n",
       " [],\n",
       " [],\n",
       " [],\n",
       " [],\n",
       " [],\n",
       " [],\n",
       " [],\n",
       " [],\n",
       " [],\n",
       " [],\n",
       " [],\n",
       " [],\n",
       " [],\n",
       " [],\n",
       " [],\n",
       " [],\n",
       " [],\n",
       " [],\n",
       " [],\n",
       " [],\n",
       " []]"
      ]
     },
     "execution_count": 37,
     "metadata": {},
     "output_type": "execute_result"
    }
   ],
   "source": [
    "examples[:100]"
   ]
  },
  {
   "cell_type": "code",
   "execution_count": 34,
   "metadata": {
    "collapsed": true,
    "deletable": true,
    "editable": true
   },
   "outputs": [],
   "source": [
    "with open('data/default/feature_hasher.pickle', 'wb') as f:\n",
    "    pickle.dump(h, f)"
   ]
  },
  {
   "cell_type": "code",
   "execution_count": 35,
   "metadata": {
    "collapsed": true,
    "deletable": true,
    "editable": true
   },
   "outputs": [],
   "source": [
    "with open('data/default/classifier.pickle', 'wb') as f:\n",
    "    pickle.dump(hclf, f)"
   ]
  },
  {
   "cell_type": "code",
   "execution_count": 23,
   "metadata": {
    "collapsed": true,
    "deletable": true,
    "editable": true
   },
   "outputs": [],
   "source": [
    "from sklearn.feature_extraction import DictVectorizer\n",
    "v = DictVectorizer(sparse=False)\n",
    "X = v.fit_transform(training_X)"
   ]
  },
  {
   "cell_type": "code",
   "execution_count": 28,
   "metadata": {
    "collapsed": false,
    "deletable": true,
    "editable": true
   },
   "outputs": [
    {
     "data": {
      "text/plain": [
       "459726"
      ]
     },
     "execution_count": 28,
     "metadata": {},
     "output_type": "execute_result"
    }
   ],
   "source": [
    "len(training_X)"
   ]
  },
  {
   "cell_type": "code",
   "execution_count": 29,
   "metadata": {
    "collapsed": false,
    "deletable": true,
    "editable": true,
    "scrolled": true
   },
   "outputs": [
    {
     "data": {
      "text/plain": [
       "23801"
      ]
     },
     "execution_count": 29,
     "metadata": {},
     "output_type": "execute_result"
    }
   ],
   "source": [
    "len(X[0])"
   ]
  },
  {
   "cell_type": "code",
   "execution_count": 20,
   "metadata": {
    "collapsed": false,
    "deletable": true,
    "editable": true,
    "scrolled": true
   },
   "outputs": [
    {
     "name": "stdout",
     "output_type": "stream",
     "text": [
      "Report<R79.14% P84.83% F81.88% 'quient'>\n"
     ]
    },
    {
     "data": {
      "text/plain": [
       "Report<R79.14% P84.83% F81.88% 'quient'>"
      ]
     },
     "execution_count": 20,
     "metadata": {},
     "output_type": "execute_result"
    }
   ],
   "source": [
    "experiment('quient', corpus, corpus, goldstandard, extractor, term2statements, 1)"
   ]
  },
  {
   "cell_type": "code",
   "execution_count": null,
   "metadata": {
    "collapsed": true,
    "deletable": true,
    "editable": true
   },
   "outputs": [],
   "source": [
    "\"\"\"\n",
    "2 Report<R73.11% P89.30% F80.40% 'quient'>\n",
    "3 Report<R78.32% P85.78% F81.88% 'quient'>\n",
    "4 Report<R79.14% P84.83% F81.88% 'quient'\n",
    "\"\"\""
   ]
  },
  {
   "cell_type": "markdown",
   "metadata": {
    "deletable": true,
    "editable": true
   },
   "source": [
    "# Some observations"
   ]
  },
  {
   "cell_type": "code",
   "execution_count": 22,
   "metadata": {
    "collapsed": false,
    "deletable": true,
    "editable": true
   },
   "outputs": [],
   "source": [
    "report = Out[19]\n",
    "tp = report.tp"
   ]
  },
  {
   "cell_type": "code",
   "execution_count": 24,
   "metadata": {
    "collapsed": false,
    "deletable": true,
    "editable": true
   },
   "outputs": [
    {
     "data": {
      "text/plain": [
       "24337"
      ]
     },
     "execution_count": 24,
     "metadata": {},
     "output_type": "execute_result"
    }
   ],
   "source": [
    "len(gd)"
   ]
  },
  {
   "cell_type": "code",
   "execution_count": 25,
   "metadata": {
    "collapsed": false,
    "deletable": true,
    "editable": true,
    "scrolled": false
   },
   "outputs": [
    {
     "data": {
      "text/plain": [
       "Counter({'biological_process': 14306,\n",
       "         'cellular_component': 2047,\n",
       "         'molecular_function': 7984})"
      ]
     },
     "execution_count": 25,
     "metadata": {},
     "output_type": "execute_result"
    }
   ],
   "source": [
    "from collections import Counter\n",
    "Counter([c.namespace for c in gd.values()])"
   ]
  },
  {
   "cell_type": "code",
   "execution_count": null,
   "metadata": {
    "collapsed": true,
    "deletable": true,
    "editable": true
   },
   "outputs": [],
   "source": []
  },
  {
   "cell_type": "markdown",
   "metadata": {
    "deletable": true,
    "editable": true
   },
   "source": [
    "end observation"
   ]
  },
  {
   "cell_type": "code",
   "execution_count": 20,
   "metadata": {
    "collapsed": false,
    "deletable": true,
    "editable": true
   },
   "outputs": [
    {
     "name": "stdout",
     "output_type": "stream",
     "text": [
      "Report<R80.91% P82.51% F81.71% 'quient'>\n"
     ]
    }
   ],
   "source": [
    "title, training, testing, gold, extractor, term2statements, seed = ('quient', corpus, corpus, goldstandard, extractor, term2statements, 1)\n",
    "\n",
    "h = FeatureHasher(n_features=1024)\n",
    "hclf = svm.LinearSVC(max_iter=1000, random_state=seed) \n",
    "\n",
    "forest = make_forest(gold)\n",
    "training_baskets, testing_baskets = (join_baskets(training, extractor, term2statements), \n",
    "                                    join_baskets(testing, extractor, term2statements))\n",
    "training_X, testing_X = baskets2X(training_baskets), baskets2X(testing_baskets)\n",
    "training_y, testing_y = baskets2y(training_baskets, forest), baskets2y(testing_baskets, forest)\n",
    "\n",
    "training_X, training_y = flaten(training_X, training_y)\n",
    "\n",
    "training_array = h.fit_transform(training_X).toarray()\n",
    "\n",
    "#training\n",
    "\n",
    "hclf.fit(training_array, training_y)\n",
    "\n",
    "#testing\n",
    "system = []\n",
    "for basket, features_list, labels_list in zip(testing_baskets, testing_X, testing_y):\n",
    "    baskets, X, y = [basket], [features_list], [labels_list]\n",
    "    chunk_X, chunk_y = flaten(X, y)\n",
    "    if len(chunk_X) == 0:\n",
    "        continue\n",
    "    chunk_array = h.fit_transform(chunk_X).toarray()\n",
    "    #chunk_array = scaler.transform(chunk_array)\n",
    "    pred_y = hclf.predict(chunk_array)\n",
    "    system.extend(recover(baskets, [pred_y]))\n",
    "gold = recover(testing_baskets, testing_y)\n",
    "report = evaluate(system, gold, title)\n",
    "print(report)"
   ]
  },
  {
   "cell_type": "code",
   "execution_count": 49,
   "metadata": {
    "collapsed": false,
    "deletable": true,
    "editable": true
   },
   "outputs": [
    {
     "data": {
      "text/plain": [
       "[]"
      ]
     },
     "execution_count": 49,
     "metadata": {},
     "output_type": "execute_result"
    }
   ],
   "source": [
    "join_baskets(training, extractor, term2statements)"
   ]
  },
  {
   "cell_type": "code",
   "execution_count": 52,
   "metadata": {
    "collapsed": false,
    "deletable": true,
    "editable": true
   },
   "outputs": [
    {
     "data": {
      "text/plain": [
       "[Sentence(text='Intraocular pressure in genetically distinct mice: an update and strain survey\\n', offset=0, docid='11532192'),\n",
       " Sentence(text='\\nAbstract\\n', offset=79, docid='11532192'),\n",
       " Sentence(text='\\nBackground\\n', offset=89, docid='11532192'),\n",
       " Sentence(text='\\nLittle is known about genetic factors affecting intraocular pressure (IOP) in mice and other mammals. ', offset=101, docid='11532192'),\n",
       " Sentence(text='The purpose of this study was to determine the IOPs of genetically distinct mouse strains, assess the effects of factors such as age, sex and time of day on IOP in specific strain backgrounds, and to assess the effects of specific candidate gene mutations on IOP.\\n', offset=204, docid='11532192'),\n",
       " Sentence(text='\\nResults\\n', offset=468, docid='11532192'),\n",
       " Sentence(text='\\nBased on over 30 studied mouse strains, average IOP ranges from approximately 10 to 20 mmHg. ', offset=477, docid='11532192'),\n",
       " Sentence(text='Gender does not typically affect IOP and aging results in an IOP decrease in some strains. ', offset=571, docid='11532192'),\n",
       " Sentence(text='Most tested strains exhibit a diurnal rhythm with IOP being the highest during the dark period of the day. ', offset=662, docid='11532192'),\n",
       " Sentence(text='Homozygosity for a null allele of the carbonic anhydrase II gene (Car2n) does not alter IOP while homozygosity for a mutation in the leptin receptor gene (Leprdb) that causes obesity and diabetes results in increased IOP. ', offset=769, docid='11532192')]"
      ]
     },
     "execution_count": 52,
     "metadata": {},
     "output_type": "execute_result"
    }
   ],
   "source": [
    "training[:10]"
   ]
  },
  {
   "cell_type": "code",
   "execution_count": 55,
   "metadata": {
    "collapsed": false,
    "deletable": true,
    "editable": true,
    "scrolled": false
   },
   "outputs": [
    {
     "name": "stdout",
     "output_type": "stream",
     "text": [
      "[Evidence(term=Entity(lemma='aging', ref='GO:0007568'), text='age', start=333, end=336), Evidence(term=Entity(lemma='sex', ref='GO:0007548'), text='sex', start=338, end=341)]\n"
     ]
    }
   ],
   "source": [
    "for sentence in training[4:5]:\n",
    "    print(extractor.findall(sentence))\n"
   ]
  },
  {
   "cell_type": "code",
   "execution_count": 57,
   "metadata": {
    "collapsed": false,
    "deletable": true,
    "editable": true
   },
   "outputs": [],
   "source": [
    "grounds = Grounds(extractor.findall(training[4]), sentence)"
   ]
  },
  {
   "cell_type": "code",
   "execution_count": 62,
   "metadata": {
    "collapsed": false,
    "deletable": true,
    "editable": true
   },
   "outputs": [
    {
     "data": {
      "text/plain": [
       "Grounds(evidences=[Evidence(term=Entity(lemma='aging', ref='GO:0007568'), text='age', start=333, end=336), Evidence(term=Entity(lemma='sex', ref='GO:0007548'), text='sex', start=338, end=341)], sentence=Sentence(text='The purpose of this study was to determine the IOPs of genetically distinct mouse strains, assess the effects of factors such as age, sex and time of day on IOP in specific strain backgrounds, and to assess the effects of specific candidate gene mutations on IOP.\\n', offset=204, docid='11532192'))"
      ]
     },
     "execution_count": 62,
     "metadata": {},
     "output_type": "execute_result"
    }
   ],
   "source": [
    "grounds"
   ]
  },
  {
   "cell_type": "code",
   "execution_count": 60,
   "metadata": {
    "collapsed": false,
    "deletable": true,
    "editable": true
   },
   "outputs": [
    {
     "data": {
      "text/plain": [
       "{Statement(statid='GO:0007568%000', evidences=[Evidence(term=Entity(lemma='aging', ref='GO:0007568'), text='aging', start=0, end=5)])}"
      ]
     },
     "execution_count": 60,
     "metadata": {},
     "output_type": "execute_result"
    }
   ],
   "source": [
    "term2statements[Entity(lemma='aging', ref='GO:0007568')]"
   ]
  },
  {
   "cell_type": "code",
   "execution_count": 59,
   "metadata": {
    "collapsed": false,
    "deletable": true,
    "editable": true
   },
   "outputs": [
    {
     "data": {
      "text/plain": [
       "[]"
      ]
     },
     "execution_count": 59,
     "metadata": {},
     "output_type": "execute_result"
    }
   ],
   "source": [
    "gather_baskets(grounds, {}, term2statements)"
   ]
  },
  {
   "cell_type": "code",
   "execution_count": 69,
   "metadata": {
    "collapsed": false,
    "deletable": true,
    "editable": true
   },
   "outputs": [
    {
     "data": {
      "text/plain": [
       "[]"
      ]
     },
     "execution_count": 69,
     "metadata": {},
     "output_type": "execute_result"
    }
   ],
   "source": [
    "grounds, more_info, term2statements = grounds, {}, term2statements\n",
    "baskets = []\n",
    "term2index_evidence = defaultdict(list)\n",
    "queue = []\n",
    "evidences = grounds.evidences\n",
    "for i, evidence in enumerate(evidences):\n",
    "    term = evidence.term\n",
    "    term2index_evidence[term].append((i, evidence))\n",
    "    if isinstance(term, Entity) or isinstance(term, Pattern):\n",
    "        queue.append((i, term))\n",
    "        print(term)\n",
    "term2index_evidence = dict(term2index_evidence)\n",
    "for i, ep in queue:\n",
    "    candidates = []\n",
    "    statements = term2statements.get(ep, set())\n",
    "\n",
    "    for statement in statements:\n",
    "        statid = statement.statid\n",
    "        goid = statid.partition('%')[0]\n",
    "        density = gd.goid2density[goid]\n",
    "        evidences = gather_evidences(statement, i, term2index_evidence)\n",
    "        candidate = Candidate(statement, \n",
    "                              density, \n",
    "                              gather_evidences(statement, i, term2index_evidence),\n",
    "                              grounds)\n",
    "        candidates.append(candidate)\n",
    "    candidates.sort(key=lambda c: c.density, reverse=True)\n",
    "    baskets.append(Basket(candidates, more_info))\n",
    "\n",
    "baskets"
   ]
  },
  {
   "cell_type": "code",
   "execution_count": 72,
   "metadata": {
    "collapsed": false,
    "deletable": true,
    "editable": true
   },
   "outputs": [
    {
     "data": {
      "text/plain": [
       "grepc.models.Entity"
      ]
     },
     "execution_count": 72,
     "metadata": {},
     "output_type": "execute_result"
    }
   ],
   "source": [
    "term.__class__"
   ]
  },
  {
   "cell_type": "code",
   "execution_count": 73,
   "metadata": {
    "collapsed": false,
    "deletable": true,
    "editable": true
   },
   "outputs": [
    {
     "data": {
      "text/plain": [
       "__main__.Entity"
      ]
     },
     "execution_count": 73,
     "metadata": {},
     "output_type": "execute_result"
    }
   ],
   "source": [
    "Entity"
   ]
  },
  {
   "cell_type": "code",
   "execution_count": 37,
   "metadata": {
    "collapsed": false,
    "deletable": true,
    "editable": true
   },
   "outputs": [
    {
     "data": {
      "text/plain": [
       "20549"
      ]
     },
     "execution_count": 37,
     "metadata": {},
     "output_type": "execute_result"
    }
   ],
   "source": [
    "len(term2statements)"
   ]
  },
  {
   "cell_type": "code",
   "execution_count": null,
   "metadata": {
    "collapsed": true,
    "deletable": true,
    "editable": true
   },
   "outputs": [],
   "source": [
    "corpus"
   ]
  },
  {
   "cell_type": "code",
   "execution_count": 48,
   "metadata": {
    "collapsed": false,
    "deletable": true,
    "editable": true
   },
   "outputs": [
    {
     "name": "stdout",
     "output_type": "stream",
     "text": [
      "Sentence(text='\\nTo determine if albinism alters IOP, we analyzed B6 mice that were either pigmented or albino. ', offset=20320, docid='11532192')\n",
      "[Evidence(term=Entity(lemma='pigment', ref='GO:0050931'), text='pigmented', start=20395, end=20404)]\n"
     ]
    }
   ],
   "source": [
    "i = 182\n",
    "print(corpus[i])\n",
    "print(extractor.findall(corpus[i]))"
   ]
  },
  {
   "cell_type": "code",
   "execution_count": 21,
   "metadata": {
    "collapsed": false,
    "deletable": true,
    "editable": true
   },
   "outputs": [
    {
     "data": {
      "text/plain": [
       "False"
      ]
     },
     "execution_count": 21,
     "metadata": {},
     "output_type": "execute_result"
    }
   ],
   "source": [
    "a = ('a', 1, object)\n",
    "b = ('a', 1, object)\n",
    "a is b"
   ]
  },
  {
   "cell_type": "code",
   "execution_count": 22,
   "metadata": {
    "collapsed": false,
    "deletable": true,
    "editable": true
   },
   "outputs": [
    {
     "data": {
      "text/plain": [
       "False"
      ]
     },
     "execution_count": 22,
     "metadata": {},
     "output_type": "execute_result"
    }
   ],
   "source": [
    "a = 102002\n",
    "b = 102002\n",
    "a is b"
   ]
  },
  {
   "cell_type": "code",
   "execution_count": 23,
   "metadata": {
    "collapsed": false,
    "deletable": true,
    "editable": true
   },
   "outputs": [
    {
     "data": {
      "text/plain": [
       "True"
      ]
     },
     "execution_count": 23,
     "metadata": {},
     "output_type": "execute_result"
    }
   ],
   "source": [
    "a = 1\n",
    "b = 1\n",
    "a is b"
   ]
  },
  {
   "cell_type": "code",
   "execution_count": 14,
   "metadata": {
    "collapsed": false,
    "deletable": true,
    "editable": true
   },
   "outputs": [
    {
     "data": {
      "text/plain": [
       "dict"
      ]
     },
     "execution_count": 14,
     "metadata": {},
     "output_type": "execute_result"
    }
   ],
   "source": [
    "type(ref2statements)"
   ]
  },
  {
   "cell_type": "code",
   "execution_count": 15,
   "metadata": {
    "collapsed": false,
    "deletable": true,
    "editable": true
   },
   "outputs": [
    {
     "data": {
      "text/plain": [
       "'GO:0018154'"
      ]
     },
     "execution_count": 15,
     "metadata": {},
     "output_type": "execute_result"
    }
   ],
   "source": [
    "list(ref2statements.keys())[0]"
   ]
  },
  {
   "cell_type": "code",
   "execution_count": 38,
   "metadata": {
    "collapsed": false,
    "deletable": true,
    "editable": true,
    "scrolled": true
   },
   "outputs": [
    {
     "data": {
      "text/plain": [
       "311"
      ]
     },
     "execution_count": 38,
     "metadata": {},
     "output_type": "execute_result"
    }
   ],
   "source": [
    "x = []\n",
    "import re\n",
    "for concept in gd.values():\n",
    "    labels = concept.labels\n",
    "    for label in labels:\n",
    "        if re.match('[A-Z][a-z]+ ', label):\n",
    "            x.append(concept)\n",
    "            break\n",
    "len(x)"
   ]
  },
  {
   "cell_type": "code",
   "execution_count": 39,
   "metadata": {
    "collapsed": false,
    "deletable": true,
    "editable": true
   },
   "outputs": [
    {
     "data": {
      "text/plain": [
       "[Concept<GO:0030576 BP Cajal body organization and biogenesis>,\n",
       " Concept<GO:0033327 BP Leydig cell differentiation>,\n",
       " Concept<GO:0005796 CC Golgi lumen>,\n",
       " Concept<GO:0032862 BP activation of Rho GTPase>,\n",
       " Concept<GO:0008462 MF endopeptidase Clp activity>,\n",
       " Concept<GO:0014037 BP Schwann cell differentiation>,\n",
       " Concept<GO:0004712 MF protein serine/threonine/tyrosine kinase activity>,\n",
       " Concept<GO:0048193 BP Golgi vesicle transport>,\n",
       " Concept<GO:0021880 BP Notch signaling pathway involved in forebrain neuron fate commitment>,\n",
       " Concept<GO:0030676 MF Rac guanyl-nucleotide exchange factor activity>,\n",
       " Concept<GO:0060008 BP Sertoli cell differentiation>,\n",
       " Concept<GO:0048226 CC Casparian strip>,\n",
       " Concept<GO:0000815 CC ESCRT III complex>,\n",
       " Concept<GO:0000310 MF xanthine phosphoribosyltransferase activity>,\n",
       " Concept<GO:0032080 BP negative regulation of Type I restriction endodeoxyribonuclease activity>,\n",
       " Concept<GO:0032084 BP regulation of Type I site-specific deoxyribonuclease activity>,\n",
       " Concept<GO:0043736 MF DNA-3-methyladenine glycosylase IV activity>,\n",
       " Concept<GO:0033588 CC Elongator holoenzyme complex>,\n",
       " Concept<GO:0060009 BP Sertoli cell development>,\n",
       " Concept<GO:0005099 MF Ras GTPase activator activity>,\n",
       " Concept<GO:0001740 CC Barr body>,\n",
       " Concept<GO:0009035 MF Type I site-specific deoxyribonuclease activity>,\n",
       " Concept<GO:0007266 BP Rho protein signal transduction>,\n",
       " Concept<GO:0060011 BP Sertoli cell proliferation>,\n",
       " Concept<GO:0032858 BP activation of Rab GTPase>,\n",
       " Concept<GO:0003804 MF coagulation factor Xa activity>,\n",
       " Concept<GO:0008321 MF Ral guanyl-nucleotide exchange factor activity>,\n",
       " Concept<GO:0035301 CC Hedgehog signaling complex>,\n",
       " Concept<GO:0047712 MF Cypridina-luciferin 2-monooxygenase activity>,\n",
       " Concept<GO:0005112 MF Notch binding>,\n",
       " Concept<GO:0048200 BP Golgi transport vesicle coating>,\n",
       " Concept<GO:0060020 BP Bergmann glial cell differentiation>,\n",
       " Concept<GO:0000813 CC ESCRT I complex>,\n",
       " Concept<GO:0021708 BP Lugaro cell differentiation>,\n",
       " Concept<GO:0017016 MF Ras GTPase binding>,\n",
       " Concept<GO:0046561 MF penicillopepsin activity>,\n",
       " Concept<GO:0019668 BP anaerobic catabolic process of pairs of amino acids>,\n",
       " Concept<GO:0008833 MF deoxyribonuclease IV (phage-T4-induced) activity>,\n",
       " Concept<GO:0021876 BP Notch signaling pathway in forebrain neuroblast division>,\n",
       " Concept<GO:0008536 MF Ran GTPase binding>,\n",
       " Concept<GO:0051405 MF microbial collagenase activity>,\n",
       " Concept<GO:0004196 MF saccharopepsin activity>,\n",
       " Concept<GO:0004714 MF transmembrane receptor protein tyrosine kinase activity>,\n",
       " Concept<GO:0050809 MF diazepam binding>,\n",
       " Concept<GO:0032486 BP Rap protein signal transduction>,\n",
       " Concept<GO:0043842 MF Kdo transferase activity>,\n",
       " Concept<GO:0016263 MF glycoprotein-N-acetylgalactosamine 3-beta-galactosyltransferase activity>,\n",
       " Concept<GO:0000400 MF four-way junction DNA binding>,\n",
       " Concept<GO:0048014 BP Tie receptor signaling pathway>,\n",
       " Concept<GO:0048476 CC Holliday junction resolvase complex>,\n",
       " Concept<GO:0032468 BP Golgi calcium ion homeostasis>,\n",
       " Concept<GO:0043137 BP DNA replication, removal of RNA primer>,\n",
       " Concept<GO:0017112 MF Rab guanyl-nucleotide exchange factor activity>,\n",
       " Concept<GO:0048212 BP Golgi vesicle uncoating>,\n",
       " Concept<GO:0005101 MF Sar GTPase activator activity>,\n",
       " Concept<GO:0000938 CC GARP complex>,\n",
       " Concept<GO:0021926 BP Golgi cell precursor proliferation>,\n",
       " Concept<GO:0048198 BP Golgi vesicle bud deformation and release>,\n",
       " Concept<GO:0046582 MF Rap GTPase activator activity>,\n",
       " Concept<GO:0060063 BP Spemann organizer formation at the embryonic shield>,\n",
       " Concept<GO:0017048 MF Rho GTPase binding>,\n",
       " Concept<GO:0008847 MF Enterobacter ribonuclease activity>,\n",
       " Concept<GO:0019813 CC Type III site-specific deoxyribonuclease complex>,\n",
       " Concept<GO:0032081 BP negative regulation of Type II restriction endodeoxyribonuclease activity>,\n",
       " Concept<GO:0005084 MF Rab escort protein activity>,\n",
       " Concept<GO:0032082 BP negative regulation of Type III restriction endodeoxyribonuclease activity>,\n",
       " Concept<GO:0048199 BP vesicle targeting, to, from or within Golgi>,\n",
       " Concept<GO:0031265 CC CD95 death-inducing signaling complex>,\n",
       " Concept<GO:0001880 BP Mullerian duct regression>,\n",
       " Concept<GO:0060071 BP Wnt receptor signaling pathway, planar cell polarity pathway>,\n",
       " Concept<GO:0005798 CC Golgi-associated vesicle>,\n",
       " Concept<GO:0032859 BP activation of Ral GTPase>,\n",
       " Concept<GO:0051404 MF clostripain activity>,\n",
       " Concept<GO:0016944 MF RNA polymerase II transcription elongation factor activity>,\n",
       " Concept<GO:0046875 MF ephrin receptor binding>,\n",
       " Concept<GO:0008859 MF exoribonuclease II activity>,\n",
       " Concept<GO:0043529 CC GET complex>,\n",
       " Concept<GO:0044431 CC Golgi apparatus part>,\n",
       " Concept<GO:0015030 CC Cajal body>,\n",
       " Concept<GO:0007220 BP Notch receptor processing>,\n",
       " Concept<GO:0005802 CC trans-Golgi network>,\n",
       " Concept<GO:0008534 MF oxidized purine base lesion DNA N-glycosylase activity>,\n",
       " Concept<GO:0060069 BP Wnt receptor signaling pathway, regulating spindle positioning>,\n",
       " Concept<GO:0032472 BP Golgi calcium ion transport>,\n",
       " Concept<GO:0005094 MF Rho GDP-dissociation inhibitor activity>,\n",
       " Concept<GO:0003955 MF NAD(P)H dehydrogenase (quinone) activity>,\n",
       " Concept<GO:0008533 MF astacin activity>,\n",
       " Concept<GO:0007223 BP Wnt receptor signaling pathway, calcium modulating pathway>,\n",
       " Concept<GO:0004530 MF deoxyribonuclease I activity>,\n",
       " Concept<GO:0004855 MF xanthine oxidase activity>,\n",
       " Concept<GO:0021881 BP Wnt receptor signaling pathway involved in forebrain neuron fate commitment>,\n",
       " Concept<GO:0017123 MF Ral GTPase activator activity>,\n",
       " Concept<GO:0007443 BP Malpighian tubule morphogenesis>,\n",
       " Concept<GO:0043849 MF Ras palmitoyltransferase activity>,\n",
       " Concept<GO:0060066 BP fallopian tube development>,\n",
       " Concept<GO:0000139 CC Golgi membrane>,\n",
       " Concept<GO:0019253 BP reductive pentose-phosphate cycle>,\n",
       " Concept<GO:0008306 BP associative learning>,\n",
       " Concept<GO:0005088 MF Ras guanyl-nucleotide exchange factor activity>,\n",
       " Concept<GO:0005098 MF Ran GTPase activator activity>,\n",
       " Concept<GO:0021874 BP Wnt receptor signaling pathway in forebrain neuroblast division>,\n",
       " Concept<GO:0032860 BP activation of Ran GTPase>,\n",
       " Concept<GO:0032484 BP Ral protein signal transduction>,\n",
       " Concept<GO:0008945 MF oligopeptidase B activity>,\n",
       " Concept<GO:0006777 BP Mo-molybdopterin cofactor biosynthetic process>,\n",
       " Concept<GO:0016601 BP Rac protein signal transduction>,\n",
       " Concept<GO:0032198 BP MITE transposition>,\n",
       " Concept<GO:0017060 MF 3-galactosyl-N-acetylglucosaminide 4-alpha-L-fucosyltransferase activity>,\n",
       " Concept<GO:0021925 BP Purkinje cell precursor proliferation>,\n",
       " Concept<GO:0032083 BP negative regulation of Type IV restriction endodeoxyribonuclease activity>,\n",
       " Concept<GO:0032067 MF Type IV site-specific deoxyribonuclease activity>,\n",
       " Concept<GO:0002409 BP Langerhans cell chemotaxis>,\n",
       " Concept<GO:0032861 BP activation of Rap GTPase>,\n",
       " Concept<GO:0005794 CC Golgi apparatus>,\n",
       " Concept<GO:0008821 MF crossover junction endodeoxyribonuclease activity>,\n",
       " Concept<GO:0043001 BP Golgi to plasma membrane protein transport>,\n",
       " Concept<GO:0030957 MF Tat protein binding>,\n",
       " Concept<GO:0004191 MF barrierpepsin activity>,\n",
       " Concept<GO:0005090 MF Sar guanyl-nucleotide exchange factor activity>,\n",
       " Concept<GO:0003717 MF RNA polymerase II transcription termination factor activity>,\n",
       " Concept<GO:0005097 MF Rab GTPase activator activity>,\n",
       " Concept<GO:0031897 CC Tic complex>,\n",
       " Concept<GO:0060010 BP Sertoli cell fate commitment>,\n",
       " Concept<GO:0031205 CC endoplasmic reticulum Sec complex>,\n",
       " Concept<GO:0046750 BP virus budding from Golgi membrane during viral capsid envelopment>,\n",
       " Concept<GO:0052000 BP Type IV pili-dependent aggregation>,\n",
       " Concept<GO:0033193 CC Lsd1/2 complex>,\n",
       " Concept<GO:0002295 BP T-helper cell lineage commitment>,\n",
       " Concept<GO:0017137 MF Rab GTPase binding>,\n",
       " Concept<GO:0007030 BP Golgi organization and biogenesis>,\n",
       " Concept<GO:0048013 BP ephrin receptor signaling pathway>,\n",
       " Concept<GO:0043240 CC Fanconi anaemia nuclear complex>,\n",
       " Concept<GO:0045163 BP clustering of voltage-gated potassium channels>,\n",
       " Concept<GO:0048012 BP hepatocyte growth factor receptor signaling pathway>,\n",
       " Concept<GO:0043894 MF protein acetyltransferase activity>,\n",
       " Concept<GO:0003906 MF DNA-(apurinic or apyrimidinic site) lyase activity>,\n",
       " Concept<GO:0007225 BP patched ligand processing>,\n",
       " Concept<GO:0003803 MF coagulation factor IXa activity>,\n",
       " Concept<GO:0005801 CC cis-Golgi network>,\n",
       " Concept<GO:0048210 BP Golgi vesicle fusion to target membrane>,\n",
       " Concept<GO:0050446 MF azobenzene reductase activity>,\n",
       " Concept<GO:0018920 BP glyphosate metabolic process>,\n",
       " Concept<GO:0043000 BP Golgi to plasma membrane CFTR protein transport>,\n",
       " Concept<GO:0017034 MF Rap guanyl-nucleotide exchange factor activity>,\n",
       " Concept<GO:0045162 BP clustering of voltage-gated sodium channels>,\n",
       " Concept<GO:0002774 BP Fc receptor mediated inhibitory signaling pathway>,\n",
       " Concept<GO:0042046 BP W-molybdopterin cofactor metabolic process>,\n",
       " Concept<GO:0031519 CC PcG protein complex>,\n",
       " Concept<GO:0032863 BP activation of Rac GTPase>,\n",
       " Concept<GO:0055087 CC Ski complex>,\n",
       " Concept<GO:0022002 BP Wnt receptor signaling involved in negative regulation of anterior neural cell fate commitment of the neural plate>,\n",
       " Concept<GO:0043737 MF deoxyribonuclease V activity>,\n",
       " Concept<GO:0003924 MF GTPase activity>,\n",
       " Concept<GO:0043546 MF molybdopterin cofactor binding>,\n",
       " Concept<GO:0000814 CC ESCRT II complex>,\n",
       " Concept<GO:0042029 MF fibrolase activity>,\n",
       " Concept<GO:0022894 MF Intermediate conductance calcium-activated potassium channel activity>,\n",
       " Concept<GO:0005117 MF wishful thinking binding>,\n",
       " Concept<GO:0051645 BP Golgi localization>,\n",
       " Concept<GO:0019812 CC Type I site-specific deoxyribonuclease complex>,\n",
       " Concept<GO:0010006 CC Toc complex>,\n",
       " Concept<GO:0033106 CC cis-Golgi network membrane>,\n",
       " Concept<GO:0021943 BP formation of radial glial scaffolds>,\n",
       " Concept<GO:0031206 CC Sec complex-associated translocon complex>,\n",
       " Concept<GO:0032019 CC mitochondrial cloud>,\n",
       " Concept<GO:0048313 BP Golgi inheritance>,\n",
       " Concept<GO:0016943 MF RNA polymerase I transcription elongation factor activity>,\n",
       " Concept<GO:0006893 BP Golgi to plasma membrane transport>,\n",
       " Concept<GO:0032580 CC Golgi cisterna membrane>,\n",
       " Concept<GO:0008853 MF exodeoxyribonuclease III activity>,\n",
       " Concept<GO:0032086 BP regulation of Type III site-specific deoxyribonuclease activity>,\n",
       " Concept<GO:0008852 MF exodeoxyribonuclease I activity>,\n",
       " Concept<GO:0052001 BP Type IV pili-dependent localized adherence to host>,\n",
       " Concept<GO:0032856 BP activation of Ras GTPase>,\n",
       " Concept<GO:0032326 BP Mo-molybdopterin cofactor catabolic process>,\n",
       " Concept<GO:0050537 MF mandelamide amidase activity>,\n",
       " Concept<GO:0047077 MF Photinus-luciferin 4-monooxygenase (ATP-hydrolyzing) activity>,\n",
       " Concept<GO:0004290 MF kexin activity>,\n",
       " Concept<GO:0042599 CC lamellar body>,\n",
       " Concept<GO:0014010 BP Schwann cell proliferation>,\n",
       " Concept<GO:0004629 MF phospholipase C activity>,\n",
       " Concept<GO:0051337 BP amitosis>,\n",
       " Concept<GO:0060062 BP Spemann organizer formation at the dorsal lip of the blastopore>,\n",
       " Concept<GO:0032087 BP regulation of Type IV site-specific deoxyribonuclease activity>,\n",
       " Concept<GO:0012508 CC Golgi to ER transport vesicle membrane>,\n",
       " Concept<GO:0006894 BP Golgi to secretory vesicle transport>,\n",
       " Concept<GO:0001639 MF PLC activating metabotropic glutamate receptor activity>,\n",
       " Concept<GO:0003911 MF DNA ligase (NAD+) activity>,\n",
       " Concept<GO:0004422 MF hypoxanthine phosphoribosyltransferase activity>,\n",
       " Concept<GO:0043011 BP myeloid dendritic cell differentiation>,\n",
       " Concept<GO:0048001 MF erythrose-4-phosphate dehydrogenase activity>,\n",
       " Concept<GO:0008975 MF pitrilysin activity>,\n",
       " Concept<GO:0005121 MF Toll binding>,\n",
       " Concept<GO:0005100 MF Rho GTPase activator activity>,\n",
       " Concept<GO:0030142 CC Golgi to ER transport vesicle>,\n",
       " Concept<GO:0031291 BP Ran protein signal transduction>,\n",
       " Concept<GO:0004217 MF cathepsin L activity>,\n",
       " Concept<GO:0000138 CC Golgi trans cisterna>,\n",
       " Concept<GO:0032777 CC Piccolo NuA4 histone acetyltransferase complex>,\n",
       " Concept<GO:0060064 BP Spemann organizer formation at the anterior end of the primitive streak>,\n",
       " Concept<GO:0043765 MF T/G mismatch-specific endonuclease activity>,\n",
       " Concept<GO:0016594 MF glycine binding>,\n",
       " Concept<GO:0021922 BP Wnt receptor signaling pathway involved in regulation of cell proliferation in dorsal spinal cord>,\n",
       " Concept<GO:0050421 MF nitrite reductase (NO-forming) activity>,\n",
       " Concept<GO:0014011 BP Schwann cell proliferation involved in axon regeneration>,\n",
       " Concept<GO:0005115 MF receptor tyrosine kinase-like orphan receptor binding>,\n",
       " Concept<GO:0043405 BP regulation of MAP kinase activity>,\n",
       " Concept<GO:0046747 BP virus budding from Golgi membrane during viral capsid re-envelopment>,\n",
       " Concept<GO:0000137 CC Golgi cis cisterna>,\n",
       " Concept<GO:0046589 MF ribonuclease T1 activity>,\n",
       " Concept<GO:0005093 MF Rab GDP-dissociation inhibitor activity>,\n",
       " Concept<GO:0032085 BP regulation of Type II site-specific deoxyribonuclease activity>,\n",
       " Concept<GO:0006895 BP Golgi to endosome transport>,\n",
       " Concept<GO:0005968 CC Rab-protein geranylgeranyltransferase complex>,\n",
       " Concept<GO:0048365 MF Rac GTPase binding>,\n",
       " Concept<GO:0031004 CC potassium ion-transporting ATPase complex>,\n",
       " Concept<GO:0048194 BP Golgi vesicle budding>,\n",
       " Concept<GO:0032327 BP W-molybdopterin cofactor catabolic process>,\n",
       " Concept<GO:0032093 MF SAM domain binding>,\n",
       " Concept<GO:0005795 CC Golgi stack>,\n",
       " Concept<GO:0007265 BP Ras protein signal transduction>,\n",
       " Concept<GO:0043422 MF protein kinase B binding>,\n",
       " Concept<GO:0019720 BP Mo-molybdopterin cofactor metabolic process>,\n",
       " Concept<GO:0032588 CC trans-Golgi network membrane>,\n",
       " Concept<GO:0009378 MF Holliday junction helicase activity>,\n",
       " Concept<GO:0051022 MF Rho GDP-dissociation inhibitor binding>,\n",
       " Concept<GO:0009004 MF signal peptidase I activity>,\n",
       " Concept<GO:0003718 MF RNA polymerase III transcription termination factor activity>,\n",
       " Concept<GO:0002431 BP Fc receptor mediated stimulatory signaling pathway>,\n",
       " Concept<GO:0031985 CC Golgi cisterna>,\n",
       " Concept<GO:0048195 BP Golgi membrane priming complex assembly>,\n",
       " Concept<GO:0000374 BP Group III intron splicing>,\n",
       " Concept<GO:0030660 CC Golgi-associated vesicle membrane>,\n",
       " Concept<GO:0032090 MF Pyrin domain binding>,\n",
       " Concept<GO:0005003 MF ephrin receptor activity>,\n",
       " Concept<GO:0043733 MF DNA-3-methyladenine glycosylase III activity>,\n",
       " Concept<GO:0030689 CC Noc complex>,\n",
       " Concept<GO:0007219 BP Notch signaling pathway>,\n",
       " Concept<GO:0048495 MF Roundabout binding>,\n",
       " Concept<GO:0032068 CC Type IV site-specific deoxyribonuclease complex>,\n",
       " Concept<GO:0060061 BP Spemann organizer formation>,\n",
       " Concept<GO:0005797 CC Golgi medial cisterna>,\n",
       " Concept<GO:0042813 MF Wnt receptor activity>,\n",
       " Concept<GO:0003998 MF acylphosphatase activity>,\n",
       " Concept<GO:0000372 BP Group I intron splicing>,\n",
       " Concept<GO:0015454 MF light-driven active transmembrane transporter activity>,\n",
       " Concept<GO:0043545 BP molybdopterin cofactor metabolic process>,\n",
       " Concept<GO:0033208 MF UDP-N-acetylgalactosamine:N-acetylneuraminyl-alpha-2,3-galactosyl-beta-R 1,4-N-acetylgalactosaminyltransferase activity>,\n",
       " Concept<GO:0009036 MF Type II site-specific deoxyribonuclease activity>,\n",
       " Concept<GO:0014044 BP Schwann cell development>,\n",
       " Concept<GO:0043895 MF cyclomaltodextrin glucanotransferase activity>,\n",
       " Concept<GO:0030577 BP Lands organization and biogenesis>,\n",
       " Concept<GO:0005087 MF Ran guanyl-nucleotide exchange factor activity>,\n",
       " Concept<GO:0060067 BP cervix development>,\n",
       " Concept<GO:0047277 MF globoside alpha-N-acetylgalactosaminyltransferase activity>,\n",
       " Concept<GO:0050667 BP homocysteine metabolic process>,\n",
       " Concept<GO:0008856 MF exodeoxyribonuclease X activity>,\n",
       " Concept<GO:0046560 MF scytalidopepsin B activity>,\n",
       " Concept<GO:0017119 CC Golgi transport complex>,\n",
       " Concept<GO:0031522 CC plasma membrane Sec complex>,\n",
       " Concept<GO:0017160 MF Ral GTPase binding>,\n",
       " Concept<GO:0005176 MF ErbB-2 class receptor binding>,\n",
       " Concept<GO:0050471 MF uracilylalanine synthase activity>,\n",
       " Concept<GO:0048213 BP Golgi vesicle prefusion complex stabilization>,\n",
       " Concept<GO:0006100 BP tricarboxylic acid cycle intermediate metabolic process>,\n",
       " Concept<GO:0002542 BP Factor XII activation>,\n",
       " Concept<GO:0060065 BP uterus development>,\n",
       " Concept<GO:0008695 MF 3-phenylpropionate dioxygenase activity>,\n",
       " Concept<GO:0001584 MF rhodopsin-like receptor activity>,\n",
       " Concept<GO:0050141 MF nitroethane oxidase activity>,\n",
       " Concept<GO:0051920 MF peroxiredoxin activity>,\n",
       " Concept<GO:0015668 MF Type III site-specific deoxyribonuclease activity>,\n",
       " Concept<GO:0019132 MF C-terminal processing peptidase activity>,\n",
       " Concept<GO:0042047 BP W-molybdopterin cofactor biosynthetic process>,\n",
       " Concept<GO:0006099 BP tricarboxylic acid cycle>,\n",
       " Concept<GO:0032997 CC Fc receptor complex>,\n",
       " Concept<GO:0031523 CC Myb complex>,\n",
       " Concept<GO:0004674 MF protein serine/threonine kinase activity>,\n",
       " Concept<GO:0016055 BP Wnt receptor signaling pathway>,\n",
       " Concept<GO:0016945 MF RNA polymerase III transcription elongation factor activity>,\n",
       " Concept<GO:0006313 BP transposition, DNA-mediated>,\n",
       " Concept<GO:0009359 CC Type II site-specific deoxyribonuclease complex>,\n",
       " Concept<GO:0001623 MF Mas proto-oncogene receptor activity>,\n",
       " Concept<GO:0000373 BP Group II intron splicing>,\n",
       " Concept<GO:0004663 MF Rab-protein geranylgeranyltransferase activity>,\n",
       " Concept<GO:0008063 BP Toll signaling pathway>,\n",
       " Concept<GO:0047098 MF Latia-luciferin monooxygenase (demethylating) activity>,\n",
       " Concept<GO:0008846 MF endopeptidase La activity>,\n",
       " Concept<GO:0004718 MF Janus kinase activity>,\n",
       " Concept<GO:0033589 CC Elongator core complex>,\n",
       " Concept<GO:0032197 BP transposition, RNA-mediated>,\n",
       " Concept<GO:0042533 BP tumor necrosis factor biosynthetic process>,\n",
       " Concept<GO:0060070 BP Wnt receptor signaling pathway through beta-catenin>,\n",
       " Concept<GO:0030133 CC transport vesicle>,\n",
       " Concept<GO:0048197 BP Golgi membrane coat protein complex assembly>,\n",
       " Concept<GO:0032482 BP Rab protein signal transduction>,\n",
       " Concept<GO:0009379 CC Holliday junction helicase complex>,\n",
       " Concept<GO:0007221 BP activation of Notch receptor target transcription factor>,\n",
       " Concept<GO:0005089 MF Rho guanyl-nucleotide exchange factor activity>,\n",
       " Concept<GO:0021937 BP Purkinje cell-granule cell precursor cell signaling involved in regulation of granule cell precursor cell proliferation>,\n",
       " Concept<GO:0030675 MF Rac GTPase activator activity>,\n",
       " Concept<GO:0048211 BP Golgi vesicle docking>,\n",
       " Concept<GO:0030173 CC integral to Golgi membrane>,\n",
       " Concept<GO:0035101 CC FACT complex>,\n",
       " Concept<GO:0006896 BP Golgi to vacuole transport>,\n",
       " Concept<GO:0046763 BP virus budding from Golgi membrane>,\n",
       " Concept<GO:0035098 CC ESC/E(Z) complex>,\n",
       " Concept<GO:0003716 MF RNA polymerase I transcription termination factor activity>,\n",
       " Concept<GO:0033756 MF Oplophorus-luciferin 2-monooxygenase activity>,\n",
       " Concept<GO:0007287 BP Nebenkern formation>,\n",
       " Concept<GO:0035102 CC PRC1 complex>]"
      ]
     },
     "execution_count": 39,
     "metadata": {},
     "output_type": "execute_result"
    }
   ],
   "source": [
    "x"
   ]
  },
  {
   "cell_type": "code",
   "execution_count": 21,
   "metadata": {
    "collapsed": false,
    "deletable": true,
    "editable": true
   },
   "outputs": [
    {
     "data": {
      "text/plain": [
       "3607"
      ]
     },
     "execution_count": 21,
     "metadata": {},
     "output_type": "execute_result"
    }
   ],
   "source": [
    "y = []\n",
    "for ref, statements in ref2statements.items():\n",
    "    if len(statements) == 2:\n",
    "        y.append(ref)\n",
    "\n",
    "len(y)"
   ]
  },
  {
   "cell_type": "code",
   "execution_count": 24,
   "metadata": {
    "collapsed": false,
    "deletable": true,
    "editable": true
   },
   "outputs": [],
   "source": [
    "z = [gd[goid] for goid in y]\n"
   ]
  },
  {
   "cell_type": "code",
   "execution_count": 25,
   "metadata": {
    "collapsed": false,
    "deletable": true,
    "editable": true
   },
   "outputs": [
    {
     "name": "stdout",
     "output_type": "stream",
     "text": [
      "['aerobic respiration, using hydrogen as electron donor', 'hydrogen oxidation']\n"
     ]
    }
   ],
   "source": [
    "for concept in z:\n",
    "    print(concept.statements)"
   ]
  },
  {
   "cell_type": "code",
   "execution_count": 58,
   "metadata": {
    "collapsed": false,
    "deletable": true,
    "editable": true
   },
   "outputs": [
    {
     "name": "stdout",
     "output_type": "stream",
     "text": [
      "GO:0005047\n",
      "['signal recognition particle binding', 'docking protein', 'signal recognition particle receptor']\n",
      "\n",
      "GO:0004565\n",
      "['beta-galactosidase activity', 'exo-(1->4)-beta-D-galactanase activity', 'lactose hydrolysis']\n",
      "\n",
      "GO:0007636\n",
      "['chemosensory jump behavior', 'chemosensory jump behaviour', 'jump response to chemical stimulus']\n",
      "\n",
      "GO:0031737\n",
      "['CX3C chemokine receptor binding', 'CX3C chemokine receptor ligand', 'fractalkine receptor binding']\n",
      "\n",
      "GO:0004030\n",
      "['aldehyde dehydrogenase [NAD(P)+] activity', 'aldehyde:NAD(P)+ oxidoreductase activity', 'ALDH']\n",
      "\n",
      "GO:0031748\n",
      "['D1 dopamine receptor binding', 'D1 dopamine receptor ligand', 'D1A dopamine receptor binding']\n",
      "\n",
      "GO:0004000\n",
      "['adenosine deaminase activity', 'adenosine aminohydrolase activity', 'adenosine deaminase reaction']\n",
      "\n",
      "GO:0006612\n",
      "['protein targeting to membrane', 'protein membrane targeting', 'protein-membrane targeting']\n",
      "\n",
      "GO:0047143\n",
      "['chlorate reductase activity', 'chlorate reductase C', 'chlorite:acceptor oxidoreductase activity']\n",
      "\n",
      "GO:0050387\n",
      "['urethanase activity', 'urethane amidohydrolase (decarboxylating)', 'urethane hydrolase activity']\n",
      "\n",
      "GO:0031795\n",
      "['metabotropic GABA receptor binding', 'GABAB receptor binding', 'metabotropic GABA receptor ligand']\n",
      "\n",
      "GO:0008404\n",
      "['arachidonic acid 14,15-epoxygenase activity', 'cytochrome P450 CYP2C29', 'cytochrome P450 CYP2C39']\n",
      "\n",
      "GO:0009585\n",
      "['red, far-red light phototransduction', 'phytochrome signaling pathway', 'red-sensitive opsin']\n",
      "\n",
      "GO:0048014\n",
      "['Tie receptor signaling pathway', 'Tek receptor signaling', 'Tie receptor signalling pathway']\n",
      "\n",
      "GO:0005017\n",
      "['platelet-derived growth factor receptor activity', 'PDGF receptor activity', 'PDGFR activity']\n",
      "\n",
      "GO:0031707\n",
      "['endothelin A receptor binding', 'endothelin A receptor ligand', 'endothelin-1 receptor binding']\n",
      "\n",
      "GO:0008081\n",
      "['phosphoric diester hydrolase activity', 'endonuclease VIII activity', 'phosphodiesterase']\n",
      "\n",
      "GO:0031731\n",
      "['CCR6 chemokine receptor binding', 'CCR6 chemokine receptor ligand', 'LARC receptor binding']\n",
      "\n",
      "GO:0030536\n",
      "['larval feeding behavior', 'larval feeding behavior (sensu Insecta)', 'larval feeding behaviour']\n",
      "\n",
      "GO:0030377\n",
      "['U-plasminogen activator receptor activity', 'uPAR', 'urokinase plasminogen activator receptor']\n",
      "\n",
      "GO:0031837\n",
      "['substance K receptor binding', 'neurokinin-A receptor binding', 'substance K receptor ligand']\n",
      "\n",
      "GO:0032122\n",
      "['oral apparatus organization and biogenesis', 'oral apparatus morphogenesis', 'stomatogenesis']\n",
      "\n",
      "GO:0033392\n",
      "['actin homodimerization activity', 'actin dimerization activity', 'actin polymerizing activity']\n",
      "\n",
      "GO:0008639\n",
      "['small protein conjugating enzyme activity', 'E2', 'ubiquitin-like conjugating enzyme activity']\n",
      "\n",
      "GO:0008392\n",
      "['arachidonic acid epoxygenase activity', 'cytochrome P450 CYP2J5', 'cytochrome P450 CYP2J6']\n",
      "\n",
      "GO:0031930\n",
      "['mitochondrial signaling pathway', 'mitochondrial signalling pathway', 'retrograde response']\n",
      "\n",
      "GO:0005151\n",
      "['interleukin-1, Type II receptor binding', 'IL-1 type II', 'interleukin-1, Type II receptor ligand']\n",
      "\n",
      "GO:0031545\n",
      "['peptidyl-proline 4-dioxygenase activity', 'HIF-type prolyl 4-hydroxylase', 'prolyl 4-hydroxylase']\n",
      "\n",
      "GO:0031752\n",
      "['D5 dopamine receptor binding', 'D1B dopamine receptor binding', 'D5 dopamine receptor ligand']\n",
      "\n",
      "GO:0006168\n",
      "['adenine salvage', 'adenine salvage pathway', 'adenine, hypoxanthine and their nucleoside salvage']\n",
      "\n",
      "GO:0008343\n",
      "['adult feeding behavior', 'adult feeding behavior (sensu Insecta)', 'adult feeding behaviour']\n",
      "\n",
      "GO:0018820\n",
      "['cyanamide hydratase activity', 'urea hydro-lyase (cyanamide-forming)', 'urea hydro-lyase activity']\n",
      "\n",
      "GO:0031702\n",
      "['type 1 angiotensin receptor binding', 'AT1 receptor binding', 'type 1 angiotensin receptor ligand']\n",
      "\n",
      "GO:0005848\n",
      "['mRNA cleavage stimulating factor complex', 'cleavage stimulation factor activity', 'CstF complex']\n",
      "\n",
      "GO:0008945\n",
      "['oligopeptidase B activity', 'Escherichia coli alkaline proteinase II', 'protease II activity']\n",
      "\n",
      "GO:0019659\n",
      "['glucose catabolic process to lactate', 'glucose fermentation to lactate', 'lactate fermentation']\n",
      "\n",
      "GO:0031703\n",
      "['type 2 angiotensin receptor binding', 'AT2 receptor binding', 'type 2 angiotensin receptor ligand']\n",
      "\n",
      "GO:0005150\n",
      "['interleukin-1, Type I receptor binding', 'IL-1 type I', 'interleukin-1, Type I receptor ligand']\n",
      "\n",
      "GO:0031869\n",
      "['prostacyclin receptor binding', 'prostacyclin receptor ligand', 'prostanoid IP receptor binding']\n",
      "\n",
      "GO:0047705\n",
      "['bilirubin oxidase activity', 'bilirubin oxidase M-1', 'bilirubin:oxygen oxidoreductase activity']\n",
      "\n",
      "GO:0006029\n",
      "['proteoglycan metabolic process', 'proteoglycan metabolism', 'proteoglycan sulfate transfer']\n",
      "\n",
      "GO:0008732\n",
      "['L-allo-threonine aldolase activity', 'L-allo-threonine acetaldehyde-lyase activity', 'LtaA']\n",
      "\n",
      "GO:0016976\n",
      "['NEDD8 conjugating enzyme activity', 'Hub1 conjugating enzyme activity', 'RUB1 conjugating enzyme']\n",
      "\n",
      "GO:0031299\n",
      "['taurine-pyruvate aminotransferase activity', 'taurine:pyruvate aminotransferase activity', 'Tpa']\n",
      "\n"
     ]
    }
   ],
   "source": [
    "import random\n",
    "k = 80\n",
    "for concept in z:\n",
    "    if len(concept.statements) == 3 and k <= len(''.join(concept.labels)) < k+10:\n",
    "        print(concept.goid)\n",
    "        print(concept.statements)\n",
    "        print()"
   ]
  },
  {
   "cell_type": "code",
   "execution_count": 64,
   "metadata": {
    "collapsed": false,
    "deletable": true,
    "editable": true
   },
   "outputs": [
    {
     "name": "stdout",
     "output_type": "stream",
     "text": [
      "L-ascorbic acid biosynthetic process\n",
      "ascorbate biosynthesis\n",
      "ascorbate biosynthetic process\n",
      "L-ascorbic acid anabolism\n",
      "L-ascorbic acid biosynthesis\n",
      "L-ascorbic acid formation\n",
      "L-ascorbic acid synthesis\n",
      "vitamin C biosynthesis\n",
      "vitamin C biosynthetic process\n"
     ]
    }
   ],
   "source": [
    "print('\\n'.join(gd['GO:0019853'].labels))"
   ]
  },
  {
   "cell_type": "code",
   "execution_count": 67,
   "metadata": {
    "collapsed": false,
    "deletable": true,
    "editable": true
   },
   "outputs": [
    {
     "data": {
      "text/plain": [
       "Concept<GO:0019853 BP L-ascorbic acid biosynthetic process>"
      ]
     },
     "execution_count": 67,
     "metadata": {},
     "output_type": "execute_result"
    }
   ],
   "source": [
    "gd['GO:0019853']"
   ]
  },
  {
   "cell_type": "code",
   "execution_count": 36,
   "metadata": {
    "collapsed": false,
    "deletable": true,
    "editable": true,
    "scrolled": true
   },
   "outputs": [
    {
     "name": "stdout",
     "output_type": "stream",
     "text": [
      "Concept<GO:0015882 BP L-ascorbic acid transport>\n",
      "Concept<GO:0019854 BP L-ascorbic acid catabolic process>\n",
      "Concept<GO:0031418 MF L-ascorbic acid binding>\n",
      "Concept<GO:0015229 MF L-ascorbic acid transporter activity>\n",
      "Concept<GO:0019853 BP L-ascorbic acid biosynthetic process>\n",
      "Concept<GO:0019852 BP L-ascorbic acid metabolic process>\n",
      "Concept<GO:0033591 BP response to L-ascorbic acid>\n",
      "Concept<GO:0000044 BP ascorbate stabilization>\n"
     ]
    }
   ],
   "source": [
    "for concept in gd.values():\n",
    "    for label in concept.labels:\n",
    "        if 'vitamin C' in label:\n",
    "            print(concept)\n",
    "            break"
   ]
  },
  {
   "cell_type": "code",
   "execution_count": 62,
   "metadata": {
    "collapsed": false,
    "deletable": true,
    "editable": true
   },
   "outputs": [
    {
     "data": {
      "text/plain": [
       "[Statement(statid='GO:0019853%000', evidences=[Evidence(term=Entity(lemma='L-ascorbic acid', ref='GO:0019853'), text='L-ascorbic acid', start=0, end=15), Evidence(term=Pattern(lemma='biosyntheprocess', ref='annotator'), text='biosynthetic process', start=16, end=36)]),\n",
       " Statement(statid='GO:0019853%005', evidences=[Evidence(term=Entity(lemma='L-ascorbic acid', ref='GO:0019853'), text='L-ascorbic acid', start=0, end=15), Evidence(term=Pattern(lemma='form', ref='annotator'), text='formation', start=16, end=25)])]"
      ]
     },
     "execution_count": 62,
     "metadata": {},
     "output_type": "execute_result"
    }
   ],
   "source": [
    "goid2statement_lib[0]['GO:0019853']"
   ]
  },
  {
   "cell_type": "code",
   "execution_count": 71,
   "metadata": {
    "collapsed": false,
    "deletable": true,
    "editable": true
   },
   "outputs": [
    {
     "name": "stdout",
     "output_type": "stream",
     "text": [
      "Concept<GO:0035281 BP pre-microRNA export from nucleus>\n",
      "Concept<GO:0031053 BP primary microRNA processing>\n",
      "Concept<GO:0031054 BP pre-microRNA processing>\n"
     ]
    }
   ],
   "source": [
    "for goid, concept in gd.items():\n",
    "    if 'microRNA' in concept.name:\n",
    "        print(concept)"
   ]
  },
  {
   "cell_type": "code",
   "execution_count": 72,
   "metadata": {
    "collapsed": false,
    "deletable": true,
    "editable": true
   },
   "outputs": [
    {
     "data": {
      "text/plain": [
       "24062"
      ]
     },
     "execution_count": 72,
     "metadata": {},
     "output_type": "execute_result"
    }
   ],
   "source": [
    "len(gold_bpmf)"
   ]
  },
  {
   "cell_type": "code",
   "execution_count": 26,
   "metadata": {
    "collapsed": false,
    "deletable": true,
    "editable": true
   },
   "outputs": [],
   "source": [
    "goid2size = dict()\n",
    "for goid, statements in goid2statement_lib[1].items():\n",
    "    size = min([len(s.evidences) for s in statements])\n",
    "    goid2size[goid] = size"
   ]
  },
  {
   "cell_type": "code",
   "execution_count": 27,
   "metadata": {
    "collapsed": false,
    "deletable": true,
    "editable": true
   },
   "outputs": [],
   "source": [
    "gold_size = []\n",
    "for pmid, goid, start, end, text in tp:\n",
    "    if goid != 'independent_continuant':\n",
    "        gold_size.append((pmid, goid, start, end, text, goid2size[goid]))"
   ]
  },
  {
   "cell_type": "code",
   "execution_count": 32,
   "metadata": {
    "collapsed": false,
    "deletable": true,
    "editable": true
   },
   "outputs": [
    {
     "data": {
      "text/plain": [
       "[('15492776',\n",
       "  'GO:0030509',\n",
       "  32510,\n",
       "  32560,\n",
       "  'pathway provide strong evidence that BMP signaling',\n",
       "  2),\n",
       " ('15588329',\n",
       "  'GO:0004192',\n",
       "  14794,\n",
       "  14838,\n",
       "  'cathepsin D processing on enzymatic activity',\n",
       "  2),\n",
       " ('15630473',\n",
       "  'GO:0001775',\n",
       "  1081,\n",
       "  1116,\n",
       "  'cells within a sheet are stimulated',\n",
       "  2),\n",
       " ('15588329', 'GO:0004192', 23174, 23204, 'cathepsin D enzymatic activity', 2),\n",
       " ('16109169', 'GO:0048339', 13324, 13353, 'paraxial mesoderm development', 2),\n",
       " ('15836427', 'GO:0045289', 33010, 33038, 'luciferase and LacZ activity', 2),\n",
       " ('16109169', 'GO:0048339', 12223, 12251, 'paraxial mesoderm production', 2),\n",
       " ('16109169', 'GO:0048339', 6274, 6302, 'paraxial mesoderm production', 2),\n",
       " ('15005800', 'GO:0021700', 5012, 5038, 'development and maturation', 2),\n",
       " ('16579849', 'GO:0043754', 3576, 3602, 'dihydrolipoyl transacylase', 2),\n",
       " ('16121255', 'GO:0004576', 23633, 23659, 'oligosaccharyl transferase', 2),\n",
       " ('16628246', 'GO:0043065', 10522, 10548, 'up-regulation of apoptosis', 2),\n",
       " ('16539743', 'GO:0045289', 15688, 15714, 'activity of the luciferase', 2),\n",
       " ('15676071', 'GO:0045449', 5563, 5589, 'transcriptional regulatory', 2),\n",
       " ('16362077', 'GO:0045449', 5000, 5026, 'transcriptional regulatory', 2),\n",
       " ('15492776', 'GO:0030528', 23967, 23992, 'transcriptional regulator', 2),\n",
       " ('16628246', 'GO:0030528', 33363, 33388, 'transcriptional regulator', 2),\n",
       " ('15836427', 'GO:0030528', 5784, 5809, 'transcriptional regulator', 2),\n",
       " ('16098226', 'GO:0030528', 24711, 24736, 'transcriptional regulator', 2),\n",
       " ('16504174', 'GO:0007281', 13731, 13756, 'development and germ cell', 2),\n",
       " ('17069463', 'GO:0004364', 8438, 8463, 'glutathione S-transferase', 2),\n",
       " ('15328533', 'GO:0030528', 3456, 3481, 'transcriptional regulator', 2),\n",
       " ('16098226', 'GO:0030528', 163, 188, 'transcriptional regulator', 2),\n",
       " ('15836427', 'GO:0030528', 24543, 24568, 'transcriptional regulator', 2),\n",
       " ('16504143', 'GO:0007242', 3323, 3347, 'intracellular signalling', 2),\n",
       " ('15005800', 'GO:0006695', 41456, 41480, 'cholesterol biosynthesis', 2),\n",
       " ('17696610', 'GO:0004887', 6663, 6687, 'thyroid hormone receptor', 2),\n",
       " ('15005800', 'GO:0006695', 6345, 6369, 'cholesterol biosynthesis', 2),\n",
       " ('15005800', 'GO:0006695', 3403, 3427, 'cholesterol biosynthesis', 2),\n",
       " ('15005800', 'GO:0006695', 38860, 38884, 'cholesterol biosynthesis', 2),\n",
       " ('15005800', 'GO:0006695', 128, 152, 'cholesterol biosynthesis', 2),\n",
       " ('15005800', 'GO:0006695', 27803, 27827, 'cholesterol biosynthesis', 2),\n",
       " ('16110338', 'GO:0004887', 16091, 16115, 'thyroid hormone receptor', 2),\n",
       " ('15005800', 'GO:0006695', 33891, 33915, 'cholesterol biosynthesis', 2),\n",
       " ('15005800', 'GO:0006695', 3293, 3317, 'cholesterol biosynthesis', 2),\n",
       " ('15005800', 'GO:0006695', 14952, 14976, 'cholesterol biosynthesis', 2),\n",
       " ('15005800', 'GO:0006695', 34144, 34168, 'cholesterol biosynthesis', 2),\n",
       " ('15207008', 'GO:0051225', 34842, 34866, 'mitotic spindle assembly', 2),\n",
       " ('16539743', 'GO:0004887', 48796, 48820, 'thyroid hormone receptor', 2),\n",
       " ('12585968', 'GO:0007219', 29439, 29462, 'Notch signaling pathway', 2),\n",
       " ('15836427', 'GO:0030528', 6250, 6273, 'transcription regulator', 2),\n",
       " ('15760270', 'GO:0019432', 35725, 35747, 'triglyceride synthesis', 2),\n",
       " ('15760270', 'GO:0019432', 35293, 35315, 'triglyceride synthesis', 2),\n",
       " ('16504174', 'GO:0045289', 8309, 8331, 'activity in luciferase', 2),\n",
       " ('15760270', 'GO:0019432', 34967, 34989, 'triglyceride synthesis', 2),\n",
       " ('15760270', 'GO:0019432', 53726, 53748, 'triglyceride synthesis', 2),\n",
       " ('16279840', 'GO:0001774', 50268, 50289, 'microglial activation', 2),\n",
       " ('17194222', 'GO:0048539', 31941, 31962, 'bone marrow formation', 2),\n",
       " ('16121255', 'GO:0001775', 31718, 31739, 'cells were stimulated', 2),\n",
       " ('16279840', 'GO:0001774', 42902, 42923, 'microglial activation', 2),\n",
       " ('15917436', 'GO:0003678', 2453, 2474, 'DNA helicase activity', 2),\n",
       " ('15917436', 'GO:0003678', 14500, 14521, 'DNA helicase activity', 2),\n",
       " ('15492776', 'GO:0030509', 8205, 8226, 'BMP signaling pathway', 2),\n",
       " ('17194222', 'GO:0048539', 30997, 31018, 'bone marrow formation', 2),\n",
       " ('15492776', 'GO:0030509', 31660, 31681, 'BMP signaling pathway', 2),\n",
       " ('16221973', 'GO:0006750', 14725, 14746, 'glutathione synthesis', 2),\n",
       " ('15005800', 'GO:0006695', 41756, 41777, 'cholesterol synthesis', 2),\n",
       " ('15005800', 'GO:0006695', 34235, 34256, 'cholesterol synthesis', 2),\n",
       " ('16279840', 'GO:0001774', 43939, 43960, 'microglial activation', 2),\n",
       " ('15492776', 'GO:0030509', 39455, 39476, 'BMP signaling pathway', 2),\n",
       " ('15676071', 'GO:0003700', 30136, 30156, 'transcription factor', 2),\n",
       " ('16109169', 'GO:0003700', 5624, 5644, 'transcription factor', 2),\n",
       " ('16221973', 'GO:0003700', 2503, 2523, 'transcription factor', 2),\n",
       " ('15588329', 'GO:0004192', 33285, 33305, 'cathepsin D activity', 2),\n",
       " ('16255782', 'GO:0003700', 4223, 4243, 'transcription factor', 2),\n",
       " ('16579849', 'GO:0003700', 23411, 23431, 'transcription factor', 2),\n",
       " ('16255782', 'GO:0003700', 6, 26, 'transcription factor', 2),\n",
       " ('15836427', 'GO:0003700', 28546, 28566, 'transcription factor', 2),\n",
       " ('11532192', 'GO:0042752', 31012, 31032, 'circadian regulation', 2),\n",
       " ('16109169', 'GO:0003700', 31708, 31728, 'transcription factor', 2),\n",
       " ('15588329', 'GO:0004192', 37213, 37233, 'cathepsin D activity', 2),\n",
       " ('15492776', 'GO:0003700', 34751, 34771, 'transcription factor', 2),\n",
       " ('16579849', 'GO:0006523', 21042, 21062, 'synthesis of alanine', 2),\n",
       " ('16628246', 'GO:0003700', 32581, 32601, 'transcription factor', 2),\n",
       " ('17608565', 'GO:0003700', 598, 618, 'transcription factor', 2),\n",
       " ('14611657', 'GO:0003700', 6657, 6677, 'transcription factor', 2),\n",
       " ('15207008', 'GO:0003700', 40247, 40267, 'transcription factor', 2),\n",
       " ('16221973', 'GO:0003700', 34682, 34702, 'transcription factor', 2),\n",
       " ('15836427', 'GO:0003700', 51280, 51300, 'transcription factor', 2),\n",
       " ('15760270', 'GO:0003700', 4085, 4105, 'transcription factor', 2),\n",
       " ('15061865', 'GO:0001670', 1712, 1732, 'dopamine D2 receptor', 2),\n",
       " ('15836427', 'GO:0003700', 29197, 29217, 'transcription factor', 2),\n",
       " ('17069463', 'GO:0048519', 39402, 39422, 'negatively modulates', 2),\n",
       " ('14611657', 'GO:0003700', 5764, 5784, 'transcription factor', 2),\n",
       " ('16670015', 'GO:0003700', 30659, 30679, 'transcription factor', 2),\n",
       " ('15328533', 'GO:0003700', 3782, 3802, 'transcription factor', 2),\n",
       " ('15836427', 'GO:0003700', 27252, 27272, 'transcription factor', 2),\n",
       " ('16255782', 'GO:0003700', 1043, 1063, 'transcription factor', 2),\n",
       " ('16255782', 'GO:0003700', 24373, 24393, 'transcription factor', 2),\n",
       " ('16255782', 'GO:0003700', 17538, 17558, 'transcription factor', 2),\n",
       " ('16110338', 'GO:0003700', 19426, 19446, 'transcription factor', 2),\n",
       " ('16221973', 'GO:0003700', 41633, 41653, 'transcription factor', 2),\n",
       " ('14737183', 'GO:0003700', 8667, 8687, 'transcription factor', 2),\n",
       " ('17608565', 'GO:0003700', 1796, 1816, 'transcription factor', 2),\n",
       " ('16539743', 'GO:0003700', 32818, 32838, 'transcription factor', 2),\n",
       " ('15550985', 'GO:0003700', 19604, 19624, 'transcription factor', 2),\n",
       " ('15314655', 'GO:0003700', 3044, 3064, 'transcription factor', 2),\n",
       " ('15061865', 'GO:0001670', 697, 717, 'dopamine D2 receptor', 2),\n",
       " ('15836427', 'GO:0003700', 25627, 25647, 'transcription factor', 2),\n",
       " ('15061865', 'GO:0001670', 11741, 11761, 'dopamine D2 receptor', 2),\n",
       " ('15630473', 'GO:0003700', 32981, 33001, 'transcription factor', 2),\n",
       " ('15836427', 'GO:0003700', 23769, 23789, 'transcription factor', 2),\n",
       " ('15207008', 'GO:0003700', 37308, 37328, 'transcription factor', 2),\n",
       " ('14737183', 'GO:0003700', 40327, 40347, 'transcription factor', 2),\n",
       " ('16110338', 'GO:0003700', 618, 638, 'transcription factor', 2),\n",
       " ('17608565', 'GO:0003700', 66938, 66958, 'transcription factor', 2),\n",
       " ('15550985', 'GO:0003700', 1186, 1206, 'transcription factor', 2),\n",
       " ('15345036', 'GO:0003700', 43450, 43470, 'transcription factor', 2),\n",
       " ('17425782', 'GO:0003700', 185, 205, 'transcription factor', 2),\n",
       " ('16109169', 'GO:0003700', 18255, 18275, 'transcription factor', 2),\n",
       " ('16110338', 'GO:0003700', 25262, 25282, 'transcription factor', 2),\n",
       " ('15836427', 'GO:0003700', 23189, 23209, 'transcription factor', 2),\n",
       " ('16110338', 'GO:0003700', 68625, 68645, 'transcription factor', 2),\n",
       " ('15630473', 'GO:0003700', 38419, 38439, 'transcription factor', 2),\n",
       " ('15328533', 'GO:0003700', 261, 281, 'transcription factor', 2),\n",
       " ('15836427', 'GO:0003700', 4015, 4035, 'transcription factor', 2),\n",
       " ('16255782', 'GO:0003700', 10049, 10069, 'transcription factor', 2),\n",
       " ('15061865', 'GO:0001670', 1165, 1185, 'dopamine D2 receptor', 2),\n",
       " ('16255782', 'GO:0003700', 1425, 1445, 'transcription factor', 2),\n",
       " ('16110338', 'GO:0003700', 31710, 31730, 'transcription factor', 2),\n",
       " ('16098226', 'GO:0003700', 4772, 4792, 'transcription factor', 2),\n",
       " ('17425782', 'GO:0003700', 25310, 25330, 'transcription factor', 2),\n",
       " ('16109169', 'GO:0003700', 1706, 1726, 'transcription factor', 2),\n",
       " ('16110338', 'GO:0003700', 3423, 3443, 'transcription factor', 2),\n",
       " ('15314655', 'GO:0003700', 12660, 12680, 'transcription factor', 2),\n",
       " ('16110338', 'GO:0003700', 26864, 26884, 'transcription factor', 2),\n",
       " ('15588329', 'GO:0004192', 14976, 14996, 'cathepsin D activity', 2),\n",
       " ('15061865', 'GO:0001670', 2331, 2351, 'dopamine D2 receptor', 2),\n",
       " ('15836427', 'GO:0003700', 28248, 28268, 'transcription factor', 2),\n",
       " ('16110338', 'GO:0003700', 31404, 31424, 'transcription factor', 2),\n",
       " ('15836427', 'GO:0003700', 10198, 10218, 'transcription factor', 2),\n",
       " ('15836427', 'GO:0003700', 28889, 28909, 'transcription factor', 2),\n",
       " ('15836427', 'GO:0003700', 23325, 23345, 'transcription factor', 2),\n",
       " ('17608565', 'GO:0003700', 38155, 38175, 'transcription factor', 2),\n",
       " ('16109169', 'GO:0003700', 19363, 19383, 'transcription factor', 2),\n",
       " ('15836427', 'GO:0003700', 52547, 52567, 'transcription factor', 2),\n",
       " ('16110338', 'GO:0003700', 31554, 31574, 'transcription factor', 2),\n",
       " ('16221973', 'GO:0003700', 35927, 35947, 'transcription factor', 2),\n",
       " ('15061865', 'GO:0001670', 7499, 7519, 'dopamine D2 receptor', 2),\n",
       " ('15676071', 'GO:0003700', 21096, 21116, 'transcription factor', 2),\n",
       " ('15760270', 'GO:0003700', 66717, 66737, 'transcription factor', 2),\n",
       " ('15836427', 'GO:0003700', 879, 899, 'transcription factor', 2),\n",
       " ('16539743', 'GO:0003700', 19296, 19316, 'transcription factor', 2),\n",
       " ('16255782', 'GO:0003700', 2150, 2170, 'transcription factor', 2),\n",
       " ('16255782', 'GO:0003700', 26932, 26952, 'transcription factor', 2),\n",
       " ('15819996', 'GO:0005543', 2420, 2440, 'phospholipid binding', 2),\n",
       " ('16110338', 'GO:0003700', 31791, 31811, 'transcription factor', 2),\n",
       " ('15836427', 'GO:0003700', 6094, 6114, 'transcription factor', 2),\n",
       " ('16279840', 'GO:0001774', 45694, 45714, 'microglia activation', 2),\n",
       " ('15061865', 'GO:0001670', 1445, 1465, 'dopamine D2 receptor', 2),\n",
       " ('16255782', 'GO:0003700', 24237, 24257, 'transcription factor', 2),\n",
       " ('15836427', 'GO:0003700', 14100, 14120, 'transcription factor', 2),\n",
       " ('15492776', 'GO:0003700', 35182, 35202, 'transcription factor', 2),\n",
       " ('15836427', 'GO:0003700', 4427, 4447, 'transcription factor', 2),\n",
       " ('15676071', 'GO:0003700', 478, 498, 'transcription factor', 2),\n",
       " ('16255782', 'GO:0003700', 1818, 1838, 'transcription factor', 2),\n",
       " ('15836427', 'GO:0003700', 23543, 23563, 'transcription factor', 2),\n",
       " ('15630473', 'GO:0003700', 598, 618, 'transcription factor', 2),\n",
       " ('16221973', 'GO:0003700', 124, 144, 'transcription factor', 2),\n",
       " ('15836427', 'GO:0003700', 52134, 52154, 'transcription factor', 2),\n",
       " ('15492776', 'GO:0003700', 35297, 35317, 'transcription factor', 2),\n",
       " ('16110338', 'GO:0003700', 31351, 31371, 'transcription factor', 2),\n",
       " ('16109169', 'GO:0003700', 18715, 18735, 'transcription factor', 2),\n",
       " ('16255782', 'GO:0003700', 4641, 4661, 'transcription factor', 2),\n",
       " ('16110338', 'GO:0003700', 19671, 19691, 'transcription factor', 2),\n",
       " ('16255782', 'GO:0003700', 15070, 15090, 'transcription factor', 2),\n",
       " ('16221973', 'GO:0003700', 30468, 30488, 'transcription factor', 2),\n",
       " ('16539743', 'GO:0003700', 35639, 35659, 'transcription factor', 2),\n",
       " ('15588329', 'GO:0004192', 23252, 23272, 'cathepsin D activity', 2),\n",
       " ('15760270', 'GO:0003700', 3977, 3997, 'transcription factor', 2),\n",
       " ('15061865', 'GO:0001670', 2110, 2130, 'dopamine D2 receptor', 2),\n",
       " ('16110338', 'GO:0003700', 35948, 35968, 'transcription factor', 2),\n",
       " ('16539743', 'GO:0045289', 28358, 28377, 'luciferase activity', 2),\n",
       " ('15938754', 'GO:0001775', 18087, 18106, 'cellular activation', 2),\n",
       " ('16539743', 'GO:0045289', 30516, 30535, 'luciferase activity', 2),\n",
       " ('16433929', 'GO:0030168', 22356, 22375, 'platelet activation', 2),\n",
       " ('16539743', 'GO:0045289', 26295, 26314, 'luciferase activity', 2),\n",
       " ('16539743', 'GO:0045289', 48656, 48675, 'luciferase activity', 2),\n",
       " ('15345036', 'GO:0001775', 45478, 45497, 'cellular activation', 2),\n",
       " ('17696610', 'GO:0004721', 24730, 24749, 'protein phosphatase', 2),\n",
       " ('15836427', 'GO:0045289', 44421, 44440, 'luciferase activity', 2),\n",
       " ('16539743', 'GO:0045289', 27934, 27953, 'luciferase activity', 2),\n",
       " ('16221973', 'GO:0043295', 894, 913, 'glutathione-binding', 2),\n",
       " ('17069463', 'GO:0048519', 39538, 39557, 'modulate negatively', 2),\n",
       " ('12925238', 'GO:0030168', 17039, 17058, 'platelet activation', 2),\n",
       " ('16255782', 'GO:0044237', 3213, 3232, 'cellular metabolism', 2),\n",
       " ('12925238', 'GO:0044237', 13185, 13204, 'cellular metabolism', 2),\n",
       " ('16539743', 'GO:0045289', 16459, 16478, 'luciferase activity', 2),\n",
       " ('16539743', 'GO:0045289', 16609, 16628, 'luciferase activity', 2),\n",
       " ('16539743', 'GO:0045289', 28276, 28295, 'luciferase activity', 2),\n",
       " ('14611657', 'GO:0004984', 628, 646, 'olfactory receptor', 2),\n",
       " ('14611657', 'GO:0004984', 24470, 24488, 'olfactory receptor', 2),\n",
       " ('14611657', 'GO:0004984', 26362, 26380, 'olfactory receptor', 2),\n",
       " ('14611657', 'GO:0004984', 48597, 48615, 'olfactory receptor', 2),\n",
       " ('14611657', 'GO:0004984', 28475, 28493, 'olfactory receptor', 2),\n",
       " ('14611657', 'GO:0004984', 10812, 10830, 'olfactory receptor', 2),\n",
       " ('14611657', 'GO:0004984', 6987, 7005, 'olfactory receptor', 2),\n",
       " ('14611657', 'GO:0004984', 50918, 50936, 'olfactory receptor', 2),\n",
       " ('14611657', 'GO:0004984', 22541, 22559, 'olfactory receptor', 2),\n",
       " ('17083276', 'GO:0031497', 33711, 33729, 'chromatin assembly', 2),\n",
       " ('14611657', 'GO:0004984', 13836, 13854, 'olfactory receptor', 2),\n",
       " ('14611657', 'GO:0004984', 17144, 17162, 'olfactory receptor', 2),\n",
       " ('14611657', 'GO:0004984', 9812, 9830, 'olfactory receptor', 2),\n",
       " ('14611657', 'GO:0004984', 22292, 22310, 'olfactory receptor', 2),\n",
       " ('14611657', 'GO:0004984', 9503, 9521, 'olfactory receptor', 2),\n",
       " ('14611657', 'GO:0004984', 16065, 16083, 'olfactory receptor', 2),\n",
       " ('14611657', 'GO:0004984', 11841, 11859, 'olfactory receptor', 2),\n",
       " ('14611657', 'GO:0004984', 25305, 25323, 'olfactory receptor', 2),\n",
       " ('14611657', 'GO:0004984', 36152, 36170, 'olfactory receptor', 2),\n",
       " ('14611657', 'GO:0004984', 5077, 5095, 'olfactory receptor', 2),\n",
       " ('14611657', 'GO:0004984', 10627, 10645, 'olfactory receptor', 2),\n",
       " ('14611657', 'GO:0004984', 32054, 32072, 'olfactory receptor', 2),\n",
       " ('14611657', 'GO:0004984', 11190, 11208, 'olfactory receptor', 2),\n",
       " ('17083276', 'GO:0031497', 252, 270, 'chromatin assembly', 2),\n",
       " ('14611657', 'GO:0004984', 11263, 11281, 'olfactory receptor', 2),\n",
       " ('14611657', 'GO:0004984', 30868, 30886, 'olfactory receptor', 2),\n",
       " ('14611657', 'GO:0004984', 27526, 27544, 'olfactory receptor', 2),\n",
       " ('14611657', 'GO:0004984', 41450, 41468, 'olfactory receptor', 2),\n",
       " ('14611657', 'GO:0004984', 26986, 27004, 'olfactory receptor', 2),\n",
       " ('14611657', 'GO:0004984', 8779, 8797, 'olfactory receptor', 2),\n",
       " ('14611657', 'GO:0004984', 1865, 1883, 'olfactory receptor', 2),\n",
       " ('15917436', 'GO:0000166', 1696, 1714, 'nucleotide binding', 2),\n",
       " ('14611657', 'GO:0004984', 29212, 29230, 'olfactory receptor', 2),\n",
       " ('14611657', 'GO:0004984', 978, 996, 'olfactory receptor', 2),\n",
       " ('14611657', 'GO:0004984', 6957, 6975, 'olfactory receptor', 2),\n",
       " ('14611657', 'GO:0004984', 54088, 54106, 'olfactory receptor', 2),\n",
       " ('14611657', 'GO:0004984', 51122, 51140, 'olfactory receptor', 2),\n",
       " ('14611657', 'GO:0004984', 15690, 15708, 'olfactory receptor', 2),\n",
       " ('15040800', 'GO:0015918', 47294, 47312, 'sterol trafficking', 2),\n",
       " ('14611657', 'GO:0004984', 11960, 11978, 'olfactory receptor', 2),\n",
       " ('14611657', 'GO:0004984', 10936, 10954, 'olfactory receptor', 2),\n",
       " ('14611657', 'GO:0004984', 23616, 23634, 'olfactory receptor', 2),\n",
       " ('14611657', 'GO:0004984', 38208, 38226, 'olfactory receptor', 2),\n",
       " ('16216087', 'GO:0042048', 369, 387, 'olfactory behavior', 2),\n",
       " ('14611657', 'GO:0004984', 12635, 12653, 'olfactory receptor', 2),\n",
       " ('14611657', 'GO:0004984', 16515, 16533, 'olfactory receptor', 2),\n",
       " ('14611657', 'GO:0004984', 27482, 27500, 'olfactory receptor', 2),\n",
       " ('14611657', 'GO:0004984', 5855, 5873, 'olfactory receptor', 2),\n",
       " ('14611657', 'GO:0004984', 38623, 38641, 'olfactory receptor', 2),\n",
       " ('14611657', 'GO:0004984', 27621, 27639, 'olfactory receptor', 2),\n",
       " ('14611657', 'GO:0004984', 38701, 38719, 'olfactory receptor', 2),\n",
       " ('14611657', 'GO:0004984', 31645, 31663, 'olfactory receptor', 2),\n",
       " ('14611657', 'GO:0004984', 18476, 18494, 'olfactory receptor', 2),\n",
       " ('14611657', 'GO:0004984', 48243, 48261, 'olfactory receptor', 2),\n",
       " ('14611657', 'GO:0004984', 5256, 5274, 'olfactory receptor', 2),\n",
       " ('14611657', 'GO:0004984', 32508, 32526, 'olfactory receptor', 2),\n",
       " ('14611657', 'GO:0004984', 8964, 8982, 'olfactory receptor', 2),\n",
       " ('17083276', 'GO:0031497', 24627, 24645, 'chromatin assembly', 2),\n",
       " ('14611657', 'GO:0004984', 35223, 35241, 'olfactory receptor', 2),\n",
       " ('14611657', 'GO:0004984', 37645, 37663, 'olfactory receptor', 2),\n",
       " ('14611657', 'GO:0004984', 53061, 53079, 'olfactory receptor', 2),\n",
       " ('14611657', 'GO:0004984', 5529, 5547, 'olfactory receptor', 2),\n",
       " ('14611657', 'GO:0004984', 29009, 29027, 'olfactory receptor', 2),\n",
       " ('14611657', 'GO:0004984', 12075, 12093, 'olfactory receptor', 2),\n",
       " ('14611657', 'GO:0004984', 6620, 6638, 'olfactory receptor', 2),\n",
       " ('14611657', 'GO:0004984', 36476, 36494, 'olfactory receptor', 2),\n",
       " ('14611657', 'GO:0004984', 22166, 22184, 'olfactory receptor', 2),\n",
       " ('14611657', 'GO:0004984', 30229, 30247, 'olfactory receptor', 2),\n",
       " ('14611657', 'GO:0004984', 46008, 46026, 'olfactory receptor', 2),\n",
       " ('15061865', 'GO:0050893', 7829, 7847, 'sensory processing', 2),\n",
       " ('14611657', 'GO:0004984', 24698, 24716, 'olfactory receptor', 2),\n",
       " ('14611657', 'GO:0004984', 40544, 40562, 'olfactory receptor', 2),\n",
       " ('14611657', 'GO:0004984', 3819, 3837, 'olfactory receptor', 2),\n",
       " ('14611657', 'GO:0004984', 30085, 30103, 'olfactory receptor', 2),\n",
       " ('14611657', 'GO:0004984', 44040, 44058, 'olfactory receptor', 2),\n",
       " ('14611657', 'GO:0004984', 11743, 11761, 'olfactory receptor', 2),\n",
       " ('14611657', 'GO:0004984', 22362, 22380, 'olfactory receptor', 2),\n",
       " ('14611657', 'GO:0004984', 34693, 34711, 'olfactory receptor', 2),\n",
       " ('14611657', 'GO:0004984', 12215, 12233, 'olfactory receptor', 2),\n",
       " ('14611657', 'GO:0004984', 5008, 5026, 'olfactory receptor', 2),\n",
       " ('17083276', 'GO:0031497', 4549, 4567, 'chromatin assembly', 2),\n",
       " ('15836427', 'GO:0048666', 4490, 4508, 'neuron development', 2),\n",
       " ('14611657', 'GO:0004984', 30176, 30194, 'olfactory receptor', 2),\n",
       " ('17083276', 'GO:0031497', 2741, 2759, 'chromatin assembly', 2),\n",
       " ('14611657', 'GO:0004984', 35568, 35586, 'olfactory receptor', 2),\n",
       " ('14611657', 'GO:0004984', 8873, 8891, 'olfactory receptor', 2),\n",
       " ('14611657', 'GO:0004984', 31913, 31931, 'olfactory receptor', 2),\n",
       " ('14611657', 'GO:0004984', 52727, 52745, 'olfactory receptor', 2),\n",
       " ('14611657', 'GO:0004984', 22723, 22741, 'olfactory receptor', 2),\n",
       " ('14611657', 'GO:0004984', 16687, 16705, 'olfactory receptor', 2),\n",
       " ('14611657', 'GO:0004984', 26543, 26561, 'olfactory receptor', 2),\n",
       " ('14611657', 'GO:0004984', 8494, 8512, 'olfactory receptor', 2),\n",
       " ('14611657', 'GO:0004984', 35374, 35392, 'olfactory receptor', 2),\n",
       " ('17083276', 'GO:0031497', 2513, 2531, 'chromatin assembly', 2),\n",
       " ('17083276', 'GO:0008327', 4698, 4716, 'methyl-CpG binding', 2),\n",
       " ('14611657', 'GO:0004984', 48514, 48532, 'olfactory receptor', 2),\n",
       " ('14611657', 'GO:0004984', 14456, 14474, 'olfactory receptor', 2),\n",
       " ('14611657', 'GO:0004984', 38133, 38151, 'olfactory receptor', 2),\n",
       " ('14611657', 'GO:0004984', 12768, 12786, 'olfactory receptor', 2),\n",
       " ('14611657', 'GO:0004984', 51248, 51266, 'olfactory receptor', 2),\n",
       " ('14611657', 'GO:0004984', 28645, 28663, 'olfactory receptor', 2),\n",
       " ('14611657', 'GO:0004984', 36837, 36855, 'olfactory receptor', 2),\n",
       " ('17083276', 'GO:0031497', 4072, 4090, 'chromatin assembly', 2),\n",
       " ('14611657', 'GO:0004984', 27368, 27386, 'olfactory receptor', 2),\n",
       " ('14611657', 'GO:0004984', 24232, 24250, 'olfactory receptor', 2),\n",
       " ('14611657', 'GO:0004984', 406, 424, 'olfactory receptor', 2),\n",
       " ('14611657', 'GO:0004984', 32783, 32801, 'olfactory receptor', 2),\n",
       " ('17083276', 'GO:0031497', 321, 339, 'chromatin assembly', 2),\n",
       " ('14611657', 'GO:0004984', 51040, 51058, 'olfactory receptor', 2),\n",
       " ('16216087', 'GO:0042048', 6504, 6522, 'olfactory behavior', 2),\n",
       " ('14611657', 'GO:0004984', 2607, 2625, 'olfactory receptor', 2),\n",
       " ('14611657', 'GO:0004984', 36909, 36927, 'olfactory receptor', 2),\n",
       " ('15040800', 'GO:0015918', 360, 378, 'sterol trafficking', 2),\n",
       " ('14611657', 'GO:0004984', 37514, 37532, 'olfactory receptor', 2),\n",
       " ('14611657', 'GO:0004984', 6154, 6172, 'olfactory receptor', 2),\n",
       " ('14611657', 'GO:0004984', 48811, 48829, 'olfactory receptor', 2),\n",
       " ('14611657', 'GO:0004984', 32652, 32670, 'olfactory receptor', 2),\n",
       " ('14611657', 'GO:0004984', 20604, 20622, 'olfactory receptor', 2),\n",
       " ('14611657', 'GO:0004984', 38014, 38032, 'olfactory receptor', 2),\n",
       " ('14611657', 'GO:0004984', 4819, 4837, 'olfactory receptor', 2),\n",
       " ('14611657', 'GO:0004984', 32138, 32156, 'olfactory receptor', 2),\n",
       " ('14611657', 'GO:0004984', 27754, 27772, 'olfactory receptor', 2),\n",
       " ('14611657', 'GO:0004984', 7255, 7273, 'olfactory receptor', 2),\n",
       " ('14611657', 'GO:0004984', 16853, 16871, 'olfactory receptor', 2),\n",
       " ('14611657', 'GO:0004984', 11896, 11914, 'olfactory receptor', 2),\n",
       " ('14611657', 'GO:0004984', 12276, 12294, 'olfactory receptor', 2),\n",
       " ('14611657', 'GO:0004984', 3529, 3547, 'olfactory receptor', 2),\n",
       " ('14611657', 'GO:0004984', 11513, 11531, 'olfactory receptor', 2),\n",
       " ('14611657', 'GO:0004984', 37870, 37888, 'olfactory receptor', 2),\n",
       " ('14611657', 'GO:0004984', 31581, 31599, 'olfactory receptor', 2),\n",
       " ('14611657', 'GO:0004984', 29614, 29632, 'olfactory receptor', 2),\n",
       " ('14611657', 'GO:0004984', 12130, 12148, 'olfactory receptor', 2),\n",
       " ('17083276', 'GO:0031497', 3986, 4004, 'chromatin assembly', 2),\n",
       " ('14611657', 'GO:0004984', 15870, 15888, 'olfactory receptor', 2),\n",
       " ('14611657', 'GO:0004984', 50882, 50900, 'olfactory receptor', 2),\n",
       " ('14611657', 'GO:0004984', 12695, 12713, 'olfactory receptor', 2),\n",
       " ('14611657', 'GO:0004984', 35159, 35177, 'olfactory receptor', 2),\n",
       " ('14611657', 'GO:0004984', 9072, 9090, 'olfactory receptor', 2),\n",
       " ('14611657', 'GO:0004984', 31747, 31765, 'olfactory receptor', 2),\n",
       " ('14611657', 'GO:0004984', 37289, 37307, 'olfactory receptor', 2),\n",
       " ('14611657', 'GO:0004984', 30812, 30830, 'olfactory receptor', 2),\n",
       " ('14611657', 'GO:0004984', 4578, 4596, 'olfactory receptor', 2),\n",
       " ('14611657', 'GO:0004984', 49118, 49136, 'olfactory receptor', 2),\n",
       " ('14611657', 'GO:0004984', 31326, 31344, 'olfactory receptor', 2),\n",
       " ('14611657', 'GO:0004984', 33822, 33840, 'olfactory receptor', 2),\n",
       " ('14611657', 'GO:0004984', 30686, 30704, 'olfactory receptor', 2),\n",
       " ('15005800', 'GO:0016485', 31337, 31355, 'protein processing', 2),\n",
       " ('17083276', 'GO:0031497', 1803, 1821, 'chromatin assembly', 2),\n",
       " ('14611657', 'GO:0004984', 43897, 43915, 'olfactory receptor', 2),\n",
       " ('14611657', 'GO:0004984', 31998, 32016, 'olfactory receptor', 2),\n",
       " ('14611657', 'GO:0004984', 31825, 31843, 'olfactory receptor', 2),\n",
       " ('14611657', 'GO:0004984', 52943, 52961, 'olfactory receptor', 2),\n",
       " ('14611657', 'GO:0004984', 9151, 9169, 'olfactory receptor', 2),\n",
       " ('14611657', 'GO:0004984', 6718, 6736, 'olfactory receptor', 2),\n",
       " ('14611657', 'GO:0004984', 28862, 28880, 'olfactory receptor', 2),\n",
       " ('14611657', 'GO:0004984', 34013, 34031, 'olfactory receptor', 2),\n",
       " ('14611657', 'GO:0004984', 33301, 33319, 'olfactory receptor', 2),\n",
       " ('14611657', 'GO:0004984', 2857, 2875, 'olfactory receptor', 2),\n",
       " ('14611657', 'GO:0004984', 35731, 35749, 'olfactory receptor', 2),\n",
       " ('14611657', 'GO:0004984', 54780, 54798, 'olfactory receptor', 2),\n",
       " ('14611657', 'GO:0004984', 10238, 10256, 'olfactory receptor', 2),\n",
       " ('16216087', 'GO:0042048', 16833, 16851, 'olfactory behavior', 2),\n",
       " ('14611657', 'GO:0004984', 14120, 14138, 'olfactory receptor', 2),\n",
       " ('14611657', 'GO:0004984', 37938, 37956, 'olfactory receptor', 2),\n",
       " ('14611657', 'GO:0004984', 40498, 40516, 'olfactory receptor', 2),\n",
       " ('14611657', 'GO:0004984', 38322, 38340, 'olfactory receptor', 2),\n",
       " ('14611657', 'GO:0004984', 15794, 15812, 'olfactory receptor', 2),\n",
       " ('17002498', 'GO:0007389', 60218, 60235, 'pattern formation', 2),\n",
       " ('17447844', 'GO:0004882', 53210, 53227, 'androgen receptor', 2),\n",
       " ('15061865', 'GO:0004952', 4527, 4544, 'dopamine receptor', 2),\n",
       " ('15588329', 'GO:0045045', 15744, 15761, 'secretory pathway', 2),\n",
       " ('15917436', 'GO:0004386', 21234, 21251, 'helicase activity', 2),\n",
       " ('15917436', 'GO:0004386', 37310, 37327, 'helicase activity', 2),\n",
       " ('15061865', 'GO:0004952', 15779, 15796, 'dopamine receptor', 2),\n",
       " ('15061865', 'GO:0004952', 4324, 4341, 'dopamine receptor', 2),\n",
       " ('15917436', 'GO:0004386', 21373, 21390, 'helicase activity', 2),\n",
       " ('14737183', 'GO:0046148', 16777, 16794, 'pigment synthesis', 2),\n",
       " ('15917436', 'GO:0004386', 20830, 20847, 'helicase activity', 2),\n",
       " ('17447844', 'GO:0004882', 53088, 53105, 'androgen receptor', 2),\n",
       " ('15588329', 'GO:0045045', 12593, 12610, 'secretory pathway', 2),\n",
       " ('15917436', 'GO:0004386', 32873, 32890, 'helicase activity', 2),\n",
       " ('15917436', 'GO:0004386', 2559, 2576, 'helicase activity', 2),\n",
       " ('15917436', 'GO:0004386', 40477, 40494, 'helicase activity', 2),\n",
       " ('17447844', 'GO:0004882', 53416, 53433, 'androgen receptor', 2),\n",
       " ('15917436', 'GO:0004386', 2613, 2630, 'helicase activity', 2),\n",
       " ('15921521', 'GO:0042110', 19874, 19891, 'T cell activation', 2),\n",
       " ('15917436', 'GO:0004386', 15228, 15245, 'helicase activity', 2),\n",
       " ('15917436', 'GO:0004386', 20693, 20710, 'helicase activity', 2),\n",
       " ('17244351', 'GO:0042110', 16833, 16850, 'T cell activation', 2),\n",
       " ('17447844', 'GO:0004882', 24368, 24385, 'androgen receptor', 2),\n",
       " ('15061865', 'GO:0004952', 5548, 5565, 'dopamine receptor', 2),\n",
       " ('15061865', 'GO:0004952', 3844, 3861, 'dopamine receptor', 2),\n",
       " ('15005800', 'GO:0042446', 18805, 18822, 'hormone synthesis', 2),\n",
       " ('15917436', 'GO:0004386', 34432, 34449, 'helicase activity', 2),\n",
       " ('15917436', 'GO:0004386', 32768, 32785, 'helicase activity', 2),\n",
       " ('15320950', 'GO:0015705', 2573, 2589, 'iodide transport', 2),\n",
       " ('15005800', 'GO:0030324', 5782, 5798, 'lung development', 2),\n",
       " ('17069463', 'GO:0016530', 700, 716, 'metallochaperone', 2),\n",
       " ('15005800', 'GO:0030324', 40706, 40722, 'lung development', 2),\n",
       " ('15005800', 'GO:0030324', 631, 647, 'lung development', 2),\n",
       " ('16103912', 'GO:0030324', 2733, 2749, 'lung development', 2),\n",
       " ('15345036', 'GO:0060173', 21466, 21482, 'limb development', 2),\n",
       " ('17194222', 'GO:0060173', 8352, 8368, 'limb development', 2),\n",
       " ('17194222', 'GO:0060173', 12288, 12304, 'limb development', 2),\n",
       " ('17194222', 'GO:0060173', 34303, 34319, 'limb development', 2),\n",
       " ('17194222', 'GO:0060173', 9864, 9880, 'limb development', 2),\n",
       " ('15005800', 'GO:0030324', 34411, 34427, 'lung development', 2),\n",
       " ('15345036', 'GO:0030324', 32534, 32550, 'lung development', 2),\n",
       " ('15005800', 'GO:0030324', 4184, 4200, 'lung development', 2),\n",
       " ('14737183', 'GO:0060173', 30948, 30964, 'limb development', 2),\n",
       " ('17194222', 'GO:0060173', 583, 599, 'limb development', 2),\n",
       " ('17194222', 'GO:0060173', 3575, 3591, 'limb development', 2),\n",
       " ('15345036', 'GO:0030324', 33220, 33236, 'lung development', 2),\n",
       " ('16103912', 'GO:0030324', 1165, 1181, 'lung development', 2),\n",
       " ('17069463', 'GO:0016530', 12484, 12500, 'metallochaperone', 2),\n",
       " ('16103912', 'GO:0030324', 25382, 25398, 'lung development', 2),\n",
       " ('16103912', 'GO:0030324', 34258, 34274, 'lung development', 2),\n",
       " ('15005800', 'GO:0030324', 6645, 6661, 'lung development', 2),\n",
       " ('15005800', 'GO:0030324', 5294, 5310, 'lung development', 2),\n",
       " ('15345036', 'GO:0030324', 23298, 23314, 'lung development', 2),\n",
       " ('17194222', 'GO:0060173', 10053, 10069, 'limb development', 2),\n",
       " ('15207008', 'GO:0051225', 34850, 34866, 'spindle assembly', 2),\n",
       " ('17194222', 'GO:0060173', 209, 225, 'limb development', 2),\n",
       " ('16103912', 'GO:0030324', 24008, 24024, 'lung development', 2),\n",
       " ('15345036', 'GO:0030324', 41602, 41618, 'lung development', 2),\n",
       " ('17069463', 'GO:0016530', 8096, 8112, 'metallochaperone', 2),\n",
       " ('16279840', 'GO:0008088', 27119, 27135, 'axonal transport', 2),\n",
       " ('17194222', 'GO:0060173', 3350, 3366, 'limb development', 2),\n",
       " ('15345036', 'GO:0001654', 37119, 37134, 'eye development', 2),\n",
       " ('16221973', 'GO:0046870', 1585, 1600, 'cadmium-binding', 2),\n",
       " ('16539743', 'GO:0005003', 48981, 48996, 'ephrin receptor', 2),\n",
       " ('15630473', 'GO:0048519', 8791, 8806, 'down-regulating', 2),\n",
       " ('15345036', 'GO:0001654', 37758, 37773, 'eye development', 2),\n",
       " ('17425782', 'GO:0048519', 25759, 25774, 'down regulation', 2),\n",
       " ('15630473', 'GO:0000187', 1012, 1027, 'MAPK activation', 2),\n",
       " ('12925238', 'GO:0048519', 4750, 4765, 'Down regulation', 2),\n",
       " ('12925238', 'GO:0051015', 34852, 34867, 'F-actin-binding', 2),\n",
       " ('16700629', 'GO:0048519', 25874, 25889, 'Down-regulation', 2),\n",
       " ('15630473', 'GO:0000187', 35067, 35082, 'MAPK activation', 2),\n",
       " ('15345036', 'GO:0001654', 740, 755, 'eye development', 2),\n",
       " ('15345036', 'GO:0001654', 68007, 68022, 'eye development', 2),\n",
       " ('17083276', 'GO:0006401', 26574, 26589, 'RNA degradation', 2),\n",
       " ('15345036', 'GO:0001654', 35035, 35050, 'eye development', 2),\n",
       " ('15630473', 'GO:0048519', 16553, 16568, 'Down-regulation', 2),\n",
       " ('15061865', 'GO:0001775', 19482, 19497, 'cell activation', 2),\n",
       " ('12585968', 'GO:0043583', 1774, 1789, 'ear development', 2),\n",
       " ('16433929', 'GO:0048519', 16267, 16282, 'down-regulating', 2),\n",
       " ('16539743', 'GO:0005003', 48954, 48969, 'ephrin receptor', 2),\n",
       " ('15345036', 'GO:0001654', 9863, 9878, 'eye development', 2),\n",
       " ('15492776', 'GO:0048519', 19254, 19268, 'down-regulated', 2),\n",
       " ('16110338', 'GO:0048519', 47093, 47107, 'down-regulated', 2),\n",
       " ('16110338', 'GO:0048519', 6588, 6602, 'down-regulated', 2),\n",
       " ('16110338', 'GO:0048519', 47419, 47433, 'down-regulated', 2),\n",
       " ('16110338', 'GO:0048519', 45767, 45781, 'down-regulated', 2),\n",
       " ('16700629', 'GO:0048519', 21004, 21018, 'down-regulated', 2),\n",
       " ('16700629', 'GO:0048519', 26082, 26096, 'down-regulated', 2),\n",
       " ('16109169', 'GO:0048519', 16345, 16359, 'down-regulated', 2),\n",
       " ('16700629', 'GO:0048519', 21382, 21396, 'down-regulated', 2),\n",
       " ('17194222', 'GO:0048519', 7921, 7935, 'downregulating', 2),\n",
       " ('15630473', 'GO:0048519', 24429, 24443, 'down-regulated', 2),\n",
       " ('15630473', 'GO:0048519', 37381, 37395, 'down-regulated', 2),\n",
       " ('16110338', 'GO:0048519', 57380, 57394, 'Down-Regulated', 2),\n",
       " ('16110338', 'GO:0048519', 47046, 47060, 'down-regulated', 2),\n",
       " ('16221973', 'GO:0048519', 19361, 19375, 'Downregulation', 2),\n",
       " ('16110338', 'GO:0048519', 18478, 18492, 'down-regulated', 2),\n",
       " ('16362077', 'GO:0016070', 236, 250, 'RNA metabolism', 2),\n",
       " ('15630473', 'GO:0048519', 16730, 16744, 'down-regulated', 2),\n",
       " ('15207008', 'GO:0016070', 27314, 27328, 'RNA metabolism', 2),\n",
       " ('16110338', 'GO:0048519', 57482, 57496, 'down-regulated', 2),\n",
       " ('16110338', 'GO:0048519', 56226, 56240, 'down-regulated', 2),\n",
       " ('16110338', 'GO:0048519', 56190, 56204, 'down-regulated', 2),\n",
       " ('15630473', 'GO:0048519', 6491, 6505, 'down-regulated', 2),\n",
       " ('15630473', 'GO:0048519', 38240, 38254, 'down-regulated', 2),\n",
       " ('15492776', 'GO:0048519', 57519, 57533, 'down-regulated', 2),\n",
       " ('16504174', 'GO:0048519', 3023, 3037, 'down-regulated', 2),\n",
       " ('16700629', 'GO:0048519', 35343, 35357, 'down-regulated', 2),\n",
       " ('16110338', 'GO:0048519', 56489, 56503, 'down-regulated', 2),\n",
       " ('17083276', 'GO:0019865', 42226, 42240, 'antibody-bound', 2),\n",
       " ('15345036', 'GO:0008083', 6140, 6153, 'growth factor', 2),\n",
       " ('15492776', 'GO:0030509', 36892, 36905, 'BMP signaling', 2),\n",
       " ('16700629', 'GO:0048518', 11362, 11375, 'up-regulation', 2),\n",
       " ('17194222', 'GO:0030509', 6192, 6205, 'BMP signaling', 2),\n",
       " ('17194222', 'GO:0030509', 37792, 37805, 'BMP signaling', 2),\n",
       " ('17194222', 'GO:0030509', 45169, 45182, 'BMP signaling', 2),\n",
       " ('17194222', 'GO:0030509', 41105, 41118, 'BMP signaling', 2),\n",
       " ('15314655', 'GO:0048519', 5785, 5798, 'downregulated', 2),\n",
       " ('16279840', 'GO:0042983', 1474, 1487, 'APP synthesis', 2),\n",
       " ('15876356', 'GO:0008083', 1835, 1848, 'growth factor', 2),\n",
       " ('16255782', 'GO:0048518', 19436, 19449, 'up-regulation', 2),\n",
       " ('16221973', 'GO:0006811', 32848, 32861, 'ion transport', 2),\n",
       " ('17194222', 'GO:0030509', 21600, 21613, 'BMP signaling', 2),\n",
       " ('16700629', 'GO:0048519', 19696, 19709, 'down-regulate', 2),\n",
       " ('15630473', 'GO:0008083', 51686, 51699, 'growth factor', 2),\n",
       " ('16110338', 'GO:0048518', 41574, 41587, 'up-regulation', 2),\n",
       " ('17244351', 'GO:0048519', 18288, 18301, 'downregulated', 2),\n",
       " ('16700629', 'GO:0048518', 26738, 26751, 'up-regulation', 2),\n",
       " ('16110338', 'GO:0048518', 64813, 64826, 'up-regulation', 2),\n",
       " ('15630473', 'GO:0008083', 20998, 21011, 'growth factor', 2),\n",
       " ('15676071', 'GO:0048518', 23088, 23101, 'up-regulation', 2),\n",
       " ('15345036', 'GO:0001654', 36753, 36766, 'eye formation', 2),\n",
       " ('16700629', 'GO:0048519', 19639, 19652, 'down-regulate', 2),\n",
       " ('15492776', 'GO:0030509', 39901, 39914, 'BMP signaling', 2),\n",
       " ('16700629', 'GO:0048518', 6834, 6847, 'up-regulation', 2),\n",
       " ('17194222', 'GO:0008083', 7947, 7960, 'growth factor', 2),\n",
       " ('15492776', 'GO:0030509', 23383, 23396, 'BMP signaling', 2),\n",
       " ('16700629', 'GO:0048519', 20047, 20060, 'down-regulate', 2),\n",
       " ('15345036', 'GO:0001654', 36243, 36256, 'eye-formation', 2),\n",
       " ('17194222', 'GO:0030509', 37010, 37023, 'BMP signaling', 2),\n",
       " ('17194222', 'GO:0030509', 37174, 37187, 'BMP signaling', 2),\n",
       " ('15630473', 'GO:0008083', 25955, 25968, 'growth factor', 2),\n",
       " ('16700629', 'GO:0048518', 12037, 12050, 'Up-regulation', 2),\n",
       " ('16700629', 'GO:0048518', 29721, 29734, 'up-regulating', 2),\n",
       " ('16700629', 'GO:0008083', 187, 200, 'growth factor', 2),\n",
       " ('15876356', 'GO:0008083', 1891, 1904, 'growth factor', 2),\n",
       " ('17194222', 'GO:0030509', 40325, 40338, 'BMP signaling', 2),\n",
       " ('15492776', 'GO:0030509', 22701, 22714, 'BMP signaling', 2),\n",
       " ('15492776', 'GO:0030509', 37224, 37237, 'BMP signaling', 2),\n",
       " ('17244351', 'GO:0048519', 16936, 16949, 'downregulated', 2),\n",
       " ('16221973', 'GO:0008083', 3315, 3328, 'growth factor', 2),\n",
       " ('16700629', 'GO:0048518', 24629, 24642, 'up-regulating', 2),\n",
       " ('15630473', 'GO:0008083', 2167, 2180, 'growth factor', 2),\n",
       " ('16700629', 'GO:0048518', 27050, 27063, 'up-regulation', 2),\n",
       " ('17194222', 'GO:0030509', 40648, 40661, 'BMP signaling', 2),\n",
       " ('16700629', 'GO:0008083', 2465, 2478, 'growth factor', 2),\n",
       " ('15492776', 'GO:0030509', 13889, 13902, 'BMP signaling', 2),\n",
       " ('16110338', 'GO:0048518', 6013, 6026, 'Up-Regulation', 2),\n",
       " ('17194222', 'GO:0030509', 36082, 36095, 'BMP signaling', 2),\n",
       " ('17194222', 'GO:0030509', 11341, 11354, 'BMP signaling', 2),\n",
       " ('15550985', 'GO:0008083', 16987, 17000, 'growth factor', 2),\n",
       " ('16109169', 'GO:0008083', 3319, 3332, 'growth factor', 2),\n",
       " ('15630473', 'GO:0008083', 532, 545, 'growth factor', 2),\n",
       " ('15492776', 'GO:0030509', 15057, 15070, 'BMP signaling', 2),\n",
       " ('15676071', 'GO:0048519', 14287, 14300, 'downregulated', 2),\n",
       " ('16221973', 'GO:0048519', 20246, 20259, 'downregulated', 2),\n",
       " ('16103912', 'GO:0008083', 31243, 31256, 'growth factor', 2),\n",
       " ('16700629', 'GO:0048518', 4297, 4310, 'up-regulation', 2),\n",
       " ('15492776', 'GO:0030509', 31842, 31855, 'BMP signaling', 2),\n",
       " ('15492776', 'GO:0008083', 52621, 52634, 'growth factor', 2),\n",
       " ('16103912', 'GO:0008083', 15002, 15015, 'growth factor', 2),\n",
       " ('17194222', 'GO:0030509', 23822, 23835, 'BMP signaling', 2),\n",
       " ('12585968', 'GO:0048519', 20153, 20166, 'downregulated', 2),\n",
       " ('16110338', 'GO:0048518', 29045, 29058, 'up-regulation', 2),\n",
       " ('16433929', 'GO:0008083', 4133, 4146, 'growth factor', 2),\n",
       " ('16700629', 'GO:0008083', 692, 705, 'growth factor', 2),\n",
       " ('17194222', 'GO:0030509', 3601, 3614, 'BMP signaling', 2),\n",
       " ('17194222', 'GO:0030509', 4547, 4560, 'BMP signaling', 2),\n",
       " ('15492776', 'GO:0030509', 30806, 30819, 'BMP signaling', 2),\n",
       " ('15492776', 'GO:0030509', 4899, 4912, 'BMP signaling', 2),\n",
       " ('16700629', 'GO:0048518', 14121, 14134, 'up-regulation', 2),\n",
       " ('16700629', 'GO:0008083', 23311, 23324, 'growth factor', 2),\n",
       " ('16109169', 'GO:0048519', 16854, 16867, 'downregulated', 2),\n",
       " ('16700629', 'GO:0048518', 37473, 37486, 'up-regulation', 2),\n",
       " ('15630473', 'GO:0048519', 62928, 62941, 'down-regulate', 2),\n",
       " ('16109169', 'GO:0008083', 13917, 13930, 'growth factor', 2),\n",
       " ('17194222', 'GO:0030509', 9677, 9690, 'BMP signaling', 2),\n",
       " ('16539743', 'GO:0048519', 14829, 14842, 'downregulated', 2),\n",
       " ('17194222', 'GO:0030509', 25709, 25722, 'BMP signaling', 2),\n",
       " ('17194222', 'GO:0030509', 41709, 41722, 'BMP signaling', 2),\n",
       " ('16700629', 'GO:0008083', 34905, 34918, 'growth factor', 2),\n",
       " ('15876356', 'GO:0008083', 1854, 1867, 'growth factor', 2),\n",
       " ('17194222', 'GO:0008083', 57241, 57254, 'growth factor', 2),\n",
       " ('16700629', 'GO:0048518', 14255, 14268, 'Up-Regulation', 2),\n",
       " ('17194222', 'GO:0030509', 1108, 1121, 'BMP signaling', 2),\n",
       " ('15550985', 'GO:0008083', 6108, 6121, 'growth factor', 2),\n",
       " ('16539743', 'GO:0048519', 39607, 39620, 'down-regulate', 2),\n",
       " ('15630473', 'GO:0048519', 65494, 65507, 'down-regulate', 2),\n",
       " ('16221973', 'GO:0048519', 21659, 21672, 'downregulated', 2),\n",
       " ('16700629', 'GO:0048518', 21801, 21814, 'up-regulation', 2),\n",
       " ('17194222', 'GO:0030509', 34881, 34894, 'BMP signaling', 2),\n",
       " ('16700629', 'GO:0048518', 20468, 20481, 'up-regulation', 2),\n",
       " ('17194222', 'GO:0030509', 23548, 23561, 'BMP signaling', 2),\n",
       " ('16279840', 'GO:0042983', 49254, 49267, 'APP synthesis', 2),\n",
       " ('17194222', 'GO:0030509', 36903, 36916, 'BMP signaling', 2),\n",
       " ('15836427', 'GO:0048519', 20918, 20931, 'downregulated', 2),\n",
       " ('16700629', 'GO:0048518', 13067, 13080, 'up-regulation', 2),\n",
       " ('16700629', 'GO:0048518', 13796, 13809, 'up-regulation', 2),\n",
       " ('16700629', 'GO:0048518', 41472, 41485, 'up-regulation', 2),\n",
       " ('12585968', 'GO:0048519', 3864, 3877, 'downregulated', 2),\n",
       " ('17194222', 'GO:0030509', 22303, 22316, 'BMP signaling', 2),\n",
       " ('17194222', 'GO:0030509', 43748, 43761, 'BMP signaling', 2),\n",
       " ('17425782', 'GO:0048519', 23924, 23937, 'downregulated', 2),\n",
       " ('15630473', 'GO:0008083', 52209, 52222, 'growth factor', 2),\n",
       " ('12585968', 'GO:0048519', 3659, 3672, 'downregulated', 2),\n",
       " ('17194222', 'GO:0030509', 38106, 38119, 'BMP signaling', 2),\n",
       " ('16433929', 'GO:0008083', 38365, 38378, 'growth factor', 2),\n",
       " ('15492776', 'GO:0030509', 26344, 26357, 'BMP signaling', 2),\n",
       " ('15492776', 'GO:0030509', 37493, 37506, 'BMP signaling', 2),\n",
       " ('17194222', 'GO:0030509', 7465, 7478, 'BMP signaling', 2),\n",
       " ('16221973', 'GO:0048519', 23251, 23264, 'downregulated', 2),\n",
       " ('15630473', 'GO:0048519', 31873, 31886, 'down-regulate', 2),\n",
       " ('15630473', 'GO:0008083', 51663, 51676, 'growth factor', 2),\n",
       " ('15492776', 'GO:0030509', 38521, 38534, 'BMP signaling', 2),\n",
       " ('14723793', 'GO:0006811', 16317, 16330, 'ion transport', 2),\n",
       " ('14723793', 'GO:0006811', 1688, 1701, 'ion transport', 2),\n",
       " ('15492776', 'GO:0008083', 37040, 37053, 'growth factor', 2),\n",
       " ('17194222', 'GO:0030509', 6527, 6540, 'BMP signaling', 2),\n",
       " ('15345036', 'GO:0008083', 4465, 4478, 'growth factor', 2),\n",
       " ('15492776', 'GO:0030509', 32825, 32838, 'BMP signaling', 2),\n",
       " ('16700629', 'GO:0008083', 5246, 5259, 'growth factor', 2),\n",
       " ('16700629', 'GO:0048518', 11987, 12000, 'up-regulation', 2),\n",
       " ('16109169', 'GO:0048519', 15889, 15902, 'downregulated', 2),\n",
       " ('16216087', 'GO:0048518', 21503, 21516, 'up-regulation', 2),\n",
       " ('16221973', 'GO:0008083', 3387, 3400, 'growth factor', 2),\n",
       " ('17194222', 'GO:0008083', 2918, 2931, 'growth factor', 2),\n",
       " ('16110338', 'GO:0048518', 6701, 6714, 'up-regulation', 2),\n",
       " ('17194222', 'GO:0030509', 8966, 8979, 'BMP signaling', 2),\n",
       " ('17244351', 'GO:0048519', 15380, 15393, 'downregulated', 2),\n",
       " ('16700629', 'GO:0048518', 28281, 28294, 'up-regulation', 2),\n",
       " ('16700629', 'GO:0048518', 21917, 21930, 'up-regulating', 2),\n",
       " ('17194222', 'GO:0030509', 36131, 36144, 'BMP signaling', 2),\n",
       " ('17244351', 'GO:0048519', 16996, 17009, 'downregulated', 2),\n",
       " ('15917436', 'GO:0003678', 29100, 29112, 'DNA helicase', 2),\n",
       " ('16362077', 'GO:0048518', 17822, 17834, 'up-regulated', 2),\n",
       " ('16110338', 'GO:0048518', 20330, 20342, 'up-regulated', 2),\n",
       " ('16110338', 'GO:0048518', 7963, 7975, 'up-regulated', 2),\n",
       " ('16110338', 'GO:0048518', 56256, 56268, 'up-regulated', 2),\n",
       " ('15917436', 'GO:0003678', 42220, 42232, 'DNA helicase', 2),\n",
       " ('16110338', 'GO:0048518', 7399, 7411, 'up-regulated', 2),\n",
       " ('15917436', 'GO:0003678', 39963, 39975, 'DNA helicase', 2),\n",
       " ('16110338', 'GO:0048518', 29665, 29677, 'up-regulated', 2),\n",
       " ('16700629', 'GO:0048518', 34186, 34198, 'Up-Regulated', 2),\n",
       " ('16110338', 'GO:0048518', 65032, 65044, 'Up-Regulated', 2),\n",
       " ('16700629', 'GO:0048518', 41500, 41512, 'up-regulates', 2),\n",
       " ('16110338', 'GO:0048518', 20519, 20531, 'up-regulated', 2),\n",
       " ('15630473', 'GO:0046332', 48063, 48075, 'SMAD binding', 2),\n",
       " ('16110338', 'GO:0048518', 11672, 11684, 'up-regulated', 2),\n",
       " ('15917436', 'GO:0003678', 25545, 25557, 'DNA helicase', 2),\n",
       " ('16110338', 'GO:0048518', 57069, 57081, 'up-regulated', 2),\n",
       " ('15917436', 'GO:0003678', 41305, 41317, 'DNA helicase', 2),\n",
       " ('16700629', 'GO:0048518', 21292, 21304, 'up-regulated', 2),\n",
       " ('16110338', 'GO:0048518', 8438, 8450, 'up-regulated', 2),\n",
       " ('16110338', 'GO:0048518', 11809, 11821, 'up-regulated', 2),\n",
       " ('16110338', 'GO:0048518', 19973, 19985, 'up-regulated', 2),\n",
       " ('16700629', 'GO:0048518', 25948, 25960, 'up-regulated', 2),\n",
       " ('15917436', 'GO:0003678', 42925, 42937, 'DNA helicase', 2),\n",
       " ('16628246', 'GO:0048518', 26870, 26882, 'up-regulated', 2),\n",
       " ('15630473', 'GO:0046332', 27675, 27687, 'SMAD binding', 2),\n",
       " ('15917436', 'GO:0003678', 25431, 25443, 'DNA helicase', 2),\n",
       " ('15917436', 'GO:0003678', 42641, 42653, 'DNA helicase', 2),\n",
       " ('15917436', 'GO:0003678', 9179, 9191, 'DNA helicase', 2),\n",
       " ('16700629', 'GO:0048518', 12667, 12679, 'up-regulated', 2),\n",
       " ('16110338', 'GO:0048518', 1087, 1099, 'up-regulated', 2),\n",
       " ('16110338', 'GO:0048518', 7216, 7228, 'up-regulated', 2),\n",
       " ('16700629', 'GO:0048518', 11194, 11206, 'up-regulated', 2),\n",
       " ('16700629', 'GO:0048518', 40080, 40092, 'up-regulates', 2),\n",
       " ('16110338', 'GO:0048518', 29175, 29187, 'up-regulated', 2),\n",
       " ('16700629', 'GO:0048518', 35265, 35277, 'up-regulated', 2),\n",
       " ('16700629', 'GO:0048518', 4805, 4817, 'up-regulated', 2),\n",
       " ('16700629', 'GO:0048518', 40517, 40529, 'up-regulated', 2),\n",
       " ('15917436', 'GO:0003678', 43311, 43323, 'DNA helicase', 2),\n",
       " ('16110338', 'GO:0048518', 60899, 60911, 'up-regulated', 2),\n",
       " ('16110338', 'GO:0048518', 61990, 62002, 'up-regulated', 2),\n",
       " ('16700629', 'GO:0048518', 29746, 29758, 'up-regulates', 2),\n",
       " ('16700629', 'GO:0048518', 874, 886, 'up-regulates', 2),\n",
       " ('16110338', 'GO:0048518', 13498, 13510, 'up-regulated', 2),\n",
       " ('16110338', 'GO:0048518', 29927, 29939, 'up-regulated', 2),\n",
       " ('16110338', 'GO:0048518', 6897, 6909, 'up-regulated', 2),\n",
       " ('16110338', 'GO:0048518', 60724, 60736, 'up-regulated', 2),\n",
       " ('16110338', 'GO:0048518', 56969, 56981, 'Up-Regulated', 2),\n",
       " ('17608565', 'GO:0048518', 15949, 15961, 'up-regulated', 2),\n",
       " ('16110338', 'GO:0048518', 64620, 64632, 'Up-Regulated', 2),\n",
       " ('16110338', 'GO:0048518', 60651, 60663, 'up-regulated', 2),\n",
       " ('16110338', 'GO:0048518', 61781, 61793, 'up-regulated', 2),\n",
       " ('16700629', 'GO:0048518', 19147, 19159, 'up-regulated', 2),\n",
       " ('16110338', 'GO:0048518', 15229, 15241, 'up-regulated', 2),\n",
       " ('15917436', 'GO:0003678', 43244, 43256, 'DNA helicase', 2),\n",
       " ('16110338', 'GO:0048518', 8252, 8264, 'up-regulated', 2),\n",
       " ('16110338', 'GO:0048518', 56285, 56297, 'up-regulated', 2),\n",
       " ('16110338', 'GO:0048518', 41317, 41329, 'up-regulated', 2),\n",
       " ('16110338', 'GO:0048518', 65361, 65373, 'up-regulated', 2),\n",
       " ('16255782', 'GO:0016209', 14907, 14918, 'antioxidant', 2),\n",
       " ('16221973', 'GO:0016209', 36647, 36658, 'antioxidant', 2),\n",
       " ('16216087', 'GO:0048518', 30031, 30042, 'enhancement', 2),\n",
       " ('16279840', 'GO:0048519', 52082, 52093, 'suppression', 2),\n",
       " ('16255782', 'GO:0016209', 11598, 11609, 'antioxidant', 2),\n",
       " ('16221973', 'GO:0016209', 29512, 29523, 'antioxidant', 2),\n",
       " ('16255782', 'GO:0016209', 1103, 1114, 'antioxidant', 2),\n",
       " ('16362077', 'GO:0003723', 165, 176, 'RNA binding', 2),\n",
       " ('16279840', 'GO:0048519', 66470, 66481, 'suppression', 2),\n",
       " ('16255782', 'GO:0016209', 17474, 17485, 'antioxidant', 2),\n",
       " ('16279840', 'GO:0048519', 54144, 54155, 'suppression', 2),\n",
       " ('16279840', 'GO:0048519', 48119, 48130, 'suppression', 2),\n",
       " ('16279840', 'GO:0048519', 30823, 30834, 'Suppression', 2),\n",
       " ('16098226', 'GO:0043161', 20052, 20063, 'proteasomal', 2),\n",
       " ('16279840', 'GO:0048519', 54519, 54530, 'suppression', 2),\n",
       " ('16279840', 'GO:0048519', 55437, 55448, 'Suppression', 2),\n",
       " ('16362077', 'GO:0003723', 2238, 2249, 'RNA binding', 2),\n",
       " ('16504174', 'GO:0003723', 3396, 3407, 'RNA-binding', 2),\n",
       " ('16221973', 'GO:0016209', 20438, 20449, 'antioxidant', 2),\n",
       " ('15588329', 'GO:0004192', 12694, 12705, 'cathepsin D', 2),\n",
       " ('16700629', 'GO:0048518', 24693, 24704, 'up-regulate', 2),\n",
       " ('16255782', 'GO:0016209', 15325, 15336, 'antioxidant', 2),\n",
       " ('11597317', 'GO:0048519', 10248, 10259, 'suppression', 2),\n",
       " ('16255782', 'GO:0016209', 22551, 22562, 'antioxidant', 2),\n",
       " ('15588329', 'GO:0004192', 22771, 22782, 'cathepsin D', 2),\n",
       " ('16279840', 'GO:0048519', 71249, 71260, 'suppression', 2),\n",
       " ('16255782', 'GO:0016209', 22686, 22697, 'antioxidant', 2),\n",
       " ('16255782', 'GO:0016209', 17291, 17302, 'antioxidant', 2),\n",
       " ('16221973', 'GO:0016209', 26565, 26576, 'antioxidant', 2),\n",
       " ('17069463', 'GO:0048519', 32581, 32592, 'suppression', 2),\n",
       " ('16255782', 'GO:0016209', 8757, 8768, 'antioxidant', 2),\n",
       " ('16279840', 'GO:0048519', 47137, 47148, 'suppression', 2),\n",
       " ('16279840', 'GO:0048519', 28434, 28445, 'suppression', 2),\n",
       " ('16362077', 'GO:0003723', 9159, 9170, 'RNA binding', 2),\n",
       " ('15836427', 'GO:0048518', 21426, 21437, 'upregulated', 2),\n",
       " ('16255782', 'GO:0016209', 16970, 16981, 'antioxidant', 2),\n",
       " ('16255782', 'GO:0016209', 416, 427, 'antioxidant', 2),\n",
       " ('15588329', 'GO:0004192', 15546, 15557, 'cathepsin D', 2),\n",
       " ('15588329', 'GO:0004192', 22586, 22597, 'cathepsin D', 2),\n",
       " ('15320950', 'GO:0048519', 31486, 31497, 'Suppression', 2),\n",
       " ('16255782', 'GO:0016209', 27575, 27586, 'antioxidant', 2),\n",
       " ('16279840', 'GO:0048519', 55678, 55689, 'Suppression', 2),\n",
       " ('15588329', 'GO:0004192', 12380, 12391, 'cathepsin D', 2),\n",
       " ('16279840', 'GO:0048519', 37922, 37933, 'suppression', 2),\n",
       " ('15588329', 'GO:0004192', 12908, 12919, 'cathepsin D', 2),\n",
       " ('15040800', 'GO:0048519', 43456, 43467, 'suppression', 2),\n",
       " ('16279840', 'GO:0048519', 30511, 30522, 'suppression', 2),\n",
       " ('16255782', 'GO:0016209', 1274, 1285, 'antioxidant', 2),\n",
       " ('16279840', 'GO:0048519', 37513, 37524, 'suppression', 2),\n",
       " ('16255782', 'GO:0016209', 15020, 15031, 'antioxidant', 2),\n",
       " ('17590087', 'GO:0005216', 3695, 3706, 'ion channel', 2),\n",
       " ('16279840', 'GO:0048519', 66033, 66044, 'suppression', 2),\n",
       " ('16255782', 'GO:0016209', 14321, 14332, 'antioxidant', 2),\n",
       " ('16362077', 'GO:0003723', 5213, 5224, 'RNA binding', 2),\n",
       " ('16255782', 'GO:0016209', 8570, 8581, 'antioxidant', 2),\n",
       " ('15588329', 'GO:0004192', 12094, 12105, 'cathepsin D', 2),\n",
       " ('16255782', 'GO:0016209', 3842, 3853, 'antioxidant', 2),\n",
       " ('15207008', 'GO:0003723', 31254, 31265, 'RNA binding', 2),\n",
       " ('16255782', 'GO:0016209', 14124, 14135, 'antioxidant', 2),\n",
       " ('15588329', 'GO:0004192', 12216, 12227, 'cathepsin D', 2),\n",
       " ('15588329', 'GO:0004192', 22873, 22884, 'cathepsin D', 2),\n",
       " ('16279840', 'GO:0048519', 38472, 38483, 'suppression', 2),\n",
       " ('16279840', 'GO:0048519', 67741, 67752, 'suppression', 2),\n",
       " ('16279840', 'GO:0048519', 22001, 22012, 'suppression', 2),\n",
       " ('16279840', 'GO:0048519', 66986, 66997, 'Suppression', 2),\n",
       " ('16279840', 'GO:0048519', 53076, 53087, 'suppression', 2),\n",
       " ('16255782', 'GO:0016209', 702, 713, 'antioxidant', 2),\n",
       " ('16279840', 'GO:0048519', 30647, 30658, 'suppression', 2),\n",
       " ('16255782', 'GO:0016209', 26322, 26333, 'antioxidant', 2),\n",
       " ('16255782', 'GO:0016209', 2405, 2416, 'antioxidant', 2),\n",
       " ('16279840', 'GO:0048519', 30090, 30101, 'suppression', 2),\n",
       " ('16700629', 'GO:0048518', 1001, 1012, 'up-regulate', 2),\n",
       " ('16279840', 'GO:0048519', 33835, 33846, 'suppression', 2),\n",
       " ('16255782', 'GO:0016209', 16648, 16659, 'antioxidant', 2),\n",
       " ('16255782', 'GO:0016209', 759, 770, 'antioxidant', 2),\n",
       " ('16279840', 'GO:0048519', 52894, 52905, 'suppression', 2),\n",
       " ('16255782', 'GO:0016209', 2229, 2240, 'antioxidant', 2),\n",
       " ('16279840', 'GO:0048519', 65497, 65508, 'suppression', 2),\n",
       " ('15328533', 'GO:0048518', 11942, 11953, 'enhancement', 2),\n",
       " ('16279840', 'GO:0048519', 47446, 47457, 'suppression', 2),\n",
       " ('16279840', 'GO:0048519', 29699, 29710, 'suppression', 2),\n",
       " ('15588329', 'GO:0004192', 26486, 26497, 'cathepsin D', 2),\n",
       " ('16362077', 'GO:0003723', 5616, 5627, 'RNA binding', 2),\n",
       " ('16255782', 'GO:0016209', 26889, 26900, 'antioxidant', 2),\n",
       " ('16700629', 'GO:0008133', 32954, 32965, 'collagenase', 2),\n",
       " ('16221973', 'GO:0016209', 927, 938, 'antioxidant', 2),\n",
       " ('16255782', 'GO:0016209', 18358, 18369, 'antioxidant', 2),\n",
       " ('16279840', 'GO:0048519', 36233, 36244, 'suppression', 2),\n",
       " ('16279840', 'GO:0048519', 22198, 22209, 'suppression', 2),\n",
       " ('16255782', 'GO:0016209', 16401, 16412, 'antioxidant', 2),\n",
       " ('16103912', 'GO:0048518', 14294, 14305, 'enhancement', 2),\n",
       " ('16279840', 'GO:0048519', 39259, 39270, 'suppression', 2),\n",
       " ('16221973', 'GO:0016209', 28446, 28457, 'antioxidant', 2),\n",
       " ('16279840', 'GO:0048519', 52659, 52670, 'Suppression', 2),\n",
       " ('16504174', 'GO:0003723', 12624, 12635, 'RNA-binding', 2),\n",
       " ('16279840', 'GO:0048519', 62486, 62497, 'Suppression', 2),\n",
       " ('16279840', 'GO:0048519', 53668, 53679, 'Suppression', 2),\n",
       " ('16255782', 'GO:0016209', 11789, 11800, 'antioxidant', 2),\n",
       " ('16362077', 'GO:0003723', 49888, 49899, 'RNA binding', 2),\n",
       " ('16255782', 'GO:0016209', 13616, 13627, 'antioxidant', 2),\n",
       " ('15588329', 'GO:0004192', 12510, 12521, 'cathepsin D', 2),\n",
       " ('16255782', 'GO:0016209', 3691, 3702, 'antioxidant', 2),\n",
       " ('16279840', 'GO:0048519', 64771, 64782, 'suppression', 2),\n",
       " ('16700629', 'GO:0048518', 36634, 36645, 'up-regulate', 2),\n",
       " ('16279840', 'GO:0048519', 66216, 66227, 'suppression', 2),\n",
       " ('16362077', 'GO:0003723', 5267, 5278, 'RNA binding', 2),\n",
       " ('15345036', 'GO:0008133', 57151, 57162, 'collagenase', 2),\n",
       " ('16362077', 'GO:0003723', 6216, 6227, 'RNA binding', 2),\n",
       " ('16504174', 'GO:0003723', 3474, 3485, 'RNA-binding', 2),\n",
       " ('16279840', 'GO:0048519', 61040, 61051, 'suppression', 2),\n",
       " ('16255782', 'GO:0016209', 9163, 9174, 'antioxidant', 2),\n",
       " ('16221973', 'GO:0016209', 1601, 1612, 'antioxidant', 2),\n",
       " ('16255782', 'GO:0016209', 21444, 21455, 'antioxidant', 2),\n",
       " ('15588329', 'GO:0004192', 11983, 11994, 'cathepsin D', 2),\n",
       " ('16216087', 'GO:0048518', 16270, 16281, 'enhancement', 2),\n",
       " ('16279840', 'GO:0048519', 71399, 71410, 'Suppression', 2),\n",
       " ('16255782', 'GO:0016209', 10762, 10773, 'antioxidant', 2),\n",
       " ('16279840', 'GO:0048519', 31991, 32002, 'suppression', 2),\n",
       " ('11597317', 'GO:0048519', 10813, 10824, 'suppressing', 2),\n",
       " ('16255782', 'GO:0016209', 1504, 1515, 'antioxidant', 2),\n",
       " ('16279840', 'GO:0048519', 50743, 50754, 'Suppression', 2),\n",
       " ('15588329', 'GO:0004192', 12317, 12328, 'cathepsin D', 2),\n",
       " ('16279840', 'GO:0048519', 33502, 33513, 'suppression', 2),\n",
       " ('15588329', 'GO:0004192', 13815, 13826, 'cathepsin D', 2),\n",
       " ('16539743', 'GO:0003723', 5535, 5546, 'RNA-binding', 2),\n",
       " ('15588329', 'GO:0004192', 13418, 13429, 'cathepsin D', 2),\n",
       " ('16279840', 'GO:0048519', 30298, 30309, 'suppression', 2),\n",
       " ('16279840', 'GO:0048519', 38530, 38541, 'suppression', 2),\n",
       " ('16362077', 'GO:0003723', 22, 33, 'RNA Binding', 2),\n",
       " ('16279840', 'GO:0048519', 65253, 65264, 'Suppression', 2),\n",
       " ('16255782', 'GO:0016209', 4890, 4901, 'antioxidant', 2),\n",
       " ('16255782', 'GO:0016209', 19029, 19040, 'antioxidant', 2),\n",
       " ('16255782', 'GO:0016209', 14787, 14798, 'antioxidant', 2),\n",
       " ('16279840', 'GO:0048519', 55065, 55076, 'suppression', 2),\n",
       " ('16279840', 'GO:0048519', 31168, 31179, 'suppression', 2),\n",
       " ('15588329', 'GO:0004192', 13884, 13895, 'cathepsin D', 2),\n",
       " ('16255782', 'GO:0016209', 3975, 3986, 'antioxidant', 2),\n",
       " ('16255782', 'GO:0016209', 18582, 18593, 'antioxidant', 2),\n",
       " ('17022820', 'GO:0016209', 3352, 3363, 'antioxidant', 2),\n",
       " ('16362077', 'GO:0003723', 27837, 27848, 'RNA binding', 2),\n",
       " ('16279840', 'GO:0048519', 70878, 70889, 'Suppression', 2),\n",
       " ('16255782', 'GO:0016209', 27128, 27139, 'antioxidant', 2),\n",
       " ('16279840', 'GO:0048519', 52304, 52315, 'suppression', 2),\n",
       " ('16255782', 'GO:0016209', 4427, 4438, 'antioxidant', 2),\n",
       " ('16255782', 'GO:0016209', 43, 54, 'antioxidant', 2),\n",
       " ('15588329', 'GO:0004192', 14349, 14360, 'cathepsin D', 2),\n",
       " ('16255782', 'GO:0016209', 18813, 18824, 'antioxidant', 2),\n",
       " ('16279840', 'GO:0048519', 69670, 69681, 'suppression', 2),\n",
       " ('16539743', 'GO:0048519', 31318, 31328, 'repression', 2),\n",
       " ('16279840', 'GO:0048519', 28854, 28864, 'suppressed', 2),\n",
       " ('17194222', 'GO:0008233', 51714, 51724, 'proteinase', 2),\n",
       " ('17608565', 'GO:0048519', 13348, 13358, 'suppressed', 2),\n",
       " ('17608565', 'GO:0048519', 32823, 32833, 'suppresses', 2),\n",
       " ('15492776', 'GO:0008233', 49189, 49199, 'proteinase', 2),\n",
       " ('17608565', 'GO:0048519', 32419, 32429, 'suppressed', 2),\n",
       " ('16109169', 'GO:0048519', 17379, 17389, 'repression', 2),\n",
       " ('15630473', 'GO:0048519', 38662, 38672, 'repression', 2),\n",
       " ('16539743', 'GO:0048519', 30466, 30476, 'repression', 2),\n",
       " ('16539743', 'GO:0048519', 37952, 37962, 'repression', 2),\n",
       " ('17608565', 'GO:0048519', 13646, 13656, 'suppresses', 2),\n",
       " ('16279840', 'GO:0048519', 23336, 23346, 'suppressed', 2),\n",
       " ('17608565', 'GO:0048519', 4692, 4702, 'repressing', 2),\n",
       " ('16539743', 'GO:0048519', 1809, 1819, 'repression', 2),\n",
       " ('17608565', 'GO:0048519', 46675, 46685, 'repression', 2),\n",
       " ('16279840', 'GO:0048519', 64852, 64862, 'suppresses', 2),\n",
       " ('17083276', 'GO:0008233', 30088, 30098, 'proteinase', 2),\n",
       " ('16279840', 'GO:0048519', 68472, 68482, 'suppressed', 2),\n",
       " ('17608565', 'GO:0048519', 9639, 9649, 'suppresses', 2),\n",
       " ('12925238', 'GO:0008233', 29048, 29058, 'proteinase', 2),\n",
       " ('16279840', 'GO:0048519', 23680, 23690, 'suppressed', 2),\n",
       " ('17608565', 'GO:0048519', 42703, 42713, 'suppressed', 2),\n",
       " ('16539743', 'GO:0048519', 27352, 27362, 'repression', 2),\n",
       " ('16539743', 'GO:0048519', 26828, 26838, 'repressive', 2),\n",
       " ('16433929', 'GO:0008233', 38196, 38206, 'proteinase', 2),\n",
       " ('16539743', 'GO:0048519', 38614, 38624, 'repressive', 2),\n",
       " ('17447844', 'GO:0008233', 47808, 47818, 'proteinase', 2),\n",
       " ('16539743', 'GO:0048519', 5995, 6005, 'repressive', 2),\n",
       " ('16539743', 'GO:0048519', 29728, 29738, 'repression', 2),\n",
       " ('16700629', 'GO:0048519', 7350, 7360, 'repressing', 2),\n",
       " ('17608565', 'GO:0048519', 13272, 13282, 'suppressed', 2),\n",
       " ('16279840', 'GO:0048519', 54383, 54393, 'suppressed', 2),\n",
       " ('16098226', 'GO:0048519', 19895, 19905, 'suppresses', 2),\n",
       " ('17069463', 'GO:0048519', 1168, 1178, 'suppresses', 2),\n",
       " ('17608565', 'GO:0048519', 6652, 6662, 'repressive', 2),\n",
       " ('16098226', 'GO:0048519', 28049, 28059, 'suppresses', 2),\n",
       " ('16110338', 'GO:0048519', 68406, 68416, 'repression', 2),\n",
       " ('17608565', 'GO:0048519', 30008, 30018, 'suppressed', 2),\n",
       " ('16110338', 'GO:0048519', 19510, 19520, 'repression', 2),\n",
       " ('15917436', 'GO:0008233', 8173, 8183, 'proteinase', 2),\n",
       " ('16279840', 'GO:0048519', 37012, 37022, 'suppresses', 2),\n",
       " ('16110338', 'GO:0048519', 68586, 68596, 'repression', 2),\n",
       " ('16539743', 'GO:0048519', 37741, 37751, 'repression', 2),\n",
       " ('17083276', 'GO:0048519', 4770, 4780, 'repressive', 2),\n",
       " ('17608565', 'GO:0048519', 32739, 32749, 'suppresses', 2),\n",
       " ('15630473', 'GO:0048519', 30956, 30966, 'repression', 2),\n",
       " ('16110338', 'GO:0048519', 27336, 27346, 'repression', 2),\n",
       " ('15876356', 'GO:0008233', 2571, 2581, 'proteinase', 2),\n",
       " ('17194222', 'GO:0008233', 45882, 45892, 'proteinase', 2),\n",
       " ('16539743', 'GO:0048519', 37878, 37888, 'repression', 2),\n",
       " ('16539743', 'GO:0048519', 27860, 27870, 'repressive', 2),\n",
       " ('16279840', 'GO:0048519', 24441, 24451, 'suppressed', 2),\n",
       " ('16279840', 'GO:0048519', 28590, 28600, 'suppressed', 2),\n",
       " ('16700629', 'GO:0048519', 19915, 19925, 'suppressed', 2),\n",
       " ('17608565', 'GO:0048519', 8464, 8474, 'repressive', 2),\n",
       " ('16539743', 'GO:0048519', 36265, 36275, 'repressive', 2),\n",
       " ('17608565', 'GO:0048519', 7934, 7944, 'repressive', 2),\n",
       " ('16539743', 'GO:0048519', 36923, 36933, 'repressive', 2),\n",
       " ('16539743', 'GO:0048519', 38245, 38255, 'repression', 2),\n",
       " ('16504174', 'GO:0045289', 7358, 7368, 'luciferase', 2),\n",
       " ('16539743', 'GO:0048519', 34351, 34361, 'repressive', 2),\n",
       " ('17608565', 'GO:0048519', 50132, 50142, 'repressive', 2),\n",
       " ('16110338', 'GO:0048519', 16555, 16565, 'repression', 2),\n",
       " ('16433929', 'GO:0008233', 35929, 35939, 'proteinase', 2),\n",
       " ('16279840', 'GO:0048519', 1492, 1502, 'suppressed', 2),\n",
       " ('15630473', 'GO:0048519', 16675, 16685, 'repression', 2),\n",
       " ('16279840', 'GO:0048519', 32205, 32215, 'suppressed', 2),\n",
       " ('16279840', 'GO:0048519', 65762, 65772, 'suppressed', 2),\n",
       " ('16110338', 'GO:0048519', 16266, 16276, 'repression', 2),\n",
       " ('16110338', 'GO:0048519', 31831, 31841, 'repressive', 2),\n",
       " ('17696610', 'GO:0048519', 32501, 32511, 'suppressed', 2),\n",
       " ('16539743', 'GO:0048519', 29214, 29224, 'repressive', 2),\n",
       " ('16539743', 'GO:0048519', 35961, 35971, 'repressive', 2),\n",
       " ('16539743', 'GO:0048519', 40244, 40254, 'repressive', 2),\n",
       " ('17608565', 'GO:0048519', 8090, 8100, 'repression', 2),\n",
       " ('17608565', 'GO:0048519', 960, 970, 'repressing', 2),\n",
       " ('16221973', 'GO:0048519', 25412, 25422, 'repression', 2),\n",
       " ('17069463', 'GO:0048519', 32309, 32319, 'suppressed', 2),\n",
       " ('17608565', 'GO:0048519', 12989, 12999, 'suppressed', 2),\n",
       " ('16279840', 'GO:0048519', 4391, 4401, 'suppressed', 2),\n",
       " ('15836427', 'GO:0045289', 44171, 44181, 'luciferase', 2),\n",
       " ('16433929', 'GO:0008233', 12964, 12974, 'proteinase', 2),\n",
       " ('15917436', 'GO:0008233', 9472, 9482, 'proteinase', 2),\n",
       " ('16433929', 'GO:0008233', 38269, 38279, 'proteinase', 2),\n",
       " ('16221973', 'GO:0048519', 32434, 32443, 'represses', 2),\n",
       " ('16700629', 'GO:0048519', 896, 905, 'represses', 2),\n",
       " ('16221973', 'GO:0048518', 32810, 32819, 'promoting', 2),\n",
       " ('15819996', 'GO:0022886', 26038, 26047, 'ionophore', 2),\n",
       " ('16700629', 'GO:0030693', 31919, 31928, 'caspase-3', 2),\n",
       " ('16670015', 'GO:0048518', 30271, 30280, 'enhancing', 2),\n",
       " ('16221973', 'GO:0048519', 44114, 44123, 'represses', 2),\n",
       " ('11597317', 'GO:0048518', 10901, 10910, 'promoting', 2),\n",
       " ('16700629', 'GO:0048519', 6999, 7008, 'represses', 2),\n",
       " ('16700629', 'GO:0048518', 19110, 19119, 'promoting', 2),\n",
       " ('16221973', 'GO:0048519', 30495, 30504, 'represses', 2),\n",
       " ('16700629', 'GO:0030693', 18449, 18458, 'caspase-3', 2),\n",
       " ('17425782', 'GO:0048518', 2953, 2962, 'promoting', 2),\n",
       " ('15314659', 'GO:0048518', 21236, 21245, 'promoting', 2),\n",
       " ('16670015', 'GO:0048518', 11015, 11024, 'promoting', 2),\n",
       " ('16221973', 'GO:0048519', 1368, 1377, 'represses', 2),\n",
       " ('16700629', 'GO:0048519', 25712, 25721, 'represses', 2),\n",
       " ('17078885', 'GO:0030693', 19217, 19226, 'caspase-3', 2),\n",
       " ('17244351', 'GO:0048518', 20137, 20146, 'enhancing', 2),\n",
       " ('17078885', 'GO:0030693', 32137, 32146, 'caspase-3', 2),\n",
       " ('15345036', 'GO:0048518', 39609, 39618, 'promoting', 2),\n",
       " ('15314659', 'GO:0048518', 21158, 21167, 'enhancing', 2),\n",
       " ('16110338', 'GO:0048519', 68532, 68541, 'represses', 2),\n",
       " ('17194222', 'GO:0016015', 35183, 35192, 'morphogen', 2),\n",
       " ('16700629', 'GO:0048518', 7019, 7028, 'promoting', 2),\n",
       " ('16700629', 'GO:0048518', 20243, 20252, 'promoting', 2),\n",
       " ('12925238', 'GO:0022886', 9823, 9832, 'ionophore', 2),\n",
       " ('15630473', 'GO:0016015', 30815, 30824, 'morphogen', 2),\n",
       " ('15328533', 'GO:0048518', 3915, 3924, 'enhancing', 2),\n",
       " ('12925238', 'GO:0022886', 30494, 30503, 'ionophore', 2),\n",
       " ('11597317', 'GO:0048518', 9465, 9474, 'promoting', 2),\n",
       " ('16221973', 'GO:0048518', 33337, 33346, 'promoting', 2),\n",
       " ('16700629', 'GO:0030693', 39090, 39099, 'caspase-3', 2),\n",
       " ('14737183', 'GO:0048518', 17391, 17400, 'promoting', 2),\n",
       " ('17244351', 'GO:0048518', 20077, 20086, 'enhancing', 2),\n",
       " ('11597317', 'GO:0048518', 11342, 11351, 'promoting', 2),\n",
       " ('16539743', 'GO:0048518', 16767, 16776, 'augmented', 2),\n",
       " ('11597317', 'GO:0048518', 13362, 13371, 'promoting', 2),\n",
       " ('17083276', 'GO:0004518', 14771, 14779, 'nuclease', 2),\n",
       " ('16670015', 'GO:0048518', 28595, 28603, 'promotes', 2),\n",
       " ('15917436', 'GO:0004386', 33417, 33425, 'helicase', 2),\n",
       " ('16504143', 'GO:0008233', 19861, 19869, 'protease', 2),\n",
       " ('11597317', 'GO:0048518', 11267, 11275, 'promotes', 2),\n",
       " ('15917436', 'GO:0004518', 38830, 38838, 'nuclease', 2),\n",
       " ('17069463', 'GO:0048518', 39149, 39157, 'promotes', 2),\n",
       " ('15836427', 'GO:0048518', 24117, 24125, 'promotes', 2),\n",
       " ('15917436', 'GO:0004518', 39064, 39072, 'nuclease', 2),\n",
       " ('17608565', 'GO:0048519', 40397, 40405, 'suppress', 2),\n",
       " ('15917436', 'GO:0004386', 41972, 41980, 'helicase', 2),\n",
       " ('15917436', 'GO:0004386', 22992, 23000, 'helicase', 2),\n",
       " ('15917436', 'GO:0004518', 11219, 11227, 'nuclease', 2),\n",
       " ('14737183', 'GO:0048518', 42111, 42119, 'promotes', 2),\n",
       " ('11597317', 'GO:0048518', 8416, 8424, 'promotes', 2),\n",
       " ('15917436', 'GO:0004386', 29453, 29461, 'helicase', 2),\n",
       " ('15917436', 'GO:0004386', 5051, 5059, 'helicase', 2),\n",
       " ('17083276', 'GO:0004518', 29318, 29326, 'nuclease', 2),\n",
       " ('15917436', 'GO:0004386', 28600, 28608, 'helicase', 2),\n",
       " ('15917436', 'GO:0004386', 22615, 22623, 'helicase', 2),\n",
       " ('15836427', 'GO:0048518', 24336, 24344, 'enhanced', 2),\n",
       " ('15040800', 'GO:0008233', 17697, 17705, 'protease', 2),\n",
       " ('15917436', 'GO:0004386', 17506, 17514, 'helicase', 2),\n",
       " ('15917436', 'GO:0004386', 32447, 32455, 'helicase', 2),\n",
       " ('17608565', 'GO:0048518', 46730, 46738, 'promotes', 2),\n",
       " ('15917436', 'GO:0004386', 17896, 17904, 'helicase', 2),\n",
       " ('15917436', 'GO:0004518', 10339, 10347, 'nuclease', 2),\n",
       " ('15917436', 'GO:0004386', 45146, 45154, 'helicase', 2),\n",
       " ('16279840', 'GO:0008233', 11311, 11319, 'protease', 2),\n",
       " ('11597317', 'GO:0048519', 10124, 10132, 'suppress', 2),\n",
       " ('15917436', 'GO:0004386', 30622, 30630, 'helicase', 2),\n",
       " ('15917436', 'GO:0004386', 26955, 26963, 'helicase', 2),\n",
       " ('15917436', 'GO:0004386', 949, 957, 'helicase', 2),\n",
       " ('11597317', 'GO:0048519', 12264, 12272, 'suppress', 2),\n",
       " ('15917436', 'GO:0004386', 31769, 31777, 'helicase', 2),\n",
       " ('15917436', 'GO:0004386', 35891, 35899, 'helicase', 2),\n",
       " ('15917436', 'GO:0004386', 2976, 2984, 'helicase', 2),\n",
       " ('15917436', 'GO:0004386', 37422, 37430, 'helicase', 2),\n",
       " ('15917436', 'GO:0004386', 1323, 1331, 'helicase', 2),\n",
       " ('16279840', 'GO:0008233', 11088, 11096, 'protease', 2),\n",
       " ('15917436', 'GO:0004386', 3860, 3868, 'helicase', 2),\n",
       " ('15917436', 'GO:0004386', 41129, 41137, 'helicase', 2),\n",
       " ('17608565', 'GO:0048518', 43250, 43258, 'promotes', 2),\n",
       " ('16504143', 'GO:0008233', 2150, 2158, 'protease', 2),\n",
       " ('16221973', 'GO:0004518', 10392, 10400, 'nuclease', 2),\n",
       " ('17020410', 'GO:0004386', 658, 666, 'helicase', 2),\n",
       " ('15921521', 'GO:0008233', 7398, 7406, 'protease', 2),\n",
       " ('16121255', 'GO:0008233', 29163, 29171, 'protease', 2),\n",
       " ('15819996', 'GO:0048518', 28517, 28525, 'promotes', 2),\n",
       " ('17069463', 'GO:0048518', 33492, 33500, 'promotes', 2),\n",
       " ('15917436', 'GO:0004386', 36182, 36190, 'helicase', 2),\n",
       " ('17608565', 'GO:0048519', 19204, 19212, 'suppress', 2),\n",
       " ('15917436', 'GO:0004386', 24801, 24809, 'helicase', 2),\n",
       " ('16504143', 'GO:0008233', 2487, 2495, 'protease', 2),\n",
       " ('15917436', 'GO:0004386', 22914, 22922, 'helicase', 2),\n",
       " ('15836427', 'GO:0048518', 19992, 20000, 'enhanced', 2),\n",
       " ('15917436', 'GO:0004386', 22711, 22719, 'helicase', 2),\n",
       " ('15836427', 'GO:0048518', 17248, 17256, 'promotes', 2),\n",
       " ('15917436', 'GO:0004386', 26437, 26445, 'helicase', 2),\n",
       " ('15917436', 'GO:0004386', 35973, 35981, 'helicase', 2),\n",
       " ('16504143', 'GO:0008233', 2629, 2637, 'protease', 2),\n",
       " ('15917436', 'GO:0004386', 37472, 37480, 'helicase', 2),\n",
       " ('15917436', 'GO:0004386', 37100, 37108, 'helicase', 2),\n",
       " ('15917436', 'GO:0004386', 16492, 16500, 'helicase', 2),\n",
       " ('17069463', 'GO:0048518', 3187, 3195, 'promotes', 2),\n",
       " ('16700629', 'GO:0048519', 7199, 7207, 'suppress', 2),\n",
       " ('15917436', 'GO:0004386', 34095, 34103, 'helicase', 2),\n",
       " ('15917436', 'GO:0004386', 15574, 15582, 'helicase', 2),\n",
       " ('14609438', 'GO:0008233', 3863, 3871, 'protease', 2),\n",
       " ...]"
      ]
     },
     "execution_count": 32,
     "metadata": {},
     "output_type": "execute_result"
    }
   ],
   "source": [
    "sorted([i for i in gold_size if i[-1]==2 ], key=lambda x:len(x[4]), reverse=True)"
   ]
  },
  {
   "cell_type": "code",
   "execution_count": 35,
   "metadata": {
    "collapsed": false,
    "deletable": true,
    "editable": true
   },
   "outputs": [
    {
     "data": {
      "text/plain": [
       "['BMP signaling pathway',\n",
       " 'BMP receptor signaling pathway',\n",
       " 'BMP signalling pathway',\n",
       " 'bone morphogenetic protein signaling pathway',\n",
       " 'bone morphogenetic protein signalling pathway']"
      ]
     },
     "execution_count": 35,
     "metadata": {},
     "output_type": "execute_result"
    }
   ],
   "source": [
    "gd['GO:0030509'].labels"
   ]
  },
  {
   "cell_type": "code",
   "execution_count": 36,
   "metadata": {
    "collapsed": false,
    "deletable": true,
    "editable": true
   },
   "outputs": [
    {
     "data": {
      "text/plain": [
       "[Statement(statid='GO:0030509%000', evidences=[Evidence(term=Entity(lemma='BMP signaling', ref='GO:0030509'), text='BMP signaling', start=0, end=13), Evidence(term=Pattern(lemma='pathway', ref='annotator'), text='pathway', start=14, end=21)])]"
      ]
     },
     "execution_count": 36,
     "metadata": {},
     "output_type": "execute_result"
    }
   ],
   "source": [
    "goid2statement_lib[0]['GO:0030509']"
   ]
  },
  {
   "cell_type": "code",
   "execution_count": 21,
   "metadata": {
    "collapsed": false,
    "deletable": true,
    "editable": true
   },
   "outputs": [
    {
     "data": {
      "text/plain": [
       "48674"
      ]
     },
     "execution_count": 21,
     "metadata": {},
     "output_type": "execute_result"
    }
   ],
   "source": [
    "sum([len(v) for v in goid2statement_lib[0].items()])"
   ]
  },
  {
   "cell_type": "code",
   "execution_count": 24,
   "metadata": {
    "collapsed": false,
    "deletable": true,
    "editable": true
   },
   "outputs": [
    {
     "data": {
      "text/plain": [
       "48674"
      ]
     },
     "execution_count": 24,
     "metadata": {},
     "output_type": "execute_result"
    }
   ],
   "source": [
    "sum([len(v) for v in goid2statement_lib[1].items()])"
   ]
  },
  {
   "cell_type": "code",
   "execution_count": 37,
   "metadata": {
    "collapsed": false,
    "deletable": true,
    "editable": true
   },
   "outputs": [],
   "source": [
    "gs0, gs1 = goid2statement_lib[0], goid2statement_lib[1]"
   ]
  },
  {
   "cell_type": "code",
   "execution_count": 42,
   "metadata": {
    "collapsed": true,
    "deletable": true,
    "editable": true
   },
   "outputs": [],
   "source": [
    "d0, d1 = dict(), dict()\n",
    "for statements in gs0.values():\n",
    "    for s in statements:\n",
    "        d0[s.statid] = s.evidences\n",
    "\n",
    "for statements in gs1.values():\n",
    "    for s in statements:\n",
    "        d1[s.statid] = s.evidences\n",
    "\n"
   ]
  },
  {
   "cell_type": "code",
   "execution_count": 44,
   "metadata": {
    "collapsed": false,
    "deletable": true,
    "editable": true
   },
   "outputs": [
    {
     "data": {
      "text/plain": [
       "Counter({0: 14233, 1: 15936})"
      ]
     },
     "execution_count": 44,
     "metadata": {},
     "output_type": "execute_result"
    }
   ],
   "source": [
    "ck = []\n",
    "for statid, mcs in d0.items():\n",
    "    if mcs == d1[statid]:\n",
    "        ck.append(1)\n",
    "    else:\n",
    "        ck.append(0)\n",
    "Counter(ck)"
   ]
  },
  {
   "cell_type": "code",
   "execution_count": 45,
   "metadata": {
    "collapsed": false,
    "deletable": true,
    "editable": true,
    "scrolled": true
   },
   "outputs": [
    {
     "data": {
      "text/plain": [
       "0.4717756637608141"
      ]
     },
     "execution_count": 45,
     "metadata": {},
     "output_type": "execute_result"
    }
   ],
   "source": [
    "14233/len(ck)"
   ]
  },
  {
   "cell_type": "code",
   "execution_count": 46,
   "metadata": {
    "collapsed": false,
    "deletable": true,
    "editable": true
   },
   "outputs": [
    {
     "data": {
      "text/plain": [
       "30169"
      ]
     },
     "execution_count": 46,
     "metadata": {},
     "output_type": "execute_result"
    }
   ],
   "source": [
    "len(ck)"
   ]
  },
  {
   "cell_type": "code",
   "execution_count": 43,
   "metadata": {
    "collapsed": false,
    "deletable": true,
    "editable": true,
    "scrolled": false
   },
   "outputs": [
    {
     "data": {
      "text/plain": [
       "(30169, 30169)"
      ]
     },
     "execution_count": 43,
     "metadata": {},
     "output_type": "execute_result"
    }
   ],
   "source": [
    "len(d0), len(d1)"
   ]
  },
  {
   "cell_type": "code",
   "execution_count": 38,
   "metadata": {
    "collapsed": false,
    "deletable": true,
    "editable": true
   },
   "outputs": [
    {
     "data": {
      "text/plain": [
       "Counter({0: 682, 1: 23655})"
      ]
     },
     "execution_count": 38,
     "metadata": {},
     "output_type": "execute_result"
    }
   ],
   "source": [
    "\n",
    "    if gs0[goid] == gs1[goid]:\n",
    "        m.append(1)\n",
    "    else:\n",
    "        m.append(0)\n",
    "        \n",
    "from collections import Counter\n",
    "Counter(m)"
   ]
  },
  {
   "cell_type": "code",
   "execution_count": 39,
   "metadata": {
    "collapsed": false,
    "deletable": true,
    "editable": true
   },
   "outputs": [
    {
     "data": {
      "text/plain": [
       "24337"
      ]
     },
     "execution_count": 39,
     "metadata": {},
     "output_type": "execute_result"
    }
   ],
   "source": [
    "len(gs0)"
   ]
  },
  {
   "cell_type": "code",
   "execution_count": 33,
   "metadata": {
    "collapsed": false,
    "deletable": true,
    "editable": true
   },
   "outputs": [
    {
     "data": {
      "text/plain": [
       "(ClusterBook <30933 clusters, 61054 terms>,\n",
       " ClusterBook <21738 clusters, 61054 terms>)"
      ]
     },
     "execution_count": 33,
     "metadata": {},
     "output_type": "execute_result"
    }
   ],
   "source": [
    "cb0, cb1"
   ]
  },
  {
   "cell_type": "code",
   "execution_count": 34,
   "metadata": {
    "collapsed": false,
    "deletable": true,
    "editable": true
   },
   "outputs": [
    {
     "name": "stdout",
     "output_type": "stream",
     "text": [
      "Cluster(Entity(lemma='purine nucleotide', ref='GO:0017076'))<1 terms>\n"
     ]
    }
   ],
   "source": [
    "for c in cb0.clusters:\n",
    "    print(c)\n",
    "    break"
   ]
  },
  {
   "cell_type": "code",
   "execution_count": 30,
   "metadata": {
    "collapsed": false,
    "deletable": true,
    "editable": true
   },
   "outputs": [
    {
     "data": {
      "text/plain": [
       "'0.333'"
      ]
     },
     "execution_count": 30,
     "metadata": {},
     "output_type": "execute_result"
    }
   ],
   "source": [
    "'{:.3f}'.format(1/3)"
   ]
  },
  {
   "cell_type": "code",
   "execution_count": 3,
   "metadata": {
    "collapsed": false,
    "deletable": true,
    "editable": true
   },
   "outputs": [],
   "source": [
    "from experiment import corpus as c\n",
    "corpus = c.Corpus.from_dir('data/craft-1.0/articles/txt', 'testing')"
   ]
  },
  {
   "cell_type": "code",
   "execution_count": 4,
   "metadata": {
    "collapsed": false,
    "deletable": true,
    "editable": true
   },
   "outputs": [
    {
     "data": {
      "text/plain": [
       "Corpus<67 documents, 21646 sentences, 'testing'>"
      ]
     },
     "execution_count": 4,
     "metadata": {},
     "output_type": "execute_result"
    }
   ],
   "source": [
    "corpus"
   ]
  },
  {
   "cell_type": "code",
   "execution_count": null,
   "metadata": {
    "collapsed": true,
    "deletable": true,
    "editable": true
   },
   "outputs": [],
   "source": []
  }
 ],
 "metadata": {
  "kernelspec": {
   "display_name": "Python 3",
   "language": "python",
   "name": "python3"
  },
  "language_info": {
   "codemirror_mode": {
    "name": "ipython",
    "version": 3
   },
   "file_extension": ".py",
   "mimetype": "text/x-python",
   "name": "python",
   "nbconvert_exporter": "python",
   "pygments_lexer": "ipython3",
   "version": "3.5.0"
  }
 },
 "nbformat": 4,
 "nbformat_minor": 2
}
