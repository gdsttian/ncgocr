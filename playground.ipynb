{
 "cells": [
  {
   "cell_type": "code",
   "execution_count": 1,
   "metadata": {
    "collapsed": false,
    "deletable": true,
    "editable": true
   },
   "outputs": [],
   "source": [
    "from mcgocr import Craft, GoData, CandidateFinder, SolidExtractor, CandidateFinder, Index, LabelMarker\n",
    "from mcgocr import bulk_measurements, recover, evaluate, Evidence, Statement, Entity, Pattern, Constraint\n",
    "from experiment import Report, MetaReport, Corpus, Sentence, Candidate"
   ]
  },
  {
   "cell_type": "code",
   "execution_count": 2,
   "metadata": {
    "collapsed": true,
    "deletable": true,
    "editable": true
   },
   "outputs": [],
   "source": [
    "from sklearn.feature_extraction import FeatureHasher\n",
    "from sklearn import svm"
   ]
  },
  {
   "cell_type": "code",
   "execution_count": 3,
   "metadata": {
    "collapsed": false,
    "deletable": true,
    "editable": true,
    "scrolled": true
   },
   "outputs": [
    {
     "name": "stdout",
     "output_type": "stream",
     "text": [
      "Reading the corpus...\n",
      "Reading the goldstandard of GO...\n"
     ]
    }
   ],
   "source": [
    "craft = Craft('data')\n",
    "corpus = craft.get_corpus()\n",
    "goldstandard = craft.get_goldstandard()\n",
    "godata = GoData.load('data/go/go_20071128.pickle')"
   ]
  },
  {
   "cell_type": "code",
   "execution_count": 4,
   "metadata": {
    "collapsed": false,
    "deletable": true,
    "editable": true
   },
   "outputs": [
    {
     "name": "stderr",
     "output_type": "stream",
     "text": [
      "100% (29447 of 29447) |###################| Elapsed Time: 0:00:02 Time: 0:00:02\n"
     ]
    }
   ],
   "source": [
    "import progressbar\n",
    "from collections import defaultdict\n",
    "\n",
    "bar = progressbar.ProgressBar()\n",
    "pmid2key = dict()\n",
    "ten_corpora = corpus.divide(10)\n",
    "for i, corp in enumerate(ten_corpora):\n",
    "    pmid2key.update({pmid: i for pmid in corp.doc_set()})\n",
    "    \n",
    "term_indeces = defaultdict(Index)\n",
    "for pmid, goid, start, end, text in bar(goldstandard):\n",
    "    if '...' in text:\n",
    "        continue\n",
    "    key = pmid2key[pmid]\n",
    "    for statement in godata[goid].statements:\n",
    "        terms = statement.terms()\n",
    "        if len(terms) == 1:\n",
    "            term = terms[0]\n",
    "            if text != term.lemma:\n",
    "                term_indeces[key][text].add(term)\n",
    "\n"
   ]
  },
  {
   "cell_type": "code",
   "execution_count": 5,
   "metadata": {
    "collapsed": false,
    "deletable": true,
    "editable": true,
    "scrolled": true
   },
   "outputs": [],
   "source": [
    "# Dump\n",
    "import pickle\n",
    "with open('data/auxiliary_term_indeces.pickle', 'wb') as f:\n",
    "    pickle.dump(term_indeces, f)\n",
    "\n",
    "with open('data/ten_fold_corpora.pickle', 'wb') as f:\n",
    "    pickle.dump(ten_corpora, f)"
   ]
  },
  {
   "cell_type": "code",
   "execution_count": 6,
   "metadata": {
    "collapsed": true,
    "deletable": true,
    "editable": true
   },
   "outputs": [],
   "source": [
    "# Load\n",
    "import pickle\n",
    "with open('data/auxiliary_term_indeces.pickle', 'rb') as f:\n",
    "    term_indeces = pickle.load(f)\n",
    "\n",
    "with open('data/ten_fold_corpora.pickle', 'rb') as f:\n",
    "    corpora = pickle.load(f)"
   ]
  },
  {
   "cell_type": "code",
   "execution_count": 9,
   "metadata": {
    "collapsed": true
   },
   "outputs": [],
   "source": [
    "def training_testing_auxililary_for(corpusid):\n",
    "    training_corpus = Corpus.join('training', [c for i, c in enumerate(ten_corpora) if i != corpusid])\n",
    "    testing_corpus = ten_corpora[corpusid]\n",
    "    term_index = Index.join([ix for i, ix in term_indeces.items() if i != corpusid])\n",
    "    auxiliary_extractor = SolidExtractor(term_index)\n",
    "    return training_corpus, testing_corpus, auxiliary_extractor"
   ]
  },
  {
   "cell_type": "code",
   "execution_count": 10,
   "metadata": {
    "collapsed": false,
    "deletable": true,
    "editable": true,
    "scrolled": false
   },
   "outputs": [],
   "source": [
    "#auxiliary_extractor = SolidExtractor(sum(term_indeces.values(), Index()))"
   ]
  },
  {
   "cell_type": "code",
   "execution_count": 11,
   "metadata": {
    "collapsed": false
   },
   "outputs": [],
   "source": [
    "training_corpus, testing_corpus, auxiliary_extractor = training_testing_auxililary_for(0)"
   ]
  },
  {
   "cell_type": "code",
   "execution_count": 14,
   "metadata": {
    "collapsed": false
   },
   "outputs": [
    {
     "data": {
      "text/plain": [
       "(Corpus<60 documents, 19362 sentences, 'training'>,\n",
       " Corpus<7 documents, 2284 sentences, 'CRAFT 1/10'>,\n",
       " Index<1909 key(s)>)"
      ]
     },
     "execution_count": 14,
     "metadata": {},
     "output_type": "execute_result"
    }
   ],
   "source": [
    "training_corpus, testing_corpus, auxiliary_extractor.term_index"
   ]
  },
  {
   "cell_type": "code",
   "execution_count": 20,
   "metadata": {
    "collapsed": true
   },
   "outputs": [],
   "source": [
    "def exp(title, training_corpus, testing_corpus, auxiliary_extractor, random_state=0):\n",
    "    finder = CandidateFinder(godata, auxiliary_extractor)\n",
    "    hasher = FeatureHasher(n_features=1024)\n",
    "    marker = LabelMarker(goldstandard)\n",
    "    classifier = svm.LinearSVC(max_iter=1000, random_state=random_state) \n",
    "    \n",
    "    training_candidates, testing_candidates = finder.bulk_findall(training_corpus), finder.bulk_findall(testing_corpus)\n",
    "    training_measurements, testing_measurements = bulk_measurements(training_candidates, godata), bulk_measurements(testing_candidates, godata)\n",
    "    training_X = hasher.fit_transform(training_measurements).toarray()\n",
    "    training_y = marker.markall(training_candidates)\n",
    "    \n",
    "    #training\n",
    "    classifier.fit(training_X, training_y)\n",
    "    \n",
    "    #testing\n",
    "    testing_X = hasher.transform(testing_measurements).toarray()\n",
    "    pred_y = classifier.predict(testing_X)\n",
    "    system = recover(testing_candidates, pred_y)\n",
    "    gold = {item for item in goldstandard if item[0] in testing_corpus.doc_set()}\n",
    "    return evaluate(system, gold, title)"
   ]
  },
  {
   "cell_type": "code",
   "execution_count": 21,
   "metadata": {
    "collapsed": false
   },
   "outputs": [
    {
     "name": "stdout",
     "output_type": "stream",
     "text": [
      "CPU times: user 8min 15s, sys: 1min 13s, total: 9min 29s\n",
      "Wall time: 9min 59s\n"
     ]
    },
    {
     "data": {
      "text/plain": [
       "Report<R56.84% P76.83% F65.34% '0'>"
      ]
     },
     "execution_count": 21,
     "metadata": {},
     "output_type": "execute_result"
    }
   ],
   "source": [
    "%%time\n",
    "exp('0', training_corpus, testing_corpus, auxiliary_extractor)"
   ]
  },
  {
   "cell_type": "code",
   "execution_count": 22,
   "metadata": {
    "collapsed": true
   },
   "outputs": [],
   "source": [
    "with open('data/candidates_from_grepc.pickle', 'rb') as f:\n",
    "    candidates = pickle.load(f)"
   ]
  },
  {
   "cell_type": "code",
   "execution_count": 23,
   "metadata": {
    "collapsed": true
   },
   "outputs": [],
   "source": [
    "doc_set = testing_corpus.doc_set()"
   ]
  },
  {
   "cell_type": "code",
   "execution_count": 25,
   "metadata": {
    "collapsed": false
   },
   "outputs": [],
   "source": [
    "training_grepc = []\n",
    "testing_grepc = []\n",
    "for candidate in candidates:\n",
    "    if candidate.sentence.docid in doc_set:\n",
    "        testing_grepc.append(candidate)\n",
    "    else:\n",
    "        training_grepc.append(candidate)"
   ]
  },
  {
   "cell_type": "code",
   "execution_count": 29,
   "metadata": {
    "collapsed": false,
    "scrolled": true
   },
   "outputs": [
    {
     "ename": "NameError",
     "evalue": "name 'title' is not defined",
     "output_type": "error",
     "traceback": [
      "\u001b[0;31m---------------------------------------------------------------------------\u001b[0m",
      "\u001b[0;31mNameError\u001b[0m                                 Traceback (most recent call last)",
      "\u001b[0;32m<ipython-input-29-279717cb33a6>\u001b[0m in \u001b[0;36m<module>\u001b[0;34m()\u001b[0m\n\u001b[1;32m     16\u001b[0m \u001b[0msystem\u001b[0m \u001b[0;34m=\u001b[0m \u001b[0mrecover\u001b[0m\u001b[0;34m(\u001b[0m\u001b[0mtesting_grepc\u001b[0m\u001b[0;34m,\u001b[0m \u001b[0mpred_y\u001b[0m\u001b[0;34m)\u001b[0m\u001b[0;34m\u001b[0m\u001b[0m\n\u001b[1;32m     17\u001b[0m \u001b[0mgold\u001b[0m \u001b[0;34m=\u001b[0m \u001b[0;34m{\u001b[0m\u001b[0mitem\u001b[0m \u001b[0;32mfor\u001b[0m \u001b[0mitem\u001b[0m \u001b[0;32min\u001b[0m \u001b[0mgoldstandard\u001b[0m \u001b[0;32mif\u001b[0m \u001b[0mitem\u001b[0m\u001b[0;34m[\u001b[0m\u001b[0;36m0\u001b[0m\u001b[0;34m]\u001b[0m \u001b[0;32min\u001b[0m \u001b[0mtesting_corpus\u001b[0m\u001b[0;34m.\u001b[0m\u001b[0mdoc_set\u001b[0m\u001b[0;34m(\u001b[0m\u001b[0;34m)\u001b[0m\u001b[0;34m}\u001b[0m\u001b[0;34m\u001b[0m\u001b[0m\n\u001b[0;32m---> 18\u001b[0;31m \u001b[0mreport\u001b[0m \u001b[0;34m=\u001b[0m \u001b[0mevaluate\u001b[0m\u001b[0;34m(\u001b[0m\u001b[0msystem\u001b[0m\u001b[0;34m,\u001b[0m \u001b[0mgold\u001b[0m\u001b[0;34m,\u001b[0m \u001b[0mtitle\u001b[0m\u001b[0;34m)\u001b[0m\u001b[0;34m\u001b[0m\u001b[0m\n\u001b[0m\u001b[1;32m     19\u001b[0m \u001b[0mreport\u001b[0m\u001b[0;34m\u001b[0m\u001b[0m\n",
      "\u001b[0;31mNameError\u001b[0m: name 'title' is not defined"
     ]
    }
   ],
   "source": [
    "finder = CandidateFinder(godata, auxiliary_extractor)\n",
    "hasher = FeatureHasher(n_features=1024)\n",
    "marker = LabelMarker(goldstandard)\n",
    "classifier = svm.LinearSVC(max_iter=1000, random_state=1) \n",
    "\n",
    "training_measurements, testing_measurements = bulk_measurements(training_grepc, godata), bulk_measurements(testing_grepc, godata)\n",
    "training_X = hasher.fit_transform(training_measurements).toarray()\n",
    "training_y = marker.markall(training_grepc)\n",
    "\n",
    "#training\n",
    "classifier.fit(training_X, training_y)\n",
    "\n",
    "#testing\n",
    "testing_X = hasher.transform(testing_measurements).toarray()\n",
    "pred_y = classifier.predict(testing_X)\n",
    "system = recover(testing_grepc, pred_y)\n",
    "gold = {item for item in goldstandard if item[0] in testing_corpus.doc_set()}\n",
    "report = evaluate(system, gold, None)\n",
    "report"
   ]
  },
  {
   "cell_type": "code",
   "execution_count": 33,
   "metadata": {
    "collapsed": false
   },
   "outputs": [
    {
     "data": {
      "text/plain": [
       "GoData<24337 concepts, 30171 statements, on 2007/11/28>"
      ]
     },
     "execution_count": 33,
     "metadata": {},
     "output_type": "execute_result"
    }
   ],
   "source": [
    "godata.values()"
   ]
  },
  {
   "cell_type": "code",
   "execution_count": 42,
   "metadata": {
    "collapsed": false,
    "scrolled": true
   },
   "outputs": [
    {
     "name": "stdout",
     "output_type": "stream",
     "text": [
      "Concept<GO:0000733 BP DNA strand renaturation>\n",
      "Statement<GO:0000733%000 Entity<DNA strand renaturation@GO:0000733>>\n",
      "\n",
      "Concept<GO:0021832 BP cell-cell adhesion involved in cerebral cortex tangential migration using cell-cell interactions>\n",
      "Statement<GO:0021832%000 Entity<cell-cell adhesion@GO:0021813> Constraint<cerebral cortex tangential migration using cell-cell interactions@GO:0021832>>\n",
      "\n",
      "Concept<GO:0048624 BP plantlet formation on parent plant>\n",
      "Statement<GO:0048624%000 Entity<plantlet formation on parent plant@GO:0048624>>\n",
      "\n",
      "Concept<GO:0002892 BP regulation of type II hypersensitivity>\n",
      "Statement<GO:0002892%000 Pattern<regulate@annotator> Entity<type II hypersensitivity@GO:0002892>>\n",
      "\n",
      "Concept<GO:0019961 MF interferon binding>\n",
      "Statement<GO:0019961%000 Entity<interferon@GO:0019961> Pattern<bind@annotator>>\n",
      "\n",
      "Concept<GO:0032290 BP myelin formation in the peripheral nervous system>\n",
      "Statement<GO:0032290%000 Entity<myelin@GO:0032289> Pattern<form@annotator> Constraint<peripheral nervous system@GO:0022011>>\n",
      "\n",
      "Concept<GO:0014826 BP vein smooth muscle contraction>\n",
      "Statement<GO:0014826%000 Entity<vein smooth muscle contraction@GO:0014826>>\n",
      "\n",
      "Concept<GO:0048597 BP post-embryonic camera-type eye morphogenesis>\n",
      "Statement<GO:0048597%000 Entity<post-embryonic camera-type eye morphogenesis@GO:0048597>>\n",
      "\n",
      "Concept<GO:0015414 MF nitrate transmembrane-transporting ATPase activity>\n",
      "Statement<GO:0015414%000 Entity<nitrate transmembrane-transporting ATPase@GO:0015414> Pattern<activity@annotator>>\n",
      "\n",
      "Concept<GO:0015414 MF nitrate transmembrane-transporting ATPase activity>\n",
      "Statement<GO:0015414%001 Entity<ATP phosphohydrolase (nitrate-importing)@GO:0015414>>\n",
      "\n",
      "Concept<GO:0015414 MF nitrate transmembrane-transporting ATPase activity>\n",
      "Statement<GO:0015414%002 Entity<nitrate ABC@GO:0015414> Pattern<transport@annotator>>\n",
      "\n",
      "Concept<GO:0031311 CC intrinsic to contractile vacuolar membrane>\n",
      "Statement<GO:0031311%000 Entity<intrinsic to contractile vacuolar membrane@GO:0031311>>\n",
      "\n"
     ]
    }
   ],
   "source": [
    "import random\n",
    "for concept in random.sample(list(godata.values()), 10):\n",
    "    for statement in concept.statements:\n",
    "        print(concept)\n",
    "        print(statement)\n",
    "        print()"
   ]
  },
  {
   "cell_type": "code",
   "execution_count": 30,
   "metadata": {
    "collapsed": false
   },
   "outputs": [
    {
     "data": {
      "text/plain": [
       "Report<R55.97% P81.57% F66.39% None>"
      ]
     },
     "execution_count": 30,
     "metadata": {},
     "output_type": "execute_result"
    }
   ],
   "source": [
    "report = evaluate(system, gold, None)\n",
    "report"
   ]
  },
  {
   "cell_type": "code",
   "execution_count": 31,
   "metadata": {
    "collapsed": false
   },
   "outputs": [
    {
     "data": {
      "text/plain": [
       "Index<47671 key(s)>"
      ]
     },
     "execution_count": 31,
     "metadata": {},
     "output_type": "execute_result"
    }
   ],
   "source": [
    "finder.extractor.extractors[0].term_index"
   ]
  },
  {
   "cell_type": "code",
   "execution_count": 9,
   "metadata": {
    "collapsed": false,
    "deletable": true,
    "editable": true,
    "scrolled": false
   },
   "outputs": [
    {
     "name": "stdout",
     "output_type": "stream",
     "text": [
      "CPU times: user 56 s, sys: 5.14 s, total: 1min 1s\n",
      "Wall time: 1min 37s\n"
     ]
    }
   ],
   "source": [
    "%%time\n",
    "finder = CandidateFinder(godata, auxiliary_extractor)"
   ]
  },
  {
   "cell_type": "code",
   "execution_count": 10,
   "metadata": {
    "collapsed": false,
    "deletable": true,
    "editable": true,
    "scrolled": false
   },
   "outputs": [
    {
     "name": "stdout",
     "output_type": "stream",
     "text": [
      "734457\n",
      "CPU times: user 49.4 s, sys: 1.72 s, total: 51.1 s\n",
      "Wall time: 1min 2s\n"
     ]
    }
   ],
   "source": [
    "%%time\n",
    "candidates = finder.bulk_findall(corpus)\n",
    "print(len(candidates))"
   ]
  },
  {
   "cell_type": "code",
   "execution_count": 11,
   "metadata": {
    "collapsed": true,
    "deletable": true,
    "editable": true
   },
   "outputs": [],
   "source": [
    "with open('data/candidates_from_grepc.pickle', 'rb') as f:\n",
    "    grepc_candidates = pickle.load(f)"
   ]
  },
  {
   "cell_type": "code",
   "execution_count": 12,
   "metadata": {
    "collapsed": true,
    "deletable": true,
    "editable": true
   },
   "outputs": [],
   "source": [
    "old_candidates = candidates"
   ]
  },
  {
   "cell_type": "code",
   "execution_count": 13,
   "metadata": {
    "collapsed": true,
    "deletable": true,
    "editable": true
   },
   "outputs": [],
   "source": [
    "candidates = grepc_candidates"
   ]
  },
  {
   "cell_type": "code",
   "execution_count": 14,
   "metadata": {
    "collapsed": false,
    "deletable": true,
    "editable": true,
    "scrolled": true
   },
   "outputs": [
    {
     "name": "stdout",
     "output_type": "stream",
     "text": [
      "CPU times: user 33.7 s, sys: 1.06 s, total: 34.7 s\n",
      "Wall time: 38.6 s\n"
     ]
    }
   ],
   "source": [
    "%%time \n",
    "measurements = bulk_measurements(candidates, godata)"
   ]
  },
  {
   "cell_type": "code",
   "execution_count": 11,
   "metadata": {
    "collapsed": true,
    "deletable": true,
    "editable": true
   },
   "outputs": [],
   "source": [
    "with open('data/measurements.pickle', 'wb') as f:\n",
    "    pickle.dump(measurements, f)"
   ]
  },
  {
   "cell_type": "code",
   "execution_count": 15,
   "metadata": {
    "collapsed": false,
    "deletable": true,
    "editable": true
   },
   "outputs": [
    {
     "name": "stdout",
     "output_type": "stream",
     "text": [
      "CPU times: user 9.82 s, sys: 3.71 s, total: 13.5 s\n",
      "Wall time: 18.7 s\n"
     ]
    }
   ],
   "source": [
    "%%time\n",
    "hasher = FeatureHasher(n_features=1024)\n",
    "X = hasher.fit_transform(measurements).toarray()"
   ]
  },
  {
   "cell_type": "code",
   "execution_count": 16,
   "metadata": {
    "collapsed": false,
    "deletable": true,
    "editable": true
   },
   "outputs": [
    {
     "name": "stdout",
     "output_type": "stream",
     "text": [
      "CPU times: user 32.6 s, sys: 2.77 s, total: 35.4 s\n",
      "Wall time: 40.6 s\n"
     ]
    }
   ],
   "source": [
    "%%time\n",
    "marker = LabelMarker(goldstandard)\n",
    "y = marker.markall(candidates)"
   ]
  },
  {
   "cell_type": "code",
   "execution_count": 17,
   "metadata": {
    "collapsed": false,
    "deletable": true,
    "editable": true
   },
   "outputs": [
    {
     "name": "stdout",
     "output_type": "stream",
     "text": [
      "CPU times: user 2min 35s, sys: 8.07 s, total: 2min 43s\n",
      "Wall time: 3min 50s\n"
     ]
    }
   ],
   "source": [
    "%%time\n",
    "seed = 1\n",
    "classifier = svm.LinearSVC(max_iter=1000, random_state=seed) \n",
    "classifier.fit(X, y)"
   ]
  },
  {
   "cell_type": "code",
   "execution_count": 18,
   "metadata": {
    "collapsed": false,
    "deletable": true,
    "editable": true
   },
   "outputs": [
    {
     "name": "stdout",
     "output_type": "stream",
     "text": [
      "CPU times: user 2.02 s, sys: 7.05 s, total: 9.07 s\n",
      "Wall time: 21.2 s\n"
     ]
    }
   ],
   "source": [
    "%%time\n",
    "pred_y = classifier.predict(X)"
   ]
  },
  {
   "cell_type": "code",
   "execution_count": 19,
   "metadata": {
    "collapsed": false,
    "deletable": true,
    "editable": true,
    "scrolled": false
   },
   "outputs": [
    {
     "data": {
      "text/plain": [
       "Report<R64.29% P81.52% F71.89% None>"
      ]
     },
     "execution_count": 19,
     "metadata": {},
     "output_type": "execute_result"
    }
   ],
   "source": [
    "system = recover(candidates, pred_y)\n",
    "evaluate(system, goldstandard, None)"
   ]
  },
  {
   "cell_type": "code",
   "execution_count": 17,
   "metadata": {
    "collapsed": false,
    "deletable": true,
    "editable": true,
    "scrolled": false
   },
   "outputs": [
    {
     "name": "stdout",
     "output_type": "stream",
     "text": [
      "CPU times: user 294 ms, sys: 49.7 ms, total: 344 ms\n",
      "Wall time: 410 ms\n"
     ]
    },
    {
     "data": {
      "text/plain": [
       "Report<R68.70% P79.28% F73.61% None>"
      ]
     },
     "execution_count": 17,
     "metadata": {},
     "output_type": "execute_result"
    }
   ],
   "source": [
    "evaluate(system, goldstandard, None)"
   ]
  },
  {
   "cell_type": "code",
   "execution_count": 18,
   "metadata": {
    "collapsed": false,
    "deletable": true,
    "editable": true,
    "scrolled": true
   },
   "outputs": [],
   "source": [
    "system_r = recover(candidates, [1]*len(candidates))"
   ]
  },
  {
   "cell_type": "code",
   "execution_count": 19,
   "metadata": {
    "collapsed": false,
    "deletable": true,
    "editable": true
   },
   "outputs": [
    {
     "data": {
      "text/plain": [
       "Report<R85.25% P4.06% F7.76% None>"
      ]
     },
     "execution_count": 19,
     "metadata": {},
     "output_type": "execute_result"
    }
   ],
   "source": [
    "evaluate(system_r, goldstandard, None)"
   ]
  },
  {
   "cell_type": "markdown",
   "metadata": {
    "deletable": true,
    "editable": true
   },
   "source": [
    "# Break"
   ]
  },
  {
   "cell_type": "code",
   "execution_count": 100,
   "metadata": {
    "collapsed": true,
    "deletable": true,
    "editable": true
   },
   "outputs": [],
   "source": [
    "text = 'make'\n",
    "sentence = Sentence(text, 0, 'diagnosing')\n",
    "grounds = finder.extractor.to_grounds(sentence)"
   ]
  },
  {
   "cell_type": "code",
   "execution_count": 101,
   "metadata": {
    "collapsed": false,
    "deletable": true,
    "editable": true,
    "scrolled": true
   },
   "outputs": [
    {
     "data": {
      "text/plain": [
       "Grounds(evidences=[Evidence(term=Entity(lemma='reproduction', ref='GO:0000003'), text='make', start=0, end=4)], sentence=Sentence(text='make', offset=0, docid='diagnosing'))"
      ]
     },
     "execution_count": 101,
     "metadata": {},
     "output_type": "execute_result"
    }
   ],
   "source": [
    "grounds"
   ]
  },
  {
   "cell_type": "code",
   "execution_count": 102,
   "metadata": {
    "collapsed": false,
    "deletable": true,
    "editable": true
   },
   "outputs": [
    {
     "data": {
      "text/plain": [
       "Grounds(evidences=[Evidence(term=Entity(lemma='reproduction', ref='GO:0000003'), text='make', start=0, end=4)], sentence=Sentence(text='make', offset=0, docid='diagnosing'))"
      ]
     },
     "execution_count": 102,
     "metadata": {},
     "output_type": "execute_result"
    }
   ],
   "source": [
    "auxiliary_extractor.to_grounds(sentence)"
   ]
  },
  {
   "cell_type": "code",
   "execution_count": 99,
   "metadata": {
    "collapsed": false,
    "deletable": true,
    "editable": true,
    "scrolled": true
   },
   "outputs": [
    {
     "name": "stdout",
     "output_type": "stream",
     "text": [
      "Grounds(evidences=[Evidence(term=Entity(lemma='reproduction', ref='GO:0000003'), text='make', start=0, end=4)], sentence=Sentence(text='make', offset=0, docid='diagnosing'))\n",
      "[Statement(statid='GO:0009058%000', evidences=[Evidence(term=Pattern(lemma='biosyntheprocess', ref='annotator'), text='biosyntheprocess', start=0, end=20)]), Statement(statid='GO:0009058%003', evidences=[Evidence(term=Pattern(lemma='form', ref='annotator'), text='form', start=0, end=9)])]\n"
     ]
    },
    {
     "data": {
      "text/plain": [
       "2"
      ]
     },
     "execution_count": 99,
     "metadata": {},
     "output_type": "execute_result"
    }
   ],
   "source": [
    "diagnose('make', 'GO:0009058')"
   ]
  },
  {
   "cell_type": "code",
   "execution_count": 70,
   "metadata": {
    "collapsed": false,
    "deletable": true,
    "editable": true
   },
   "outputs": [
    {
     "data": {
      "text/plain": [
       "[Statement(statid='GO:0022607%000', evidences=[Evidence(term=Entity(lemma='cellular component', ref='GO:0022607'), text='cellular component', start=0, end=18), Evidence(term=Pattern(lemma='biosyntheprocess', ref='annotator'), text='biosyntheprocess', start=19, end=27)])]"
      ]
     },
     "execution_count": 70,
     "metadata": {},
     "output_type": "execute_result"
    }
   ],
   "source": [
    "godata['GO:0022607'].statements"
   ]
  },
  {
   "cell_type": "code",
   "execution_count": 29,
   "metadata": {
    "collapsed": false,
    "deletable": true,
    "editable": true
   },
   "outputs": [
    {
     "data": {
      "text/plain": [
       "(OrderedDict([('GOID', 'GO:0032801'),\n",
       "              ('STATID', 'GO:0032801%000'),\n",
       "              ('NAMESPACE', 'biological_process'),\n",
       "              ('LENGTH', 8),\n",
       "              ('TEXT', 'receptor'),\n",
       "              ('TEXT[:3]', 'rec'),\n",
       "              ('TEXT[-3:]', 'tor'),\n",
       "              ('OMIT=catabolprocess', True),\n",
       "              ('SATURATION', 0.5)]),\n",
       " Candidate<GO:0032801%000 evidences=[Evidence(term=Entity(lemma='receptor', ref='GO:0032800'), text='receptor', start=909, end=917)] sentence=Sentence(text='Homozygosity for a null allele of the carbonic anhydrase II gene (Car2n) does not alter IOP while homozygosity for a mutation in the leptin receptor gene (Leprdb) that causes obesity and diabetes results in increased IOP. ', offset=769, docid='11532192')>)"
      ]
     },
     "execution_count": 29,
     "metadata": {},
     "output_type": "execute_result"
    }
   ],
   "source": [
    "measurements[15], candidates[15]"
   ]
  },
  {
   "cell_type": "code",
   "execution_count": 26,
   "metadata": {
    "collapsed": false,
    "deletable": true,
    "editable": true,
    "scrolled": true
   },
   "outputs": [
    {
     "name": "stdout",
     "output_type": "stream",
     "text": [
      "induced Statement(statid='GO:0044006%000', evidences=[Evidence(term=Entity(lemma='induction', ref='GO:0052286'), text='induction', start=0, end=9), Evidence(term=Constraint(lemma='symbiont in host of tumor, nodule, or growth containing transformed cells', ref='GO:0044006'), text='symbiont in host of tumor, nodule, or growth containing transformed cells', start=13, end=86)])\n",
      "\n",
      "promotes Statement(statid='GO:0052501%000', evidences=[Evidence(term=Pattern(lemma='positregulate', ref='annotator'), text='positregulate', start=0, end=19), Evidence(term=Constraint(lemma='organism of apoptosis in other organism during symbiotic interaction', ref='GO:0052501'), text='organism of apoptosis in other organism during symbiotic interaction', start=23, end=91)])\n",
      "\n",
      "protein Statement(statid='GO:0030163%000', evidences=[Evidence(term=Entity(lemma='protein', ref='GO:0045732'), text='protein', start=0, end=7), Evidence(term=Pattern(lemma='catabolprocess', ref='annotator'), text='catabolprocess', start=8, end=25)])\n",
      "\n",
      "inhibit Statement(statid='GO:0052085%000', evidences=[Evidence(term=Pattern(lemma='negatregulate', ref='annotator'), text='negatregulate', start=0, end=19), Evidence(term=Constraint(lemma='symbiont of host T-cell mediated immune response', ref='GO:0052085'), text='symbiont of host T-cell mediated immune response', start=23, end=71)])\n",
      "\n",
      "regulation Statement(statid='GO:0052298%000', evidences=[Evidence(term=Pattern(lemma='regulate', ref='annotator'), text='regulate', start=0, end=10), Evidence(term=Constraint(lemma='organism of induced systemic resistance in other organism during symbiotic interaction', ref='GO:0052298'), text='organism of induced systemic resistance in other organism during symbiotic interaction', start=14, end=100)])\n",
      "\n",
      "stimulated Statement(statid='GO:0052064%000', evidences=[Evidence(term=Entity(lemma='induction', ref='GO:0052286'), text='induction', start=0, end=9), Evidence(term=Constraint(lemma='symbiont of defense-related host reactive oxygen species', ref='GO:0052064'), text='symbiont of defense-related host reactive oxygen species', start=13, end=69)])\n",
      "\n",
      "inhibition Statement(statid='GO:0052282%000', evidences=[Evidence(term=Pattern(lemma='negatregulate', ref='annotator'), text='negatregulate', start=0, end=19), Evidence(term=Constraint(lemma='organism of defense-related callose deposition in other organism during symbiotic interaction', ref='GO:0052282'), text='organism of defense-related callose deposition in other organism during symbiotic interaction', start=23, end=116)])\n",
      "\n",
      "splicing Statement(statid='GO:0000375%000', evidences=[Evidence(term=Entity(lemma='RNA splicing', ref='GO:0033120'), text='RNA splicing', start=0, end=12), Evidence(term=Constraint(lemma='transesterification reactions', ref='GO:0000375'), text='transesterification reactions', start=18, end=47)])\n",
      "\n",
      "localization Statement(statid='GO:0051668%000', evidences=[Evidence(term=Entity(lemma='localization within membrane', ref='GO:0051668'), text='localization within membrane', start=0, end=28)])\n",
      "\n",
      "promoters Statement(statid='GO:0052388%000', evidences=[Evidence(term=Entity(lemma='induction', ref='GO:0052286'), text='induction', start=0, end=9), Evidence(term=Constraint(lemma='organism of apoptosis in other organism during symbiotic interaction', ref='GO:0052501'), text='organism of apoptosis in other organism during symbiotic interaction', start=13, end=81)])\n",
      "\n"
     ]
    }
   ],
   "source": [
    "import random\n",
    "for item in random.sample(Out[19].fp, 10):\n",
    "    pmid, goid, _, _, text = item\n",
    "    print(text, godata[goid].statements[0])\n",
    "    print()"
   ]
  },
  {
   "cell_type": "code",
   "execution_count": 24,
   "metadata": {
    "collapsed": false,
    "deletable": true,
    "editable": true,
    "scrolled": true
   },
   "outputs": [
    {
     "data": {
      "text/plain": [
       "[Candidate<GO:0032502%001 evidences=[Evidence(term=Pattern(lemma='develop', ref='annotator'), text='Generated', start=0, end=9)] sentence=Sentence(text='Generated', offset=0, docid='fake')>,\n",
       " Candidate<GO:0009790%001 evidences=[Evidence(term=Pattern(lemma='develop', ref='annotator'), text='Generated', start=0, end=9)] sentence=Sentence(text='Generated', offset=0, docid='fake')>,\n",
       " Candidate<GO:0032502%000 evidences=[Evidence(term=Pattern(lemma='develop', ref='annotator'), text='Generated', start=0, end=9)] sentence=Sentence(text='Generated', offset=0, docid='fake')>]"
      ]
     },
     "execution_count": 24,
     "metadata": {},
     "output_type": "execute_result"
    }
   ],
   "source": [
    "godata['GO:0009058']\n",
    "sentence = Sentence('Generated', 0, 'fake')\n",
    "finder.findall(sentence)"
   ]
  },
  {
   "cell_type": "code",
   "execution_count": 27,
   "metadata": {
    "collapsed": false,
    "deletable": true,
    "editable": true,
    "scrolled": true
   },
   "outputs": [
    {
     "data": {
      "text/plain": [
       "Index<0 key(s)>"
      ]
     },
     "execution_count": 27,
     "metadata": {},
     "output_type": "execute_result"
    }
   ],
   "source": [
    "term_indeces['generated']"
   ]
  },
  {
   "cell_type": "code",
   "execution_count": 33,
   "metadata": {
    "collapsed": false,
    "deletable": true,
    "editable": true,
    "scrolled": false
   },
   "outputs": [
    {
     "data": {
      "text/plain": [
       "False"
      ]
     },
     "execution_count": 33,
     "metadata": {},
     "output_type": "execute_result"
    }
   ],
   "source": [
    "sentence = Sentence('cells are GluR cell', 0, '123')\n",
    "Entity(lemma='cell', ref='GO:0048468') in finder.recognizer.stat_index"
   ]
  },
  {
   "cell_type": "code",
   "execution_count": 43,
   "metadata": {
    "collapsed": true,
    "deletable": true,
    "editable": true
   },
   "outputs": [],
   "source": [
    "def has_entity(statement):\n",
    "    if any([isinstance(term, Entity) for term in statement.terms()]):\n",
    "        return True\n",
    "    return False"
   ]
  },
  {
   "cell_type": "code",
   "execution_count": 44,
   "metadata": {
    "collapsed": true,
    "deletable": true,
    "editable": true
   },
   "outputs": [],
   "source": [
    "statement = Statement(statid='GO:0005623%000', evidences=[Evidence(term=Entity(lemma='cell', ref='GO:0005623'), text='cell', start=0, end=4)])"
   ]
  },
  {
   "cell_type": "code",
   "execution_count": 47,
   "metadata": {
    "collapsed": false,
    "deletable": true,
    "editable": true
   },
   "outputs": [
    {
     "name": "stdout",
     "output_type": "stream",
     "text": [
      "Entity(lemma='cell', ref='GO:0005623')\n"
     ]
    }
   ],
   "source": [
    "for term in statement.terms():\n",
    "    if has_entity(statement) and isinstance(term, Entity):\n",
    "        print(term)\n",
    "    elif not has_entity(statement):\n",
    "        print(term)"
   ]
  },
  {
   "cell_type": "code",
   "execution_count": null,
   "metadata": {
    "collapsed": true,
    "deletable": true,
    "editable": true
   },
   "outputs": [],
   "source": [
    "Entity(lemma='cell', ref='GO:0048468')"
   ]
  },
  {
   "cell_type": "code",
   "execution_count": 52,
   "metadata": {
    "collapsed": false,
    "deletable": true,
    "editable": true
   },
   "outputs": [],
   "source": [
    "sentence = Sentence('cells', 0, '123')"
   ]
  },
  {
   "cell_type": "code",
   "execution_count": 55,
   "metadata": {
    "collapsed": false,
    "deletable": true,
    "editable": true
   },
   "outputs": [
    {
     "data": {
      "text/plain": [
       "Grounds(evidences=[Evidence(term=Entity(lemma='cell', ref='GO:0048468'), text='cells', start=0, end=5)], sentence=Sentence(text='cells', offset=0, docid='123'))"
      ]
     },
     "execution_count": 55,
     "metadata": {},
     "output_type": "execute_result"
    }
   ],
   "source": [
    "grounds = finder.extractor.to_grounds(sentence)\n",
    "grounds"
   ]
  },
  {
   "cell_type": "code",
   "execution_count": 53,
   "metadata": {
    "collapsed": false,
    "deletable": true,
    "editable": true,
    "scrolled": false
   },
   "outputs": [
    {
     "data": {
      "text/plain": [
       "[]"
      ]
     },
     "execution_count": 53,
     "metadata": {},
     "output_type": "execute_result"
    }
   ],
   "source": [
    "finder.findall(sentence)"
   ]
  },
  {
   "cell_type": "code",
   "execution_count": 48,
   "metadata": {
    "collapsed": false,
    "deletable": true,
    "editable": true
   },
   "outputs": [
    {
     "data": {
      "text/plain": [
       "set()"
      ]
     },
     "execution_count": 48,
     "metadata": {},
     "output_type": "execute_result"
    }
   ],
   "source": [
    "finder.recognizer.stat_index[Entity(lemma='cell', ref='GO:0048468')]"
   ]
  },
  {
   "cell_type": "code",
   "execution_count": 9,
   "metadata": {
    "collapsed": false,
    "deletable": true,
    "editable": true
   },
   "outputs": [
    {
     "data": {
      "text/html": [
       "\n",
       "                <audio controls=\"controls\" >\n",
       "                    <source src=\"data:audio/mpeg;base64,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\" type=\"audio/mpeg\" />\n",
       "                    Your browser does not support the audio element.\n",
       "                </audio>\n",
       "              "
      ],
      "text/plain": [
       "<IPython.lib.display.Audio object>"
      ]
     },
     "execution_count": 9,
     "metadata": {},
     "output_type": "execute_result"
    }
   ],
   "source": [
    "import IPython\n",
    "IPython.display.Audio(\"data/xylophone-tone-26481.mp3\")"
   ]
  },
  {
   "cell_type": "code",
   "execution_count": 97,
   "metadata": {
    "collapsed": false,
    "deletable": true,
    "editable": true
   },
   "outputs": [
    {
     "data": {
      "text/plain": [
       "Report<R75.63% P6.08% F11.25% None>"
      ]
     },
     "execution_count": 97,
     "metadata": {},
     "output_type": "execute_result"
    }
   ],
   "source": [
    "system = recover(candidates, [1] * len(candidates))\n",
    "evaluate(system, goldstandard, None)"
   ]
  },
  {
   "cell_type": "code",
   "execution_count": 98,
   "metadata": {
    "collapsed": false,
    "deletable": true,
    "editable": true,
    "scrolled": true
   },
   "outputs": [
    {
     "data": {
      "text/plain": [
       "[('15314659', 'GO:0002378', 18015, 18028, 'Ab production'),\n",
       " ('17447844', 'GO:0022607', 1021, 1027, 'formed'),\n",
       " ('16216087', 'GO:0007608', 43496, 43505, 'olfactory'),\n",
       " ('17696610', 'GO:0050896', 2805, 2813, 'responds'),\n",
       " ('17447844', 'GO:0045184', 26402666, 26542674, 'recruitment of ... proteins'),\n",
       " ('14737183', 'GO:0043473', 54678, 54690, 'pigmentation'),\n",
       " ('15588329', 'GO:0006897', 2522025253, 2522925261, 'Endocytic ... pathways'),\n",
       " ('14737183', 'GO:0065007', 3864, 3871, 'control'),\n",
       " ('15061865', 'GO:0048019', 16702, 16713, 'antagonists'),\n",
       " ('15760270', 'GO:0019432', 53811, 53833, 'Triglyceride synthesis')]"
      ]
     },
     "execution_count": 98,
     "metadata": {},
     "output_type": "execute_result"
    }
   ],
   "source": [
    "import random \n",
    "random.sample(Out[97].fn, 10)"
   ]
  },
  {
   "cell_type": "code",
   "execution_count": 102,
   "metadata": {
    "collapsed": false,
    "deletable": true,
    "editable": true,
    "scrolled": true
   },
   "outputs": [
    {
     "data": {
      "text/plain": [
       "[Statement(statid='GO:0065007%000', evidences=[Evidence(term=Pattern(lemma='regulate', ref='annotator'), text='regulate', start=0, end=21)])]"
      ]
     },
     "execution_count": 102,
     "metadata": {},
     "output_type": "execute_result"
    }
   ],
   "source": [
    "godata['GO:0065007'].statements"
   ]
  },
  {
   "cell_type": "code",
   "execution_count": 105,
   "metadata": {
    "collapsed": false,
    "deletable": true,
    "editable": true
   },
   "outputs": [
    {
     "data": {
      "text/plain": [
       "[<mcgocr.extractor.SolidExtractor at 0x103cec048>,\n",
       " <mcgocr.extractor.SoftExtractor at 0x103cec2b0>,\n",
       " <mcgocr.extractor.SolidExtractor at 0x103cec198>]"
      ]
     },
     "execution_count": 105,
     "metadata": {},
     "output_type": "execute_result"
    }
   ],
   "source": [
    "for extractor in finder.extractor.extractors:\n",
    "    "
   ]
  },
  {
   "cell_type": "code",
   "execution_count": 103,
   "metadata": {
    "collapsed": false,
    "deletable": true,
    "editable": true,
    "scrolled": true
   },
   "outputs": [
    {
     "data": {
      "text/plain": [
       "Concept<GO:0065007 BP biological regulation>"
      ]
     },
     "execution_count": 103,
     "metadata": {},
     "output_type": "execute_result"
    }
   ],
   "source": [
    "godata['GO:0065007']"
   ]
  },
  {
   "cell_type": "code",
   "execution_count": 100,
   "metadata": {
    "collapsed": false,
    "deletable": true,
    "editable": true,
    "scrolled": true
   },
   "outputs": [
    {
     "data": {
      "text/plain": [
       "[Candidate<GO:0002087%000 evidences=[Evidence(term=Entity(lemma='neurological control of breathing', ref='GO:0002087'), text='control', start=0, end=7)] sentence=Sentence(text='control', offset=0, docid='TEST')>]"
      ]
     },
     "execution_count": 100,
     "metadata": {},
     "output_type": "execute_result"
    }
   ],
   "source": [
    "s = Sentence('control', 0, 'TEST')\n",
    "c = finder.findall(s)\n",
    "c"
   ]
  },
  {
   "cell_type": "code",
   "execution_count": 34,
   "metadata": {
    "collapsed": true,
    "deletable": true,
    "editable": true
   },
   "outputs": [],
   "source": [
    "hasher = FeatureHasher(n_features=1024)\n",
    "marker = LabelMarker(goldstandard)\n",
    "classifier = svm.LinearSVC(max_iter=1000, random_state=seed)\n",
    "\n",
    "def experiment(message, training_corpus, testing_corpus):\n",
    "    \n",
    "    training_candidates = finder.bulk_findall(training_corpus)\n",
    "    training_measurements = bulk_measurements(training_candidates, godata)\n",
    "    training_X = hasher.fit_transform(training_measurements).toarray()\n",
    "    training_y = marker.markall(training_candidates)\n",
    "    \n",
    "    #training\n",
    "    classifier.fit(training_X, training_y)\n",
    "    \n",
    "    #testing\n",
    "    testing_candidates = finder.bulk_findall(testing_corpus)\n",
    "    testing_measurements = bulk_measurements(testing_candidates, godata)\n",
    "    testing_X = hasher.fit_transform(testing_measurements).toarray()\n",
    "    testing_y = marker.markall(testing_candidates)\n",
    "    pred_y = classifier.predict(testing_X)\n",
    "    \n",
    "    #evaluate\n",
    "    system = recover(testing_candidates, pred_y)\n",
    "    docset = testing_corpus.doc_set()\n",
    "    gold = [item for item in goldstandard if item[0] in docset]\n",
    "    \n",
    "    return evaluate(system, gold, message)"
   ]
  },
  {
   "cell_type": "code",
   "execution_count": 30,
   "metadata": {
    "collapsed": false,
    "deletable": true,
    "editable": true
   },
   "outputs": [],
   "source": [
    "testing_corpus = ten_corpora[0]\n",
    "training_corpus = sum(ten_corpora[1:], Corpus('training corpus'))"
   ]
  },
  {
   "cell_type": "code",
   "execution_count": 32,
   "metadata": {
    "collapsed": false,
    "deletable": true,
    "editable": true
   },
   "outputs": [
    {
     "data": {
      "text/plain": [
       "Corpus<60 documents, 19162 sentences, 'training corpus|CRAFT 2/10|CRAFT 3/10|CRAFT 4/10|CRAFT 5/10|CRAFT 6/10|CRAFT 7/10|CRAFT 8/10|CRAFT 9/10|CRAFT 10/10'>"
      ]
     },
     "execution_count": 32,
     "metadata": {},
     "output_type": "execute_result"
    }
   ],
   "source": [
    "training_corpus"
   ]
  },
  {
   "cell_type": "code",
   "execution_count": 36,
   "metadata": {
    "collapsed": false,
    "deletable": true,
    "editable": true,
    "scrolled": true
   },
   "outputs": [
    {
     "data": {
      "text/plain": [
       "Report<R63.43% P79.38% F70.52% 'go'>"
      ]
     },
     "execution_count": 36,
     "metadata": {},
     "output_type": "execute_result"
    }
   ],
   "source": [
    "experiment('go', training_corpus, testing_corpus, hasher, marker, classifier)"
   ]
  },
  {
   "cell_type": "code",
   "execution_count": 38,
   "metadata": {
    "collapsed": true,
    "deletable": true,
    "editable": true
   },
   "outputs": [],
   "source": [
    "source_filenames = [\n",
    "     '20170205-152215_Ten fold validation: 1 in 10',\n",
    "     '20170205-153105_Ten fold validation: 2 in 10',\n",
    "     '20170205-154019_Ten fold validation: 3 in 10',\n",
    "     '20170205-154928_Ten fold validation: 4 in 10',\n",
    "     '20170205-155728_Ten fold validation: 5 in 10',\n",
    "     '20170205-160528_Ten fold validation: 6 in 10',\n",
    "     '20170205-161314_Ten fold validation: 7 in 10',\n",
    "     '20170205-162122_Ten fold validation: 8 in 10',\n",
    "     '20170205-163106_Ten fold validation: 9 in 10',\n",
    "     '20170205-164131_Ten fold validation: 10 in 10']"
   ]
  },
  {
   "cell_type": "code",
   "execution_count": null,
   "metadata": {
    "collapsed": true,
    "deletable": true,
    "editable": true
   },
   "outputs": [],
   "source": [
    "\n",
    "def meta_experiment(recipie, seed=1):\n",
    "    title, feature_names = recipie\n",
    "    print(title)\n",
    "    reports = []\n",
    "    for filename in source_filenames:\n",
    "        subtitle = filename.partition('_')[2]\n",
    "        filepath = '../grepc/data/history/experiments/{}/prefilter.pickle'.format(filename)\n",
    "        feature_filter = partial(feature_remove_filter, feature_names=feature_names) \n",
    "        report = experiment(subtitle, filepath, feature_filter, seed)\n",
    "        reports.append(report)\n",
    "    metareport = MetaReport(title, reports)\n",
    "    write_metareport(metareport)\n",
    "    print(metareport)\n"
   ]
  },
  {
   "cell_type": "code",
   "execution_count": 39,
   "metadata": {
    "collapsed": false,
    "deletable": true,
    "editable": true
   },
   "outputs": [],
   "source": [
    "for filename in source_filenames[:1]:\n",
    "    subtitle = filename.partition('_')[2]\n",
    "    filepath = '../grepc/data/history/experiments/{}/prefilter.pickle'.format(filename)"
   ]
  },
  {
   "cell_type": "code",
   "execution_count": 87,
   "metadata": {
    "collapsed": false,
    "deletable": true,
    "editable": true
   },
   "outputs": [],
   "source": [
    "with open('data/candidates_from_grepc.pickle', 'rb') as f:\n",
    "    grepc_candidates = pickle.load(f)"
   ]
  },
  {
   "cell_type": "code",
   "execution_count": 62,
   "metadata": {
    "collapsed": false,
    "deletable": true,
    "editable": true
   },
   "outputs": [
    {
     "data": {
      "text/plain": [
       "497641"
      ]
     },
     "execution_count": 62,
     "metadata": {},
     "output_type": "execute_result"
    }
   ],
   "source": [
    "len(candidates)"
   ]
  },
  {
   "cell_type": "code",
   "execution_count": 85,
   "metadata": {
    "collapsed": false,
    "deletable": true,
    "editable": true
   },
   "outputs": [
    {
     "data": {
      "text/plain": [
       "experiment.corpus.Candidate"
      ]
     },
     "execution_count": 85,
     "metadata": {},
     "output_type": "execute_result"
    }
   ],
   "source": [
    "Candidate"
   ]
  },
  {
   "cell_type": "code",
   "execution_count": 84,
   "metadata": {
    "collapsed": false,
    "deletable": true,
    "editable": true
   },
   "outputs": [
    {
     "data": {
      "text/plain": [
       "(497641, 397816, 0)"
      ]
     },
     "execution_count": 84,
     "metadata": {},
     "output_type": "execute_result"
    }
   ],
   "source": [
    "s0 = set(candidates)\n",
    "s1 = set(grepc_candidates)\n",
    "len(s0), len(s1), len(s0 & s1)"
   ]
  },
  {
   "cell_type": "code",
   "execution_count": 75,
   "metadata": {
    "collapsed": true,
    "deletable": true,
    "editable": true
   },
   "outputs": [],
   "source": [
    "s = Sentence(text='\\nLittle is known about genetic factors affecting intraocular pressure (IOP) in mice and other mammals. ', offset=101, docid='11532192')"
   ]
  },
  {
   "cell_type": "code",
   "execution_count": 80,
   "metadata": {
    "collapsed": false,
    "deletable": true,
    "editable": true,
    "scrolled": true
   },
   "outputs": [],
   "source": [
    "for c in grepc_candidates:\n",
    "    if c.sentence == s:\n",
    "        a = c\n",
    "        break"
   ]
  },
  {
   "cell_type": "code",
   "execution_count": 78,
   "metadata": {
    "collapsed": false,
    "deletable": true,
    "editable": true
   },
   "outputs": [
    {
     "data": {
      "text/plain": [
       "True"
      ]
     },
     "execution_count": 78,
     "metadata": {},
     "output_type": "execute_result"
    }
   ],
   "source": [
    "a = '''Candidate<GO:0001917%000 evidences=[Evidence(term=Entity(lemma='photoreceptor inner segment', ref='GO:0001917'), text='is', start=109, end=111)] sentence=Sentence(text='\\nLittle is known about genetic factors affecting intraocular pressure (IOP) in mice and other mammals. ', offset=101, docid='11532192')>'''\n",
    "b = '''Candidate<GO:0001917%000 evidences=[Evidence(term=Entity(lemma='photoreceptor inner segment', ref='GO:0001917'), text='is', start=109, end=111)] sentence=Sentence(text='\\nLittle is known about genetic factors affecting intraocular pressure (IOP) in mice and other mammals. ', offset=101, docid='11532192')>'''\n",
    "a == b"
   ]
  },
  {
   "cell_type": "code",
   "execution_count": 81,
   "metadata": {
    "collapsed": false,
    "deletable": true,
    "editable": true
   },
   "outputs": [],
   "source": [
    "for c in grepc_candidates:\n",
    "    if c.sentence == s:\n",
    "        b = c"
   ]
  },
  {
   "cell_type": "code",
   "execution_count": 83,
   "metadata": {
    "collapsed": false,
    "deletable": true,
    "editable": true,
    "scrolled": false
   },
   "outputs": [
    {
     "data": {
      "text/plain": [
       "{Candidate<GO:0001917%000 evidences=[Evidence(term=Entity(lemma='photoreceptor inner segment', ref='GO:0001917'), text='is', start=109, end=111)] sentence=Sentence(text='\\nLittle is known about genetic factors affecting intraocular pressure (IOP) in mice and other mammals. ', offset=101, docid='11532192')>}"
      ]
     },
     "execution_count": 83,
     "metadata": {},
     "output_type": "execute_result"
    }
   ],
   "source": [
    "set([a, b])"
   ]
  },
  {
   "cell_type": "code",
   "execution_count": null,
   "metadata": {
    "collapsed": true,
    "deletable": true,
    "editable": true
   },
   "outputs": [],
   "source": [
    "for c in candidates"
   ]
  },
  {
   "cell_type": "code",
   "execution_count": 67,
   "metadata": {
    "collapsed": false,
    "deletable": true,
    "editable": true
   },
   "outputs": [
    {
     "data": {
      "text/plain": [
       "397816"
      ]
     },
     "execution_count": 67,
     "metadata": {},
     "output_type": "execute_result"
    }
   ],
   "source": [
    "len(s1-s0)"
   ]
  },
  {
   "cell_type": "code",
   "execution_count": 63,
   "metadata": {
    "collapsed": false,
    "deletable": true,
    "editable": true,
    "scrolled": true
   },
   "outputs": [
    {
     "data": {
      "text/plain": [
       "397816"
      ]
     },
     "execution_count": 63,
     "metadata": {},
     "output_type": "execute_result"
    }
   ],
   "source": [
    "len(grepc_candidates)"
   ]
  },
  {
   "cell_type": "code",
   "execution_count": 48,
   "metadata": {
    "collapsed": false,
    "deletable": true,
    "editable": true
   },
   "outputs": [
    {
     "ename": "ImportError",
     "evalue": "No module named 'grepc'",
     "output_type": "error",
     "traceback": [
      "\u001b[0;31m---------------------------------------------------------------------------\u001b[0m",
      "\u001b[0;31mImportError\u001b[0m                               Traceback (most recent call last)",
      "\u001b[0;32m<ipython-input-48-3fe8af90b9b5>\u001b[0m in \u001b[0;36m<module>\u001b[0;34m()\u001b[0m\n\u001b[1;32m      4\u001b[0m \u001b[0mBasket\u001b[0m \u001b[0;34m=\u001b[0m \u001b[0mnamedtuple\u001b[0m\u001b[0;34m(\u001b[0m\u001b[0;34m'Basket'\u001b[0m\u001b[0;34m,\u001b[0m \u001b[0;34m'candidates more_info'\u001b[0m\u001b[0;34m)\u001b[0m\u001b[0;34m\u001b[0m\u001b[0m\n\u001b[1;32m      5\u001b[0m \u001b[0;32mwith\u001b[0m \u001b[0mopen\u001b[0m\u001b[0;34m(\u001b[0m\u001b[0mfilepath\u001b[0m\u001b[0;34m,\u001b[0m \u001b[0;34m'rb'\u001b[0m\u001b[0;34m)\u001b[0m \u001b[0;32mas\u001b[0m \u001b[0mf\u001b[0m\u001b[0;34m:\u001b[0m\u001b[0;34m\u001b[0m\u001b[0m\n\u001b[0;32m----> 6\u001b[0;31m     \u001b[0mthing\u001b[0m \u001b[0;34m=\u001b[0m \u001b[0mpickle\u001b[0m\u001b[0;34m.\u001b[0m\u001b[0mload\u001b[0m\u001b[0;34m(\u001b[0m\u001b[0mf\u001b[0m\u001b[0;34m)\u001b[0m\u001b[0;34m\u001b[0m\u001b[0m\n\u001b[0m",
      "\u001b[0;31mImportError\u001b[0m: No module named 'grepc'"
     ]
    }
   ],
   "source": [
    "import pickle\n",
    "from collections import namedtuple\n",
    "from mcgocr import Candidate\n",
    "Basket = namedtuple('Basket', 'candidates more_info')\n",
    "with open(filepath, 'rb') as f:\n",
    "    thing = pickle.load(f)"
   ]
  },
  {
   "cell_type": "code",
   "execution_count": 43,
   "metadata": {
    "collapsed": false,
    "deletable": true,
    "editable": true
   },
   "outputs": [],
   "source": [
    "with open('data/measurements0.pickle', 'wb') as f:\n",
    "    pickle.dump(measurements, f)"
   ]
  },
  {
   "cell_type": "code",
   "execution_count": 49,
   "metadata": {
    "collapsed": false,
    "deletable": true,
    "editable": true
   },
   "outputs": [],
   "source": [
    "with open('../grepc/data/history/meta_experments/20170212-215431_Reasonable Best seed 1/metareport.pickle', 'rb') as f:\n",
    "    metareport = pickle.load(f)"
   ]
  },
  {
   "cell_type": "code",
   "execution_count": 51,
   "metadata": {
    "collapsed": false,
    "deletable": true,
    "editable": true
   },
   "outputs": [
    {
     "data": {
      "text/plain": [
       "[Report<R81.14% P79.23% F80.17% 'Ten fold validation: 1 in 10'>,\n",
       " Report<R73.57% P80.93% F77.08% 'Ten fold validation: 2 in 10'>,\n",
       " Report<R83.45% P82.37% F82.91% 'Ten fold validation: 3 in 10'>,\n",
       " Report<R76.79% P81.59% F79.12% 'Ten fold validation: 4 in 10'>,\n",
       " Report<R82.79% P83.44% F83.12% 'Ten fold validation: 5 in 10'>,\n",
       " Report<R79.72% P80.55% F80.14% 'Ten fold validation: 6 in 10'>,\n",
       " Report<R80.98% P82.71% F81.84% 'Ten fold validation: 7 in 10'>,\n",
       " Report<R82.77% P78.96% F80.82% 'Ten fold validation: 8 in 10'>,\n",
       " Report<R77.08% P78.67% F77.87% 'Ten fold validation: 9 in 10'>,\n",
       " Report<R76.84% P81.45% F79.07% 'Ten fold validation: 10 in 10'>]"
      ]
     },
     "execution_count": 51,
     "metadata": {},
     "output_type": "execute_result"
    }
   ],
   "source": [
    "metareport.reports"
   ]
  },
  {
   "cell_type": "code",
   "execution_count": 22,
   "metadata": {
    "collapsed": false,
    "deletable": true,
    "editable": true,
    "scrolled": false
   },
   "outputs": [
    {
     "data": {
      "text/plain": [
       "497641"
      ]
     },
     "execution_count": 22,
     "metadata": {},
     "output_type": "execute_result"
    }
   ],
   "source": [
    "len(y)"
   ]
  },
  {
   "cell_type": "code",
   "execution_count": 26,
   "metadata": {
    "collapsed": false,
    "deletable": true,
    "editable": true,
    "scrolled": false
   },
   "outputs": [],
   "source": [
    "pred_y = classifier.predict(X)"
   ]
  },
  {
   "cell_type": "code",
   "execution_count": 27,
   "metadata": {
    "collapsed": false,
    "deletable": true,
    "editable": true
   },
   "outputs": [],
   "source": [
    "system = recover(candidates, pred_y)"
   ]
  },
  {
   "cell_type": "code",
   "execution_count": 31,
   "metadata": {
    "collapsed": false,
    "deletable": true,
    "editable": true
   },
   "outputs": [
    {
     "data": {
      "text/plain": [
       "Report<R72.26% P74.00% F73.12% None>"
      ]
     },
     "execution_count": 31,
     "metadata": {},
     "output_type": "execute_result"
    }
   ],
   "source": [
    "evaluate(system, goldstandard, None)"
   ]
  },
  {
   "cell_type": "code",
   "execution_count": 43,
   "metadata": {
    "collapsed": false,
    "deletable": true,
    "editable": true,
    "scrolled": false
   },
   "outputs": [
    {
     "data": {
      "text/plain": [
       "[<mcgocr.extractor.SolidExtractor at 0x119507eb8>,\n",
       " <mcgocr.extractor.SoftExtractor at 0x119507a58>,\n",
       " <mcgocr.extractor.SolidExtractor at 0x11387b6d8>]"
      ]
     },
     "execution_count": 43,
     "metadata": {},
     "output_type": "execute_result"
    }
   ],
   "source": [
    "finder.extractor.extractors"
   ]
  },
  {
   "cell_type": "code",
   "execution_count": 38,
   "metadata": {
    "collapsed": false,
    "deletable": true,
    "editable": true,
    "scrolled": true
   },
   "outputs": [
    {
     "data": {
      "text/plain": [
       "9062"
      ]
     },
     "execution_count": 38,
     "metadata": {},
     "output_type": "execute_result"
    }
   ],
   "source": [
    "len(report.fn)"
   ]
  },
  {
   "cell_type": "code",
   "execution_count": 41,
   "metadata": {
    "collapsed": false,
    "deletable": true,
    "editable": true
   },
   "outputs": [
    {
     "data": {
      "text/plain": [
       "[('17020410', 'GO:0000739', 9249, 9262, 'Hybridisation'),\n",
       " ('12925238', 'GO:0005509', 23612384, 23662391, 'Ca2+- ... binding'),\n",
       " ('15836427', 'GO:0065007', 3477, 3484, 'control'),\n",
       " ('15760270', 'GO:0051866', 59365962, 59495968, 'adaptation to ... stress'),\n",
       " ('15921521', 'GO:0000003', 26879, 26887, 'breeding'),\n",
       " ('16700629', 'GO:0000739', 19857, 19870, 'hybridization'),\n",
       " ('15876356', 'GO:0016534', 12408, 12429, 'activator of cyclin 5'),\n",
       " ('16216087', 'GO:0008066', 39440, 39444, 'GluR'),\n",
       " ('16110338', 'GO:0033592', 48145, 48158, 'hybridization'),\n",
       " ('16216087', 'GO:0008066', 1112, 1116, 'GluR'),\n",
       " ('15876356', 'GO:0051179', 6183, 6195, 'distribution'),\n",
       " ('15314659', 'GO:0005694', 39614, 39625, 'Chromosomes'),\n",
       " ('14611657', 'GO:0009058', 45371, 45379, 'produced'),\n",
       " ('16110338', 'GO:0048518', 5648256494, 5648456503, 'up ... regulated'),\n",
       " ('17425782', 'GO:0015925', 15610, 15613, 'gal'),\n",
       " ('15345036', 'GO:0048771', 41290, 41300, 'remodeling'),\n",
       " ('17194222', 'GO:0009058', 46459, 46469, 'Generation'),\n",
       " ('15676071', 'GO:0022607', 20713, 20722, 'generated'),\n",
       " ('16579849', 'GO:0000003', 8399, 8406, 'produce'),\n",
       " ('17069463',\n",
       "  'GO:0006094',\n",
       "  2634826373,\n",
       "  2635826383,\n",
       "  'production ... of glucose'),\n",
       " ('15320950',\n",
       "  'GO:0016324',\n",
       "  26012645,\n",
       "  26192650,\n",
       "  'apical membrane of ... cells'),\n",
       " ('15328533', 'GO:0006936', 7549, 7560, 'contraction'),\n",
       " ('17194222', 'GO:0007389', 36267, 36274, 'specify'),\n",
       " ('16539743',\n",
       "  'GO:0021982',\n",
       "  4040540447,\n",
       "  4041940459,\n",
       "  'development of ... pineal gland'),\n",
       " ('16433929', 'GO:0022616', 37698, 37707, 'extension'),\n",
       " ('15492776', 'GO:0000003', 52965, 52969, 'make'),\n",
       " ('15630473', 'GO:0005912', 51515, 51532, 'adherens junction'),\n",
       " ('15328533',\n",
       "  'GO:0006631',\n",
       "  1536915392,\n",
       "  1537915402,\n",
       "  'fatty-acid ... metabolism'),\n",
       " ('17083276', 'GO:0000786', 19013, 19024, 'nucleosomal'),\n",
       " ('17069463', 'GO:0009058', 19049, 19058, 'generated'),\n",
       " ('17083276', 'GO:0008219', 1947619488, 1948419493, 'death in ... cells'),\n",
       " ('15760270', 'GO:0009409', 7735, 7760, 'response to cold exposure'),\n",
       " ('15676071',\n",
       "  'GO:0042461',\n",
       "  17421768,\n",
       "  17561782,\n",
       "  'development of ... photoreceptors'),\n",
       " ('16109169', 'GO:0032502', 29874, 29885, 'development'),\n",
       " ('16121255', 'GO:0015267', 3424, 3428, 'pore'),\n",
       " ('15040800', 'GO:0015248', 42644272, 42704283, 'sterol ... transporter'),\n",
       " ('14737183', 'GO:0032502', 29383, 29407, 'developmental mechanisms'),\n",
       " ('14723793', 'GO:0022616', 19178, 19187, 'extension'),\n",
       " ('16109169', 'GO:0001708', 12996, 13001, 'fated'),\n",
       " ('17194222',\n",
       "  'GO:0009948',\n",
       "  364236633687,\n",
       "  365836813691,\n",
       "  'establishment of ... anterior-posterior ... axis'),\n",
       " ('15630473', 'GO:0009058', 44034, 44043, 'generated'),\n",
       " ('16121255', 'GO:0007165', 1715, 1724, 'signaling'),\n",
       " ('15314655', 'GO:0003700', 3581, 3602, 'transcription factors'),\n",
       " ('15314655', 'GO:0000739', 37488, 37501, 'hybridization'),\n",
       " ('16362077', 'GO:0000003', 41685, 41695, 'Generation'),\n",
       " ('15917436', 'GO:0009058', 7546, 7554, 'prepared'),\n",
       " ('15061865', 'GO:0001670', 8273, 8276, 'D2R'),\n",
       " ('15550985', 'GO:0007411', 838, 851, 'axon guidance'),\n",
       " ('17022820', 'GO:0030568', 23929, 23940, 'antiplasmin'),\n",
       " ('16121255', 'GO:0016020', 31022, 31031, 'membranes'),\n",
       " ('12925238', 'GO:0019722', 5154, 5187, 'Ca2+-dependent signaling pathways'),\n",
       " ('16110338', 'GO:0000739', 15316, 15329, 'hybridization'),\n",
       " ('17020410', 'GO:0009790', 6752, 6765, 'embryogenesis'),\n",
       " ('16216087', 'GO:0008066', 23428, 23432, 'GluR'),\n",
       " ('17425782', 'GO:0033592', 41192, 41202, 'hybridized'),\n",
       " ('16628246', 'GO:0009048', 40126, 40151, 'X-chromosome inactivation'),\n",
       " ('15760270', 'GO:0042592', 4735, 4754, 'homeostatic control'),\n",
       " ('15630473', 'GO:0045289', 46641, 46651, 'luciferase'),\n",
       " ('16221973', 'GO:0000003', 6325, 6334, 'generated'),\n",
       " ('15876356', 'GO:0032502', 8211, 8217, 'formed'),\n",
       " ('16110338', 'GO:0033592', 15605, 15618, 'hybridization'),\n",
       " ('15328533', 'GO:0003713', 20622, 20633, 'coactivator'),\n",
       " ('15005800', 'GO:0032502', 21314, 21323, 'formation'),\n",
       " ('16216087', 'GO:0045120', 44934, 44944, 'pronucleus'),\n",
       " ('16628246', 'GO:0033592', 45400, 45414, 'hybridisations'),\n",
       " ('17194222', 'GO:0032502', 31357, 31361, 'form'),\n",
       " ('11897010', 'GO:0015267', 6634, 6646, 'channel pore'),\n",
       " ('15676071', 'GO:0007416', 24954, 24968, 'Synaptogenesis'),\n",
       " ('17194222', 'GO:0043491', 44688, 44700, 'AKT pathways'),\n",
       " ('16221973', 'GO:0065004', 43680, 43709, 'protein–DNA complex formation'),\n",
       " ('15345036', 'GO:0032502', 15463, 15474, 'development'),\n",
       " ('17447844', 'GO:0001741', 29623, 29630, 'XY Body'),\n",
       " ('17083276', 'GO:0032502', 3234, 3245, 'development'),\n",
       " ('15917436', 'GO:0000732', 27181, 27189, 'displace'),\n",
       " ('15760270', 'GO:0048518', 4656, 4661, 'drive'),\n",
       " ('15836427', 'GO:0045165', 24611, 24620, 'committed'),\n",
       " ('15005800', 'GO:0007165', 38989, 38998, 'signaling'),\n",
       " ('14609438', 'GO:0008240', 24296, 24308, 'tripeptidase'),\n",
       " ('16110338', 'GO:0000739', 61231, 61244, 'hybridization'),\n",
       " ('15207008',\n",
       "  'GO:0035257',\n",
       "  120412271234,\n",
       "  121112291258,\n",
       "  'binding ... to ... nuclear hormone receptor'),\n",
       " ('14611657', 'GO:0004872', 330, 339, 'receptors'),\n",
       " ('17078885',\n",
       "  'GO:0051290',\n",
       "  4163,\n",
       "  4202,\n",
       "  'formation of heterotetrameric complexes'),\n",
       " ('14611657', 'GO:0004984', 13631, 13650, 'olfactory receptors'),\n",
       " ('14611657', 'GO:0004984', 27711, 27730, 'olfactory receptors'),\n",
       " ('15550985', 'GO:0032502', 1641, 1652, 'development'),\n",
       " ('14737183', 'GO:0032502', 23876, 23885, 'establish'),\n",
       " ('16362077', 'GO:0031099', 7416, 7428, 'regeneration'),\n",
       " ('17194222', 'GO:0007389', 35025, 35035, 'patterning'),\n",
       " ('15492776', 'GO:0065007', 33121, 33128, 'control'),\n",
       " ('15061865', 'GO:0035106', 4707, 4728, 'conditioned behaviors'),\n",
       " ('11897010', 'GO:0033592', 14978, 14987, 'annealing'),\n",
       " ('15492776', 'GO:0032502', 27622, 27631, 'formation'),\n",
       " ('16539743', 'GO:0048518', 32468, 32478, 'upregulate'),\n",
       " ('12925238', 'GO:0000003', 5333, 5342, 'generated'),\n",
       " ('15938754',\n",
       "  'GO:0045233',\n",
       "  1104311075,\n",
       "  1106211084,\n",
       "  'natural killer cell ... receptors'),\n",
       " ('15588329', 'GO:0016020', 4043, 4051, 'membrane'),\n",
       " ('16507151', 'GO:0000003', 12429, 12437, 'breeding'),\n",
       " ('17696610', 'GO:0022607', 23792, 23798, 'formed'),\n",
       " ('15550985', 'GO:0000003', 24246, 24256, 'Generation'),\n",
       " ('15314655', 'GO:0032991', 19427, 19436, 'complexes')]"
      ]
     },
     "execution_count": 41,
     "metadata": {},
     "output_type": "execute_result"
    }
   ],
   "source": [
    "list(report.fn)[:100]"
   ]
  },
  {
   "cell_type": "code",
   "execution_count": 40,
   "metadata": {
    "collapsed": false,
    "deletable": true,
    "editable": true,
    "scrolled": true
   },
   "outputs": [
    {
     "ename": "AttributeError",
     "evalue": "'Report' object has no attribute 'evaluate'",
     "output_type": "error",
     "traceback": [
      "\u001b[0;31m---------------------------------------------------------------------------\u001b[0m",
      "\u001b[0;31mAttributeError\u001b[0m                            Traceback (most recent call last)",
      "\u001b[0;32m<ipython-input-40-14bc320b57fc>\u001b[0m in \u001b[0;36m<module>\u001b[0;34m()\u001b[0m\n\u001b[0;32m----> 1\u001b[0;31m \u001b[0mreport2\u001b[0m \u001b[0;34m=\u001b[0m \u001b[0mreport\u001b[0m\u001b[0;34m.\u001b[0m\u001b[0mevaluate\u001b[0m\u001b[0;34m(\u001b[0m\u001b[0mhrs\u001b[0m\u001b[0;34m,\u001b[0m \u001b[0mthe_goldstandard\u001b[0m\u001b[0;34m,\u001b[0m \u001b[0;32mNone\u001b[0m\u001b[0;34m)\u001b[0m\u001b[0;34m\u001b[0m\u001b[0m\n\u001b[0m",
      "\u001b[0;31mAttributeError\u001b[0m: 'Report' object has no attribute 'evaluate'"
     ]
    }
   ],
   "source": [
    "report2 = report.evaluate(hrs, the_goldstandard, None)"
   ]
  },
  {
   "cell_type": "code",
   "execution_count": 44,
   "metadata": {
    "collapsed": false,
    "deletable": true,
    "editable": true,
    "scrolled": true
   },
   "outputs": [
    {
     "data": {
      "text/plain": [
       "2918"
      ]
     },
     "execution_count": 44,
     "metadata": {},
     "output_type": "execute_result"
    }
   ],
   "source": [
    "ds = corpus.doc_set()\n",
    "goldstand = [item for item in the_goldstandard if item[0] in ds]\n",
    "len(goldstand)"
   ]
  },
  {
   "cell_type": "code",
   "execution_count": 45,
   "metadata": {
    "collapsed": false,
    "deletable": true,
    "editable": true
   },
   "outputs": [
    {
     "name": "stderr",
     "output_type": "stream",
     "text": [
      "/Users/jeroyang/.pyenv/versions/mcgocr/lib/python3.5/site-packages/sklearn/utils/validation.py:395: DeprecationWarning: Passing 1d arrays as data is deprecated in 0.17 and will raise ValueError in 0.19. Reshape your data either using X.reshape(-1, 1) if your data has a single feature or X.reshape(1, -1) if it contains a single sample.\n",
      "  DeprecationWarning)\n"
     ]
    },
    {
     "ename": "ValueError",
     "evalue": "X has 56408 features per sample; expecting 1024",
     "output_type": "error",
     "traceback": [
      "\u001b[0;31m---------------------------------------------------------------------------\u001b[0m",
      "\u001b[0;31mValueError\u001b[0m                                Traceback (most recent call last)",
      "\u001b[0;32m<ipython-input-45-734fdce6ab07>\u001b[0m in \u001b[0;36m<module>\u001b[0;34m()\u001b[0m\n\u001b[1;32m      3\u001b[0m     \u001b[0mcandidates\u001b[0m\u001b[0;34m.\u001b[0m\u001b[0mextend\u001b[0m\u001b[0;34m(\u001b[0m\u001b[0mfinder\u001b[0m\u001b[0;34m.\u001b[0m\u001b[0mfindall\u001b[0m\u001b[0;34m(\u001b[0m\u001b[0msentence\u001b[0m\u001b[0;34m)\u001b[0m\u001b[0;34m)\u001b[0m\u001b[0;34m\u001b[0m\u001b[0m\n\u001b[1;32m      4\u001b[0m \u001b[0mX\u001b[0m \u001b[0;34m=\u001b[0m \u001b[0mmarker\u001b[0m\u001b[0;34m.\u001b[0m\u001b[0mmarkall\u001b[0m\u001b[0;34m(\u001b[0m\u001b[0mcandidates\u001b[0m\u001b[0;34m)\u001b[0m\u001b[0;34m\u001b[0m\u001b[0m\n\u001b[0;32m----> 5\u001b[0;31m \u001b[0mpred_y\u001b[0m \u001b[0;34m=\u001b[0m \u001b[0mhclf\u001b[0m\u001b[0;34m.\u001b[0m\u001b[0mpredict\u001b[0m\u001b[0;34m(\u001b[0m\u001b[0mX\u001b[0m\u001b[0;34m)\u001b[0m\u001b[0;34m\u001b[0m\u001b[0m\n\u001b[0m\u001b[1;32m      6\u001b[0m \u001b[0msystem\u001b[0m \u001b[0;34m=\u001b[0m \u001b[0mrecover\u001b[0m\u001b[0;34m(\u001b[0m\u001b[0mcandidates\u001b[0m\u001b[0;34m,\u001b[0m \u001b[0mpred_y\u001b[0m\u001b[0;34m)\u001b[0m\u001b[0;34m\u001b[0m\u001b[0m\n\u001b[1;32m      7\u001b[0m \u001b[0;32mfrom\u001b[0m \u001b[0mexperiment\u001b[0m \u001b[0;32mimport\u001b[0m \u001b[0mreport\u001b[0m\u001b[0;34m\u001b[0m\u001b[0m\n",
      "\u001b[0;32m/Users/jeroyang/.pyenv/versions/mcgocr/lib/python3.5/site-packages/sklearn/linear_model/base.py\u001b[0m in \u001b[0;36mpredict\u001b[0;34m(self, X)\u001b[0m\n\u001b[1;32m    334\u001b[0m             \u001b[0mPredicted\u001b[0m \u001b[0;32mclass\u001b[0m \u001b[0mlabel\u001b[0m \u001b[0mper\u001b[0m \u001b[0msample\u001b[0m\u001b[0;34m.\u001b[0m\u001b[0;34m\u001b[0m\u001b[0m\n\u001b[1;32m    335\u001b[0m         \"\"\"\n\u001b[0;32m--> 336\u001b[0;31m         \u001b[0mscores\u001b[0m \u001b[0;34m=\u001b[0m \u001b[0mself\u001b[0m\u001b[0;34m.\u001b[0m\u001b[0mdecision_function\u001b[0m\u001b[0;34m(\u001b[0m\u001b[0mX\u001b[0m\u001b[0;34m)\u001b[0m\u001b[0;34m\u001b[0m\u001b[0m\n\u001b[0m\u001b[1;32m    337\u001b[0m         \u001b[0;32mif\u001b[0m \u001b[0mlen\u001b[0m\u001b[0;34m(\u001b[0m\u001b[0mscores\u001b[0m\u001b[0;34m.\u001b[0m\u001b[0mshape\u001b[0m\u001b[0;34m)\u001b[0m \u001b[0;34m==\u001b[0m \u001b[0;36m1\u001b[0m\u001b[0;34m:\u001b[0m\u001b[0;34m\u001b[0m\u001b[0m\n\u001b[1;32m    338\u001b[0m             \u001b[0mindices\u001b[0m \u001b[0;34m=\u001b[0m \u001b[0;34m(\u001b[0m\u001b[0mscores\u001b[0m \u001b[0;34m>\u001b[0m \u001b[0;36m0\u001b[0m\u001b[0;34m)\u001b[0m\u001b[0;34m.\u001b[0m\u001b[0mastype\u001b[0m\u001b[0;34m(\u001b[0m\u001b[0mnp\u001b[0m\u001b[0;34m.\u001b[0m\u001b[0mint\u001b[0m\u001b[0;34m)\u001b[0m\u001b[0;34m\u001b[0m\u001b[0m\n",
      "\u001b[0;32m/Users/jeroyang/.pyenv/versions/mcgocr/lib/python3.5/site-packages/sklearn/linear_model/base.py\u001b[0m in \u001b[0;36mdecision_function\u001b[0;34m(self, X)\u001b[0m\n\u001b[1;32m    315\u001b[0m         \u001b[0;32mif\u001b[0m \u001b[0mX\u001b[0m\u001b[0;34m.\u001b[0m\u001b[0mshape\u001b[0m\u001b[0;34m[\u001b[0m\u001b[0;36m1\u001b[0m\u001b[0;34m]\u001b[0m \u001b[0;34m!=\u001b[0m \u001b[0mn_features\u001b[0m\u001b[0;34m:\u001b[0m\u001b[0;34m\u001b[0m\u001b[0m\n\u001b[1;32m    316\u001b[0m             raise ValueError(\"X has %d features per sample; expecting %d\"\n\u001b[0;32m--> 317\u001b[0;31m                              % (X.shape[1], n_features))\n\u001b[0m\u001b[1;32m    318\u001b[0m \u001b[0;34m\u001b[0m\u001b[0m\n\u001b[1;32m    319\u001b[0m         scores = safe_sparse_dot(X, self.coef_.T,\n",
      "\u001b[0;31mValueError\u001b[0m: X has 56408 features per sample; expecting 1024"
     ]
    }
   ],
   "source": [
    "candidates = []\n",
    "for sentence in corpus:\n",
    "    candidates.extend(finder.findall(sentence))\n",
    "measurements = \n",
    "X = hasher.fit_transform(measurements).toarray()\n",
    "pred_y = hclf.predict(X)\n",
    "system = recover(candidates, pred_y)\n",
    "from experiment import report\n",
    "report.evaluate(system, goldstand)"
   ]
  },
  {
   "cell_type": "code",
   "execution_count": 25,
   "metadata": {
    "collapsed": true,
    "deletable": true,
    "editable": true
   },
   "outputs": [],
   "source": [
    "import pickle\n",
    "\n",
    "with open('data/auxiliary_term_indeces.pickle', 'wb') as f:\n",
    "    pickle.dump(term_indeces, f)"
   ]
  },
  {
   "cell_type": "code",
   "execution_count": 26,
   "metadata": {
    "collapsed": true,
    "deletable": true,
    "editable": true
   },
   "outputs": [],
   "source": [
    "with open('data/ten_fold_corpora.pickle', 'wb') as f:\n",
    "    pickle.dump(ten_corpus, f)"
   ]
  },
  {
   "cell_type": "code",
   "execution_count": 24,
   "metadata": {
    "collapsed": false,
    "deletable": true,
    "editable": true,
    "scrolled": true
   },
   "outputs": [
    {
     "name": "stdout",
     "output_type": "stream",
     "text": [
      "alkaline phophatase {Entity(lemma='orthophosphoric-monoester phosphohydrolase (alkaline optimum)', ref='GO:0004035')}\n",
      "hormones {Entity(lemma='glycopeptide hormone', ref='GO:0005179')}\n",
      "β-Gal {Entity(lemma='lactose hydrolysis', ref='GO:0004565')}\n",
      "G2 {Entity(lemma='G2 phase', ref='GO:0051319')}\n",
      "transfected {Entity(lemma='DNA mediated transformation', ref='GO:0009294')}\n",
      "X-Inactivation {Entity(lemma='chromosome inactivation', ref='GO:0009048')}\n",
      "proliferative {Entity(lemma='cell proliferation', ref='GO:0008283')}\n",
      "Expressed {Pattern(lemma='geneexpress', ref='annotator')}\n",
      "implantation stage {Entity(lemma='embryo implantation', ref='GO:0007566')}\n",
      "development {Pattern(lemma='develop', ref='annotator')}\n",
      "death {Entity(lemma='death', ref='GO:0016265')}\n",
      "cellular {Entity(lemma='cell', ref='GO:0050865')}\n",
      "behavioural {Pattern(lemma='behaviorresponse', ref='annotator')}\n",
      "breakdown {Pattern(lemma='catabolprocess', ref='annotator')}\n",
      "scaffold {Entity(lemma='protein complex scaffold', ref='GO:0032947')}\n",
      "neo {Entity(lemma='kanamycin kinase (phosphorylating)', ref='GO:0008910')}\n",
      "attached {Entity(lemma='biological adhesion', ref='GO:0022610')}\n",
      "gluconeogenesis pathway {Entity(lemma='gluconeogenesis', ref='GO:0045721')}\n",
      "intracellular {Entity(lemma='intracellular', ref='GO:0046907')}\n",
      "neuroprotective {Entity(lemma='neuroprotection', ref='GO:0043526')}\n",
      "distribution {Entity(lemma='establishment and maintenance of localization', ref='GO:0051668')}\n",
      "copulation {Entity(lemma='copulation', ref='GO:0007620')}\n",
      "forming {Pattern(lemma='develop', ref='annotator')}\n",
      "attracting {Entity(lemma='positive chemotaxis', ref='GO:0050926')}\n",
      "hypoxanthin-guanin-phosphoribosyltransferase {Entity(lemma='GPRT', ref='GO:0004422')}\n",
      "projections {Entity(lemma='cell projection', ref='GO:0042995')}\n",
      "splice {Entity(lemma='RNA splicing', ref='GO:0033119')}\n",
      "kinesins {Entity(lemma='kinesin complex', ref='GO:0005871')}\n",
      "glutathione pathway {Entity(lemma='oxidized glutathione reduction', ref='GO:0006749')}\n",
      "phosphorylated {Entity(lemma='phosphorylation', ref='GO:0042327')}\n",
      "acrosome {Entity(lemma='acrosome', ref='GO:0001669')}\n",
      "actin-cross-linking {Entity(lemma='actin bundling', ref='GO:0051764')}\n",
      "cell cycle block {Entity(lemma='cell cycle arrest', ref='GO:0007050')}\n",
      "PGK {Entity(lemma='3-PGK', ref='GO:0004618')}\n",
      "cell death pathway {Entity(lemma='cell killing', ref='GO:0031341')}\n",
      "Na+/K+ ATPase pump {Entity(lemma='ATP phosphohydrolase (Na+/K+-exchanging)', ref='GO:0005391')}\n",
      "binding {Pattern(lemma='bind', ref='annotator'), Entity(lemma='ligand', ref='GO:0005488')}\n",
      "proprioceptive {Entity(lemma='proprioception', ref='GO:0019230')}\n",
      "responding {Entity(lemma='response to stimulus', ref='GO:0007610')}\n",
      "degraded {Pattern(lemma='catabolprocess', ref='annotator')}\n",
      "photoreceptor pathway {Entity(lemma='phototransduction', ref='GO:0007602')}\n",
      "tk {Entity(lemma='deoxythymidine kinase (phosphorylating)', ref='GO:0004797')}\n",
      "Axon {Entity(lemma='axon', ref='GO:0030424')}\n",
      "Mitosis {Constraint(lemma='mitosis', ref='GO:0000022')}\n",
      "stress kinases {Entity(lemma='SAPK', ref='GO:0016909')}\n",
      "Folding {Constraint(lemma='protein folding', ref='GO:0022417')}\n",
      "HK {Entity(lemma='hexokinase (phosphorylating)', ref='GO:0004396')}\n",
      "hearing {Entity(lemma='sensory perception of sound', ref='GO:0007605')}\n",
      "nuclear pores {Entity(lemma='nuclear pore complex', ref='GO:0051292')}\n",
      "behavior {Pattern(lemma='behaviorresponse', ref='annotator')}\n",
      "Metabolic {Pattern(lemma='metabolprocess', ref='annotator')}\n",
      "heterochromatic {Entity(lemma='heterochromatin', ref='GO:0031507')}\n",
      "express {Pattern(lemma='geneexpress', ref='annotator')}\n",
      "ER {Entity(lemma='endoplasmic reticulum', ref='GO:0005783')}\n",
      "destabilization {Entity(lemma='protein destabilization', ref='GO:0031648')}\n",
      "translated {Entity(lemma='translation', ref='GO:0032061')}\n",
      "elimination {Entity(lemma='programmed cell death', ref='GO:0012501')}\n",
      "developmentally {Pattern(lemma='develop', ref='annotator')}\n",
      "pregnant {Entity(lemma='female pregnancy', ref='GO:0007565')}\n",
      "meiotic {Constraint(lemma='meiosis I', ref='GO:0051758')}\n",
      "RNA polymerase II {Entity(lemma='DNA-directed RNA polymerase II, holoenzyme', ref='GO:0016591'), Entity(lemma='DNA-directed RNA polymerase II, core complex', ref='GO:0005665')}\n",
      "denaturing {Entity(lemma='protein denaturation', ref='GO:0030164'), Entity(lemma='DNA duplex unwinding', ref='GO:0032508')}\n",
      "Nuclei {Constraint(lemma='nucleus', ref='GO:0046825')}\n",
      "glutathione metabolism {Entity(lemma='oxidized glutathione reduction', ref='GO:0006749')}\n",
      "developmental {Pattern(lemma='develop', ref='annotator')}\n",
      "extracellular {Entity(lemma='extracellular', ref='GO:0006858')}\n",
      "digesting {Pattern(lemma='catabolprocess', ref='annotator')}\n",
      "Axons {Entity(lemma='axon', ref='GO:0030424')}\n",
      "Collagen {Entity(lemma='collagen', ref='GO:0033341')}\n",
      "chemoattractant {Entity(lemma='positive chemotaxis', ref='GO:0050926'), Entity(lemma='attractant', ref='GO:0042056')}\n",
      "cleavage {Entity(lemma='protein splicing', ref='GO:0030908')}\n",
      "spliced {Entity(lemma='RNA splicing', ref='GO:0033119')}\n",
      "generation {Pattern(lemma='biosyntheprocess', ref='annotator'), Pattern(lemma='form', ref='annotator'), Entity(lemma='reproduction', ref='GO:0000003')}\n",
      "process of silencing {Entity(lemma='gene silencing', ref='GO:0016458')}\n",
      "Developmental {Pattern(lemma='develop', ref='annotator')}\n",
      "stabilization {Entity(lemma='protein stabilization', ref='GO:0050821')}\n",
      "kinesin {Entity(lemma='kinesin complex', ref='GO:0005871')}\n",
      "cognitive {Entity(lemma='cognition', ref='GO:0050890')}\n",
      "cell death {Entity(lemma='cell killing', ref='GO:0031341')}\n",
      "gluconeogenesis {Entity(lemma='gluconeogenesis', ref='GO:0045721')}\n",
      "depolymerization of microtubules {Entity(lemma='microtubule depolymerization', ref='GO:0007026')}\n",
      "physiological pathways {Pattern(lemma='physiologprocess', ref='annotator'), Entity(lemma='biological_process', ref='GO:0008150')}\n",
      "G protein-coupled receptors {Entity(lemma='G-protein coupled receptor activity, unknown ligand', ref='GO:0004930')}\n",
      "axonal targeting {Constraint(lemma='axon guidance', ref='GO:0048843')}\n",
      "gastrulated {Entity(lemma='gastrulation', ref='GO:0007369')}\n",
      "proliferate {Entity(lemma='cell proliferation', ref='GO:0008283')}\n",
      "glycolytic pathway {Entity(lemma='glycolysis', ref='GO:0045821')}\n",
      "antibody {Entity(lemma='immunoglobulin complex', ref='GO:0019814')}\n",
      "nucleus {Constraint(lemma='nucleus', ref='GO:0046825')}\n",
      "cell motility {Entity(lemma='cell motility', ref='GO:0048870')}\n",
      "extension {Entity(lemma='RNA elongation', ref='GO:0032784'), Entity(lemma='DNA strand elongation', ref='GO:0022616')}\n",
      "G6PD {Entity(lemma='6-phosphoglucose dehydrogenas', ref='GO:0004345')}\n",
      "interfering {Entity(lemma='RNA interference', ref='GO:0016246')}\n",
      "branch {Entity(lemma='morphogenesis of a branching structure', ref='GO:0001763')}\n",
      "metabolize {Pattern(lemma='metabolprocess', ref='annotator')}\n",
      "depolarization {Entity(lemma='membrane depolarization', ref='GO:0051899')}\n",
      "responsive {Entity(lemma='response to stimulus', ref='GO:0007610')}\n",
      "complex {Entity(lemma='macromolecular complex', ref='GO:0032991')}\n",
      "ubiquitin ligase {Entity(lemma='E2', ref='GO:0004842')}\n",
      "Localization {Entity(lemma='establishment and maintenance of localization', ref='GO:0051668')}\n",
      "cadmium-responsive {Entity(lemma='response to cadmium ion', ref='GO:0046686')}\n",
      "aging {Entity(lemma='aging', ref='GO:0007568')}\n",
      "transcriptional start {Entity(lemma='transcription initiation', ref='GO:0006352')}\n",
      "neuroprotective function {Entity(lemma='neuroprotection', ref='GO:0043526')}\n",
      "reproduce {Entity(lemma='reproduction', ref='GO:0000003')}\n",
      "transfecting {Entity(lemma='DNA mediated transformation', ref='GO:0009294')}\n",
      "metabolic processes {Pattern(lemma='metabolprocess', ref='annotator')}\n",
      "NEO {Entity(lemma='kanamycin kinase (phosphorylating)', ref='GO:0008910')}\n",
      "arises {Pattern(lemma='biosyntheprocess', ref='annotator'), Pattern(lemma='form', ref='annotator')}\n",
      "NPC {Entity(lemma='nuclear pore complex', ref='GO:0051292')}\n",
      "cells {Entity(lemma='cell', ref='GO:0050865')}\n",
      "cytoplasm {Entity(lemma='cytoplasm', ref='GO:0005737')}\n",
      "branched {Entity(lemma='morphogenesis of a branching structure', ref='GO:0001763')}\n",
      "cellular homeostasis {Entity(lemma='cellular homeostasis', ref='GO:0019725')}\n",
      "cadmium response {Entity(lemma='response to cadmium ion', ref='GO:0046686')}\n",
      "Matings {Entity(lemma='mating', ref='GO:0007617')}\n",
      "splicing {Entity(lemma='RNA splicing', ref='GO:0033119')}\n",
      "mitosis {Constraint(lemma='mitosis', ref='GO:0000022')}\n",
      "Generation {Entity(lemma='reproduction', ref='GO:0000003')}\n",
      "Methylation {Entity(lemma='methylation', ref='GO:0032259')}\n",
      "prepared {Pattern(lemma='biosyntheprocess', ref='annotator'), Pattern(lemma='form', ref='annotator')}\n",
      "response {Entity(lemma='response to stimulus', ref='GO:0007610')}\n",
      "Synthesis {Pattern(lemma='biosyntheprocess', ref='annotator'), Pattern(lemma='form', ref='annotator')}\n",
      "reflex {Entity(lemma='reflex', ref='GO:0060004')}\n",
      "adhesion plaques {Entity(lemma='focal adhesion', ref='GO:0005925')}\n",
      "transformed {Entity(lemma='DNA mediated transformation', ref='GO:0009294')}\n",
      "migratory {Entity(lemma='cell migration', ref='GO:0021535')}\n",
      "regulates {Pattern(lemma='regulate', ref='annotator')}\n",
      "recombinase {Entity(lemma='strand transferase', ref='GO:0000150')}\n",
      "chromosome segregation {Entity(lemma='chromosome segregation', ref='GO:0051983')}\n",
      "glucose-6-phosphate dehydrogenase {Entity(lemma='6-phosphoglucose dehydrogenas', ref='GO:0004345')}\n",
      "transcriptional activator {Entity(lemma='transcription activating factor', ref='GO:0016563')}\n",
      "Birth {Entity(lemma='parturition', ref='GO:0007567')}\n",
      "Growth {Entity(lemma='growth', ref='GO:0040007')}\n",
      "developing {Pattern(lemma='develop', ref='annotator')}\n",
      "make {Pattern(lemma='biosyntheprocess', ref='annotator'), Pattern(lemma='form', ref='annotator')}\n",
      "expression {Pattern(lemma='geneexpress', ref='annotator')}\n",
      "dendrites {Entity(lemma='dendrite', ref='GO:0016358')}\n",
      "anti-apoptotic {Entity(lemma='anti-apoptosis', ref='GO:0045767')}\n",
      "Cell Cycle {Entity(lemma='cell cycle', ref='GO:0000074')}\n",
      "Hprt {Entity(lemma='GPRT', ref='GO:0004422')}\n",
      "differentiating {Pattern(lemma='celldifferentiate', ref='annotator')}\n",
      "M {Entity(lemma='M phase', ref='GO:0000279')}\n",
      "perished {Entity(lemma='death', ref='GO:0016265')}\n",
      "implantation {Entity(lemma='embryo implantation', ref='GO:0007566')}\n",
      "imprinted {Entity(lemma='genetic imprinting', ref='GO:0006349')}\n",
      "Sensory {Entity(lemma='sensory perception', ref='GO:0051931')}\n",
      "Chromosome {Entity(lemma='chromosome', ref='GO:0005694')}\n",
      "cell-cycle regulated {Entity(lemma='cell cycle control', ref='GO:0051726')}\n",
      "acute-phase {Entity(lemma='acute-phase response', ref='GO:0006953')}\n",
      "nuclear export receptor {Entity(lemma='NES receptor', ref='GO:0005049')}\n",
      "proteasome {Entity(lemma='proteasome complex (sensu Eukaryota)', ref='GO:0000502')}\n",
      "implant {Entity(lemma='embryo implantation', ref='GO:0007566')}\n",
      "propioceptive {Entity(lemma='proprioception', ref='GO:0019230')}\n",
      "terminal boutons {Entity(lemma='terminal button', ref='GO:0043195')}\n",
      "released {Entity(lemma='secretion', ref='GO:0032941')}\n",
      "digestion {Pattern(lemma='catabolprocess', ref='annotator')}\n",
      "nerve endings {Entity(lemma='nerve terminal', ref='GO:0043679')}\n",
      "cytosol compartments {Entity(lemma='cytoplasm', ref='GO:0005737')}\n",
      "Cadmium response {Entity(lemma='response to cadmium ion', ref='GO:0046686')}\n",
      "chemoattractant action {Entity(lemma='positive chemotaxis', ref='GO:0050926')}\n",
      "axon targeting {Constraint(lemma='axon guidance', ref='GO:0048843')}\n",
      "target-directed pathfinding {Constraint(lemma='axon guidance', ref='GO:0048843')}\n",
      "generates {Pattern(lemma='biosyntheprocess', ref='annotator'), Pattern(lemma='form', ref='annotator')}\n",
      "X chromosome {Entity(lemma='X chromosome', ref='GO:0000805')}\n",
      "silences {Entity(lemma='gene silencing', ref='GO:0016458')}\n",
      "regulating {Pattern(lemma='regulate', ref='annotator')}\n",
      "crossed-over {Entity(lemma='meiotic recombination', ref='GO:0007131')}\n",
      "expression of genes {Pattern(lemma='geneexpress', ref='annotator')}\n",
      "recruited {Entity(lemma='establishment of localization', ref='GO:0051234')}\n",
      "fed {Entity(lemma='drinking', ref='GO:0007631')}\n",
      "binds {Pattern(lemma='bind', ref='annotator'), Entity(lemma='ligand', ref='GO:0005488')}\n",
      "alternative splicing {Entity(lemma='splice site selection', ref='GO:0000380')}\n",
      "silencing {Entity(lemma='gene silencing', ref='GO:0016458')}\n",
      "silenced {Entity(lemma='gene silencing', ref='GO:0016458')}\n",
      "cell bodies {Entity(lemma='cell soma', ref='GO:0043025')}\n",
      "DNA-damage responses {Entity(lemma='response to DNA damage stimulus', ref='GO:0006974')}\n",
      "Modulates {Pattern(lemma='regulate', ref='annotator')}\n",
      "deaths {Entity(lemma='death', ref='GO:0016265')}\n",
      "localization of proteins {Entity(lemma='establishment and maintenance of protein localization', ref='GO:0045175')}\n",
      "reproduction {Entity(lemma='reproduction', ref='GO:0000003')}\n",
      "expressed {Pattern(lemma='geneexpress', ref='annotator')}\n",
      "cell proliferation {Entity(lemma='cell proliferation', ref='GO:0008283')}\n",
      "establish {Pattern(lemma='develop', ref='annotator'), Entity(lemma='reproduction', ref='GO:0000003')}\n",
      "chromosomal {Entity(lemma='chromosome', ref='GO:0005694')}\n",
      "chromosome {Entity(lemma='chromosome', ref='GO:0005694')}\n",
      "localizes {Entity(lemma='establishment and maintenance of localization', ref='GO:0051668')}\n",
      "DNA Methylation {Entity(lemma='DNA methylation', ref='GO:0006306')}\n",
      "localization {Entity(lemma='establishment and maintenance of localization', ref='GO:0051668')}\n",
      "microtubule {Entity(lemma='microtubule', ref='GO:0008017')}\n",
      "plasma membrane {Entity(lemma='plasma membrane', ref='GO:0005886')}\n",
      "differentiated {Pattern(lemma='celldifferentiate', ref='annotator')}\n",
      "Expression {Pattern(lemma='geneexpress', ref='annotator')}\n",
      "spectrin {Entity(lemma='spectrin', ref='GO:0030507')}\n",
      "metal homeostasis {Entity(lemma='metal ion homeostasis', ref='GO:0055065')}\n",
      "growing {Entity(lemma='growth', ref='GO:0040007')}\n",
      "creates {Pattern(lemma='biosyntheprocess', ref='annotator'), Pattern(lemma='form', ref='annotator')}\n",
      "attraction {Entity(lemma='positive chemotaxis', ref='GO:0050926')}\n",
      "Recombinase {Entity(lemma='strand transferase', ref='GO:0000150')}\n",
      "generated {Pattern(lemma='develop', ref='annotator'), Pattern(lemma='biosyntheprocess', ref='annotator'), Pattern(lemma='form', ref='annotator'), Entity(lemma='reproduction', ref='GO:0000003')}\n",
      "cytoskeletal elements {Entity(lemma='cytoskeletal part', ref='GO:0044430')}\n",
      "denatured {Entity(lemma='protein denaturation', ref='GO:0030164')}\n",
      "G1 stage {Entity(lemma='G1 phase', ref='GO:0051318')}\n",
      "induction of apoptosis {Constraint(lemma='induction of apoptosis', ref='GO:0001844')}\n",
      "vesicles {Entity(lemma='vesicle', ref='GO:0031982')}\n",
      "stress response {Constraint(lemma='response to stress', ref='GO:0043555')}\n",
      "sensory {Entity(lemma='sensory perception', ref='GO:0051931')}\n",
      "directed {Pattern(lemma='regulate', ref='annotator'), Constraint(lemma='axon guidance', ref='GO:0048843')}\n",
      "Unfolded {Entity(lemma='protein unfolding', ref='GO:0043335')}\n",
      "X-inactivation {Entity(lemma='chromosome inactivation', ref='GO:0009048')}\n",
      "hexokinase {Entity(lemma='hexokinase (phosphorylating)', ref='GO:0004396')}\n",
      "cytochrome c oxidase {Entity(lemma='respiratory chain complex IV', ref='GO:0045277'), Entity(lemma='aa3-type cytochrome c oxidase', ref='GO:0004129')}\n",
      "producing {Pattern(lemma='develop', ref='annotator')}\n",
      "Cells {Entity(lemma='cell', ref='GO:0050865')}\n",
      "glucose 6-phosphate dehydrogenase {Entity(lemma='6-phosphoglucose dehydrogenas', ref='GO:0004345')}\n",
      "light response {Entity(lemma='response to light stimulus', ref='GO:0009416')}\n",
      "Cadmium-responsive {Entity(lemma='response to cadmium ion', ref='GO:0046686')}\n",
      "axonal pathfinding {Constraint(lemma='axon guidance', ref='GO:0048843')}\n",
      "vesicular {Entity(lemma='vesicle', ref='GO:0031982')}\n",
      "stop {Entity(lemma='translational termination', ref='GO:0006415'), Entity(lemma='transcription termination', ref='GO:0006353')}\n",
      "sequesters {Entity(lemma='maintenance of localization', ref='GO:0051235')}\n",
      "transfection {Entity(lemma='DNA mediated transformation', ref='GO:0009294')}\n",
      "DNA-binding {Entity(lemma='microtubule/chromatin interaction', ref='GO:0008017')}\n",
      "embryonic development {Pattern(lemma='develop', ref='annotator')}\n",
      "recombination event {Constraint(lemma='DNA recombination', ref='GO:0051102')}\n",
      "meiosis {Constraint(lemma='meiosis I', ref='GO:0051758')}\n",
      "growth {Entity(lemma='growth', ref='GO:0040007')}\n",
      "migration {Entity(lemma='cell migration', ref='GO:0021535')}\n",
      "attract {Entity(lemma='positive chemotaxis', ref='GO:0050926')}\n",
      "develop {Pattern(lemma='develop', ref='annotator'), Entity(lemma='reproduction', ref='GO:0000003')}\n",
      "Development {Pattern(lemma='develop', ref='annotator')}\n",
      "outer segment {Entity(lemma='photoreceptor outer segment', ref='GO:0001750')}\n",
      "died {Entity(lemma='death', ref='GO:0016265')}\n",
      "expressing {Pattern(lemma='geneexpress', ref='annotator')}\n",
      "eliminated {Entity(lemma='programmed cell death', ref='GO:0012501')}\n",
      "Chemoattraction {Entity(lemma='positive chemotaxis', ref='GO:0050926')}\n",
      "nociceptive {Entity(lemma='sensory perception of pain', ref='GO:0019233')}\n",
      "localize {Entity(lemma='establishment and maintenance of localization', ref='GO:0051668')}\n",
      "transcription initiation {Entity(lemma='transcription initiation', ref='GO:0006352')}\n",
      "digested {Pattern(lemma='catabolprocess', ref='annotator')}\n",
      "arrested {Entity(lemma='cell cycle arrest', ref='GO:0007050')}\n",
      "form {Pattern(lemma='develop', ref='annotator')}\n",
      "chromatin-remodelling {Entity(lemma='chromatin remodeling', ref='GO:0006338')}\n",
      "establishment {Pattern(lemma='develop', ref='annotator')}\n",
      "recombination events {Constraint(lemma='DNA recombination', ref='GO:0051102')}\n",
      "synaptic bouton {Entity(lemma='terminal button', ref='GO:0043195')}\n",
      "bind {Pattern(lemma='bind', ref='annotator'), Entity(lemma='ligand', ref='GO:0005488')}\n",
      "targeting {Constraint(lemma='axon guidance', ref='GO:0048843')}\n",
      "endoplasmic reticulum {Entity(lemma='endoplasmic reticulum', ref='GO:0005783')}\n",
      "ligation {Entity(lemma='DNA ligation', ref='GO:0051105')}\n",
      "Axonal {Entity(lemma='axon', ref='GO:0030424')}\n",
      "Imprinted {Entity(lemma='genetic imprinting', ref='GO:0006349')}\n",
      "mitochondrial {Entity(lemma='mitochondrion', ref='GO:0000422')}\n",
      "binding reactions {Pattern(lemma='bind', ref='annotator'), Entity(lemma='ligand', ref='GO:0005488')}\n",
      "axon {Entity(lemma='axon', ref='GO:0030424')}\n",
      "female sex chromosome {Entity(lemma='X chromosome', ref='GO:0000805')}\n",
      "construction {Pattern(lemma='biosyntheprocess', ref='annotator'), Pattern(lemma='form', ref='annotator')}\n",
      "developmental pathways {Pattern(lemma='develop', ref='annotator')}\n",
      "grow {Entity(lemma='growth', ref='GO:0040007')}\n",
      "crossing-overs {Entity(lemma='meiotic recombination', ref='GO:0007131')}\n",
      "reflex pathway {Entity(lemma='reflex', ref='GO:0060004')}\n",
      "breeding {Entity(lemma='mating', ref='GO:0007617')}\n",
      "Proprioceptive {Entity(lemma='proprioception', ref='GO:0019230')}\n",
      "birth {Entity(lemma='parturition', ref='GO:0007567')}\n",
      "metabolic {Pattern(lemma='metabolprocess', ref='annotator')}\n",
      "inclusion bodies {Entity(lemma='inclusion body', ref='GO:0016234')}\n",
      "Y chromosome {Entity(lemma='Y chromosome', ref='GO:0000806')}\n",
      "imprinting {Entity(lemma='genetic imprinting', ref='GO:0006349')}\n",
      "axon pathfinding {Constraint(lemma='axon guidance', ref='GO:0048843')}\n",
      "migrate {Entity(lemma='cell migration', ref='GO:0021535')}\n",
      "physical activity {Entity(lemma='multicellular organismal movement', ref='GO:0050879')}\n",
      "binding reaction {Pattern(lemma='bind', ref='annotator'), Entity(lemma='ligand', ref='GO:0005488')}\n",
      "Gsr {Entity(lemma='oxidized glutathione reduction', ref='GO:0006749')}\n",
      "gluconeogenic {Entity(lemma='gluconeogenesis', ref='GO:0045721')}\n",
      "cell {Entity(lemma='cell', ref='GO:0050865')}\n",
      "X chromosome inactivation {Entity(lemma='chromosome inactivation', ref='GO:0009048')}\n",
      "endoplasmic reticulum protein retention {Entity(lemma='protein-endoplasmic reticulum retention', ref='GO:0006621')}\n",
      "Axon Guidance {Constraint(lemma='axon guidance', ref='GO:0048843')}\n",
      "Breeding {Entity(lemma='mating', ref='GO:0007617')}\n",
      "myosin {Entity(lemma='myosin complex', ref='GO:0016459')}\n",
      "Projections {Entity(lemma='cell projection', ref='GO:0042995')}\n",
      "expand {Entity(lemma='cell proliferation', ref='GO:0008283')}\n",
      "inducing {Entity(lemma='induction', ref='GO:0052072')}\n",
      "fertilization {Entity(lemma='fertilization', ref='GO:0009566')}\n",
      "deceased {Entity(lemma='death', ref='GO:0016265')}\n",
      "mRNA export {Entity(lemma='mRNA export out of nucleus', ref='GO:0006406')}\n",
      "conjugated {Entity(lemma='biopolymer modification', ref='GO:0043412')}\n",
      "kinetochore {Entity(lemma='kinetochore', ref='GO:0043515')}\n",
      "antibodies {Entity(lemma='immunoglobulin complex', ref='GO:0019814')}\n",
      "destabilising {Entity(lemma='RNA destabilization', ref='GO:0050779')}\n",
      "metal response {Entity(lemma='response to metal ion', ref='GO:0010038')}\n",
      "matings {Entity(lemma='mating', ref='GO:0007617')}\n",
      "Developing {Pattern(lemma='develop', ref='annotator')}\n",
      "glucokinase {Entity(lemma='glucokinase (phosphorylating)', ref='GO:0004340')}\n",
      "Response {Entity(lemma='response to stimulus', ref='GO:0007610')}\n",
      "mated {Entity(lemma='mating', ref='GO:0007617')}\n",
      "Transcriptional {Entity(lemma='transcription', ref='GO:0000410')}\n",
      "embryonal development {Pattern(lemma='develop', ref='annotator')}\n",
      "differentiate {Pattern(lemma='celldifferentiate', ref='annotator')}\n",
      "oxidative stress response {Entity(lemma='response to oxidative stress', ref='GO:0006979')}\n",
      "modulating {Pattern(lemma='regulate', ref='annotator')}\n",
      "signal cascades {Pattern(lemma='signalpathway', ref='annotator')}\n",
      "Construction {Pattern(lemma='biosyntheprocess', ref='annotator'), Pattern(lemma='form', ref='annotator')}\n",
      "nuclear envelope {Constraint(lemma='nuclear envelope', ref='GO:0007103')}\n",
      "motor {Entity(lemma='multicellular organismal movement', ref='GO:0050879')}\n",
      "ubiquitination {Entity(lemma='protein ubiquitination', ref='GO:0016567')}\n",
      "translation termination {Entity(lemma='translational termination', ref='GO:0006415')}\n",
      "Cell {Entity(lemma='cell', ref='GO:0050865')}\n",
      "Apoptosis {Entity(lemma='apoptosis', ref='GO:0006915')}\n",
      "regulated {Pattern(lemma='regulate', ref='annotator')}\n",
      "recombination {Constraint(lemma='DNA recombination', ref='GO:0051102')}\n",
      "denaturating {Entity(lemma='protein denaturation', ref='GO:0030164')}\n",
      "axonal {Entity(lemma='axon', ref='GO:0030424')}\n",
      "localized {Entity(lemma='establishment and maintenance of localization', ref='GO:0051668')}\n",
      "CpG-methylation {Entity(lemma='cytosine methylation within a CG sequence', ref='GO:0010424')}\n",
      "ATPase-dependent Na+/K+ pump {Entity(lemma='ATP phosphohydrolase (Na+/K+-exchanging)', ref='GO:0005391')}\n",
      "Recombinant {Constraint(lemma='DNA recombination', ref='GO:0051102')}\n",
      "Silencing {Entity(lemma='gene silencing', ref='GO:0016458')}\n",
      "implanted {Entity(lemma='embryo implantation', ref='GO:0007566')}\n",
      "protein degradation {Entity(lemma='pheromone catabolic process (sensu Saccharomyces)', ref='GO:0030163')}\n",
      "degradation {Pattern(lemma='catabolprocess', ref='annotator')}\n",
      "inner segment compartment of photoreceptors {Entity(lemma='photoreceptor inner segment', ref='GO:0001917')}\n",
      "produces {Pattern(lemma='biosyntheprocess', ref='annotator'), Pattern(lemma='form', ref='annotator')}\n",
      "secreting {Entity(lemma='secretion', ref='GO:0032941')}\n",
      "peroxidase {Entity(lemma='extensin peroxidase', ref='GO:0004601')}\n",
      "cytoskeleton {Entity(lemma='cytoskeleton', ref='GO:0005856')}\n",
      "mitochondria {Entity(lemma='mitochondrion', ref='GO:0000422')}\n",
      "creating {Pattern(lemma='develop', ref='annotator')}\n",
      "produce {Entity(lemma='reproduction', ref='GO:0000003')}\n",
      "making {Pattern(lemma='biosyntheprocess', ref='annotator'), Pattern(lemma='form', ref='annotator')}\n",
      "arrest {Entity(lemma='cell cycle arrest', ref='GO:0007050')}\n",
      "proliferation {Entity(lemma='cell proliferation', ref='GO:0008283')}\n",
      "lysed {Entity(lemma='cytolysis', ref='GO:0019835')}\n",
      "yield {Entity(lemma='reproduction', ref='GO:0000003')}\n",
      "synthesized {Pattern(lemma='biosyntheprocess', ref='annotator'), Pattern(lemma='form', ref='annotator')}\n",
      "assembled {Pattern(lemma='biosyntheprocess', ref='annotator'), Pattern(lemma='form', ref='annotator')}\n",
      "adhere {Entity(lemma='cell adhesion', ref='GO:0045785')}\n",
      "actin cytoskeleton {Entity(lemma='actin cytoskeleton', ref='GO:0015629')}\n",
      "regeneration {Constraint(lemma='regeneration', ref='GO:0048692')}\n",
      "Generating {Pattern(lemma='develop', ref='annotator')}\n",
      "remodel {Entity(lemma='chromatin remodeling', ref='GO:0006338')}\n",
      "cytoplasmic {Entity(lemma='cytoplasm', ref='GO:0005737')}\n",
      "microtubule-based motor {Entity(lemma='dynein', ref='GO:0045502')}\n",
      "cytoskeletal {Entity(lemma='cytoskeleton', ref='GO:0005856')}\n",
      "apoptotic {Entity(lemma='apoptosis', ref='GO:0006915')}\n",
      "mitochondrial intermembrane {Entity(lemma='mitochondrial intermembrane space', ref='GO:0005758')}\n",
      "recombinant {Constraint(lemma='DNA recombination', ref='GO:0051102')}\n",
      "transformation {Entity(lemma='DNA mediated transformation', ref='GO:0009294')}\n",
      "Motor {Entity(lemma='multicellular organismal movement', ref='GO:0050879')}\n",
      "alkaline phosphatase {Entity(lemma='orthophosphoric-monoester phosphohydrolase (alkaline optimum)', ref='GO:0004035')}\n",
      "DNA methylation {Entity(lemma='DNA methylation', ref='GO:0006306')}\n",
      "adhesion plaque {Entity(lemma='focal adhesion', ref='GO:0005925')}\n",
      "ribosome {Entity(lemma='ribosome', ref='GO:0005840')}\n",
      "cell function {Entity(lemma='cell growth and/or maintenance', ref='GO:0009987')}\n",
      "gene expression {Pattern(lemma='geneexpress', ref='annotator')}\n",
      "G2/M cell-cycle phases {Entity(lemma='G2/M transition of mitotic cell cycle', ref='GO:0010389')}\n",
      "packaged {Entity(lemma='DNA packaging', ref='GO:0006323')}\n",
      "create {Pattern(lemma='form', ref='annotator'), Pattern(lemma='biosyntheprocess', ref='annotator'), Pattern(lemma='develop', ref='annotator')}\n",
      "food consumption {Entity(lemma='drinking', ref='GO:0007631')}\n",
      "angiogenic {Entity(lemma='angiogenesis', ref='GO:0045766')}\n",
      "Bioluminescence {Entity(lemma='bioluminescence', ref='GO:0008218')}\n",
      "Chemoattractant {Entity(lemma='positive chemotaxis', ref='GO:0050926'), Entity(lemma='attractant', ref='GO:0042056')}\n",
      "lethal {Entity(lemma='death', ref='GO:0016265')}\n",
      "X-chromosome {Entity(lemma='X chromosome', ref='GO:0000805')}\n",
      "formation {Pattern(lemma='form', ref='annotator'), Pattern(lemma='biosyntheprocess', ref='annotator'), Pattern(lemma='develop', ref='annotator')}\n",
      "transcribed {Entity(lemma='transcription', ref='GO:0000410')}\n",
      "gastrulation {Entity(lemma='gastrulation', ref='GO:0007369')}\n",
      "X-chromosome inactivation {Entity(lemma='chromosome inactivation', ref='GO:0009048')}\n",
      "phosphorylation {Entity(lemma='phosphorylation', ref='GO:0042327')}\n",
      "membrane-localized {Entity(lemma='localization within membrane', ref='GO:0051668')}\n",
      "nuclear import {Entity(lemma='nuclear import', ref='GO:0051170')}\n",
      "cellular zinc homeostasis {Entity(lemma='cellular zinc ion homeostasis', ref='GO:0006882')}\n",
      "unfolding {Entity(lemma='protein unfolding', ref='GO:0043335')}\n",
      "uptake of glucose {Entity(lemma='glucose import', ref='GO:0046323')}\n",
      "made {Pattern(lemma='biosyntheprocess', ref='annotator'), Pattern(lemma='form', ref='annotator')}\n",
      "nuclear pore {Entity(lemma='nuclear pore complex', ref='GO:0051292')}\n",
      "cell cycle control {Entity(lemma='cell cycle control', ref='GO:0051726')}\n",
      "births {Entity(lemma='parturition', ref='GO:0007567')}\n",
      "bred {Entity(lemma='mating', ref='GO:0007617'), Entity(lemma='reproduction', ref='GO:0000003')}\n",
      "induced {Entity(lemma='induction', ref='GO:0052072')}\n",
      "cell divisions {Entity(lemma='cell division', ref='GO:0051301')}\n",
      "Metal-responsive {Entity(lemma='response to metal ion', ref='GO:0010038')}\n",
      "Gene expression {Pattern(lemma='geneexpress', ref='annotator')}\n",
      "responses {Entity(lemma='response to stimulus', ref='GO:0007610')}\n",
      "visual function {Entity(lemma='visual perception', ref='GO:0007601')}\n",
      "established {Pattern(lemma='develop', ref='annotator'), Entity(lemma='reproduction', ref='GO:0000003')}\n",
      "stem cell maintenance {Entity(lemma='stem cell maintenance', ref='GO:0019827')}\n",
      "axon guidance {Constraint(lemma='axon guidance', ref='GO:0048843')}\n",
      "differentiation {Pattern(lemma='celldifferentiate', ref='annotator')}\n",
      "synapses {Entity(lemma='synapse', ref='GO:0045202')}\n",
      "biogenesis {Pattern(lemma='biosyntheprocess', ref='annotator'), Pattern(lemma='form', ref='annotator')}\n",
      "regulate {Pattern(lemma='regulate', ref='annotator')}\n",
      "zinc-responsive {Entity(lemma='response to zinc ion', ref='GO:0010043')}\n",
      "spindle {Entity(lemma='spindle', ref='GO:0051230')}\n",
      "extending {Entity(lemma='axon extension', ref='GO:0048691')}\n",
      "branching {Entity(lemma='morphogenesis of a branching structure', ref='GO:0001763')}\n",
      "eye pigmentation {Entity(lemma='eye pigmentation', ref='GO:0048069')}\n",
      "determination of myogenic precursors {Entity(lemma='muscle cell fate determination', ref='GO:0007521')}\n",
      "thymidine kinase {Entity(lemma='deoxythymidine kinase (phosphorylating)', ref='GO:0004797')}\n",
      "cleave {Entity(lemma='protein splicing', ref='GO:0030908')}\n",
      "nuclear {Constraint(lemma='nucleus', ref='GO:0046825')}\n",
      "nuclei {Constraint(lemma='nucleus', ref='GO:0046825')}\n",
      "integrins {Entity(lemma='integrin complex', ref='GO:0008305')}\n",
      "microtubules {Entity(lemma='microtubule', ref='GO:0008017')}\n",
      "responsive to cadmium exposure {Entity(lemma='response to cadmium ion', ref='GO:0046686')}\n",
      "nuclear export {Entity(lemma='nuclear export', ref='GO:0051168')}\n",
      "cytosolic {Entity(lemma='cytoplasm', ref='GO:0005737')}\n",
      "control {Pattern(lemma='regulate', ref='annotator')}\n",
      "DNA methyltransferases {Entity(lemma='DNA methylase', ref='GO:0009008')}\n",
      "motion {Entity(lemma='multicellular organismal movement', ref='GO:0050879')}\n",
      "mitotic {Constraint(lemma='mitosis', ref='GO:0000022')}\n",
      "inner segment {Entity(lemma='photoreceptor inner segment', ref='GO:0001917')}\n",
      "secreted {Entity(lemma='secretion', ref='GO:0032941')}\n",
      "born {Entity(lemma='parturition', ref='GO:0007567')}\n",
      "modulation {Pattern(lemma='regulate', ref='annotator')}\n",
      "chromatin remodelling {Entity(lemma='chromatin remodeling', ref='GO:0006338')}\n",
      "engineered {Pattern(lemma='biosyntheprocess', ref='annotator'), Pattern(lemma='form', ref='annotator')}\n",
      "cell division {Entity(lemma='cell division', ref='GO:0051301')}\n",
      "methylated {Entity(lemma='methylation', ref='GO:0032259')}\n",
      "formed {Pattern(lemma='develop', ref='annotator')}\n",
      "Nup107-Nup160 complex {Entity(lemma='Nup107-160 complex', ref='GO:0031080')}\n",
      "photosensory {Entity(lemma='sensory perception of light stimulus', ref='GO:0050953')}\n",
      "synaptic {Entity(lemma='synapse', ref='GO:0045202')}\n",
      "adhesion {Entity(lemma='biological adhesion', ref='GO:0022610')}\n",
      "Splice {Entity(lemma='RNA splicing', ref='GO:0033119')}\n",
      "cell growth {Entity(lemma='cell growth', ref='GO:0016049')}\n",
      "Na+/K+-ATPase pump {Entity(lemma='ATP phosphohydrolase (Na+/K+-exchanging)', ref='GO:0005391')}\n",
      "bound {Pattern(lemma='bind', ref='annotator'), Entity(lemma='ligand', ref='GO:0005488')}\n",
      "raised {Pattern(lemma='biosyntheprocess', ref='annotator'), Pattern(lemma='form', ref='annotator')}\n",
      "Cell Proliferation {Entity(lemma='cell proliferation', ref='GO:0008283')}\n",
      "Hexokinase {Entity(lemma='hexokinase (phosphorylating)', ref='GO:0004396')}\n",
      "haemoglobin {Entity(lemma='hemoglobin complex', ref='GO:0005833')}\n",
      "cell-cycle {Entity(lemma='cell cycle', ref='GO:0000074')}\n",
      "relocation {Pattern(lemma='transport', ref='annotator'), Entity(lemma='solute:solute exchange', ref='GO:0015300')}\n",
      "β-gal {Entity(lemma='lactose hydrolysis', ref='GO:0004565')}\n",
      "organisation {Entity(lemma='organization of an anatomical structure', ref='GO:0048532')}\n",
      "remodelling {Entity(lemma='tissue remodeling', ref='GO:0034103')}\n",
      "glutathione reductase {Entity(lemma='oxidized glutathione reduction', ref='GO:0006749')}\n",
      "replication {Entity(lemma='DNA replication', ref='GO:0033260')}\n",
      "produced {Pattern(lemma='form', ref='annotator'), Pattern(lemma='biosyntheprocess', ref='annotator'), Pattern(lemma='develop', ref='annotator'), Entity(lemma='reproduction', ref='GO:0000003')}\n",
      "stress-responsive {Constraint(lemma='response to stress', ref='GO:0043555')}\n",
      "inclusions {Entity(lemma='inclusion body', ref='GO:0016234')}\n",
      "glycolysis {Entity(lemma='glycolysis', ref='GO:0045821')}\n",
      "methylation {Entity(lemma='methylation', ref='GO:0032259')}\n",
      "glucose production {Entity(lemma='gluconeogenesis', ref='GO:0045721')}\n",
      "metabolism {Pattern(lemma='metabolprocess', ref='annotator')}\n",
      "recombined {Constraint(lemma='DNA recombination', ref='GO:0051102')}\n",
      "advance {Pattern(lemma='develop', ref='annotator')}\n",
      "cell cycle {Entity(lemma='cell cycle', ref='GO:0000074')}\n",
      "heterochromatin {Entity(lemma='heterochromatin', ref='GO:0031507')}\n",
      "trafficking process {Pattern(lemma='transport', ref='annotator'), Entity(lemma='solute:solute exchange', ref='GO:0015300')}\n",
      "focal adhesions {Entity(lemma='focal adhesion', ref='GO:0005925')}\n",
      "branching morphogenesis {Entity(lemma='morphogenesis of a branching structure', ref='GO:0001763')}\n",
      "generate {Pattern(lemma='form', ref='annotator'), Pattern(lemma='biosyntheprocess', ref='annotator'), Pattern(lemma='develop', ref='annotator'), Entity(lemma='reproduction', ref='GO:0000003')}\n",
      "metal-responsive {Entity(lemma='response to metal ion', ref='GO:0010038')}\n",
      "target {Constraint(lemma='axon guidance', ref='GO:0048843')}\n",
      "die {Entity(lemma='death', ref='GO:0016265')}\n",
      "expanded {Entity(lemma='cell proliferation', ref='GO:0008283')}\n",
      "denaturation {Entity(lemma='DNA duplex unwinding', ref='GO:0032508')}\n",
      "chemoattraction {Entity(lemma='positive chemotaxis', ref='GO:0050926')}\n",
      "demise {Entity(lemma='death', ref='GO:0016265')}\n",
      "fatally {Entity(lemma='death', ref='GO:0016265')}\n",
      "outer segment of photoreceptors {Entity(lemma='photoreceptor outer segment', ref='GO:0001750')}\n",
      "membrane-spanning {Entity(lemma='integral to membrane', ref='GO:0016021')}\n",
      "developed {Pattern(lemma='develop', ref='annotator'), Entity(lemma='reproduction', ref='GO:0000003')}\n",
      "kinetochore formation {Entity(lemma='centromere and kinetochore complex maturation', ref='GO:0051382')}\n",
      "modulates {Pattern(lemma='regulate', ref='annotator')}\n",
      "autosomal {Entity(lemma='autosome', ref='GO:0030849')}\n",
      "Food consumption {Entity(lemma='drinking', ref='GO:0007631')}\n",
      "defense {Entity(lemma='defense response', ref='GO:0002209')}\n",
      "NPCs {Entity(lemma='nuclear pore complex', ref='GO:0051292')}\n",
      "created {Pattern(lemma='develop', ref='annotator')}\n",
      "nuclear pore complex {Entity(lemma='nuclear pore complex', ref='GO:0051292')}\n",
      "modulate {Pattern(lemma='regulate', ref='annotator')}\n",
      "transport {Pattern(lemma='transport', ref='annotator'), Entity(lemma='solute:solute exchange', ref='GO:0015300')}\n",
      "Transcription {Entity(lemma='transcription', ref='GO:0000410')}\n",
      "dying {Entity(lemma='death', ref='GO:0016265')}\n",
      "X {Entity(lemma='X chromosome', ref='GO:0000805')}\n",
      "membrane {Entity(lemma='membrane', ref='GO:0016020')}\n",
      "pericentromeric heterochromatin {Entity(lemma='centric heterochromatin', ref='GO:0031508')}\n",
      "transcription {Entity(lemma='transcription', ref='GO:0000410')}\n",
      "promyelocytic leukemia nuclear bodies {Entity(lemma='PML body', ref='GO:0016605')}\n",
      "construct {Pattern(lemma='biosyntheprocess', ref='annotator'), Pattern(lemma='form', ref='annotator')}\n",
      "silence {Entity(lemma='gene silencing', ref='GO:0016458')}\n",
      "Neo {Entity(lemma='kanamycin kinase (phosphorylating)', ref='GO:0008910')}\n",
      "regulation {Pattern(lemma='regulate', ref='annotator')}\n",
      "inner segment of photoreceptor neurons {Entity(lemma='photoreceptor inner segment', ref='GO:0001917')}\n",
      "signaling {Pattern(lemma='signalpathway', ref='annotator')}\n",
      "transcriptional {Entity(lemma='transcription', ref='GO:0000410')}\n",
      "induce {Entity(lemma='induction', ref='GO:0052072')}\n",
      "protein–DNA complex {Entity(lemma='protein-DNA complex', ref='GO:0065004')}\n",
      "embryogenesis {Pattern(lemma='develop', ref='annotator')}\n",
      "cellular membranes {Entity(lemma='plasma membrane', ref='GO:0005886')}\n",
      "lysis {Entity(lemma='cytolysis', ref='GO:0019835')}\n",
      "nuclear import pathway {Entity(lemma='nuclear import', ref='GO:0051170')}\n",
      "β-galactosidase {Entity(lemma='lactose hydrolysis', ref='GO:0004565')}\n",
      "complexes {Pattern(lemma='bind', ref='annotator'), Entity(lemma='macromolecular complex', ref='GO:0032991'), Entity(lemma='ligand', ref='GO:0005488')}\n",
      "apoptosis {Entity(lemma='apoptosis', ref='GO:0006915')}\n",
      "homeostasis {Entity(lemma='homeostasis', ref='GO:0042592')}\n",
      "SWI/SNF {Entity(lemma='SWI/SNF complex', ref='GO:0016514')}\n",
      "Ran-binding {Entity(lemma='Ran-binding protein', ref='GO:0008536')}\n",
      "generating {Pattern(lemma='biosyntheprocess', ref='annotator'), Pattern(lemma='form', ref='annotator'), Entity(lemma='reproduction', ref='GO:0000003')}\n",
      "nuclear envelope breakdown {Entity(lemma='nuclear envelope disassembly', ref='GO:0051081')}\n",
      "develops {Pattern(lemma='develop', ref='annotator')}\n",
      "mating {Entity(lemma='mating', ref='GO:0007617')}\n",
      "yielded {Entity(lemma='reproduction', ref='GO:0000003')}\n",
      "collagen {Entity(lemma='collagen', ref='GO:0033341')}\n",
      "competition {Entity(lemma='cell competition (sensu Metazoa)', ref='GO:0035212')}\n",
      "sequestration {Entity(lemma='maintenance of localization', ref='GO:0051235')}\n",
      "cell migration {Entity(lemma='cell migration', ref='GO:0021535')}\n",
      "axonal processes {Entity(lemma='axon', ref='GO:0030424')}\n",
      "glucose uptake {Entity(lemma='glucose import', ref='GO:0046323')}\n",
      "filamentous actin {Entity(lemma='filamentous actin', ref='GO:0031941')}\n",
      "recombine {Constraint(lemma='DNA recombination', ref='GO:0051102')}\n",
      "protein biogenesis {Entity(lemma='translation', ref='GO:0032061')}\n",
      "chromatin {Entity(lemma='chromatin', ref='GO:0000785')}\n",
      "gestation {Entity(lemma='female pregnancy', ref='GO:0007565')}\n",
      "grown {Entity(lemma='growth', ref='GO:0040007')}\n",
      "pregnancies {Entity(lemma='female pregnancy', ref='GO:0007565')}\n",
      "DNase I {Entity(lemma='deoxyribonuclease (pancreatic)', ref='GO:0004530')}\n",
      "production {Pattern(lemma='form', ref='annotator'), Pattern(lemma='biosyntheprocess', ref='annotator'), Pattern(lemma='develop', ref='annotator'), Entity(lemma='reproduction', ref='GO:0000003')}\n",
      "RT {Entity(lemma='RNA-directed DNA polymerase, group II intron encoded', ref='GO:0003964'), Entity(lemma='reverse transcription', ref='GO:0006410')}\n",
      "folding {Constraint(lemma='protein folding', ref='GO:0022417')}\n",
      "Antibodies {Entity(lemma='immunoglobulin complex', ref='GO:0019814')}\n",
      "ribosomal {Entity(lemma='ribosome', ref='GO:0005840')}\n",
      "senescent {Entity(lemma='cell aging', ref='GO:0007569')}\n",
      "dead {Entity(lemma='death', ref='GO:0016265')}\n",
      "DNA damage responses {Entity(lemma='response to DNA damage stimulus', ref='GO:0006974')}\n",
      "inner segment subcellular compartment {Entity(lemma='photoreceptor inner segment', ref='GO:0001917')}\n",
      "regulatory {Pattern(lemma='regulate', ref='annotator')}\n",
      "Branching {Entity(lemma='morphogenesis of a branching structure', ref='GO:0001763')}\n",
      "outer segment compartments {Entity(lemma='photoreceptor outer segment', ref='GO:0001750')}\n",
      "terminated {Entity(lemma='transcription termination', ref='GO:0006353')}\n",
      "cellular migration {Entity(lemma='cell migration', ref='GO:0021535')}\n",
      "modulated {Pattern(lemma='regulate', ref='annotator')}\n",
      "Thymidine Kinase {Entity(lemma='deoxythymidine kinase (phosphorylating)', ref='GO:0004797')}\n",
      "axons {Entity(lemma='axon', ref='GO:0030424')}\n",
      "TK {Entity(lemma='deoxythymidine kinase (phosphorylating)', ref='GO:0004797')}\n",
      "translation stop {Entity(lemma='translational termination', ref='GO:0006415')}\n",
      "organised {Entity(lemma='organization of an anatomical structure', ref='GO:0048532')}\n",
      "cytosol {Entity(lemma='cytoplasm', ref='GO:0005737')}\n",
      "migration of keratinocytes {Entity(lemma='keratinocyte migration', ref='GO:0051547')}\n",
      "translation {Entity(lemma='translation', ref='GO:0032061')}\n"
     ]
    }
   ],
   "source": [
    "for key, values in term_indeces['CRAFT 2/10'].items():\n",
    "    print(key, values)"
   ]
  },
  {
   "cell_type": "code",
   "execution_count": 33,
   "metadata": {
    "collapsed": false,
    "deletable": true,
    "editable": true
   },
   "outputs": [
    {
     "data": {
      "text/plain": [
       "Index<2740 key(s)>"
      ]
     },
     "execution_count": 33,
     "metadata": {},
     "output_type": "execute_result"
    }
   ],
   "source": []
  },
  {
   "cell_type": "code",
   "execution_count": 32,
   "metadata": {
    "collapsed": false,
    "deletable": true,
    "editable": true
   },
   "outputs": [],
   "source": [
    "new_term_text = []\n",
    "for term, text in term_text:\n",
    "    cluster = godata.clusterbook.index[term]\n",
    "    texts = {t.lemma for t in cluster.terms}\n",
    "    if text not in texts and '...' not in text:\n",
    "        new_term_text.append((term, text))"
   ]
  },
  {
   "cell_type": "code",
   "execution_count": 33,
   "metadata": {
    "collapsed": true,
    "deletable": true,
    "editable": true
   },
   "outputs": [],
   "source": [
    "from mcgocr.extractor import Index"
   ]
  },
  {
   "cell_type": "code",
   "execution_count": 34,
   "metadata": {
    "collapsed": true,
    "deletable": true,
    "editable": true
   },
   "outputs": [],
   "source": [
    "term_index = Index()"
   ]
  },
  {
   "cell_type": "code",
   "execution_count": 35,
   "metadata": {
    "collapsed": true,
    "deletable": true,
    "editable": true
   },
   "outputs": [],
   "source": [
    "for term, text in new_term_text:\n",
    "    term_index[term].add(text)"
   ]
  },
  {
   "cell_type": "code",
   "execution_count": 37,
   "metadata": {
    "collapsed": false,
    "deletable": true,
    "editable": true
   },
   "outputs": [
    {
     "data": {
      "text/plain": [
       "Index<662 key(s)>"
      ]
     },
     "execution_count": 37,
     "metadata": {},
     "output_type": "execute_result"
    }
   ],
   "source": [
    "term_index"
   ]
  },
  {
   "cell_type": "code",
   "execution_count": 36,
   "metadata": {
    "collapsed": false,
    "deletable": true,
    "editable": true
   },
   "outputs": [
    {
     "name": "stdout",
     "output_type": "stream",
     "text": [
      "geneexpress {'Expression', 'gene expression', 'expressions', 'Expressed', 'genes', 'Gene expression', 'expressed', 'gene-expression', 'expression of', 'Gene Expression', 'expresses', 'express', 'expression', 'Expressing', 'expressing', 'expression of genes', \"gene's expression\"}\n",
      "G2/M transition checkpoint {'G2/M', 'G2/M delay'}\n",
      "globulin G {'Lyzs'}\n",
      "pronucleus {'Pronuclear'}\n",
      "binary fission {'fission'}\n",
      "factor XIIIa {'transglutaminase'}\n",
      "phospholipid efflux {'secretion'}\n",
      "cell aging {'senescent', 'aging of cells', 'senescencing'}\n",
      "RNA stabilization {'stabilize'}\n",
      "blood circulation {'blood flow', 'Blood flow'}\n",
      "acute-phase response {'acute phase', 'acute-phase'}\n",
      "JAK-STAT cascade {'JAK-STAT pathway'}\n",
      "sex chromosome {'sex chromosomes', 'sex-chromosome'}\n",
      "cell migration {'cellular migration', 'migrates', 'migration of cells', 'cell migration events', 'migratory', 'migrated', 'migrate', 'migrating', 'migration'}\n",
      "bicarbonate:chloride antiporter {'anion exchanger'}\n",
      "olfactory learning {'Odor Learning', 'Olfactory Learning', 'odor learning'}\n",
      "sensory perception of umami taste {'umami-tasting', 'umami taste'}\n",
      "biosyntheprocess {'raised', 'constructions', 'synthesize', 'Constructions', 'assembled', 'arose', 'develop', 'anabolic activity', 'yields', 'Production', 'producing', 'built', 'produced', 'constructed', 'generating', 'arise', 'made', 'prepare', 'Synthesis', 'biogenesis', 'assemble', 'arises', 'generation', 'synthesis', 'formation', 'generate', 'synthesized', 'make', 'yielding', 'construction', 'creating', 'created', 'synthesised', 'produce', 'construct', 'prepared', 'synthesizes', 'Generation', 'create', 'yield', 'generates', 'engineer', 'generated', 'produces', 'Construction', 'creates', 'production', 'developed', 'preparations', 'synthetic', 'making', 'engineered'}\n",
      "centric heterochromatin {'pericentromeric heterochromatin', 'pericentric heterochromatin', 'pericentric heterochromatin domains', 'Pericentric heterochromatin', 'Pericentric Heterochromatin'}\n",
      "autophagic vacuole {'autophagosomes', 'autophagic'}\n",
      "metaphase {'Metaphase', 'metaphases'}\n",
      "rhythm {'rhythmic', 'rhythmic activity'}\n",
      "perception of smell, detection of chemical stimulus {'detection of odors'}\n",
      "gap junction {'gap junctions'}\n",
      "sodium/potassium/chloride symporter {'Na+/2Cl-/K+ cotransporter'}\n",
      "sensory perception of sound {'auditory', 'hearing function'}\n",
      "DNA-directed RNA polymerase II, holoenzyme {'Pol II', 'RNA polymerase II'}\n",
      "cellular zinc ion homeostasis {'cellular zinc homeostasis'}\n",
      "sensory perception of smell {'olfactory sensory', 'olfactory', 'Olfactory'}\n",
      "heart contraction {'contractile', 'pump function'}\n",
      "reverse transcription {'reverse transcribed', 'rt', 'reverse-transcribed', 'Reverse transcription', 'RT', 'reverse transcription reaction', 'Reverse Transcription'}\n",
      "photoreceptor connecting cilium {'connecting cilium', 'Connecting cilium', 'Nonmotile connecting cilium', 'Nonmotile connecting cilia', 'connecting cilia', 'cc', 'non-motile connecting cilium', 'photoreceptor connecting cilia'}\n",
      "chromosome condensation {'condensation', 'condensed'}\n",
      "membrane depolarization {'depolarization'}\n",
      "receptor recycling {'recycling'}\n",
      "D-glyceraldehyde-3-phosphate:NAD+ oxidoreductase (phosphorylating) {'GAPDH'}\n",
      "physiologprocess {'biological activities', 'physiological pathways', 'biological pathway', 'biological actions', 'biological processes', 'biological event', 'biological process'}\n",
      "stearoyl-CoA,ferrocytochrome-b5:oxygen oxidoreductase (9,10-dehydrogenating) {'steroyl-CoA desaturase', 'steroyl CoA desaturase', 'stearoyl-CoA desaturase', 'SCD'}\n",
      "transcription {'transcriptionally', 'transcribed', 'transcriptional activity', 'transcriptional events', 'transcriptional', 'Transcription', 'transcriptional pathway', 'Transcriptional'}\n",
      "cell-cell adhesion {'intercellular adhesion'}\n",
      "aquaporin {'water pore', 'water channel', 'water channels'}\n",
      "laminin-5 complex {'laminin 5', 'lam5'}\n",
      "photoreceptor outer segment {'outer segment of photoreceptors', 'outer segment structure', 'outer segment compartments', 'outer segment structures', 'outer segment', 'outer segments', 'photoreceptor outer segments', 'os', 'Outer segment'}\n",
      "programmed cell death {'killed', 'eliminating', 'eliminated', 'eliminates', 'self destruct', 'eliminate', 'Programmed cell death', 'elimination'}\n",
      "leptotene {'leptotene stage', 'leptonema', 'Lep'}\n",
      "diet induced thermogenesis {'thermogenesis'}\n",
      "basolateral plasma membrane {'basolateral membrane'}\n",
      "L-tryptophan-tRNATrp ligase (AMP-forming) {'tryptophanyl-tRNA synthetase'}\n",
      "cell fraction {'cellular fractions', 'fraction', 'fractions'}\n",
      "RXR {'retinoid-X receptor'}\n",
      "activated blood-coagulation factor II {'thrombin'}\n",
      "activated blood coagulation factor VII {'Factor VII'}\n",
      "transverse filament {'transverse element', 'transverse filaments'}\n",
      "myosin VI complex {'Myosin VI'}\n",
      "transcription termination {'stop', 'terminating', 'termination', 'chain termination', 'terminated', 'transcriptional stop'}\n",
      "G2/M transition of mitotic cell cycle {'G2/M cell-cycle phases'}\n",
      "collagen type II {'type II collagen', 'CII', 'Col II', 'Collagen II', 'collagen II'}\n",
      "mitochondrial inner membrane {'inner mitochondrial membrane'}\n",
      "betaIIPKC {'serine-threonine kinase', 'serine threonine kinases'}\n",
      "leading strand elongation {'3′-extension'}\n",
      "protein-DNA complex disassembly {'protein/DNA complex disassembly'}\n",
      "cell cycle arrest {'cell cycle block', 'arrest', 'arrest periods', 'arrested', 'Arrest'}\n",
      "nuclear envelope disassembly {'nuclear envelope breakdown'}\n",
      "response to stress {'stress response', 'stress-responsive'}\n",
      "DNA helicase complex {'helicase complexes'}\n",
      "nuclear pore complex {'nuclear pores', 'NPCs'}\n",
      "actin filament {'Actin filament', 'actin filaments', 'Actin filaments'}\n",
      "endocytic recycling {'recycling'}\n",
      "parturition {'birth', 'deliveries', 'Birth', 'delivery', 'born', 'births'}\n",
      "integrin ligand {'integrin binder', 'integrin binding'}\n",
      "prophase {'Prophase'}\n",
      "establishment of localization {'recruitment', 'recruited', 'passes', 'passage', 'relocate', 'recruiting', 'recruit', 'recruits', 'relocated', 'relocation'}\n",
      "sensory perception of pain {'nociceptive'}\n",
      "cell recognition {'recognize', 'recognizes', 'recognition'}\n",
      "E2 {'ubiquitin ligase'}\n",
      "endoribonuclease I {'RNase A'}\n",
      "recognition of apoptotic cell {'apoptotic cell recognition', 'recognition of apoptotic cells'}\n",
      "induction of apoptosis {'apoptosis induction'}\n",
      "protein oligomerization {'oligomerization'}\n",
      "cis-Golgi network {'cis-Golgi'}\n",
      "detection of stimulus {'detecting', 'detect', 'detection', 'sense', 'sensing'}\n",
      "cytoskeleton {'cytoskeletal'}\n",
      "embryo implantation {'implant', 'implanted', 'implantation stage', 'implantation'}\n",
      "early recombination nodule {'ERNs', 'early recombination nodules'}\n",
      "condensed chromosome {'condensed chromosomes'}\n",
      "tissue remodeling {'remodelling', 'remodeling', 'Remodeling', 'Tissue restructuring'}\n",
      "photoreceptor cyclic-nucleotide phosphodiesterase complex {'phosphodiesterase'}\n",
      "memory {'memory formation', 'memorization', 'Memory', 'memorization processes'}\n",
      "protein targeting {'targeted', 'sorting', 'targeting'}\n",
      "sensory perception of light stimulus {'photosensory'}\n",
      "DNA mediated transformation {'Transfections', 'transformation', 'Transfection', 'transfection', 'transfected', 'Transfected', 'introduction', 'transformed', 'transforming', 'transfecting', 'transfections'}\n",
      "3-PGK {'Pgk'}\n",
      "establishment of cell polarity {'polarization', 'polarized'}\n",
      "protein amino acid amidation {'amidation'}\n",
      "intercellular canaliculus {'canaliculi', 'canalicular'}\n",
      "apical part of cell {'Apical', 'apically', 'apical', 'apex'}\n",
      "cathepsin II {'cathepsin B'}\n",
      "angiogenesis {'angiogenic'}\n",
      "synaptic vesicle fission {'vesicular transport', 'membrane vesicle transport', 'vesicular trafficking'}\n",
      "synaptosome {'synaptosomes'}\n",
      "aa3-type cytochrome c oxidase {'cytochrome oxidase', 'COX', 'cytochrome c oxidase'}\n",
      "thrombolysin {'plasmin activity', 'plasmin'}\n",
      "cellular localization {'Subcellular Localization', 'Subcellular localization', 'subcellular localisation', 'intracellular distribution', 'Subcellular Distribution', 'subcellular location', 'subcellular localization', 'subcellular distribution'}\n",
      "mRNA maturation {'pre-mRNA processing'}\n",
      "translation {'protein production', 'Translation', 'translated', 'protein biogenesis', 'translational'}\n",
      "cell surface {'Cell surface', 'surface', 'cell-surface'}\n",
      "DNA polymerase complex {'DNA polymerase'}\n",
      "phototransduction {'Phototransduction', 'photoreceptor pathway', 'phototransduction cascade', 'visual signalling', 'phototransduction pathways'}\n",
      "phagocytosis {'phagocytic mechanisms', 'Phagocytosed', 'phagocytic', 'phagocytosed', 'Phagocytosis', 'phagocytose', 'phagocytotic'}\n",
      "protein anchor {'anchor'}\n",
      "inflammatory response to antigenic stimulus {'immunoinflammatory responses'}\n",
      "immortalization of host cell {'Immortalized', 'immortalized'}\n",
      "homeostasis {'homeostatic control'}\n",
      "micturition {'urinated', 'urinary output', 'urine output'}\n",
      "external side of cell outer membrane {'external'}\n",
      "meiosis I {'meioses', 'meiotically', 'Meiotic', 'first meiotic', 'meiotic', 'meiotic phase', 'process of meiosis'}\n",
      "phagocytosis, engulfment {'engulfment processes', 'ingest', 'engulfment mechanism', 'engulfment', 'engulfed', 'phagocytotic engulfment'}\n",
      "gamma-aminobutyric acid secretion {'gamma-aminobutyric acid release'}\n",
      "protein folding {'Folding', 'folding'}\n",
      "ligand {'bound', 'binding', 'binding reaction', 'Bound', 'complexes', 'binding reactions', 'attached', 'Binding', 'bind', 'binds'}\n",
      "centromere and kinetochore complex maturation {'kinetochore formation'}\n",
      "neuron fate commitment {'neuronal fate acquisition', 'Neuronal Fate Acquisition'}\n",
      "behaviorresponse {'Behavioural', 'behavioral', 'Behavioral', 'Behavior', 'behaviors', 'behaviorally', 'behavioural', 'behavior'}\n",
      "DNA methylation {'DNA Methylation'}\n",
      "dense core granule {'dense cores', 'dense core structures'}\n",
      "regulate {'Regulates', 'modulate', 'regulatory control', 'regulatory mechanisms', 'Regulate', 'monitors', 'controls', 'organized', 'modulation', 'directs', 'regulated', 'direct', 'guiding', 'monitor', 'Controls', 'modulated', 'regulation', 'controlling', 'regulatory', 'govern', 'modulates', 'controlled', 'Modulates', 'Controlled', 'guided', 'Regulation', 'guide', 'Controlling', 'governing', 'regulates', 'regulating', 'surveillance', 'modulating', 'monitoring', 'governs', 'directed', 'control', 'directing', 'Control'}\n",
      "G-protein coupled receptor activity, unknown ligand {'G-protein coupled receptors', 'GPCRs', 'G protein-coupled receptors'}\n",
      "6-phosphoglucose dehydrogenas {'G6PD', 'glucose-6-phosphate dehydrogenase', 'glucose 6-phosphate dehydrogenase'}\n",
      "mRNA modification {'pre-mRNA editing'}\n",
      "protein sumoylation {'SUMO modification'}\n",
      "epithelial cell proliferation {'epithelial proliferation'}\n",
      "mitophagy {'autophagic engulfment of mitochondria', 'mitochondrial autophagy'}\n",
      "anti-inflammatory response {'anti-inflammatory'}\n",
      "aging {'Ageing', 'Aged', 'age', 'aged', 'Aging'}\n",
      "hormone secretion {'hormone secretions'}\n",
      "immunoglobulin complex {'Abs', 'antibodies', 'antibody', 'Ab', 'immune complex', 'Antibody', 'IgG', 'antibodes', 'immunoglobulins', 'immunoglobulin', 'Antibodies', 'immune complexes'}\n",
      "vacuole {'vacuolar', 'Vacuoles', 'vacuoles'}\n",
      "attractant {'Chemoattractant', 'chemoattractant'}\n",
      "transmission of nerve impulse {'neurotransmission'}\n",
      "DNA damage checkpoint {'repair checkpoint', 'DNA damage–checkpoint'}\n",
      "respiratory gaseous exchange {'gas-exchange', 'gas exchange'}\n",
      "protein amino acid biotinylation {'biotinylated', 'Biotinylated', 'biotinylation', 'biotin-conjugated'}\n",
      "tight junction {'tight junctions', 'Tight junctions'}\n",
      "hemopoiesis {'hematopoietic development', 'Hematopoietic', 'Hematopoiesis', 'hematopoietic', 'haematopoetic'}\n",
      "chromosome {'chromosome 3', 'Chromosomes', 'Chromosomal', 'chromosomal', 'chr.', 'Chromosome', 'chromosomes', 'Chr', 'Chr.'}\n",
      "mitochondrial intermembrane space {'mitochondrial intermembrane'}\n",
      "gastrulation {'gastrulated'}\n",
      "CAM PKII {'calmodulin-dependent kinase', 'calcium-calmodulin kinase'}\n",
      "focal adhesion {'adhesion plaque', 'adhesion plaques', 'focal adhesions'}\n",
      "innate immune response {'innate type immune response'}\n",
      "synaptic target recognition {'targeting'}\n",
      "anagen {'growth of hair follicles', 'anagen phase'}\n",
      "MHC class II protein complex {'MHC class II'}\n",
      "specification of axis polarity {'polarizing activity'}\n",
      "cilium {'cilia'}\n",
      "form {'raised', 'constructions', 'synthesize', 'Constructions', 'assembled', 'arose', 'develop', 'anabolic activity', 'yields', 'Production', 'producing', 'built', 'produced', 'constructed', 'generating', 'arise', 'made', 'prepare', 'Synthesis', 'biogenesis', 'assemble', 'arises', 'generation', 'synthesis', 'formation', 'generate', 'synthesized', 'make', 'yielding', 'construction', 'creating', 'created', 'synthesised', 'produce', 'construct', 'prepared', 'synthesizes', 'Generation', 'create', 'yield', 'generates', 'engineer', 'generated', 'produces', 'Construction', 'creates', 'production', 'developed', 'preparations', 'synthetic', 'making', 'engineered'}\n",
      "translational termination {'stop', 'terminating', 'translational stop', 'termination', 'chain termination', 'translation stop'}\n",
      "membrane hyperpolarization {'hyperpolarization'}\n",
      "antigen processing and presentation {'processing'}\n",
      "actin filament polymerization {'assembly'}\n",
      "determination of dorsal identity {'establishment of dorsal identity'}\n",
      "response to cadmium ion {'Cadmium-responsive', 'cadmium response', 'responsive to cadmium exposure', 'Cadmium response', 'cadmium-responsive'}\n",
      "collagen {'Collagen'}\n",
      "RNA destabilization {'destabilising'}\n",
      "chromosome inactivation {'X-inactivation', 'X-chromosome inactivation', 'X-Inactivation'}\n",
      "MAPKKK cascade {'MAPK pathway', 'MAPK signaling cascade'}\n",
      "metabolprocess {'metabolic processes', 'metabolically', 'metabolic function', 'metabolic pathways', 'metabolic functions', 'metabolized', 'metabolic', 'metabolize', 'metabolism', 'metabolic pathway', 'Metabolic'}\n",
      "protein stabilization {'Stabilization', 'stabililization', 'stabilized', 'stabilization'}\n",
      "microsome {'microsomes', 'microsomal', 'Microsomes'}\n",
      "odontogenesis {'tooth development', 'Tooth development', 'development of teeth'}\n",
      "induction of cytokines {'Cytokine production', 'cytokine production'}\n",
      "protein complex {'protein complexes'}\n",
      "recycling endosome {'recycling endosomes'}\n",
      "extracellular matrix {'matrix', 'mx', 'ECM'}\n",
      "protein destabilization {'destabilization'}\n",
      "PACE {'furin', 'Furin'}\n",
      "pre-mRNA splicing {'mRNA splice'}\n",
      "locomotion {'traveled', 'Locomotor activity', 'traversed', 'locomotor activity', 'locomotor', 'ambulation', 'ambulate', 'ambulations', 'go'}\n",
      "euchromatin {'euchromatic regions'}\n",
      "cognition {'cognitive function', 'cognitive'}\n",
      "sensory perception of touch {'touch'}\n",
      "cell communication {'molecular communication pathways', 'communicating'}\n",
      "neuron maturation {'neuronal maturation', 'mechanism of neuronal maturation'}\n",
      "cell wall {'cell walls'}\n",
      "genetic imprinting {'genomic imprinting', 'Imprinted', 'imprinted', 'imprinting'}\n",
      "DNA replication initiation {'initiation of DNA replication', 'Initiation of DNA replication'}\n",
      "macromolecular complex {'complexes', 'complex'}\n",
      "CAT {'catalase'}\n",
      "secretion {'secretes', 'secreted', 'secreting', 'Secreted', 'secrete', 'excretion', 'secretory', 'release', 'excrete', 'export', 'released'}\n",
      "strand invasion {'invade(s)'}\n",
      "nuclear part {'subnuclear compartment', 'nuclear subcompartment', 'nuclear fragments', 'subnuclear structures'}\n",
      "cytoskeletal part {'cytoskeletal elements'}\n",
      "propanoyl-CoA:carbon-dioxide ligase (ADP-forming) {'propinyl-CoA carboxylase'}\n",
      "extensin peroxidase {'peroxidases', 'Peroxidase', 'peroxidase'}\n",
      "K101 receptor {'platelet surface receptors'}\n",
      "glycopeptide hormone {'hormonal', 'hormones', 'hormone', 'Hormone'}\n",
      "CAF-1 complex {'CAF-1', 'chromatin assembly factor 1'}\n",
      "RNA interference {'interfering'}\n",
      "alpha-ketoglutarate dehydrogenase complex {'α-ketoglutarate dehydrogenase complexes'}\n",
      "K+ conductance {'transport of K+'}\n",
      "calcium ion homeostasis {'Ca2+ homeostasis', 'Ca2+-homeostasis'}\n",
      "absorption of light {'capture of light'}\n",
      "bioluminescence {'bioluminescent', 'Bioluminescence'}\n",
      "actin bundling {'actin-cross-linking'}\n",
      "translational initiation {'initiating', 'translational start', 'translation start', 'start', 'initiation'}\n",
      "response to estrogen stimulus {'response to estrogen exposure', 'response'}\n",
      "male sex determination {'male sex-determining', 'testis-determining'}\n",
      "nucleotide-excision repair {'nucleotide excision repair', 'NER activity', 'NER reaction'}\n",
      "endoproteinase {'endopeptidase', 'endoprotease'}\n",
      "plasma membrane proton-transporting ATP synthase complex {'mitochondrial ATPase', 'mitochondrial ATP synthase', 'mitochondrial ATP synthase complex'}\n",
      "cytosine methylation within a CG sequence {'DNA CpG Methylation', 'CpG-methylation', 'DNA CpG methylation'}\n",
      "general adaptation syndrome {'adaptive responses', 'adaptation', 'adaptively'}\n",
      "cell cycle checkpoint {'checkpoints', 'checkpoint'}\n",
      "AMPK {'cAMP-dependent protein kinase'}\n",
      "parenzyme {'trypsin', 'Trypsin'}\n",
      "nutrient import {'assimilation of nutrients'}\n",
      "metal ion homeostasis {'metal homeostasis'}\n",
      "protein heterotetramerization {'formation of heterotetrameric complexes'}\n",
      "gluconeogenesis {'gluconeogenesis pathway', 'glucose production', 'gluconeogenic'}\n",
      "Nup107-160 complex {'Nup107-Nup160 complex'}\n",
      "vesicle membrane {'vesicle membranes'}\n",
      "myelination {'myelinating', 'myelinated'}\n",
      "biopolymer glycosylation {'glycosylated', 'glycosylation'}\n",
      "beta3 adrenoceptor {'β3-adrenergic receptor'}\n",
      "lysosome {'Lysosomal', 'lysosomal', 'lysosomes'}\n",
      "regeneration {'regenerate'}\n",
      "tubulin complex {'TB', 'tubulin'}\n",
      "operant conditioning {'operant learning', 'condition', 'conditioned', 'operant-conditioning', 'conditioning', 'conditioned behaviors', 'operant behaviors'}\n",
      "cellular respiration {'respiratory function', 'oxidative metabolism', 'respiratory', 'Respiration'}\n",
      "perinuclear region of cytoplasm {'juxtanuclear', 'perinuclear', 'perinuclear positions', 'juxtanuclear cytoplasm', 'perinuclear region'}\n",
      "nerve terminal {'endings', 'nerve endings', 'terminals', 'Terminals', 'terminal', 'terminus', 'nerve terminals'}\n",
      "solute:solute exchange {'moving', 'translocate', 'translocates', 'shuttles', 'trafficking process', 'switches', 'transported', 'routed', 'trafficking', 'translocated', 'Translocation', 'trafficked', 'transporting', 'carried', 'relocation', 'routing', 'transferred', 'shuttle', 'translocation', 'delivery', 'trafficking pathways', 'moves', 'conductance', 'transport', 'transport mechanisms'}\n",
      "meiotic recombination checkpoint {'pachytene checkpoint control', 'Pachytene Checkpoint', 'pachytene surveillance'}\n",
      "menstrual cycle {'estrous cycles'}\n",
      "habituation {'habituate'}\n",
      "protein amino acid N-linked glycosylation {'N-glycosylation'}\n",
      "Dp38 {'mitogen-activated protein kinase'}\n",
      "bradykininogenase {'Kallikreins'}\n",
      "induction of programmed cell death {'initiation of programmed cell death'}\n",
      "blood coagulation {'thrombosis formation', 'Thrombosis', 'Thrombus occlusion', 'thrombus occlusion', 'thrombotic', 'thrombus formation', 'Thrombus formation', 'thrombosis'}\n",
      "adaxial/abaxial pattern specification {'axial patterning'}\n",
      "membrane part {'membrane domains', 'membrane subdomains'}\n",
      "postsynaptic membrane {'postsynaptic'}\n",
      "response to cold {'response to cold exposure'}\n",
      "growth {'growth process', 'growing', 'grown', 'grew', 'Growth', 'grow'}\n",
      "locomotory behavioral response to stimulus {'motor related behaviors', 'locomotor behavior', 'motor behavior'}\n",
      "chromosome decondensation {'decondensation', 'Decondensation'}\n",
      "synapse part {'synaptic endings', 'synapse elements', 'synapse components', 'synaptic structures'}\n",
      "mRNA catabolic process, nonsense-mediated decay {'nonsense-mediated message decay', 'nonsense mediated RNA decay', 'nonsense-mediated decay'}\n",
      "(S)-2-hydroxy-acid:oxygen 2-oxidoreductase {'hydroacid oxidase'}\n",
      "LDL receptor {'low density lipoprotein receptor', 'LDLR', 'low-density lipoprotein receptor'}\n",
      "male meiosis {'male meiotic', 'Male Meiosis'}\n",
      "deoxythymidine kinase (phosphorylating) {'thymidine kinase', 'tk', 'TK', 'Thymidine Kinase'}\n",
      "M phase {'M'}\n",
      "microtubule/chromatin interaction {'DNA binding', 'DNA-binding'}\n",
      "recombinational repair {'recombination repair', 'recombinational repair of DNA damage', 'recombination'}\n",
      "X chromosome {'X', 'X-chromosome', 'female sex chromosome', 'chromosome X'}\n",
      "DNA ligation {'ligating', 'ligated', 'ligation'}\n",
      "protein-endoplasmic reticulum retention {'endoplasmic reticulum protein retention'}\n",
      "endocytic vesicle {'endocytic vesicles'}\n",
      "protein splicing {'cleaving', 'cleavage', 'cleaved', 'cleave', 'Cleaved'}\n",
      "mating {'mated', 'mate', 'Mating', 'matings', 'breeding', 'mataings', 'breedings', 'interbred', 'bred', 'Matings', 'Breeding'}\n",
      "protein targeting to lysosome {'lysosomal targeting'}\n",
      "cell soma {'somata', 'soma', 'cell bodies', 'somal'}\n",
      "cell projection {'cell processes', 'projections', 'membrane projections', 'cell surface projections', 'Projections', 'processes', 'Processes', 'process'}\n",
      "morphogenesis of an epithelium {'epithelial morphogenesis'}\n",
      "signalpathway {'transduction cascade', 'signaling networks', 'signal flow', 'signals', 'signal transduction', 'signaling mechanisms', 'transduced', 'transfer', 'transducing', 'signaling cascades', 'signaling pathways', 'Transduction', 'transduction', 'transduction mechanisms', 'BMP signaling', 'signaling pathway', 'Signaling', 'signal cascades', 'transduce', 'signalling', 'signal transduction pathway', 'signaling', 'signaling cascade', 'signal transduction pathways', 'Signaling Pathway', 'signal', 'signaling events'}\n",
      "axonogenesis {'long-distance axon outgrowth'}\n",
      "nucleosome {'nucleosomes', 'Nucleosomal', 'nucleosomal'}\n",
      "cholesterol,NADPH:oxygen oxidoreductase (7alpha-hydroxylating) {'cholesterol 7α-hydroxylase'}\n",
      "protein amino acid phosphorylation {'phosphorylated', 'protein phosphorylation'}\n",
      "RNA elongation {'extension'}\n",
      "peptide cross-linking {'cross-linking', 'crosslinked'}\n",
      "histone modification {'modifications to histone proteins', 'histone modifying', 'histone modifications'}\n",
      "chiasma {'chiasmata'}\n",
      "mitochondrion {'Mitochondrial', 'm', 'mitochondrial', 'M', 'Mito'}\n",
      "activin {'Tgfbr2', 'TGFβRII', 'Tgf-β2', 'TGF-β type II receptor', 'TGF-βRII', 'TGF-β type I receptor', 'TGF-βRII receptor'}\n",
      "laminin-2 complex {'laminin-2'}\n",
      "strand transferase {'recombinase', 'Recombinase'}\n",
      "localization of cell {'distribution'}\n",
      "immune response {'immune responses'}\n",
      "protein kinase cascade {'kinase cascade'}\n",
      "synapsis {'Chromosome Pairing', 'chromosome pairing', 'synapsed', 'synaptic', 'synapsing', 'synapsis of chromosomes', 'pairing', 'chromosome-pairing', 'synapse', 'interhomolog synaptic', 'Synapsis', 'Homologous Chromosome Synapsis', 'meiotic pairing', 'chromosomal synapsis', 'homologous chromosome pairing', 'chromosome synapsis', 'homologous chromosome synapsis', 'interhomolog synapsis'}\n",
      "myosin complex {'Myosin', 'myosin'}\n",
      "nuclear import {'mechanism of nuclear import', 'nuclear import pathway', 'nuclear importation'}\n",
      "bone remodeling {'Bone Remodeling'}\n",
      "anatomical structure regression {'degrade', 'Regression', 'eliminated', 'regression', 'regressing', 'regresses', 'regressed'}\n",
      "neurological control of breathing {'control', 'autonomic control of respiration'}\n",
      "heavy metal chelation {'chelate'}\n",
      "primary sex determination {'primary sex-determining'}\n",
      "oviposition {'laid'}\n",
      "organization of an anatomical structure {'organisation', 'Organization', 'arranged', 'organize', 'organization', 'organized', 'organised', 'ordered', 'organizing'}\n",
      "basement membrane {'basal membranes', 'Basement Membrane', 'basal membrane'}\n",
      "axon {'axonal extensions', 'Axon', 'axonal projections', 'axons', 'neurites', 'Axonal Projection', 'axonal', 'Axons', 'Axonal', 'axonal processes'}\n",
      "cell fate determination {'fated', 'determinations of cell fates', 'determination', 'acquire', 'determined', 'fate determination'}\n",
      "retina development (sensu Mammalia) {'retinogenesis', 'Retinal development', 'retinal development'}\n",
      "PML body {'PML nuclear domains', 'PML bodies', 'PML nuclear bodies', 'promyelocytic leukemia nuclear bodies'}\n",
      "protein deglycosylation {'deglycosylation'}\n",
      "response to metal ion {'metal response', 'Metal-responsive', 'metal-responsive'}\n",
      "proprioception {'propioceptive', 'Proprioceptive', 'proprioceptive sensory', 'proprioceptive'}\n",
      "keratinization {'keratinizing'}\n",
      "intestinal absorption {'absorption', 'absorbed'}\n",
      "T-tubule {'t-tubule'}\n",
      "DNA duplex unwinding {'melting of duplex DNA', 'melt', 'duplex unwinding', 'unwound', 'unwinding activity', 'melting', 'denatured', 'unwinding', 'unwinding process', 'denaturing', 'unwinds', 'melted', 'unwinding of duplex DNA', 'unwind', 'denaturation'}\n",
      "apical plasma membrane {'apical membrane', 'apical membrane of cells', 'apical membranes'}\n",
      "membrane fusion {'fusion of membranes', 'membrane fusion processes'}\n",
      "DNA replication elongation {'elongation of DNA replication', 'extension'}\n",
      "immunoglobulin mediated immune response {'antibody response'}\n",
      "apoptotic chromosome condensation {'pyknotic'}\n",
      "fertilization {'fertilized', 'zygote formation', 'fertilised'}\n",
      "meiotic cell cycle checkpoint {'meiotic checkpoint control', 'meiotic checkpoint'}\n",
      "cytoplasm {'cytosolic', 'cytoplasmic', 'Cytoplasmic', 'cytosol compartments', 'C'}\n",
      "cell cycle control {'cell-cycle regulated', 'cell cycle regulation'}\n",
      "DNA modification {'modification of nucleic acid bases'}\n",
      "heterochromatin {'Heterochromatin domains', 'heterochromatin domain', 'Heterochromatin', 'heterochromatin regions', 'heterochromatic', 'heterochromatic regions', 'heterochromatin domains', 'heterochromatin foci'}\n",
      "6-phosphofructokinase reduction {'electron transport'}\n",
      "chromosome segregation {'segregate'}\n",
      "exocytosis {'exocytotic', 'released'}\n",
      "activated blood-coagulation factor X {'Factor X'}\n",
      "mitochondrial transcription {'mitochondrial DNA transcription'}\n",
      "axon guidance {'target-directed pathfinding', 'Axon Guidance', 'target', 'targeting', 'axon targeting', 'directed', 'axonal pathfinding', 'axon pathfinding', 'axonal targeting', 'guidance'}\n",
      "organogenesis {'pathway of organ development', 'organ development'}\n",
      "activin receptor activity, type II {'Activin type II receptor'}\n",
      "somatic cell DNA recombination {'somatic DNA recombination'}\n",
      "TdT {'terminal deoxynucleotide transferase', 'Terminal deoxynucleotidyl transferase', 'terminal deoxynucleotidyltransferase', 'terminal deoxynucleotidyl transferase'}\n",
      "postsynaptic density {'post-synaptic density', 'PSD'}\n",
      "ribosome {'ribosomal'}\n",
      "meiotic gene conversion {'NCO pathways', 'NCO recombination pathways', 'NCO recombination', 'noncrossover', 'NCO', 'NCO recombinational'}\n",
      "inclusion body {'inclusion', 'Inclusion bodies', 'inclusions', 'inclusion bodies'}\n",
      "sensory perception of taste {'Taste', 'gustatory', 'taste function'}\n",
      "defense response {'defense'}\n",
      "mitochondrial outer membrane {'outer mitochondrial membrane'}\n",
      "heterotrimeric G-protein GTPase, alpha-subunit {'GTPase'}\n",
      "protein polymerization {'polymerization', 'polymerizes', 'Polymerization'}\n",
      "biological_process {'biological activities', 'physiological pathways', 'biological pathway', 'biological actions', 'biological processes', 'biological event', 'biological process'}\n",
      "fibrinogen complex {'proliferating cell nuclear antigen', 'PCNA'}\n",
      "pre-replicative complex {'preRC'}\n",
      "DNA recombination {'recombination of DNA', 'recombination event', 'recombine', 'Recombination', 'recombination events', 'Recombined', 'Recombinant', 'recombined', 'rearranged', 'rearrangement', 'DNA recombination mechanisms', 'Rec', 'process of recombination', 'recombinant', 'recombination pathways', 'recombinations', 'recombination', 'recombines'}\n",
      "integrin complex {'integrins', 'integrin'}\n",
      "nucleoplasm {'Nucleoplasm', 'p'}\n",
      "membrane-bound vesicle {'membranous vesicles', 'membrane vesicle'}\n",
      "laminin complex {'Laminin', 'laminin'}\n",
      "insoluble fraction {'insoluble material'}\n",
      "perikaryon {'perikarya'}\n",
      "cell junction {'junctional', 'junction', 'junctions'}\n",
      "blood vessel remodeling {'vessel remodeling'}\n",
      "gamete generation (sensu Magnoliophyta) {'gamete development', 'generate', 'Gametogenesis', 'produces', 'genesis of gametes', 'produce'}\n",
      "kanamycin kinase (phosphorylating) {'NEO', 'neomycin phosphotransferase', 'neo', 'Neo'}\n",
      "gustatory receptor {'taste receptor', 'taste receptors'}\n",
      "G2 phase {'G2'}\n",
      "synaptonemal complex {'SC', 'SCs', 'synaptonemal complexes'}\n",
      "response to light stimulus {'light response'}\n",
      "SAPK {'stress kinases'}\n",
      "GINS complex {'GINS'}\n",
      "membrane budding {'bud', 'vesiculation process', 'budding', 'vesicle formation', 'vesiculation processes', 'vesiculate', 'vesiculation'}\n",
      "endosome {'endosomal', 'endosomes'}\n",
      "female pregnancy {'Pregnant', 'gestational', 'pregnant', 'pregnancy', 'pregnancies', 'Pregnancy'}\n",
      "anterior/posterior pattern specification {'anterior-posterior patterning'}\n",
      "cell cycle phase {'substage', 'stage', 'stages', 'phase', 'developmental stages'}\n",
      "microtubule {'microtubules', 'microtuble'}\n",
      "hair cycle {'hair-cycle', 'hair cycles'}\n",
      "photoreceptor morphogenesis {'photoreceptor development', 'development of photoreceptors'}\n",
      "filamentous actin {'F actin'}\n",
      "plasma membrane {'Plasma membranes', 'membranous', 'cellular membrane', 'cell membranes', 'plasma membranes', 'cellular membranes', 'PM'}\n",
      "morphogenesis of a branching structure {'branching process', 'branching', 'branching morphogenesis', 'branching events', 'branched', 'branch', 'budded', 'Branching'}\n",
      "integral to membrane {'Transmembrane', 'membrane-spanning', 'TM', 'transmembrane core'}\n",
      "cellular_component {'region', 'compartments'}\n",
      "chromatin silencing {'transcriptionally silenced', 'transcriptionally silent', 'transcriptional silencing'}\n",
      "transcription activating factor {'transcriptional activators', 'activator of transcription', 'transcriptional activator'}\n",
      "learning {'learning behavior', 'leaning', 'learned', 'Learning', 'learn'}\n",
      "synapse {'synapses', 'synaptic', 'synaptic connections'}\n",
      "protein unfolding {'unfolding', 'Unfolded'}\n",
      "pachytene {'pachytene stages', 'Pac', 'Pachytene', 'pachytene stage', 'pachynema', 'Pachynema'}\n",
      "establishment and maintenance of localization {'distributes', 'Localizes', 'localize', 'localisation', 'compartmentalization', 'reside', 'positioned', 'distributed', 'distribution', 'localizing', 'resides', 'residing', 'localized', 'assemble', 'Localization', 'location', 'localised', 'Distribution', 'located', 'distributions', 'localizes'}\n",
      "glycolysis {'glycolytic metabolism', 'glycolytic', 'glycolytic pathway'}\n",
      "photoreceptor outer segment membrane {'outer segment membranes'}\n",
      "transmembrantransport {'transmembrane conductance'}\n",
      "activated blood coagulation factor XI {'FIX'}\n",
      "establishment of tissue polarity {'polarizes', 'polarizing activity', 'alignments', 'alignment', 'aligned', 'polarized'}\n",
      "biopolymer modification {'modified', 'editing', 'edited', 'alterations', 'coupled', 'conjugated', 'modifications'}\n",
      "DNA strand elongation {'elongated', 'polymerization', 'extending', 'extension', 'DNA chain elongation stage'}\n",
      "hair follicle morphogenesis {'follicular morphogenesis', 'hair follicle morphgenesis', 'follicle morphogenesis', 'Hair Follicle Morphogenesis', 'Follicle Morphogenesis'}\n",
      "adrenocorticotropin {'receptor-bound'}\n",
      "pseudopodium {'pseudopods'}\n",
      "circadian rhythm {'Diurnal variation', 'diurnal fluctuation', 'circadian rhythms', 'diurnal rhythm', 'diurnal variation', 'diurnal pattern', 'diurnal cycle', 'diurnal rhythms', 'diurnal changes', 'Diurnal rhythms'}\n",
      "response to wounding {'response to injury'}\n",
      "XY body {'XY', 'XY Bodies', 'male sex chromatin', 'XY Body', 'Male Sex Chromatin', 'male XY body', 'sex body', 'XY bodies', 'XY body chromatin'}\n",
      "cytolysis {'cell lysis', 'lysing', 'lysed', 'cellular lysis', 'Cell Lysis', 'Lysed'}\n",
      "transcription-coupled nucleotide-excision repair {'transcription-coupled NER', 'transcription-coupled repair'}\n",
      "reproduction {'develop', 'engineering', 'bred', 'Production', 'produced', 'Breeding', 'constructed', 'established', 'mated', 'generating', 'development', 'yielded', 'engineered', 'Development', 'generation', 'propagated', 'propagate', 'generate', 'breeding', 'make', 'construction', 'created', 'produce', 'construct', 'reproduce', 'Generation', 'create', 'yield', 'establish', 'generated', 'reproductive', 'production', 'developed', 'making', 'establishment', 'creating'}\n",
      "nucleosome modeling {'nucleosome assembly'}\n",
      "acute lymphoblastic leukemia antigen {'neprilysin'}\n",
      "sensory perception of sweet taste {'sweet-tasting'}\n",
      "nucleolus organizer region {'nucleolar precursor bodies'}\n",
      "neural crest cell migration {'NCC migration'}\n",
      "photoreceptor inner segment {'inner segment', 'photoreceptor inner segments', 'inner segments', 'inner segment subcellular compartment', 'inner segment compartment of photoreceptors', 'IS', 'is', 'Photoreceptor inner segments', 'inner segment of photoreceptor neurons'}\n",
      "RNA polyadenylation {'polyadenylation'}\n",
      "neuroprotection {'neuroprotective', 'neuroprotective function'}\n",
      "growth hormone secretion {'Gh secretion'}\n",
      "basal part of cell {'base of cells', 'basal'}\n",
      "activated beta blood-coagulation factor XII {'Factors XII'}\n",
      "luciferase (Renilla luciferin) {'Runella luciferase'}\n",
      "3-methyl-2-oxobutanoate dehydrogenase (lipoamide) complex {'branched-chain keto acid dehydrogenase', 'Branched-chain keto acid dehydrogenase', 'branched chain ketoacid dehydrogenase', 'BCKDH', 'BCKDH complex'}\n",
      "chromatin remodeling complex {'chromatin remodeling complexes'}\n",
      "MHC protein complex {'MHC', 'major histocompatibility complex'}\n",
      "synaptic transmission {'synaptic activity', 'synaptic signalling', 'Neurotransmission', 'synaptic activation', 'transmission'}\n",
      "visual perception {'Vision', 'visual', 'Sight', 'visual function', 'visually', 'visual pathways'}\n",
      "protein self-association {'self-association', 'self-associate', 'self-associated', 'homophilic association', 'self-associates'}\n",
      "response to stimulus {'reactive', 'behave', 'responded', 'Response', 'responding', 'Responses', 'react', 'physiological response', 'responsive', 'reaction', 'responds', 'response', 'responses', 'biological responses', 'respond'}\n",
      "meiotic prophase I {'prophase I', 'Prophase I'}\n",
      "post-translational protein modification {'post-translational modifications', 'posttranslational modifications'}\n",
      "caveola {'caveoli'}\n",
      "trans-Golgi network {'trans-Golgi'}\n",
      "complement response {'complement activation'}\n",
      "myofibril {'Myo', 'myofibrils', 'myofibrillar'}\n",
      "chromatin {'chromatin structure', 'chromatin regions', 'Chromatin', 'chromatin compartment', 'chomatin', 'chromatin domain', 'chromatin structures'}\n",
      "ATPase activity, coupled to transmembrane movement of ions, phosphorylative mechanism {'P-type ATPase'}\n",
      "chromaffin granule {'chromaffin granules'}\n",
      "glucose import {'glucose uptake', 'uptake of glucose'}\n",
      "membrane {'membranes', 'Membrane', 'biological membranes', 'membranous'}\n",
      "(R)-mevalonate:NAD+ oxidoreductase (CoA-acylating) {'HMG-CoA reductase', 'HMG CoA reductase', 'Hmgr'}\n",
      "chromosome, telomeric region {'telomeric region of Chromosome'}\n",
      "engulfment of apoptotic cell {'uptake of apoptotic cells', 'apoptotic cell uptake', 'engulfment of apoptotic cells', 'cell-corpse engulfment', 'apoptotic cell engulfment', 'cell-corpse engulfment pathways', 'ingestion of apoptotic cells'}\n",
      "dystroglycan complex {'dystroglycan'}\n",
      "extracellular {'extracellular space', 'intercellular space', 'space', 'extracellular spaces', 'EC', 'spaces', 'outside'}\n",
      "PcG protein complex {'PcG complexes'}\n",
      "meiotic recombination {'crossed-over', 'CO', 'CO pathway', 'Meiotic Recombination', 'recombination in meiosis', 'COs', 'meiotic recombination pathways', 'crossovers', 'crossover', 'CO recombination', 'recombination', 'CO events', 'crossing over', 'crossing-overs'}\n",
      "intercellular junction {'cell-cell border', 'sites of intercellular contact', 'intercellular junctions', 'cell-cell contacts', 'sites of cell-cell contact', 'cell-cell borders'}\n",
      "protein targeting to membrane {'membrane-targeted'}\n",
      "chondrogenesis {'Chondrogenic', 'cartilage formation', 'chondrogenic', 'Chondrogenesis'}\n",
      "holo TFIIH complex {'TFIIH complexes', 'TFIIHs', 'basal transcription/DNA repair factor IIH', 'TFIIH', 'TFIIH complex'}\n",
      "neuron adhesion {'neural cell adhesion'}\n",
      "nuclear division {'nuclear breakdown'}\n",
      "GPRT {'Hprt', 'hypoxanthin-guanin-phosphoribosyltransferase'}\n",
      "systemic arterial blood pressure {'regulation of blood pressure'}\n",
      "electron transfer flavoprotein complex {'electron transport flavoprotein', 'ETF'}\n",
      "protein-DNA complex {'protein/DNA complex', 'protein–DNA complex'}\n",
      "dynein complex {'Dynein', 'dynein'}\n",
      "homologous recombinational repair {'intersister recombination', 'homology-mediated repair', 'homology-directed repair', 'recombinational repair of DSBs'}\n",
      "RNA-directed DNA polymerase, group II intron encoded {'RT', 'reverse transcriptase', 'rt', 'Reverse transcriptase', 'reverse-transcriptase'}\n",
      "DNA repair {'repair pathways', 'repairing', 'repair of DNA damage', 'Repaired', 'repaired', 'repair', 'Repair', 'repair activity', 'DNA damage repair', 'repairs'}\n",
      "Y chromosome {'Y Chr', 'Y', 'Y chromosomes', 'Y-chromosome', 'Y Chromosome'}\n",
      "transcriptional repressor complex {'repressive complexes'}\n",
      "Achromobacter iophagus collagenase {'collagenase type I'}\n",
      "Bur1 {'Cdk'}\n",
      "associative learning {'conditioned behaviors', 'conditioned', 'conditioning'}\n",
      "skeletal muscle adaptation {'adaptation of skeletal muscle'}\n",
      "chromocenter {'chromocenters'}\n",
      "cell adhesion {'adhere'}\n",
      "cell killing {'death in cells', 'Cell Death', 'Cell death', 'cell death pathway', 'cell destruction'}\n",
      "axon extension {'extending'}\n",
      "general adaptation syndrome, behavioral response {'adaptable behaviors'}\n",
      "nuclear membrane {'m', 'nuclear membranes'}\n",
      "meiotic DNA replication {'pre-meiotic replication'}\n",
      "death {'Death', 'fatal', 'deaths', 'died', 'dies', 'fatally', 'dead', 'Deaths', 'perished', 'die', 'Lethal', 'deceased', 'demise', 'dying', 'lethal', 'loss', 'fatalities'}\n",
      "SWI/SNF complex {'SWI/SNF chromatin remodeling complex', 'SWI/SNF', 'SWI-SNF complex'}\n",
      "DNA-directed RNA polymerase II, core complex {'Pol II', 'RNA polymerase II'}\n",
      "carnitine palmitoyltransferase I {'carnitine palmitoyltransferase'}\n",
      "proteasome complex (sensu Eukaryota) {'proteasomal', 'proteasome'}\n",
      "heart looping {'looping'}\n",
      "coagulation {'Clot formation', 'coagulation pathway', 'clot formation', 'Coagulation'}\n",
      "STK13 {'transmembrane serine-threonine kinase receptors'}\n",
      "stem cell division {'cell self-renewal', 'self-renewal', 'self-renewing'}\n",
      "protein maturation {'maturation'}\n",
      "muscle adaptation {'adaptively', 'adaptive muscle fiber transformation'}\n",
      "meiosis II {'secondary meiosis'}\n",
      "caspase complex {'activated caspase', 'active caspase'}\n",
      "replication fork blocking {'arrested'}\n",
      "endocytosis {'endocytic uptake', 'endocytosed', 'endocytic', 'endocytic pathway', 'Endocytosis'}\n",
      "ATP phosphohydrolase (Na+/K+-exchanging) {'Na+/K+-ATPase pump', 'Na+/K+ ATPase pump', 'Na+/K+-ATPase', 'ATPase-dependent Na+/K+ pump'}\n",
      "DNA packaging {'packaged', 'packaging'}\n",
      "RNA splicing {'splicing', 'splices', 'spliced', 'splice', 'Splice'}\n",
      "renal water retention {'water retention'}\n",
      "double-chain urokinase-type plasminogen activator {'plasminogen activator'}\n",
      "positive chemotaxis {'attracting', 'chemoattractant', 'attraction', 'attract', 'chemoattractant action', 'Chemoattraction', 'Chemoattractant'}\n",
      "protein binding, bridging {'bridge', 'bridging'}\n",
      "adherens junction {'adherens junction complex', 'AJ', 'AJs'}\n",
      "lipid raft {'lipid rafts', 'Lipid rafts', 'lipid raft domains'}\n",
      "orthophosphoric-monoester phosphohydrolase (alkaline optimum) {'Alkaline phosphatase', 'alkaline phophatase', 'ALP', 'alkaline phosphatase'}\n",
      "respiratory chain complex IV {'cytochrome oxidase', 'COX'}\n",
      "G1 phase {'G1', 'G1 stage'}\n",
      "transcription factor complex {'transcriptional regulatory complexes', 'transcription complex', 'transcription-factor complex', 'transcriptional complex', 'transcriptional complexes'}\n",
      "peptidyl-lysine tri-methylation {'trimethylation', 'trimethylated'}\n",
      "hydrogen ion homeostasis {'pH homeostasis'}\n",
      "muscle cell fate determination {'determination of myogenic precursors'}\n",
      "response to cocaine {'responding'}\n",
      "peptidyl-lysine di-methylation {'dimethylation', 'dimethylated'}\n",
      "centrosome {'centrosomal'}\n",
      "neuron fate determination {'neuronal fate acquisition', 'Neuronal Fate Acquisition'}\n",
      "protein tag {'tag'}\n",
      "cellular component disassembly {'deconstructed', 'disassembly', 'decay', 'digests', 'breakdown', 'digested', 'disassembles', 'degradation'}\n",
      "chromosome localization {'spatial organization of chromosomes'}\n",
      "strand displacement {'displaced', 'displace', 'Strand displacement', 'displaces', 'displacement'}\n",
      "microtubule depolymerization {'depolymerization of microtubules'}\n",
      "spermatogenesis {'Spermatogenesis', 'spermatogenic'}\n",
      "nuclear chromatin {'chromatin in nuclei'}\n",
      "nucleus {'N', 'Nuclear', 'n', 'nucleated', 'nuclear compartment', 'Nuclei', 'nuclei'}\n",
      "PRC1 complex {'polycomb repressive complex 1', 'PRC1'}\n",
      "fatty acid beta-oxidation {'β-oxidation', 'fatty-acid β-oxidation', 'β-oxidation of fatty acids', 'fatty acid β-oxidation'}\n",
      "induction {'induce', 'inductive', 'induced', 'inducing', 'induces', 'inductive events'}\n",
      "dihydrolipoamide reduction {'dihydrolipoyl dehydrogenase'}\n",
      "excitatory synapse {'excitatory synaptic'}\n",
      "NES receptor {'nuclear export receptor'}\n",
      "ossification {'osteogenic activity', 'Osteogenesis', 'osteogenic', 'osteogenic pathway', 'development of bone tissue', 'bone formation', 'Bone Formation', 'bone development', 'Osteogenic', 'Bone formation', 'ostegenic'}\n",
      "chromatin modification {'chromatin modifying', 'chromatin transformation', 'chromatin modifications'}\n",
      "DNA replication {'replicate', 'replicative', 'DNA Replication', 'replication', 'replicating'}\n",
      "DNA methylase {'DNA methyltransferases'}\n",
      "intracellular mRNA localization {'mRNA distribution'}\n",
      "AATK {'tyrosine kinase receptor'}\n",
      "orthophosphoric-monoester phosphohydrolase (acid optimum) {'acid phosphatase'}\n",
      "vesicle {'vesicular', 'vesicular compartments', 'Vesicles', 'vesicles', 'Vesicular structures'}\n",
      "multicellular organismal movement {'Motor function', 'Motor', 'motion', 'motor', 'motor activity', 'movement', 'physical activity', 'mobility', 'motor function', 'movements'}\n",
      "pigment granule {'pigment granules'}\n",
      "nucleotide-excision repair, DNA damage removal {'nucleotide excision', 'excision activity', 'excision'}\n",
      "membrane-associated guanylate kinase {'guanylate kinase'}\n",
      "fatty acid synthase complex {'FAS', 'fatty acid synthase'}\n",
      "gene silencing {'process of silencing', 'silencing', 'silenced', 'silences', 'Silencing', 'silence'}\n",
      "dynein {'microtubule-based motor'}\n",
      "synaptic vesicle {'synaptic vesicles'}\n",
      "base-excision repair, gap-filling {'gap repair'}\n",
      "cell {'Cells', 'CELL', 'cellular', 'cells', 'Cellular', 'Cell'}\n",
      "cell fate specification {'fated', 'acquire', 'lineage specification', 'specify', 'cell type specification', 'specified', 'specification'}\n",
      "storage vacuole {'storage bodies'}\n",
      "catecholamine secretion {'secretion of catecholamines'}\n",
      "phosphorylation {'phosphorylation events', 'phosphorylating', 'phosphorylated', 'phosphorylate'}\n",
      "synaptogenesis {'process of synapse formation', 'Synaptogenesis', 'formation of synapses', 'synapse formation'}\n",
      "cartilage condensation {'cartilage condensation phase', 'chondrogenic condensation'}\n",
      "lactose hydrolysis {'beta-galactosidase', 'β-gal', 'β-galactosidase', 'β-Gal'}\n",
      "response to zinc ion {'zinc-responsive'}\n",
      "terminal button {'terminal boutons'}\n",
      "hemoglobin complex {'haemoglobin', 'hemoglobin'}\n",
      "eye morphogenesis {'ocular morphogenesis'}\n",
      "D2 dopamine receptor ligand {'D2R binding'}\n",
      "apoptotic cell clearance {'clearance of apoptotic cells', 'removal of apoptotic cells', 'clearance of dead cells'}\n",
      "lagging strand elongation {'5′-extension'}\n",
      "sensory perception {'Sensory', 'detect', 'sensing', 'sensory', 'senses'}\n",
      "epithelial to mesenchymal transition {'EMTs', 'epithelial to mesenchymal transitions'}\n",
      "ureteric bud branching {'ureteric branching morphogenesis'}\n",
      "proteolysis {'proteolytic'}\n",
      "anatomical structure morphogenesis {'Morphogenesis', 'morphogenic', 'morphogenetic'}\n",
      "carbonate hydro-lyase (carbon-dioxide-forming) {'carbonic anhydrase', 'CA'}\n",
      "cell motility {'motility', 'motile'}\n",
      "autosome {'Autosomal', 'autosomal', 'autosomes'}\n",
      "pheromone catabolic process (sensu Saccharomyces) {'protein breakdown', 'protein degradation'}\n",
      "mitochondrion distribution {'Mitochondrial distribution'}\n",
      "response to low light intensity {'Responses to dim light'}\n",
      "establishment and maintenance of protein localization {'localization of proteins', 'protein distribution', 'Protein localization'}\n",
      "protein denaturation {'denaturation', 'denatured', 'denaturing', 'denaturation of proteins', 'denaturating'}\n",
      "anterior/posterior axis specification {'anterior-posterior patterning', 'establishment of anterior-posterior positioned information', 'anterior/posterior axis formation'}\n",
      "response to oxidative stress {'oxidative stress response'}\n",
      "collagen type I {'type I collagen', 'Col I'}\n",
      "cell cycle {'Cell Cycle', 'Cell-Cycle', 'cell-cycle'}\n",
      "celldifferentiate {'cyotological differentiation', 'differentiate', 'transformation', 'cellular differentiation', 'differentiation events', 'differentiation process', 'Differentiating', 'differentiation pathways', 'differentiation', 'cell differentiation', 'cytological differentiation', 'differentiation processes', 'Differentiation', 'differentiating', 'differentiation pathway', 'differentiated'}\n",
      "cell competition (sensu Metazoa) {'competition'}\n",
      "2-(Nomega-L-arginino)succinate arginine-lyase (fumarate-forming) {'argininosuccinate lyase'}\n",
      "chromatin remodeling {'chromosomal remodeling', 'remodeling', 'remodel', 'chomatin remodeling', 'chromatin remodeling events', 'chromatin-remodelling'}\n",
      "fibrinolysis {'Fibrinolytic activity', 'fibrinolytic functions', 'fibrinolytic activity', 'fibrinolytic'}\n",
      "kinesin complex {'kinesin', 'kinesins'}\n",
      "meiotic metaphase II {'metaphase II'}\n",
      "bone resorption {'resorptive', 'Resorbed', 'resorbing', 'resorption of bone', 'resorbed'}\n",
      "cardiac chronotropy {'control of heart rate', 'chronotropic'}\n",
      "methylation {'Methylation', 'methylate', 'methylated'}\n",
      "catabolprocess {'digestion', 'Digestions', 'degrade', 'Digestive', 'digensted', 'catabolic activity', 'digests', 'degraded', 'Digested', 'digestions', 'breakdown', 'digesting', 'digested', 'Digestion', 'degradation', 'digest'}\n",
      "meiotic metaphase I {'Metaphase I', 'metaphase I', 'MI'}\n",
      "fatty acid oxidation {'fatty acid oxidation pathway', 'fat oxidation', 'Fatty acid oxidation'}\n",
      "cell fate commitment {'lineage committed', 'fated', 'committed', 'commitment', 'acquire'}\n",
      "nucleolus {'nucleolar', 'nucleoli'}\n",
      "hemostasis {'haemostasis', 'haemostatic', 'hemostatic activity'}\n",
      "cell division {'Cell Division', 'Division', 'division', 'cell divisions', 'divide', 'dividing'}\n",
      "myelin sheath {'Myelin', 'myelin'}\n",
      "mitosis {'Mitotic', 'mitotic', 'Mitosis', 'mitotically'}\n",
      "intracellular {'inside', 'intracellularly', 'IC', 'intracellular environment'}\n",
      "protein cysteine-thiol oxidation {'PDI', 'protein disulfide isomerase'}\n",
      "apoptosis {'apoptotic events', 'cell apoptosis', 'Cell Apoptosis', 'Apoptotic', 'apoptotic cell death', 'Apoptosis', 'cellular apoptosis', 'apoptotic'}\n",
      "AcCholE {'acetylcholine esterase', 'Acetylcholine esterase', 'acetylcholinesterase'}\n",
      "membrane-bound organelle {'membrane organelles', 'membrane organelle'}\n",
      "cell maturation {'maturation'}\n",
      "protein ubiquitination {'Ub', 'ubiquitination', 'ubiquitinated'}\n",
      "zygotene {'Zygotene', 'zygonema', 'Zyg'}\n",
      "establishment of protein localization {'recruitment'}\n",
      "basal lamina {'basal membranes', 'basal membrane'}\n",
      "mRNA export out of nucleus {'mRNA export'}\n",
      "diplotene {'diplotene stages', 'diplonema', 'Diplotene'}\n",
      "dorsal/ventral pattern specification {'dorsoventral patterning', 'Dorsoventral Patterning', 'Acquisition of Dorsoventral Patterning', 'acquisition of dorsoventral positional identity', 'establishment of dorsoventral patterning'}\n",
      "translational readthrough {'translational read-through'}\n",
      "cell proliferation {'proliferative', 'Proliferating', 'proliferating', 'proliferation', 'expanded', 'Cell proliferation', 'Proliferative activities', 'expansion', 'expanding', 'expands', 'Proliferation', 'Cell Proliferation', 'expand', 'accumulation', 'processes of cell proliferation', 'Expansion', 'proliferate', 'proliferated'}\n",
      "lateral element {'lateral elements'}\n",
      "protein homooligomerization {'homo-oligomerize'}\n",
      "TGFbetaR {'TGF-β receptor'}\n",
      "chromosome separation {'separate'}\n",
      "FGFR {'FGF receptors'}\n",
      "membrane fraction {'membrane fractions'}\n",
      "protein complex scaffold {'scaffolds', 'scaffold'}\n",
      "drinking {'ingest', 'food intake', 'Fed', 'Food consumption', 'ingested', 'ingestive', 'feeding', 'consumption', 'consuming', 'consume', 'food consumption', 'intake', 'consumed', 'fed'}\n",
      "protein tetramerization {'tetramerize'}\n",
      "cellular extravasation {'extravasation'}\n",
      "organ morphogenesis {'morphogenesis', 'tissue deposition'}\n",
      "response to DNA damage stimulus {'DNA-damage responses', 'DNA damage responses'}\n",
      "neuron migration {'neuronal cell migration'}\n",
      "enucleation {'enucleating'}\n",
      "hemidesmosome {'hemidesmosomes', 'hemidesmosomal'}\n",
      "actin filament-based movement {'actin-based movement'}\n",
      "microvillus {'microvilli', 'villi'}\n",
      "S phase {'S-phase', 'S'}\n",
      "hexokinase (phosphorylating) {'HK', 'Hexokinase', 'hexokinase'}\n",
      "nuclear body {'nuclear bodies', 'Nuclear Bodies'}\n",
      "keratinocyte migration {'migration of keratinocytes'}\n",
      "embryonic pattern specification {'embryonic pattern formation', 'embryonic patterning'}\n",
      "collagen type X {'type X collagen'}\n",
      "P4 peroxisome {'Peroxisome'}\n",
      "polarity specification of anterior/posterior axis {'posteriorly polarize', 'posteriorly derived polarizing activity'}\n",
      "protein amino acid acetylation {'acetylation', 'acetylated', 'acteylated'}\n",
      "dendrite {'dendritic-tree', 'dendritic', 'dendrites'}\n",
      "inflammatory response {'inflamed', 'inflammation', 'Inflammation', 'inflammatory'}\n",
      "maintenance of localization {'sequester', 'sequesters', 'retain', 'sequestration', 'sequestered', 'remains', 'segregates', 'retained'}\n",
      "develop {'Formation', 'forms', 'Developmental Mechanism', 'developmental processes', 'acquisition', 'pathways of development', 'Developing', 'producing', 'produced', 'constructed', 'established', 'developing', 'acquire', 'generating', 'development', 'embryonal development', 'embryogenesis', 'arise', 'developmental events', 'yielded', 'embryonic development', 'assemble', 'Development', 'developmental pathways', 'generation', 'establishing', 'form', 'formation', 'generate', 'fetal development', 'advance', 'make', 'developmentally', 'develops', 'developmental', 'Developmental', 'creating', 'Generating', 'acquired', 'created', 'Developmentally', 'produce', 'Make', 'Generation', 'create', 'establishes', 'generates', 'developmental mechanisms', 'yield', 'establish', 'assembly', 'generated', 'formation process', 'forming', 'produces', 'Embryonic Development', 'formed', 'production', 'developed', 'Embryonic Establishment', 'making', 'establishment', 'embryologic development'}\n",
      "chromosome, pericentric region {'Pericentric', 'pericentric', 'pericentric domains', 'pericentric DNA', 'pericentric domain'}\n",
      "MCM complex {'Mcm helicases', 'Mcm helicase', 'Mcm complex', 'Mcm complexes', 'Mcm', 'MCM'}\n",
      "early endosome {'early endosomes'}\n",
      "transport {'moving', 'translocate', 'translocates', 'shuttles', 'trafficking process', 'switches', 'transported', 'routed', 'trafficking', 'translocated', 'Translocation', 'trafficked', 'transporting', 'carried', 'relocation', 'routing', 'transferred', 'shuttle', 'translocation', 'delivery', 'trafficking pathways', 'moves', 'conductance', 'transport mechanisms'}\n",
      "deoxyribonuclease (pancreatic) {'DNAse1', 'DNaseI'}\n",
      "Mn, Fe superoxide dismutase {'superoxide dismutase'}\n",
      "chromosomal part {'chromosome regions', 'regions of chromosomes'}\n",
      "transcription initiation {'transcription start', 'start', 'transcriptional initiation', 'initiation', 'transcriptional start', 'initiating'}\n",
      "female meiosis {'meiosis in females'}\n",
      "sensory perception of bitter taste {'bitter-tasting', 'bitter taste'}\n",
      "extracellular matrix part {'ECM Components', 'ECM components'}\n",
      "localization within membrane {'membrane distribution', 'membrane-localized'}\n",
      "Ran-binding protein {'Ran-binding'}\n",
      "reflex {'reflex pathway'}\n",
      "neuron fate specification {'neuronal fate acquisition', 'Neuronal Specification', 'Neuronal Fate Acquisition'}\n",
      "pigment granule translocation {'movement of pigment granules'}\n",
      "myosin VII complex {'myosin VII'}\n",
      "sex chromatin {'Sex Chromatin'}\n",
      "anti-apoptosis {'anti-apoptotic'}\n",
      "protein amino acid oxidation {'oxidized'}\n",
      "1,2-diacylglycerol kinase (phosphorylating) {'diacylglycerol kinases'}\n",
      "sex determination {'sex determination pathway', 'sex-determination', 'sex-determining', 'Sex Determination', 'sex determining', 'determining'}\n",
      "splice site selection {'alternate splice', 'alternative splice event', 'alternate splicing', 'Alternative splicing', 'alternative spliced', 'alternative splice', 'splice', 'alternative splicing', 'alternatively spliced', 'alternative splice events'}\n",
      "biological adhesion {'adhesion', 'adherent', 'adherence', 'adhering', 'attached', 'adhesive'}\n",
      "keratin filament {'keratin filaments'}\n",
      "adenosinetriphosphatase (DNA-dependent) {'DNA-dependent ATPase'}\n",
      "bind {'bound', 'binding', 'binding reaction', 'Bound', 'complexes', 'binding reactions', 'attached', 'Binding', 'binds'}\n",
      "replication fork {'forks', 'DNA replication forks', 'fork', 'replication forks', 'fork structures', 'forked'}\n",
      "organelle {'organelles'}\n",
      "nuclear hormone receptor {'nuclear receptors', 'nuclear receptor'}\n",
      "glucokinase (phosphorylating) {'glucokinase'}\n",
      "neurite morphogenesis {'neurodevelopment', 'neural development', 'nervous system development', 'neurological development', 'neurodevelopmental'}\n",
      "cell growth and/or maintenance {'cellular processes', 'cell function', 'cellular mechanisms', 'cellular events', 'cellular process', 'cellular functions', 'cellular activities', 'cellular pathways'}\n",
      "photoreceptor cell morphogenesis {'photoreceptor morphogenesis'}\n",
      "PCNA complex {'proliferating cell nuclear antigen', 'PCNA'}\n",
      "embryonic hemopoiesis {'Embryonic Hematopoiesis', 'embryonic hematopoiesis'}\n",
      "2-oxoglutarate:dihydrolipoyllysine-residue succinyltransferase-lipoyllysine 2-oxidoreductase (decarboxylating, acceptor-succinylating) {'α-ketoglutarate dehydrogenase'}\n",
      "pigmentation {'deposition of pigment', 'Pigmentation'}\n",
      "double-strand break repair {'DSB repair', 'repair pathway'}\n",
      "oxidized glutathione reduction {'glutathione pathway', 'Gsr', 'glutathione reductase', 'glutathione metabolism'}\n",
      "lipid homeostasis {'lipid balance'}\n",
      "cell-cell adherens junction {'intercellular adherens junctions'}\n",
      "protein autoprocessing {'autoprocessing'}\n",
      "muscle contraction {'contractile', 'contractions', 'contract', 'contraction', 'contraction functions'}\n",
      "neuron projection {'neuronal projections'}\n",
      "late endosome {'late endosomes', 'late endosomal'}\n"
     ]
    }
   ],
   "source": [
    "for key, value in term_index.items():\n",
    "    print(key.lemma, value)"
   ]
  },
  {
   "cell_type": "code",
   "execution_count": 23,
   "metadata": {
    "collapsed": false,
    "deletable": true,
    "editable": true
   },
   "outputs": [
    {
     "data": {
      "text/plain": [
       "[(Entity(lemma='apoptosis', ref='GO:0006915'), 'apoptotic'),\n",
       " (Entity(lemma='Dp38', ref='GO:0004707'), 'mitogen-activated protein kinase'),\n",
       " (Entity(lemma='photoreceptor outer segment', ref='GO:0001750'),\n",
       "  'outer segment'),\n",
       " (Entity(lemma='cell', ref='GO:0050865'), 'cells'),\n",
       " (Entity(lemma='reverse transcription', ref='GO:0006410'), 'RT'),\n",
       " (Entity(lemma='reverse transcription', ref='GO:0006410'),\n",
       "  'reverse-transcribed'),\n",
       " (Pattern(lemma='geneexpress', ref='annotator'), 'expression'),\n",
       " (Entity(lemma='chromosome', ref='GO:0005694'), 'chr.'),\n",
       " (Entity(lemma='heterochromatin', ref='GO:0031507'),\n",
       "  'heterochromatin domains'),\n",
       " (Entity(lemma='extracellular matrix', ref='GO:0031012'), 'matrix'),\n",
       " (Entity(lemma='translational termination', ref='GO:0006415'), 'stop'),\n",
       " (Pattern(lemma='geneexpress', ref='annotator'), 'expression'),\n",
       " (Entity(lemma='female sex determination', ref='GO:0030237'),\n",
       "  'establishment of ... female program'),\n",
       " (Entity(lemma='adherens junction', ref='GO:0005912'), 'AJs'),\n",
       " (Entity(lemma='multicellular organismal movement', ref='GO:0050879'),\n",
       "  'motor'),\n",
       " (Entity(lemma='cell', ref='GO:0050865'), 'cells'),\n",
       " (Entity(lemma='tissue remodeling', ref='GO:0034103'), 'remodeling'),\n",
       " (Entity(lemma='cell', ref='GO:0050865'), 'cells'),\n",
       " (Pattern(lemma='geneexpress', ref='annotator'), 'expression'),\n",
       " (Entity(lemma='gluconeogenesis', ref='GO:0045721'), 'glucose production'),\n",
       " (Entity(lemma='secretion', ref='GO:0032941'), 'secrete'),\n",
       " (Entity(lemma='cytoskeleton', ref='GO:0005856'), 'cytoskeletal'),\n",
       " (Constraint(lemma='axon guidance', ref='GO:0048843'), 'Axon Guidance'),\n",
       " (Entity(lemma='cell', ref='GO:0050865'), 'cells'),\n",
       " (Entity(lemma='reproduction', ref='GO:0000003'), 'generation'),\n",
       " (Entity(lemma='blood coagulation', ref='GO:0030195'), 'thrombosis'),\n",
       " (Pattern(lemma='geneexpress', ref='annotator'), 'expression'),\n",
       " (Entity(lemma='cell growth and/or maintenance', ref='GO:0009987'),\n",
       "  'cell function'),\n",
       " (Entity(lemma='CAT', ref='GO:0004096'), 'catalase'),\n",
       " (Entity(lemma='hemopoiesis', ref='GO:0030097'), 'hematopoietic'),\n",
       " (Pattern(lemma='develop', ref='annotator'), 'development'),\n",
       " (Entity(lemma='cell division', ref='GO:0051301'), 'division'),\n",
       " (Entity(lemma='sensory perception of smell', ref='GO:0007608'), 'olfactory'),\n",
       " (Entity(lemma='RNA splicing', ref='GO:0033119'), 'spliced'),\n",
       " (Entity(lemma='RNA splicing', ref='GO:0033119'), 'spliced'),\n",
       " (Entity(lemma='anagen', ref='GO:0042640'), 'Growth of ... hair'),\n",
       " (Entity(lemma='immunoglobulin complex', ref='GO:0019814'), 'Abs'),\n",
       " (Pattern(lemma='geneexpress', ref='annotator'), 'expression'),\n",
       " (Entity(lemma='cell killing', ref='GO:0031341'), 'Cell Death'),\n",
       " (Entity(lemma='response to stimulus', ref='GO:0007610'), 'response'),\n",
       " (Entity(lemma='vesicle', ref='GO:0031982'), 'vesicular'),\n",
       " (Entity(lemma='locomotory behavioral response to stimulus', ref='GO:0007626'),\n",
       "  'locomotor behavior'),\n",
       " (Entity(lemma='determination of anterior/posterior axis, embryo', ref='GO:0008595'),\n",
       "  'anterior/posterior axis formation ... in ... embryo'),\n",
       " (Pattern(lemma='celldifferentiate', ref='annotator'),\n",
       "  'differentiation in ... cells'),\n",
       " (Entity(lemma='genetic imprinting', ref='GO:0006349'), 'imprinted'),\n",
       " (Entity(lemma='cell', ref='GO:0050865'), 'cells'),\n",
       " (Entity(lemma='cell', ref='GO:0050865'), 'cells'),\n",
       " (Entity(lemma='protein splicing', ref='GO:0030908'), 'cleaved'),\n",
       " (Entity(lemma='establishment and maintenance of localization', ref='GO:0051668'),\n",
       "  'distribution'),\n",
       " (Entity(lemma='death', ref='GO:0016265'), 'lethal'),\n",
       " (Entity(lemma='axon', ref='GO:0030424'), 'axons'),\n",
       " (Entity(lemma='mating', ref='GO:0007617'), 'mated'),\n",
       " (Entity(lemma='parturition', ref='GO:0007567'), 'birth'),\n",
       " (Entity(lemma='sensory perception of smell', ref='GO:0007608'), 'olfactory'),\n",
       " (Entity(lemma='male sex determination', ref='GO:0030238'),\n",
       "  'establishment of ... male pathway'),\n",
       " (Entity(lemma='parturition', ref='GO:0007567'), 'birth'),\n",
       " (Entity(lemma='vesicle', ref='GO:0031982'), 'vesicles'),\n",
       " (Entity(lemma='intestinal absorption', ref='GO:0050892'), 'absorbed'),\n",
       " (Entity(lemma='cell', ref='GO:0050865'), 'cells'),\n",
       " (Entity(lemma='RNA splicing', ref='GO:0033119'), 'splicing'),\n",
       " (Pattern(lemma='geneexpress', ref='annotator'), 'expression'),\n",
       " (Pattern(lemma='signalpathway', ref='annotator'), 'signaling'),\n",
       " (Entity(lemma='establishment and maintenance of localization', ref='GO:0051668'),\n",
       "  'localized'),\n",
       " (Entity(lemma='establishment and maintenance of localization', ref='GO:0051668'),\n",
       "  'localized'),\n",
       " (Entity(lemma='sensory perception', ref='GO:0051931'), 'sensory'),\n",
       " (Entity(lemma='microtubule depolymerization', ref='GO:0007026'),\n",
       "  'depolymerization of microtubules'),\n",
       " (Entity(lemma='glycopeptide hormone', ref='GO:0005179'), 'hormones'),\n",
       " (Entity(lemma='reproduction', ref='GO:0000003'), 'generated'),\n",
       " (Entity(lemma='neuron maturation', ref='GO:0042551'), 'neuronal maturation'),\n",
       " (Entity(lemma='response to stimulus', ref='GO:0007610'), 'response'),\n",
       " (Pattern(lemma='geneexpress', ref='annotator'), 'expressed'),\n",
       " (Entity(lemma='apoptosis', ref='GO:0006915'), 'apoptotic'),\n",
       " (Entity(lemma='chromosome inactivation', ref='GO:0009048'), 'X-inactivation'),\n",
       " (Entity(lemma='pigmentation', ref='GO:0048086'), 'deposition of pigment'),\n",
       " (Entity(lemma='nuclear hormone receptor', ref='GO:0035257'),\n",
       "  'nuclear ... receptor'),\n",
       " (Entity(lemma='RNA-directed DNA polymerase, group II intron encoded', ref='GO:0003964'),\n",
       "  'RT'),\n",
       " (Entity(lemma='reproduction', ref='GO:0000003'), 'generated'),\n",
       " (Pattern(lemma='celldifferentiate', ref='annotator'), 'differentiation'),\n",
       " (Pattern(lemma='geneexpress', ref='annotator'), 'expressed'),\n",
       " (Pattern(lemma='geneexpress', ref='annotator'), 'expression'),\n",
       " (Entity(lemma='axon', ref='GO:0030424'), 'axons'),\n",
       " (Pattern(lemma='develop', ref='annotator'), 'established'),\n",
       " (Entity(lemma='mating', ref='GO:0007617'), 'matings'),\n",
       " (Entity(lemma='cell', ref='GO:0050865'), 'cellular'),\n",
       " (Entity(lemma='morphogenesis of a branching structure', ref='GO:0001763'),\n",
       "  'branching'),\n",
       " (Entity(lemma='ligand', ref='GO:0005488'), 'bind'),\n",
       " (Entity(lemma='transcription', ref='GO:0000410'), 'transcriptional'),\n",
       " (Entity(lemma='reproduction', ref='GO:0000003'), 'Production'),\n",
       " (Pattern(lemma='geneexpress', ref='annotator'), 'expression'),\n",
       " (Entity(lemma='cell', ref='GO:0050865'), 'cells'),\n",
       " (Entity(lemma='meiotic cell cycle checkpoint', ref='GO:0033313'),\n",
       "  'meiotic ... checkpoints'),\n",
       " (Pattern(lemma='celldifferentiate', ref='annotator'), 'differentiated'),\n",
       " (Pattern(lemma='geneexpress', ref='annotator'), 'express'),\n",
       " (Entity(lemma='lactose hydrolysis', ref='GO:0004565'), 'β-galactosidase'),\n",
       " (Pattern(lemma='regulate', ref='annotator'), 'regulation'),\n",
       " (Pattern(lemma='geneexpress', ref='annotator'), 'expression'),\n",
       " (Entity(lemma='chromosome', ref='GO:0005694'), 'Chromosome'),\n",
       " (Pattern(lemma='geneexpress', ref='annotator'), 'expressed'),\n",
       " (Entity(lemma='cell', ref='GO:0050865'), 'cells'),\n",
       " (Entity(lemma='cell', ref='GO:0050865'), 'cells')]"
      ]
     },
     "execution_count": 23,
     "metadata": {},
     "output_type": "execute_result"
    }
   ],
   "source": [
    "new_term_text[:100]"
   ]
  },
  {
   "cell_type": "code",
   "execution_count": 4,
   "metadata": {
    "collapsed": false,
    "deletable": true,
    "editable": true,
    "scrolled": true
   },
   "outputs": [],
   "source": [
    "def only_has_pattern(statement):\n",
    "    if set([term.__class__ for term in statement.terms()]) == set([Pattern]):\n",
    "        return True\n",
    "    return False"
   ]
  },
  {
   "cell_type": "code",
   "execution_count": 7,
   "metadata": {
    "collapsed": true,
    "deletable": true,
    "editable": true
   },
   "outputs": [],
   "source": [
    "def dont_has_entity(statement):\n",
    "    if goconcept.Entity not in set([term.__class__ for term in statement.terms()]):\n",
    "        return True\n",
    "    return False"
   ]
  },
  {
   "cell_type": "code",
   "execution_count": 5,
   "metadata": {
    "collapsed": false,
    "deletable": true,
    "editable": true
   },
   "outputs": [],
   "source": [
    "stat_index = extractor.Index()\n",
    "for goid, concept in godata.items():\n",
    "    for statement in concept.statements:\n",
    "        for term in statement.terms():\n",
    "            if isinstance(term, Entity):\n",
    "                stat_index[term].add(statement)\n",
    "            elif isinstance(term, Constraint):\n",
    "                stat_index[term].add(statement)\n",
    "            elif only_has_pattern(statement):\n",
    "                stat_index[term].add(statement)\n",
    "                              \n",
    "stat_index.use_default = False"
   ]
  },
  {
   "cell_type": "code",
   "execution_count": 58,
   "metadata": {
    "collapsed": false,
    "deletable": true,
    "editable": true,
    "scrolled": true
   },
   "outputs": [],
   "source": [
    "term_index = extractor.Index()\n",
    "for cluster in godata.clusterbook.clusters:\n",
    "    for term in cluster.terms:\n",
    "        term_index[term.lemma].add(cluster.primary_term)\n"
   ]
  },
  {
   "cell_type": "code",
   "execution_count": 59,
   "metadata": {
    "collapsed": false,
    "deletable": true,
    "editable": true
   },
   "outputs": [],
   "source": [
    "solid_extractor = extractor.SolidExtractor(term_index)"
   ]
  },
  {
   "cell_type": "code",
   "execution_count": 57,
   "metadata": {
    "collapsed": false,
    "deletable": true,
    "editable": true
   },
   "outputs": [
    {
     "data": {
      "text/plain": [
       "<module 'mcgocr.extractor' from '/Users/jeroyang/projects/mcgocr/mcgocr/extractor.py'>"
      ]
     },
     "execution_count": 57,
     "metadata": {},
     "output_type": "execute_result"
    }
   ],
   "source": [
    "import importlib\n",
    "importlib.reload(extractor)"
   ]
  },
  {
   "cell_type": "code",
   "execution_count": 43,
   "metadata": {
    "collapsed": false,
    "deletable": true,
    "editable": true
   },
   "outputs": [
    {
     "data": {
      "text/plain": [
       "Grounds(evidences=[Evidence(term=Entity(lemma='macrophage', ref='GO:0042116'), text='macrophage', start=37, end=47)], sentence=Sentence(text='The largest is the macrophage', offset=18, ref='None'))"
      ]
     },
     "execution_count": 43,
     "metadata": {},
     "output_type": "execute_result"
    }
   ],
   "source": []
  },
  {
   "cell_type": "code",
   "execution_count": 34,
   "metadata": {
    "collapsed": false,
    "deletable": true,
    "editable": true
   },
   "outputs": [],
   "source": [
    "from collections import namedtuple, defaultdict\n",
    "Candidate = namedtuple('Candidate', 'statement evidences')"
   ]
  },
  {
   "cell_type": "code",
   "execution_count": 39,
   "metadata": {
    "collapsed": false,
    "deletable": true,
    "editable": true,
    "scrolled": true
   },
   "outputs": [],
   "source": [
    "def nearest_evidences(current_position, wanted_terms, position_index):\n",
    "    found_evidences = []\n",
    "    for term in wanted_terms:\n",
    "        positional_evidences = position_index[term]\n",
    "        if len(positional_evidences) > 0:\n",
    "            distance_evidence = [(abs(current_position - position), evidence) \n",
    "                             for position, evidence in positional_evidences]\n",
    "            distance_evidence.sort(key=lambda it:it[0])\n",
    "            found_evidences.append(distance_evidence[0])\n",
    "    return found_evidences\n",
    "\n",
    "    \n",
    "def generate_candidates(grounds, stat_index):\n",
    "    \"\"\"\n",
    "    This function looks so complex because I only want to report the nearest evidence\n",
    "    Maybe there is a more elegant way, but I have no idea, currently. \n",
    "    \"\"\"\n",
    "    result_candidates = []\n",
    "    \n",
    "    positional_evidences = list(enumerate(grounds.evidences))\n",
    "    \n",
    "    #The first loop, build the positional_index\n",
    "    position_index = defaultdict(list)\n",
    "    for position, evidence in positional_evidences:\n",
    "        position_index[evidence.term].append((position, evidence))\n",
    "    \n",
    "    #The second loop, gathering evidences\n",
    "    for position, evidence in positional_evidences:\n",
    "        statements = stat_index[evidence.term]\n",
    "        for statement in statements:\n",
    "            wanted_terms = statement.terms()\n",
    "            found_evidences = nearest_evidences(position, wanted_terms, position_index)\n",
    "            candidate = Candidate(statement, found_evidences)\n",
    "            result_candidates.append(candidate)\n",
    "    return result_candidates\n",
    "        "
   ]
  },
  {
   "cell_type": "code",
   "execution_count": null,
   "metadata": {
    "collapsed": true,
    "deletable": true,
    "editable": true
   },
   "outputs": [],
   "source": []
  },
  {
   "cell_type": "code",
   "execution_count": 60,
   "metadata": {
    "collapsed": false,
    "deletable": true,
    "editable": true
   },
   "outputs": [
    {
     "data": {
      "text/plain": [
       "[Evidence(term=Entity(lemma='macrophage', ref='GO:0042116'), text='macrophage', start=37, end=47)]"
      ]
     },
     "execution_count": 60,
     "metadata": {},
     "output_type": "execute_result"
    }
   ],
   "source": [
    "from basics import corpus\n",
    "sentence = Sentence('The largest is the macrophage', 18, 'None')\n",
    "solid_extractor.findall(sentence)"
   ]
  },
  {
   "cell_type": "code",
   "execution_count": 61,
   "metadata": {
    "collapsed": false,
    "deletable": true,
    "editable": true,
    "scrolled": true
   },
   "outputs": [
    {
     "data": {
      "text/plain": [
       "Grounds(evidences=[Evidence(term=Entity(lemma='macrophage', ref='GO:0042116'), text='macrophage', start=37, end=47)], sentence=Sentence(text='The largest is the macrophage', offset=18, ref='None'))"
      ]
     },
     "execution_count": 61,
     "metadata": {},
     "output_type": "execute_result"
    }
   ],
   "source": [
    "solid_extractor.to_grounds(sentence)"
   ]
  },
  {
   "cell_type": "code",
   "execution_count": 53,
   "metadata": {
    "collapsed": false,
    "deletable": true,
    "editable": true
   },
   "outputs": [
    {
     "data": {
      "text/plain": [
       "9"
      ]
     },
     "execution_count": 53,
     "metadata": {},
     "output_type": "execute_result"
    }
   ],
   "source": [
    "len(stat_index[Out[48]])"
   ]
  },
  {
   "cell_type": "code",
   "execution_count": 63,
   "metadata": {
    "collapsed": false,
    "deletable": true,
    "editable": true,
    "scrolled": true
   },
   "outputs": [
    {
     "data": {
      "text/plain": [
       "[Candidate(statement=Statement(statid='GO:0030225%000', evidences=[Evidence(term=Entity(lemma='macrophage', ref='GO:0042116'), text='macrophage', start=0, end=10), Evidence(term=Pattern(lemma='celldifferentiate', ref='annotator'), text='celldifferentiate', start=11, end=26)]), evidences=[(0, Evidence(term=Entity(lemma='macrophage', ref='GO:0042116'), text='macrophage', start=37, end=47))]),\n",
       " Candidate(statement=Statement(statid='GO:0045650%000', evidences=[Evidence(term=Pattern(lemma='negatregulate', ref='annotator'), text='negatregulate', start=0, end=19), Evidence(term=Entity(lemma='macrophage', ref='GO:0042116'), text='macrophage', start=23, end=33), Evidence(term=Pattern(lemma='celldifferentiate', ref='annotator'), text='celldifferentiate', start=34, end=49)]), evidences=[(0, Evidence(term=Entity(lemma='macrophage', ref='GO:0042116'), text='macrophage', start=37, end=47))]),\n",
       " Candidate(statement=Statement(statid='GO:0042116%000', evidences=[Evidence(term=Entity(lemma='macrophage', ref='GO:0042116'), text='macrophage', start=0, end=10), Evidence(term=Pattern(lemma='positregulate', ref='annotator'), text='positregulate', start=11, end=21)]), evidences=[(0, Evidence(term=Entity(lemma='macrophage', ref='GO:0042116'), text='macrophage', start=37, end=47))]),\n",
       " Candidate(statement=Statement(statid='GO:0045651%000', evidences=[Evidence(term=Pattern(lemma='positregulate', ref='annotator'), text='positregulate', start=0, end=19), Evidence(term=Entity(lemma='macrophage', ref='GO:0042116'), text='macrophage', start=23, end=33), Evidence(term=Pattern(lemma='celldifferentiate', ref='annotator'), text='celldifferentiate', start=34, end=49)]), evidences=[(0, Evidence(term=Entity(lemma='macrophage', ref='GO:0042116'), text='macrophage', start=37, end=47))]),\n",
       " Candidate(statement=Statement(statid='GO:0043031%000', evidences=[Evidence(term=Pattern(lemma='negatregulate', ref='annotator'), text='negatregulate', start=0, end=19), Evidence(term=Entity(lemma='macrophage', ref='GO:0042116'), text='macrophage', start=23, end=33), Evidence(term=Pattern(lemma='positregulate', ref='annotator'), text='positregulate', start=34, end=44)]), evidences=[(0, Evidence(term=Entity(lemma='macrophage', ref='GO:0042116'), text='macrophage', start=37, end=47))]),\n",
       " Candidate(statement=Statement(statid='GO:0043030%000', evidences=[Evidence(term=Pattern(lemma='regulate', ref='annotator'), text='regulate', start=0, end=10), Evidence(term=Entity(lemma='macrophage', ref='GO:0042116'), text='macrophage', start=14, end=24), Evidence(term=Pattern(lemma='positregulate', ref='annotator'), text='positregulate', start=25, end=35)]), evidences=[(0, Evidence(term=Entity(lemma='macrophage', ref='GO:0042116'), text='macrophage', start=37, end=47))]),\n",
       " Candidate(statement=Statement(statid='GO:0043032%000', evidences=[Evidence(term=Pattern(lemma='positregulate', ref='annotator'), text='positregulate', start=0, end=19), Evidence(term=Entity(lemma='macrophage', ref='GO:0042116'), text='macrophage', start=23, end=33), Evidence(term=Pattern(lemma='positregulate', ref='annotator'), text='positregulate', start=34, end=44)]), evidences=[(0, Evidence(term=Entity(lemma='macrophage', ref='GO:0042116'), text='macrophage', start=37, end=47))]),\n",
       " Candidate(statement=Statement(statid='GO:0002281%000', evidences=[Evidence(term=Entity(lemma='macrophage', ref='GO:0042116'), text='macrophage', start=0, end=10), Evidence(term=Pattern(lemma='positregulate', ref='annotator'), text='positregulate', start=11, end=21), Evidence(term=Entity(lemma='immune response', ref='GO:0002251'), text='immune response', start=29, end=44)]), evidences=[(0, Evidence(term=Entity(lemma='macrophage', ref='GO:0042116'), text='macrophage', start=37, end=47))]),\n",
       " Candidate(statement=Statement(statid='GO:0045649%000', evidences=[Evidence(term=Pattern(lemma='regulate', ref='annotator'), text='regulate', start=0, end=10), Evidence(term=Entity(lemma='macrophage', ref='GO:0042116'), text='macrophage', start=14, end=24), Evidence(term=Pattern(lemma='celldifferentiate', ref='annotator'), text='celldifferentiate', start=25, end=40)]), evidences=[(0, Evidence(term=Entity(lemma='macrophage', ref='GO:0042116'), text='macrophage', start=37, end=47))])]"
      ]
     },
     "execution_count": 63,
     "metadata": {},
     "output_type": "execute_result"
    }
   ],
   "source": [
    "generate_candidates(Out[61], stat_index)"
   ]
  },
  {
   "cell_type": "code",
   "execution_count": 42,
   "metadata": {
    "collapsed": false,
    "deletable": true,
    "editable": true
   },
   "outputs": [
    {
     "ename": "TypeError",
     "evalue": "unhashable type: 'list'",
     "output_type": "error",
     "traceback": [
      "\u001b[0;31m---------------------------------------------------------------------------\u001b[0m",
      "\u001b[0;31mTypeError\u001b[0m                                 Traceback (most recent call last)",
      "\u001b[0;32m<ipython-input-42-4b6635921c77>\u001b[0m in \u001b[0;36m<module>\u001b[0;34m()\u001b[0m\n\u001b[0;32m----> 1\u001b[0;31m \u001b[0mlen\u001b[0m\u001b[0;34m(\u001b[0m\u001b[0mset\u001b[0m\u001b[0;34m(\u001b[0m\u001b[0mOut\u001b[0m\u001b[0;34m[\u001b[0m\u001b[0;36m40\u001b[0m\u001b[0;34m]\u001b[0m\u001b[0;34m)\u001b[0m\u001b[0;34m)\u001b[0m\u001b[0;34m\u001b[0m\u001b[0m\n\u001b[0m",
      "\u001b[0;31mTypeError\u001b[0m: unhashable type: 'list'"
     ]
    }
   ],
   "source": [
    "len(set(Out[40]))"
   ]
  },
  {
   "cell_type": "code",
   "execution_count": 151,
   "metadata": {
    "collapsed": false,
    "deletable": true,
    "editable": true
   },
   "outputs": [
    {
     "data": {
      "text/plain": [
       "[Evidence(term=Constraint(lemma='utero embryonic', ref='GO:testing'), text='utero embryonic', start=3, end=18)]"
      ]
     },
     "execution_count": 151,
     "metadata": {},
     "output_type": "execute_result"
    }
   ],
   "source": [
    "goconcept.evidence_split('GO:testing', 'in utero embryonic development', regex_in)"
   ]
  },
  {
   "cell_type": "code",
   "execution_count": 139,
   "metadata": {
    "collapsed": false,
    "deletable": true,
    "editable": true,
    "scrolled": true
   },
   "outputs": [
    {
     "data": {
      "text/plain": [
       "[Evidence(term=Entity(lemma='axon growth cone guidance', ref='GO:testing'), text='axon growth cone guidance', start=0, end=25)]"
      ]
     },
     "execution_count": 139,
     "metadata": {},
     "output_type": "execute_result"
    }
   ],
   "source": [
    "from mcgocr.pattern_regex import regex_in\n",
    "concept.evidence_split('GO:testing', 'axon growth cone guidance', regex_in)"
   ]
  },
  {
   "cell_type": "code",
   "execution_count": 135,
   "metadata": {
    "collapsed": false,
    "deletable": true,
    "editable": true,
    "scrolled": true
   },
   "outputs": [
    {
     "name": "stdout",
     "output_type": "stream",
     "text": [
      "['axon guidance', 'axon growth cone guidance']\n",
      "\n",
      "[Statement(statid='GO:0007411%000', evidences=[Evidence(term=Constraint(lemma='axon guidance', ref='GO:0048843'), text='axon guidance', start=0, end=13)])]\n"
     ]
    }
   ],
   "source": [
    "goid = 'GO:0007411'\n",
    "print(godata[goid].labels)\n",
    "print()\n",
    "print(godata[goid].statements)"
   ]
  },
  {
   "cell_type": "code",
   "execution_count": 8,
   "metadata": {
    "collapsed": false,
    "deletable": true,
    "editable": true,
    "scrolled": true
   },
   "outputs": [
    {
     "data": {
      "text/plain": [
       "<module 'mcgocr.craft' from '/Users/jeroyang/projects/mcgocr/mcgocr/craft.py'>"
      ]
     },
     "execution_count": 8,
     "metadata": {},
     "output_type": "execute_result"
    }
   ],
   "source": [
    "from mcgocr import craft\n",
    "import importlib\n",
    "importlib.reload(craft)"
   ]
  },
  {
   "cell_type": "code",
   "execution_count": 11,
   "metadata": {
    "collapsed": true,
    "deletable": true,
    "editable": true
   },
   "outputs": [],
   "source": [
    "c = craft.Craft('data2')"
   ]
  },
  {
   "cell_type": "code",
   "execution_count": 12,
   "metadata": {
    "collapsed": false,
    "deletable": true,
    "editable": true,
    "scrolled": false
   },
   "outputs": [
    {
     "data": {
      "text/plain": [
       "Corpus<67 documents, 21646 sentences, 'CRAFT'>"
      ]
     },
     "execution_count": 12,
     "metadata": {},
     "output_type": "execute_result"
    }
   ],
   "source": [
    "c.get_corpus()"
   ]
  },
  {
   "cell_type": "code",
   "execution_count": 13,
   "metadata": {
    "collapsed": false,
    "deletable": true,
    "editable": true
   },
   "outputs": [
    {
     "data": {
      "text/plain": [
       "Bag<29447 items>"
      ]
     },
     "execution_count": 13,
     "metadata": {},
     "output_type": "execute_result"
    }
   ],
   "source": [
    "c.get_goldstandard()"
   ]
  },
  {
   "cell_type": "code",
   "execution_count": 6,
   "metadata": {
    "collapsed": false,
    "deletable": true,
    "editable": true,
    "scrolled": false
   },
   "outputs": [],
   "source": [
    "from mcgocr import craft"
   ]
  },
  {
   "cell_type": "code",
   "execution_count": 9,
   "metadata": {
    "collapsed": false,
    "deletable": true,
    "editable": true
   },
   "outputs": [],
   "source": [
    "c = craft.Craft('data2')"
   ]
  },
  {
   "cell_type": "code",
   "execution_count": 10,
   "metadata": {
    "collapsed": false,
    "deletable": true,
    "editable": true,
    "scrolled": true
   },
   "outputs": [
    {
     "name": "stdout",
     "output_type": "stream",
     "text": [
      "Reading the corpus...\n"
     ]
    },
    {
     "data": {
      "text/plain": [
       "Corpus<67 documents, 21646 sentences, 'CRAFT'>"
      ]
     },
     "execution_count": 10,
     "metadata": {},
     "output_type": "execute_result"
    }
   ],
   "source": [
    "c.get_corpus()"
   ]
  },
  {
   "cell_type": "code",
   "execution_count": 11,
   "metadata": {
    "collapsed": false,
    "deletable": true,
    "editable": true
   },
   "outputs": [
    {
     "name": "stdout",
     "output_type": "stream",
     "text": [
      "Reading the goldstandard of GO...\n"
     ]
    },
    {
     "data": {
      "text/plain": [
       "Bag<29447 items>"
      ]
     },
     "execution_count": 11,
     "metadata": {},
     "output_type": "execute_result"
    }
   ],
   "source": [
    "c.get_goldstandard()"
   ]
  },
  {
   "cell_type": "code",
   "execution_count": 12,
   "metadata": {
    "collapsed": false,
    "deletable": true,
    "editable": true
   },
   "outputs": [
    {
     "data": {
      "text/plain": [
       "Corpus<67 documents, 21646 sentences, 'CRAFT'>"
      ]
     },
     "execution_count": 12,
     "metadata": {},
     "output_type": "execute_result"
    }
   ],
   "source": [
    "Out[10]"
   ]
  },
  {
   "cell_type": "code",
   "execution_count": 13,
   "metadata": {
    "collapsed": true,
    "deletable": true,
    "editable": true
   },
   "outputs": [],
   "source": [
    "corpus = Out[10]"
   ]
  },
  {
   "cell_type": "code",
   "execution_count": 16,
   "metadata": {
    "collapsed": false,
    "deletable": true,
    "editable": true
   },
   "outputs": [
    {
     "data": {
      "text/plain": [
       "Sentence(text=1219, offset='These IOP differences are likely due to interstrain genetic differences that create a powerful resource for studying the regulation of IOP. ', docid='11532192')"
      ]
     },
     "execution_count": 16,
     "metadata": {},
     "output_type": "execute_result"
    }
   ],
   "source": [
    "corpus[13]"
   ]
  },
  {
   "cell_type": "code",
   "execution_count": 18,
   "metadata": {
    "collapsed": false,
    "deletable": true,
    "editable": true
   },
   "outputs": [],
   "source": [
    "from mcgocr import concept"
   ]
  },
  {
   "cell_type": "code",
   "execution_count": null,
   "metadata": {
    "collapsed": true,
    "deletable": true,
    "editable": true
   },
   "outputs": [],
   "source": [
    "obopath = craft.godata\n",
    "godata = concept.GoData()"
   ]
  },
  {
   "cell_type": "code",
   "execution_count": 5,
   "metadata": {
    "collapsed": false,
    "deletable": true,
    "editable": true,
    "scrolled": true
   },
   "outputs": [
    {
     "ename": "KeyboardInterrupt",
     "evalue": "",
     "output_type": "error",
     "traceback": [
      "\u001b[0;31m---------------------------------------------------------------------------\u001b[0m",
      "\u001b[0;31mKeyboardInterrupt\u001b[0m                         Traceback (most recent call last)",
      "\u001b[0;32m<ipython-input-5-3709e1739114>\u001b[0m in \u001b[0;36m<module>\u001b[0;34m()\u001b[0m\n\u001b[0;32m----> 1\u001b[0;31m \u001b[0mc\u001b[0m\u001b[0;34m.\u001b[0m\u001b[0mdownload\u001b[0m\u001b[0;34m(\u001b[0m\u001b[0;34m)\u001b[0m\u001b[0;34m\u001b[0m\u001b[0m\n\u001b[0m",
      "\u001b[0;32m/Users/jeroyang/projects/mcgocr/mcgocr/craft.py\u001b[0m in \u001b[0;36mdownload\u001b[0;34m(self)\u001b[0m\n\u001b[1;32m     49\u001b[0m \u001b[0;34m\u001b[0m\u001b[0m\n\u001b[1;32m     50\u001b[0m     \u001b[0;32mdef\u001b[0m \u001b[0mdownload\u001b[0m\u001b[0;34m(\u001b[0m\u001b[0mself\u001b[0m\u001b[0;34m)\u001b[0m\u001b[0;34m:\u001b[0m\u001b[0;34m\u001b[0m\u001b[0m\n\u001b[0;32m---> 51\u001b[0;31m         \u001b[0murllib\u001b[0m\u001b[0;34m.\u001b[0m\u001b[0mrequest\u001b[0m\u001b[0;34m.\u001b[0m\u001b[0murlretrieve\u001b[0m\u001b[0;34m(\u001b[0m\u001b[0mself\u001b[0m\u001b[0;34m.\u001b[0m\u001b[0murl\u001b[0m\u001b[0;34m,\u001b[0m \u001b[0mself\u001b[0m\u001b[0;34m.\u001b[0m\u001b[0mtarball_path\u001b[0m\u001b[0;34m)\u001b[0m\u001b[0;34m\u001b[0m\u001b[0m\n\u001b[0m\u001b[1;32m     52\u001b[0m \u001b[0;34m\u001b[0m\u001b[0m\n\u001b[1;32m     53\u001b[0m     \u001b[0;32mdef\u001b[0m \u001b[0mslim_extract\u001b[0m\u001b[0;34m(\u001b[0m\u001b[0mself\u001b[0m\u001b[0;34m)\u001b[0m\u001b[0;34m:\u001b[0m\u001b[0;34m\u001b[0m\u001b[0m\n",
      "\u001b[0;32m/Users/jeroyang/.pyenv/versions/3.5.0/Python.framework/Versions/3.5/lib/python3.5/urllib/request.py\u001b[0m in \u001b[0;36murlretrieve\u001b[0;34m(url, filename, reporthook, data)\u001b[0m\n\u001b[1;32m    214\u001b[0m \u001b[0;34m\u001b[0m\u001b[0m\n\u001b[1;32m    215\u001b[0m             \u001b[0;32mwhile\u001b[0m \u001b[0;32mTrue\u001b[0m\u001b[0;34m:\u001b[0m\u001b[0;34m\u001b[0m\u001b[0m\n\u001b[0;32m--> 216\u001b[0;31m                 \u001b[0mblock\u001b[0m \u001b[0;34m=\u001b[0m \u001b[0mfp\u001b[0m\u001b[0;34m.\u001b[0m\u001b[0mread\u001b[0m\u001b[0;34m(\u001b[0m\u001b[0mbs\u001b[0m\u001b[0;34m)\u001b[0m\u001b[0;34m\u001b[0m\u001b[0m\n\u001b[0m\u001b[1;32m    217\u001b[0m                 \u001b[0;32mif\u001b[0m \u001b[0;32mnot\u001b[0m \u001b[0mblock\u001b[0m\u001b[0;34m:\u001b[0m\u001b[0;34m\u001b[0m\u001b[0m\n\u001b[1;32m    218\u001b[0m                     \u001b[0;32mbreak\u001b[0m\u001b[0;34m\u001b[0m\u001b[0m\n",
      "\u001b[0;32m/Users/jeroyang/.pyenv/versions/3.5.0/Python.framework/Versions/3.5/lib/python3.5/http/client.py\u001b[0m in \u001b[0;36mread\u001b[0;34m(self, amt)\u001b[0m\n\u001b[1;32m    431\u001b[0m             \u001b[0;31m# Amount is given, implement using readinto\u001b[0m\u001b[0;34m\u001b[0m\u001b[0;34m\u001b[0m\u001b[0m\n\u001b[1;32m    432\u001b[0m             \u001b[0mb\u001b[0m \u001b[0;34m=\u001b[0m \u001b[0mbytearray\u001b[0m\u001b[0;34m(\u001b[0m\u001b[0mamt\u001b[0m\u001b[0;34m)\u001b[0m\u001b[0;34m\u001b[0m\u001b[0m\n\u001b[0;32m--> 433\u001b[0;31m             \u001b[0mn\u001b[0m \u001b[0;34m=\u001b[0m \u001b[0mself\u001b[0m\u001b[0;34m.\u001b[0m\u001b[0mreadinto\u001b[0m\u001b[0;34m(\u001b[0m\u001b[0mb\u001b[0m\u001b[0;34m)\u001b[0m\u001b[0;34m\u001b[0m\u001b[0m\n\u001b[0m\u001b[1;32m    434\u001b[0m             \u001b[0;32mreturn\u001b[0m \u001b[0mmemoryview\u001b[0m\u001b[0;34m(\u001b[0m\u001b[0mb\u001b[0m\u001b[0;34m)\u001b[0m\u001b[0;34m[\u001b[0m\u001b[0;34m:\u001b[0m\u001b[0mn\u001b[0m\u001b[0;34m]\u001b[0m\u001b[0;34m.\u001b[0m\u001b[0mtobytes\u001b[0m\u001b[0;34m(\u001b[0m\u001b[0;34m)\u001b[0m\u001b[0;34m\u001b[0m\u001b[0m\n\u001b[1;32m    435\u001b[0m         \u001b[0;32melse\u001b[0m\u001b[0;34m:\u001b[0m\u001b[0;34m\u001b[0m\u001b[0m\n",
      "\u001b[0;32m/Users/jeroyang/.pyenv/versions/3.5.0/Python.framework/Versions/3.5/lib/python3.5/http/client.py\u001b[0m in \u001b[0;36mreadinto\u001b[0;34m(self, b)\u001b[0m\n\u001b[1;32m    471\u001b[0m         \u001b[0;31m# connection, and the user is reading more bytes than will be provided\u001b[0m\u001b[0;34m\u001b[0m\u001b[0;34m\u001b[0m\u001b[0m\n\u001b[1;32m    472\u001b[0m         \u001b[0;31m# (for example, reading in 1k chunks)\u001b[0m\u001b[0;34m\u001b[0m\u001b[0;34m\u001b[0m\u001b[0m\n\u001b[0;32m--> 473\u001b[0;31m         \u001b[0mn\u001b[0m \u001b[0;34m=\u001b[0m \u001b[0mself\u001b[0m\u001b[0;34m.\u001b[0m\u001b[0mfp\u001b[0m\u001b[0;34m.\u001b[0m\u001b[0mreadinto\u001b[0m\u001b[0;34m(\u001b[0m\u001b[0mb\u001b[0m\u001b[0;34m)\u001b[0m\u001b[0;34m\u001b[0m\u001b[0m\n\u001b[0m\u001b[1;32m    474\u001b[0m         \u001b[0;32mif\u001b[0m \u001b[0;32mnot\u001b[0m \u001b[0mn\u001b[0m \u001b[0;32mand\u001b[0m \u001b[0mb\u001b[0m\u001b[0;34m:\u001b[0m\u001b[0;34m\u001b[0m\u001b[0m\n\u001b[1;32m    475\u001b[0m             \u001b[0;31m# Ideally, we would raise IncompleteRead if the content-length\u001b[0m\u001b[0;34m\u001b[0m\u001b[0;34m\u001b[0m\u001b[0m\n",
      "\u001b[0;32m/Users/jeroyang/.pyenv/versions/3.5.0/Python.framework/Versions/3.5/lib/python3.5/socket.py\u001b[0m in \u001b[0;36mreadinto\u001b[0;34m(self, b)\u001b[0m\n\u001b[1;32m    569\u001b[0m         \u001b[0;32mwhile\u001b[0m \u001b[0;32mTrue\u001b[0m\u001b[0;34m:\u001b[0m\u001b[0;34m\u001b[0m\u001b[0m\n\u001b[1;32m    570\u001b[0m             \u001b[0;32mtry\u001b[0m\u001b[0;34m:\u001b[0m\u001b[0;34m\u001b[0m\u001b[0m\n\u001b[0;32m--> 571\u001b[0;31m                 \u001b[0;32mreturn\u001b[0m \u001b[0mself\u001b[0m\u001b[0;34m.\u001b[0m\u001b[0m_sock\u001b[0m\u001b[0;34m.\u001b[0m\u001b[0mrecv_into\u001b[0m\u001b[0;34m(\u001b[0m\u001b[0mb\u001b[0m\u001b[0;34m)\u001b[0m\u001b[0;34m\u001b[0m\u001b[0m\n\u001b[0m\u001b[1;32m    572\u001b[0m             \u001b[0;32mexcept\u001b[0m \u001b[0mtimeout\u001b[0m\u001b[0;34m:\u001b[0m\u001b[0;34m\u001b[0m\u001b[0m\n\u001b[1;32m    573\u001b[0m                 \u001b[0mself\u001b[0m\u001b[0;34m.\u001b[0m\u001b[0m_timeout_occurred\u001b[0m \u001b[0;34m=\u001b[0m \u001b[0;32mTrue\u001b[0m\u001b[0;34m\u001b[0m\u001b[0m\n",
      "\u001b[0;32m/Users/jeroyang/.pyenv/versions/3.5.0/Python.framework/Versions/3.5/lib/python3.5/ssl.py\u001b[0m in \u001b[0;36mrecv_into\u001b[0;34m(self, buffer, nbytes, flags)\u001b[0m\n\u001b[1;32m    922\u001b[0m                   \u001b[0;34m\"non-zero flags not allowed in calls to recv_into() on %s\"\u001b[0m \u001b[0;34m%\u001b[0m\u001b[0;34m\u001b[0m\u001b[0m\n\u001b[1;32m    923\u001b[0m                   self.__class__)\n\u001b[0;32m--> 924\u001b[0;31m             \u001b[0;32mreturn\u001b[0m \u001b[0mself\u001b[0m\u001b[0;34m.\u001b[0m\u001b[0mread\u001b[0m\u001b[0;34m(\u001b[0m\u001b[0mnbytes\u001b[0m\u001b[0;34m,\u001b[0m \u001b[0mbuffer\u001b[0m\u001b[0;34m)\u001b[0m\u001b[0;34m\u001b[0m\u001b[0m\n\u001b[0m\u001b[1;32m    925\u001b[0m         \u001b[0;32melse\u001b[0m\u001b[0;34m:\u001b[0m\u001b[0;34m\u001b[0m\u001b[0m\n\u001b[1;32m    926\u001b[0m             \u001b[0;32mreturn\u001b[0m \u001b[0msocket\u001b[0m\u001b[0;34m.\u001b[0m\u001b[0mrecv_into\u001b[0m\u001b[0;34m(\u001b[0m\u001b[0mself\u001b[0m\u001b[0;34m,\u001b[0m \u001b[0mbuffer\u001b[0m\u001b[0;34m,\u001b[0m \u001b[0mnbytes\u001b[0m\u001b[0;34m,\u001b[0m \u001b[0mflags\u001b[0m\u001b[0;34m)\u001b[0m\u001b[0;34m\u001b[0m\u001b[0m\n",
      "\u001b[0;32m/Users/jeroyang/.pyenv/versions/3.5.0/Python.framework/Versions/3.5/lib/python3.5/ssl.py\u001b[0m in \u001b[0;36mread\u001b[0;34m(self, len, buffer)\u001b[0m\n\u001b[1;32m    784\u001b[0m             \u001b[0;32mraise\u001b[0m \u001b[0mValueError\u001b[0m\u001b[0;34m(\u001b[0m\u001b[0;34m\"Read on closed or unwrapped SSL socket.\"\u001b[0m\u001b[0;34m)\u001b[0m\u001b[0;34m\u001b[0m\u001b[0m\n\u001b[1;32m    785\u001b[0m         \u001b[0;32mtry\u001b[0m\u001b[0;34m:\u001b[0m\u001b[0;34m\u001b[0m\u001b[0m\n\u001b[0;32m--> 786\u001b[0;31m             \u001b[0;32mreturn\u001b[0m \u001b[0mself\u001b[0m\u001b[0;34m.\u001b[0m\u001b[0m_sslobj\u001b[0m\u001b[0;34m.\u001b[0m\u001b[0mread\u001b[0m\u001b[0;34m(\u001b[0m\u001b[0mlen\u001b[0m\u001b[0;34m,\u001b[0m \u001b[0mbuffer\u001b[0m\u001b[0;34m)\u001b[0m\u001b[0;34m\u001b[0m\u001b[0m\n\u001b[0m\u001b[1;32m    787\u001b[0m         \u001b[0;32mexcept\u001b[0m \u001b[0mSSLError\u001b[0m \u001b[0;32mas\u001b[0m \u001b[0mx\u001b[0m\u001b[0;34m:\u001b[0m\u001b[0;34m\u001b[0m\u001b[0m\n\u001b[1;32m    788\u001b[0m             \u001b[0;32mif\u001b[0m \u001b[0mx\u001b[0m\u001b[0;34m.\u001b[0m\u001b[0margs\u001b[0m\u001b[0;34m[\u001b[0m\u001b[0;36m0\u001b[0m\u001b[0;34m]\u001b[0m \u001b[0;34m==\u001b[0m \u001b[0mSSL_ERROR_EOF\u001b[0m \u001b[0;32mand\u001b[0m \u001b[0mself\u001b[0m\u001b[0;34m.\u001b[0m\u001b[0msuppress_ragged_eofs\u001b[0m\u001b[0;34m:\u001b[0m\u001b[0;34m\u001b[0m\u001b[0m\n",
      "\u001b[0;32m/Users/jeroyang/.pyenv/versions/3.5.0/Python.framework/Versions/3.5/lib/python3.5/ssl.py\u001b[0m in \u001b[0;36mread\u001b[0;34m(self, len, buffer)\u001b[0m\n\u001b[1;32m    568\u001b[0m         \"\"\"\n\u001b[1;32m    569\u001b[0m         \u001b[0;32mif\u001b[0m \u001b[0mbuffer\u001b[0m \u001b[0;32mis\u001b[0m \u001b[0;32mnot\u001b[0m \u001b[0;32mNone\u001b[0m\u001b[0;34m:\u001b[0m\u001b[0;34m\u001b[0m\u001b[0m\n\u001b[0;32m--> 570\u001b[0;31m             \u001b[0mv\u001b[0m \u001b[0;34m=\u001b[0m \u001b[0mself\u001b[0m\u001b[0;34m.\u001b[0m\u001b[0m_sslobj\u001b[0m\u001b[0;34m.\u001b[0m\u001b[0mread\u001b[0m\u001b[0;34m(\u001b[0m\u001b[0mlen\u001b[0m\u001b[0;34m,\u001b[0m \u001b[0mbuffer\u001b[0m\u001b[0;34m)\u001b[0m\u001b[0;34m\u001b[0m\u001b[0m\n\u001b[0m\u001b[1;32m    571\u001b[0m         \u001b[0;32melse\u001b[0m\u001b[0;34m:\u001b[0m\u001b[0;34m\u001b[0m\u001b[0m\n\u001b[1;32m    572\u001b[0m             \u001b[0mv\u001b[0m \u001b[0;34m=\u001b[0m \u001b[0mself\u001b[0m\u001b[0;34m.\u001b[0m\u001b[0m_sslobj\u001b[0m\u001b[0;34m.\u001b[0m\u001b[0mread\u001b[0m\u001b[0;34m(\u001b[0m\u001b[0mlen\u001b[0m \u001b[0;32mor\u001b[0m \u001b[0;36m1024\u001b[0m\u001b[0;34m)\u001b[0m\u001b[0;34m\u001b[0m\u001b[0m\n",
      "\u001b[0;31mKeyboardInterrupt\u001b[0m: "
     ]
    }
   ],
   "source": [
    "for sentence in corpus:\n",
    "    "
   ]
  },
  {
   "cell_type": "code",
   "execution_count": 83,
   "metadata": {
    "collapsed": false,
    "deletable": true,
    "editable": true
   },
   "outputs": [
    {
     "data": {
      "text/plain": [
       "Index<47681 key(s)>"
      ]
     },
     "execution_count": 83,
     "metadata": {},
     "output_type": "execute_result"
    }
   ],
   "source": [
    "#term_index = extractor.TermIndex(set)\n",
    "clusterbook = godata.clusterbook\n",
    "\n",
    "for c in clusterbook.clusters:\n",
    "    for term in c.terms:\n",
    "        term_index[term.lemma].add(c.primary_term)\n",
    "term_index"
   ]
  },
  {
   "cell_type": "code",
   "execution_count": 22,
   "metadata": {
    "collapsed": false,
    "deletable": true,
    "editable": true
   },
   "outputs": [
    {
     "name": "stderr",
     "output_type": "stream",
     "text": [
      "usage: __main__.py [-h] [--output OUT_PATH] command\n",
      "__main__.py: error: argument --output: expected one argument\n"
     ]
    },
    {
     "ename": "SystemExit",
     "evalue": "2",
     "output_type": "error",
     "traceback": [
      "An exception has occurred, use %tb to see the full traceback.\n",
      "\u001b[0;31mSystemExit\u001b[0m\u001b[0;31m:\u001b[0m 2\n"
     ]
    },
    {
     "name": "stderr",
     "output_type": "stream",
     "text": [
      "/Users/jeroyang/.pyenv/versions/mcgocr/lib/python3.5/site-packages/IPython/core/interactiveshell.py:2889: UserWarning: To exit: use 'exit', 'quit', or Ctrl-D.\n",
      "  warn(\"To exit: use 'exit', 'quit', or Ctrl-D.\", stacklevel=1)\n"
     ]
    }
   ],
   "source": [
    "import argparse\n",
    "\n",
    "description = \"\"\"\n",
    " _______ _______  ______  _____  _______  ______\n",
    " |  |  | |       |  ____ |     | |       |_____/\n",
    " |  |  | |_____  |_____| |_____| |_____  |    \\_\n",
    " \n",
    " Micro Concept Gene Ontology Concept Recognizer \"\"\"\n",
    "parser = argparse.ArgumentParser(description=description)\n",
    "parser.add_argument('command', type=str, nargs=1,\n",
    "                    help='command')\n",
    "parser.add_argument('--output', dest='out_path',\n",
    "                    help='the output file path')\n",
    "\n",
    "args = parser.parse_args('hello --output'.split())"
   ]
  },
  {
   "cell_type": "code",
   "execution_count": 172,
   "metadata": {
    "collapsed": false,
    "deletable": true,
    "editable": true
   },
   "outputs": [
    {
     "data": {
      "text/plain": [
       "<module 'experiment.corpus' from '/Users/jeroyang/projects/mcgocr/experiment/corpus.py'>"
      ]
     },
     "execution_count": 172,
     "metadata": {},
     "output_type": "execute_result"
    }
   ],
   "source": [
    "from experiment import corpus as c\n",
    "importlib.reload(c)"
   ]
  },
  {
   "cell_type": "code",
   "execution_count": 166,
   "metadata": {
    "collapsed": true,
    "deletable": true,
    "editable": true
   },
   "outputs": [],
   "source": []
  },
  {
   "cell_type": "code",
   "execution_count": 181,
   "metadata": {
    "collapsed": false,
    "deletable": true,
    "editable": true
   },
   "outputs": [],
   "source": [
    "corpus_a = c.Corpus(title='testing_a')\n",
    "corpus_b = c.Corpus(title='testing_b')\n",
    "sentences = []\n",
    "for i in range(100):\n",
    "    sentence = c.Sentence(str(i), i, 'doc'+str(i%10))\n",
    "    sentences.append(sentence)\n",
    "    if i < 50:\n",
    "        corpus_a.append(sentence)\n",
    "    else:\n",
    "        corpus_b.append(sentence)"
   ]
  },
  {
   "cell_type": "code",
   "execution_count": 183,
   "metadata": {
    "collapsed": false,
    "deletable": true,
    "editable": true,
    "scrolled": true
   },
   "outputs": [],
   "source": [
    "corpus_list = corpus_a.divide(5)\n",
    "result = sum(corpus_list, c.Corpus())\n",
    "result.title = 'testing_a'\n",
    "#wanted = self.corpus_a\n",
    "#self.assertEqual(result, wanted)"
   ]
  },
  {
   "cell_type": "code",
   "execution_count": 184,
   "metadata": {
    "collapsed": false,
    "deletable": true,
    "editable": true,
    "scrolled": true
   },
   "outputs": [
    {
     "data": {
      "text/plain": [
       "Corpus<10 documents, 50 sentences, 'testing_a'>"
      ]
     },
     "execution_count": 184,
     "metadata": {},
     "output_type": "execute_result"
    }
   ],
   "source": [
    "result"
   ]
  },
  {
   "cell_type": "code",
   "execution_count": 187,
   "metadata": {
    "collapsed": false,
    "deletable": true,
    "editable": true
   },
   "outputs": [
    {
     "data": {
      "text/plain": [
       "[Sentence(text='0', offset=0, docid='doc0'),\n",
       " Sentence(text='1', offset=1, docid='doc1'),\n",
       " Sentence(text='2', offset=2, docid='doc2'),\n",
       " Sentence(text='3', offset=3, docid='doc3'),\n",
       " Sentence(text='4', offset=4, docid='doc4'),\n",
       " Sentence(text='5', offset=5, docid='doc5'),\n",
       " Sentence(text='6', offset=6, docid='doc6'),\n",
       " Sentence(text='7', offset=7, docid='doc7'),\n",
       " Sentence(text='8', offset=8, docid='doc8'),\n",
       " Sentence(text='9', offset=9, docid='doc9'),\n",
       " Sentence(text='10', offset=10, docid='doc0'),\n",
       " Sentence(text='11', offset=11, docid='doc1'),\n",
       " Sentence(text='12', offset=12, docid='doc2'),\n",
       " Sentence(text='13', offset=13, docid='doc3'),\n",
       " Sentence(text='14', offset=14, docid='doc4'),\n",
       " Sentence(text='15', offset=15, docid='doc5'),\n",
       " Sentence(text='16', offset=16, docid='doc6'),\n",
       " Sentence(text='17', offset=17, docid='doc7'),\n",
       " Sentence(text='18', offset=18, docid='doc8'),\n",
       " Sentence(text='19', offset=19, docid='doc9'),\n",
       " Sentence(text='20', offset=20, docid='doc0'),\n",
       " Sentence(text='21', offset=21, docid='doc1'),\n",
       " Sentence(text='22', offset=22, docid='doc2'),\n",
       " Sentence(text='23', offset=23, docid='doc3'),\n",
       " Sentence(text='24', offset=24, docid='doc4'),\n",
       " Sentence(text='25', offset=25, docid='doc5'),\n",
       " Sentence(text='26', offset=26, docid='doc6'),\n",
       " Sentence(text='27', offset=27, docid='doc7'),\n",
       " Sentence(text='28', offset=28, docid='doc8'),\n",
       " Sentence(text='29', offset=29, docid='doc9'),\n",
       " Sentence(text='30', offset=30, docid='doc0'),\n",
       " Sentence(text='31', offset=31, docid='doc1'),\n",
       " Sentence(text='32', offset=32, docid='doc2'),\n",
       " Sentence(text='33', offset=33, docid='doc3'),\n",
       " Sentence(text='34', offset=34, docid='doc4'),\n",
       " Sentence(text='35', offset=35, docid='doc5'),\n",
       " Sentence(text='36', offset=36, docid='doc6'),\n",
       " Sentence(text='37', offset=37, docid='doc7'),\n",
       " Sentence(text='38', offset=38, docid='doc8'),\n",
       " Sentence(text='39', offset=39, docid='doc9'),\n",
       " Sentence(text='40', offset=40, docid='doc0'),\n",
       " Sentence(text='41', offset=41, docid='doc1'),\n",
       " Sentence(text='42', offset=42, docid='doc2'),\n",
       " Sentence(text='43', offset=43, docid='doc3'),\n",
       " Sentence(text='44', offset=44, docid='doc4'),\n",
       " Sentence(text='45', offset=45, docid='doc5'),\n",
       " Sentence(text='46', offset=46, docid='doc6'),\n",
       " Sentence(text='47', offset=47, docid='doc7'),\n",
       " Sentence(text='48', offset=48, docid='doc8'),\n",
       " Sentence(text='49', offset=49, docid='doc9')]"
      ]
     },
     "execution_count": 187,
     "metadata": {},
     "output_type": "execute_result"
    }
   ],
   "source": [
    "[i for i in corpus_a]"
   ]
  },
  {
   "cell_type": "code",
   "execution_count": 189,
   "metadata": {
    "collapsed": false,
    "deletable": true,
    "editable": true
   },
   "outputs": [
    {
     "data": {
      "text/plain": [
       "False"
      ]
     },
     "execution_count": 189,
     "metadata": {},
     "output_type": "execute_result"
    }
   ],
   "source": [
    "corpus_a == result"
   ]
  },
  {
   "cell_type": "code",
   "execution_count": 194,
   "metadata": {
    "collapsed": false,
    "deletable": true,
    "editable": true
   },
   "outputs": [
    {
     "data": {
      "text/plain": [
       "(Sentence(text='2', offset=2, docid='doc2'),\n",
       " Sentence(text='10', offset=10, docid='doc0'))"
      ]
     },
     "execution_count": 194,
     "metadata": {},
     "output_type": "execute_result"
    }
   ],
   "source": [
    "corpus_a[2], result[2]"
   ]
  },
  {
   "cell_type": "code",
   "execution_count": 196,
   "metadata": {
    "collapsed": false,
    "deletable": true,
    "editable": true
   },
   "outputs": [
    {
     "data": {
      "text/plain": [
       "[Sentence(text='0', offset=0, docid='doc0'),\n",
       " Sentence(text='1', offset=1, docid='doc1'),\n",
       " Sentence(text='10', offset=10, docid='doc0'),\n",
       " Sentence(text='11', offset=11, docid='doc1'),\n",
       " Sentence(text='20', offset=20, docid='doc0'),\n",
       " Sentence(text='21', offset=21, docid='doc1'),\n",
       " Sentence(text='30', offset=30, docid='doc0'),\n",
       " Sentence(text='31', offset=31, docid='doc1'),\n",
       " Sentence(text='40', offset=40, docid='doc0'),\n",
       " Sentence(text='41', offset=41, docid='doc1'),\n",
       " Sentence(text='3', offset=3, docid='doc3'),\n",
       " Sentence(text='4', offset=4, docid='doc4'),\n",
       " Sentence(text='13', offset=13, docid='doc3'),\n",
       " Sentence(text='14', offset=14, docid='doc4'),\n",
       " Sentence(text='23', offset=23, docid='doc3'),\n",
       " Sentence(text='24', offset=24, docid='doc4'),\n",
       " Sentence(text='33', offset=33, docid='doc3'),\n",
       " Sentence(text='34', offset=34, docid='doc4'),\n",
       " Sentence(text='43', offset=43, docid='doc3'),\n",
       " Sentence(text='44', offset=44, docid='doc4'),\n",
       " Sentence(text='5', offset=5, docid='doc5'),\n",
       " Sentence(text='9', offset=9, docid='doc9'),\n",
       " Sentence(text='15', offset=15, docid='doc5'),\n",
       " Sentence(text='19', offset=19, docid='doc9'),\n",
       " Sentence(text='25', offset=25, docid='doc5'),\n",
       " Sentence(text='29', offset=29, docid='doc9'),\n",
       " Sentence(text='35', offset=35, docid='doc5'),\n",
       " Sentence(text='39', offset=39, docid='doc9'),\n",
       " Sentence(text='45', offset=45, docid='doc5'),\n",
       " Sentence(text='49', offset=49, docid='doc9'),\n",
       " Sentence(text='2', offset=2, docid='doc2'),\n",
       " Sentence(text='8', offset=8, docid='doc8'),\n",
       " Sentence(text='12', offset=12, docid='doc2'),\n",
       " Sentence(text='18', offset=18, docid='doc8'),\n",
       " Sentence(text='22', offset=22, docid='doc2'),\n",
       " Sentence(text='28', offset=28, docid='doc8'),\n",
       " Sentence(text='32', offset=32, docid='doc2'),\n",
       " Sentence(text='38', offset=38, docid='doc8'),\n",
       " Sentence(text='42', offset=42, docid='doc2'),\n",
       " Sentence(text='48', offset=48, docid='doc8'),\n",
       " Sentence(text='6', offset=6, docid='doc6'),\n",
       " Sentence(text='7', offset=7, docid='doc7'),\n",
       " Sentence(text='16', offset=16, docid='doc6'),\n",
       " Sentence(text='17', offset=17, docid='doc7'),\n",
       " Sentence(text='26', offset=26, docid='doc6'),\n",
       " Sentence(text='27', offset=27, docid='doc7'),\n",
       " Sentence(text='36', offset=36, docid='doc6'),\n",
       " Sentence(text='37', offset=37, docid='doc7'),\n",
       " Sentence(text='46', offset=46, docid='doc6'),\n",
       " Sentence(text='47', offset=47, docid='doc7')]"
      ]
     },
     "execution_count": 196,
     "metadata": {},
     "output_type": "execute_result"
    }
   ],
   "source": [
    "[j for j in result]"
   ]
  },
  {
   "cell_type": "code",
   "execution_count": 197,
   "metadata": {
    "collapsed": false,
    "deletable": true,
    "editable": true,
    "scrolled": true
   },
   "outputs": [],
   "source": [
    "from mcgocr import extractor as ex"
   ]
  },
  {
   "cell_type": "code",
   "execution_count": 203,
   "metadata": {
    "collapsed": false,
    "deletable": true,
    "editable": true,
    "scrolled": true
   },
   "outputs": [],
   "source": [
    "ix = ex.Index()\n",
    "ix.update({'a': {1,2,3}, 'b': {4,5}})\n",
    "ix.use_default = False\n"
   ]
  }
 ],
 "metadata": {
  "kernelspec": {
   "display_name": "Python 3",
   "language": "python",
   "name": "python3"
  },
  "language_info": {
   "codemirror_mode": {
    "name": "ipython",
    "version": 3
   },
   "file_extension": ".py",
   "mimetype": "text/x-python",
   "name": "python",
   "nbconvert_exporter": "python",
   "pygments_lexer": "ipython3",
   "version": "3.5.0"
  }
 },
 "nbformat": 4,
 "nbformat_minor": 2
}
